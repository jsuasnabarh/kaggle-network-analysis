{
 "cells": [
  {
   "cell_type": "markdown",
   "metadata": {},
   "source": [
    "# Library Imports"
   ]
  },
  {
   "cell_type": "code",
   "execution_count": 1,
   "metadata": {},
   "outputs": [],
   "source": [
    "import sys\n",
    "import os\n",
    "directory_path = os.path.abspath(os.path.join('..'))\n",
    "utils_path = os.path.abspath(os.path.join('../utils'))\n",
    "if directory_path not in sys.path:\n",
    "    sys.path.append(directory_path)\n",
    "    sys.path.append(utils_path)"
   ]
  },
  {
   "cell_type": "code",
   "execution_count": 2,
   "metadata": {},
   "outputs": [],
   "source": [
    "import pandas as pd\n",
    "import numpy as np\n",
    "import networkx as nx\n",
    "import seaborn as sns\n",
    "import matplotlib.pyplot as plt\n",
    "import warnings\n",
    "warnings.filterwarnings(\"ignore\")\n",
    "from utils.Validator import *\n",
    "from utils.Combinations import *\n",
    "pd.set_option('display.max_columns', None)  \n",
    "sns.set(rc={'figure.figsize':(11.7,8.27)})"
   ]
  },
  {
   "cell_type": "markdown",
   "metadata": {},
   "source": [
    "# Network Data Preparation"
   ]
  },
  {
   "cell_type": "markdown",
   "metadata": {},
   "source": [
    "## Users Followers"
   ]
  },
  {
   "cell_type": "code",
   "execution_count": 3,
   "metadata": {},
   "outputs": [
    {
     "data": {
      "text/html": [
       "<div>\n",
       "<style scoped>\n",
       "    .dataframe tbody tr th:only-of-type {\n",
       "        vertical-align: middle;\n",
       "    }\n",
       "\n",
       "    .dataframe tbody tr th {\n",
       "        vertical-align: top;\n",
       "    }\n",
       "\n",
       "    .dataframe thead th {\n",
       "        text-align: right;\n",
       "    }\n",
       "</style>\n",
       "<table border=\"1\" class=\"dataframe\">\n",
       "  <thead>\n",
       "    <tr style=\"text-align: right;\">\n",
       "      <th></th>\n",
       "      <th>UserId</th>\n",
       "      <th>FollowerUserId</th>\n",
       "    </tr>\n",
       "  </thead>\n",
       "  <tbody>\n",
       "    <tr>\n",
       "      <th>0</th>\n",
       "      <td>368</td>\n",
       "      <td>993</td>\n",
       "    </tr>\n",
       "    <tr>\n",
       "      <th>1</th>\n",
       "      <td>368</td>\n",
       "      <td>1902</td>\n",
       "    </tr>\n",
       "    <tr>\n",
       "      <th>2</th>\n",
       "      <td>368</td>\n",
       "      <td>1950</td>\n",
       "    </tr>\n",
       "    <tr>\n",
       "      <th>3</th>\n",
       "      <td>368</td>\n",
       "      <td>3258</td>\n",
       "    </tr>\n",
       "    <tr>\n",
       "      <th>4</th>\n",
       "      <td>368</td>\n",
       "      <td>3429</td>\n",
       "    </tr>\n",
       "  </tbody>\n",
       "</table>\n",
       "</div>"
      ],
      "text/plain": [
       "  UserId FollowerUserId\n",
       "0    368            993\n",
       "1    368           1902\n",
       "2    368           1950\n",
       "3    368           3258\n",
       "4    368           3429"
      ]
     },
     "execution_count": 3,
     "metadata": {},
     "output_type": "execute_result"
    }
   ],
   "source": [
    "df_user_followers = pd.read_csv(r\"../data/interim/UserFollowers.csv\",dtype=str)\n",
    "df_user_followers.head()"
   ]
  },
  {
   "cell_type": "code",
   "execution_count": 4,
   "metadata": {},
   "outputs": [],
   "source": [
    "df_user_followers.to_csv(r\"../data/processed/DiGraph_Followers.csv\",index=False)"
   ]
  },
  {
   "cell_type": "markdown",
   "metadata": {},
   "source": [
    "## Users Teams"
   ]
  },
  {
   "cell_type": "code",
   "execution_count": 5,
   "metadata": {},
   "outputs": [
    {
     "data": {
      "text/html": [
       "<div>\n",
       "<style scoped>\n",
       "    .dataframe tbody tr th:only-of-type {\n",
       "        vertical-align: middle;\n",
       "    }\n",
       "\n",
       "    .dataframe tbody tr th {\n",
       "        vertical-align: top;\n",
       "    }\n",
       "\n",
       "    .dataframe thead th {\n",
       "        text-align: right;\n",
       "    }\n",
       "</style>\n",
       "<table border=\"1\" class=\"dataframe\">\n",
       "  <thead>\n",
       "    <tr style=\"text-align: right;\">\n",
       "      <th></th>\n",
       "      <th>TeamId</th>\n",
       "      <th>UserId</th>\n",
       "    </tr>\n",
       "  </thead>\n",
       "  <tbody>\n",
       "    <tr>\n",
       "      <th>0</th>\n",
       "      <td>518</td>\n",
       "      <td>635</td>\n",
       "    </tr>\n",
       "    <tr>\n",
       "      <th>1</th>\n",
       "      <td>526</td>\n",
       "      <td>839</td>\n",
       "    </tr>\n",
       "    <tr>\n",
       "      <th>2</th>\n",
       "      <td>527</td>\n",
       "      <td>816</td>\n",
       "    </tr>\n",
       "    <tr>\n",
       "      <th>3</th>\n",
       "      <td>528</td>\n",
       "      <td>778</td>\n",
       "    </tr>\n",
       "    <tr>\n",
       "      <th>4</th>\n",
       "      <td>529</td>\n",
       "      <td>747</td>\n",
       "    </tr>\n",
       "  </tbody>\n",
       "</table>\n",
       "</div>"
      ],
      "text/plain": [
       "  TeamId UserId\n",
       "0    518    635\n",
       "1    526    839\n",
       "2    527    816\n",
       "3    528    778\n",
       "4    529    747"
      ]
     },
     "execution_count": 5,
     "metadata": {},
     "output_type": "execute_result"
    }
   ],
   "source": [
    "df_team_memberships = pd.read_csv(r\"../data/interim/TeamMemberships.csv\",dtype=str)\n",
    "df_team_memberships.head()"
   ]
  },
  {
   "cell_type": "code",
   "execution_count": 6,
   "metadata": {},
   "outputs": [
    {
     "data": {
      "text/html": [
       "<div>\n",
       "<style scoped>\n",
       "    .dataframe tbody tr th:only-of-type {\n",
       "        vertical-align: middle;\n",
       "    }\n",
       "\n",
       "    .dataframe tbody tr th {\n",
       "        vertical-align: top;\n",
       "    }\n",
       "\n",
       "    .dataframe thead th {\n",
       "        text-align: right;\n",
       "    }\n",
       "</style>\n",
       "<table border=\"1\" class=\"dataframe\">\n",
       "  <thead>\n",
       "    <tr style=\"text-align: right;\">\n",
       "      <th></th>\n",
       "      <th>TeamId</th>\n",
       "      <th>UserId_1</th>\n",
       "      <th>UserId_2</th>\n",
       "    </tr>\n",
       "  </thead>\n",
       "  <tbody>\n",
       "    <tr>\n",
       "      <th>0</th>\n",
       "      <td>1000101</td>\n",
       "      <td>771602</td>\n",
       "      <td>611059</td>\n",
       "    </tr>\n",
       "    <tr>\n",
       "      <th>1</th>\n",
       "      <td>1000101</td>\n",
       "      <td>771602</td>\n",
       "      <td>599610</td>\n",
       "    </tr>\n",
       "    <tr>\n",
       "      <th>2</th>\n",
       "      <td>1000101</td>\n",
       "      <td>611059</td>\n",
       "      <td>599610</td>\n",
       "    </tr>\n",
       "    <tr>\n",
       "      <th>3</th>\n",
       "      <td>100044</td>\n",
       "      <td>2692</td>\n",
       "      <td>194687</td>\n",
       "    </tr>\n",
       "    <tr>\n",
       "      <th>4</th>\n",
       "      <td>100044</td>\n",
       "      <td>2692</td>\n",
       "      <td>208175</td>\n",
       "    </tr>\n",
       "  </tbody>\n",
       "</table>\n",
       "</div>"
      ],
      "text/plain": [
       "    TeamId UserId_1 UserId_2\n",
       "0  1000101   771602   611059\n",
       "1  1000101   771602   599610\n",
       "2  1000101   611059   599610\n",
       "3   100044     2692   194687\n",
       "4   100044     2692   208175"
      ]
     },
     "execution_count": 6,
     "metadata": {},
     "output_type": "execute_result"
    }
   ],
   "source": [
    "df_team_memberships_graph = Combinations.create_combinations(df = df_team_memberships,group_by = \"TeamId\",name_col_1 =\"UserId_1\",name_col_2 = \"UserId_2\")\n",
    "df_team_memberships_graph.head()\n"
   ]
  },
  {
   "cell_type": "code",
   "execution_count": 7,
   "metadata": {},
   "outputs": [
    {
     "data": {
      "text/html": [
       "<div>\n",
       "<style scoped>\n",
       "    .dataframe tbody tr th:only-of-type {\n",
       "        vertical-align: middle;\n",
       "    }\n",
       "\n",
       "    .dataframe tbody tr th {\n",
       "        vertical-align: top;\n",
       "    }\n",
       "\n",
       "    .dataframe thead th {\n",
       "        text-align: right;\n",
       "    }\n",
       "</style>\n",
       "<table border=\"1\" class=\"dataframe\">\n",
       "  <thead>\n",
       "    <tr style=\"text-align: right;\">\n",
       "      <th></th>\n",
       "      <th>TeamId</th>\n",
       "      <th>UserId_1</th>\n",
       "      <th>UserId_2</th>\n",
       "    </tr>\n",
       "  </thead>\n",
       "  <tbody>\n",
       "    <tr>\n",
       "      <th>252315</th>\n",
       "      <td>999285</td>\n",
       "      <td>443070</td>\n",
       "      <td>823629</td>\n",
       "    </tr>\n",
       "    <tr>\n",
       "      <th>252316</th>\n",
       "      <td>999285</td>\n",
       "      <td>443070</td>\n",
       "      <td>1382489</td>\n",
       "    </tr>\n",
       "    <tr>\n",
       "      <th>252317</th>\n",
       "      <td>999285</td>\n",
       "      <td>823629</td>\n",
       "      <td>1382489</td>\n",
       "    </tr>\n",
       "  </tbody>\n",
       "</table>\n",
       "</div>"
      ],
      "text/plain": [
       "        TeamId UserId_1 UserId_2\n",
       "252315  999285   443070   823629\n",
       "252316  999285   443070  1382489\n",
       "252317  999285   823629  1382489"
      ]
     },
     "execution_count": 7,
     "metadata": {},
     "output_type": "execute_result"
    }
   ],
   "source": [
    "df_team_memberships_graph[df_team_memberships_graph[\"TeamId\"]==\"999285\"]"
   ]
  },
  {
   "cell_type": "code",
   "execution_count": 51,
   "metadata": {},
   "outputs": [
    {
     "data": {
      "text/html": [
       "<div>\n",
       "<style scoped>\n",
       "    .dataframe tbody tr th:only-of-type {\n",
       "        vertical-align: middle;\n",
       "    }\n",
       "\n",
       "    .dataframe tbody tr th {\n",
       "        vertical-align: top;\n",
       "    }\n",
       "\n",
       "    .dataframe thead th {\n",
       "        text-align: right;\n",
       "    }\n",
       "</style>\n",
       "<table border=\"1\" class=\"dataframe\">\n",
       "  <thead>\n",
       "    <tr style=\"text-align: right;\">\n",
       "      <th></th>\n",
       "      <th>UserId_1</th>\n",
       "      <th>UserId_2</th>\n",
       "      <th>weight</th>\n",
       "    </tr>\n",
       "  </thead>\n",
       "  <tbody>\n",
       "    <tr>\n",
       "      <th>0</th>\n",
       "      <td>10000270</td>\n",
       "      <td>8243312</td>\n",
       "      <td>3</td>\n",
       "    </tr>\n",
       "    <tr>\n",
       "      <th>1</th>\n",
       "      <td>10000270</td>\n",
       "      <td>9829581</td>\n",
       "      <td>2</td>\n",
       "    </tr>\n",
       "    <tr>\n",
       "      <th>2</th>\n",
       "      <td>1000033</td>\n",
       "      <td>1003122</td>\n",
       "      <td>1</td>\n",
       "    </tr>\n",
       "    <tr>\n",
       "      <th>3</th>\n",
       "      <td>1000033</td>\n",
       "      <td>1214207</td>\n",
       "      <td>1</td>\n",
       "    </tr>\n",
       "    <tr>\n",
       "      <th>4</th>\n",
       "      <td>1000033</td>\n",
       "      <td>1581982</td>\n",
       "      <td>1</td>\n",
       "    </tr>\n",
       "  </tbody>\n",
       "</table>\n",
       "</div>"
      ],
      "text/plain": [
       "   UserId_1 UserId_2  weight\n",
       "0  10000270  8243312       3\n",
       "1  10000270  9829581       2\n",
       "2   1000033  1003122       1\n",
       "3   1000033  1214207       1\n",
       "4   1000033  1581982       1"
      ]
     },
     "execution_count": 51,
     "metadata": {},
     "output_type": "execute_result"
    }
   ],
   "source": [
    "df_team_memberships_graph_2 = df_team_memberships_graph[[\"UserId_1\",\"UserId_2\"]].groupby([\"UserId_1\",\"UserId_2\"]).size().reset_index()\n",
    "df_team_memberships_graph_2.rename(columns={0:\"weight\"},inplace=True)\n",
    "df_team_memberships_graph_2.head()"
   ]
  },
  {
   "cell_type": "code",
   "execution_count": 52,
   "metadata": {},
   "outputs": [
    {
     "name": "stdout",
     "output_type": "stream",
     "text": [
      "(252332, 3)\n",
      "(212459, 3)\n"
     ]
    }
   ],
   "source": [
    "print(df_team_memberships_graph.shape)\n",
    "print(df_team_memberships_graph_2.shape)"
   ]
  },
  {
   "cell_type": "code",
   "execution_count": 54,
   "metadata": {},
   "outputs": [],
   "source": [
    "#MultiGraph\n",
    "df_team_memberships_graph_2.to_csv(r\"../data/processed/Graph_Teams.csv\",index=False)"
   ]
  },
  {
   "cell_type": "markdown",
   "metadata": {},
   "source": [
    "## User Forum Messages"
   ]
  },
  {
   "cell_type": "code",
   "execution_count": 36,
   "metadata": {},
   "outputs": [
    {
     "data": {
      "text/html": [
       "<div>\n",
       "<style scoped>\n",
       "    .dataframe tbody tr th:only-of-type {\n",
       "        vertical-align: middle;\n",
       "    }\n",
       "\n",
       "    .dataframe tbody tr th {\n",
       "        vertical-align: top;\n",
       "    }\n",
       "\n",
       "    .dataframe thead th {\n",
       "        text-align: right;\n",
       "    }\n",
       "</style>\n",
       "<table border=\"1\" class=\"dataframe\">\n",
       "  <thead>\n",
       "    <tr style=\"text-align: right;\">\n",
       "      <th></th>\n",
       "      <th>ForumTopicId</th>\n",
       "      <th>UserId</th>\n",
       "      <th>Medal</th>\n",
       "    </tr>\n",
       "  </thead>\n",
       "  <tbody>\n",
       "    <tr>\n",
       "      <th>0</th>\n",
       "      <td>2</td>\n",
       "      <td>368</td>\n",
       "      <td>NaN</td>\n",
       "    </tr>\n",
       "    <tr>\n",
       "      <th>1</th>\n",
       "      <td>16</td>\n",
       "      <td>368</td>\n",
       "      <td>NaN</td>\n",
       "    </tr>\n",
       "    <tr>\n",
       "      <th>2</th>\n",
       "      <td>16</td>\n",
       "      <td>368</td>\n",
       "      <td>NaN</td>\n",
       "    </tr>\n",
       "    <tr>\n",
       "      <th>3</th>\n",
       "      <td>20</td>\n",
       "      <td>368</td>\n",
       "      <td>NaN</td>\n",
       "    </tr>\n",
       "    <tr>\n",
       "      <th>4</th>\n",
       "      <td>20</td>\n",
       "      <td>368</td>\n",
       "      <td>NaN</td>\n",
       "    </tr>\n",
       "  </tbody>\n",
       "</table>\n",
       "</div>"
      ],
      "text/plain": [
       "  ForumTopicId UserId Medal\n",
       "0            2    368   NaN\n",
       "1           16    368   NaN\n",
       "2           16    368   NaN\n",
       "3           20    368   NaN\n",
       "4           20    368   NaN"
      ]
     },
     "execution_count": 36,
     "metadata": {},
     "output_type": "execute_result"
    }
   ],
   "source": [
    "df_forum_messages = pd.read_csv(r\"../data/interim/ForumMessages.csv\",dtype=str)\n",
    "df_forum_messages.head()"
   ]
  },
  {
   "cell_type": "code",
   "execution_count": 37,
   "metadata": {},
   "outputs": [
    {
     "name": "stdout",
     "output_type": "stream",
     "text": [
      "(1308300, 3)\n"
     ]
    }
   ],
   "source": [
    "print(df_forum_messages.shape)"
   ]
  },
  {
   "cell_type": "code",
   "execution_count": 38,
   "metadata": {},
   "outputs": [
    {
     "name": "stdout",
     "output_type": "stream",
     "text": [
      "(866218, 2)\n"
     ]
    }
   ],
   "source": [
    "#Eliminamos los duplicados ya que no nos interesa si una persona comento 1 o 100 veces sobre un mismo foro, solo nos interesa si participo o no\n",
    "df_forum_messages = df_forum_messages[[\"ForumTopicId\",\"UserId\"]].drop_duplicates()\n",
    "print(df_forum_messages.shape)"
   ]
  },
  {
   "cell_type": "code",
   "execution_count": 39,
   "metadata": {},
   "outputs": [
    {
     "data": {
      "text/html": [
       "<div>\n",
       "<style scoped>\n",
       "    .dataframe tbody tr th:only-of-type {\n",
       "        vertical-align: middle;\n",
       "    }\n",
       "\n",
       "    .dataframe tbody tr th {\n",
       "        vertical-align: top;\n",
       "    }\n",
       "\n",
       "    .dataframe thead th {\n",
       "        text-align: right;\n",
       "    }\n",
       "</style>\n",
       "<table border=\"1\" class=\"dataframe\">\n",
       "  <thead>\n",
       "    <tr style=\"text-align: right;\">\n",
       "      <th></th>\n",
       "      <th>ForumTopicId</th>\n",
       "      <th>Comments</th>\n",
       "    </tr>\n",
       "  </thead>\n",
       "  <tbody>\n",
       "    <tr>\n",
       "      <th>0</th>\n",
       "      <td>1</td>\n",
       "      <td>9</td>\n",
       "    </tr>\n",
       "    <tr>\n",
       "      <th>1</th>\n",
       "      <td>10</td>\n",
       "      <td>2</td>\n",
       "    </tr>\n",
       "    <tr>\n",
       "      <th>2</th>\n",
       "      <td>100</td>\n",
       "      <td>4</td>\n",
       "    </tr>\n",
       "    <tr>\n",
       "      <th>3</th>\n",
       "      <td>10000</td>\n",
       "      <td>2</td>\n",
       "    </tr>\n",
       "    <tr>\n",
       "      <th>4</th>\n",
       "      <td>100001</td>\n",
       "      <td>1</td>\n",
       "    </tr>\n",
       "  </tbody>\n",
       "</table>\n",
       "</div>"
      ],
      "text/plain": [
       "  ForumTopicId  Comments\n",
       "0            1         9\n",
       "1           10         2\n",
       "2          100         4\n",
       "3        10000         2\n",
       "4       100001         1"
      ]
     },
     "execution_count": 39,
     "metadata": {},
     "output_type": "execute_result"
    }
   ],
   "source": [
    "df_forum_messages_size = df_forum_messages.groupby(\"ForumTopicId\").size().to_frame('Comments').reset_index()\n",
    "df_forum_messages_size.head()"
   ]
  },
  {
   "cell_type": "code",
   "execution_count": 40,
   "metadata": {},
   "outputs": [
    {
     "name": "stdout",
     "output_type": "stream",
     "text": [
      "(866218, 3)\n"
     ]
    }
   ],
   "source": [
    "df_forum_messages = df_forum_messages.merge(df_forum_messages_size, how='left', on=['ForumTopicId'])\n",
    "print(df_forum_messages.shape)"
   ]
  },
  {
   "cell_type": "code",
   "execution_count": 14,
   "metadata": {},
   "outputs": [
    {
     "name": "stdout",
     "output_type": "stream",
     "text": [
      "(673324, 3)\n"
     ]
    }
   ],
   "source": [
    "#Nos interesa foros donde al menos hayan interactuado 3 personas\n",
    "df_forum_messages = df_forum_messages[df_forum_messages[\"Comments\"]>2]\n",
    "print(df_forum_messages.shape)"
   ]
  },
  {
   "cell_type": "code",
   "execution_count": 15,
   "metadata": {},
   "outputs": [
    {
     "data": {
      "text/html": [
       "<div>\n",
       "<style scoped>\n",
       "    .dataframe tbody tr th:only-of-type {\n",
       "        vertical-align: middle;\n",
       "    }\n",
       "\n",
       "    .dataframe tbody tr th {\n",
       "        vertical-align: top;\n",
       "    }\n",
       "\n",
       "    .dataframe thead th {\n",
       "        text-align: right;\n",
       "    }\n",
       "</style>\n",
       "<table border=\"1\" class=\"dataframe\">\n",
       "  <thead>\n",
       "    <tr style=\"text-align: right;\">\n",
       "      <th></th>\n",
       "      <th>ForumTopicId</th>\n",
       "      <th>UserId</th>\n",
       "      <th>Comments</th>\n",
       "    </tr>\n",
       "  </thead>\n",
       "  <tbody>\n",
       "    <tr>\n",
       "      <th>0</th>\n",
       "      <td>2</td>\n",
       "      <td>368</td>\n",
       "      <td>3</td>\n",
       "    </tr>\n",
       "    <tr>\n",
       "      <th>2</th>\n",
       "      <td>20</td>\n",
       "      <td>368</td>\n",
       "      <td>5</td>\n",
       "    </tr>\n",
       "    <tr>\n",
       "      <th>3</th>\n",
       "      <td>26</td>\n",
       "      <td>368</td>\n",
       "      <td>28</td>\n",
       "    </tr>\n",
       "    <tr>\n",
       "      <th>5</th>\n",
       "      <td>30</td>\n",
       "      <td>368</td>\n",
       "      <td>3</td>\n",
       "    </tr>\n",
       "    <tr>\n",
       "      <th>6</th>\n",
       "      <td>34</td>\n",
       "      <td>368</td>\n",
       "      <td>8</td>\n",
       "    </tr>\n",
       "  </tbody>\n",
       "</table>\n",
       "</div>"
      ],
      "text/plain": [
       "  ForumTopicId UserId  Comments\n",
       "0            2    368         3\n",
       "2           20    368         5\n",
       "3           26    368        28\n",
       "5           30    368         3\n",
       "6           34    368         8"
      ]
     },
     "execution_count": 15,
     "metadata": {},
     "output_type": "execute_result"
    }
   ],
   "source": [
    "df_forum_messages.head()"
   ]
  },
  {
   "cell_type": "code",
   "execution_count": 16,
   "metadata": {},
   "outputs": [
    {
     "data": {
      "text/html": [
       "<div>\n",
       "<style scoped>\n",
       "    .dataframe tbody tr th:only-of-type {\n",
       "        vertical-align: middle;\n",
       "    }\n",
       "\n",
       "    .dataframe tbody tr th {\n",
       "        vertical-align: top;\n",
       "    }\n",
       "\n",
       "    .dataframe thead th {\n",
       "        text-align: right;\n",
       "    }\n",
       "</style>\n",
       "<table border=\"1\" class=\"dataframe\">\n",
       "  <thead>\n",
       "    <tr style=\"text-align: right;\">\n",
       "      <th></th>\n",
       "      <th>Variable</th>\n",
       "      <th>n</th>\n",
       "      <th>Missing</th>\n",
       "      <th>%Missing</th>\n",
       "      <th>Negativo</th>\n",
       "      <th>%Negativo</th>\n",
       "      <th>Unico</th>\n",
       "      <th>Media</th>\n",
       "      <th>Min</th>\n",
       "      <th>Max</th>\n",
       "      <th>IQRMAX</th>\n",
       "      <th>3STD</th>\n",
       "      <th>P50</th>\n",
       "      <th>P75</th>\n",
       "      <th>P90</th>\n",
       "      <th>P95</th>\n",
       "      <th>P99</th>\n",
       "      <th>Outlier IQR</th>\n",
       "      <th>%Outlier IQR</th>\n",
       "      <th>Outlier 3SD</th>\n",
       "      <th>%Outlier 3SD</th>\n",
       "      <th>Outlier P90</th>\n",
       "      <th>%Outlier P90</th>\n",
       "      <th>Outlier P95</th>\n",
       "      <th>%Outlier P95</th>\n",
       "      <th>Outlier P99</th>\n",
       "      <th>%Outlier P99</th>\n",
       "    </tr>\n",
       "  </thead>\n",
       "  <tbody>\n",
       "    <tr>\n",
       "      <th>0</th>\n",
       "      <td>ForumTopicId_Int</td>\n",
       "      <td>673324</td>\n",
       "      <td>0</td>\n",
       "      <td>0.0</td>\n",
       "      <td>0</td>\n",
       "      <td>0.0</td>\n",
       "      <td>90592</td>\n",
       "      <td>161531.30</td>\n",
       "      <td>1</td>\n",
       "      <td>334076</td>\n",
       "      <td>486572.0</td>\n",
       "      <td>444784.68</td>\n",
       "      <td>157795.0</td>\n",
       "      <td>242882.0</td>\n",
       "      <td>296715.0</td>\n",
       "      <td>311888.0</td>\n",
       "      <td>329113.39</td>\n",
       "      <td>0</td>\n",
       "      <td>0.00</td>\n",
       "      <td>0</td>\n",
       "      <td>0.00</td>\n",
       "      <td>67332</td>\n",
       "      <td>10.00</td>\n",
       "      <td>33665</td>\n",
       "      <td>5.00</td>\n",
       "      <td>6734</td>\n",
       "      <td>1.0</td>\n",
       "    </tr>\n",
       "    <tr>\n",
       "      <th>0</th>\n",
       "      <td>Comments</td>\n",
       "      <td>673324</td>\n",
       "      <td>0</td>\n",
       "      <td>0.0</td>\n",
       "      <td>0</td>\n",
       "      <td>0.0</td>\n",
       "      <td>197</td>\n",
       "      <td>731.27</td>\n",
       "      <td>3</td>\n",
       "      <td>21282</td>\n",
       "      <td>50.0</td>\n",
       "      <td>11901.21</td>\n",
       "      <td>9.0</td>\n",
       "      <td>23.0</td>\n",
       "      <td>80.0</td>\n",
       "      <td>673.0</td>\n",
       "      <td>21282.00</td>\n",
       "      <td>88979</td>\n",
       "      <td>13.21</td>\n",
       "      <td>21282</td>\n",
       "      <td>3.16</td>\n",
       "      <td>67100</td>\n",
       "      <td>9.97</td>\n",
       "      <td>33374</td>\n",
       "      <td>4.96</td>\n",
       "      <td>0</td>\n",
       "      <td>0.0</td>\n",
       "    </tr>\n",
       "  </tbody>\n",
       "</table>\n",
       "</div>"
      ],
      "text/plain": [
       "           Variable       n  Missing  %Missing  Negativo  %Negativo  Unico  \\\n",
       "0  ForumTopicId_Int  673324        0       0.0         0        0.0  90592   \n",
       "0          Comments  673324        0       0.0         0        0.0    197   \n",
       "\n",
       "       Media  Min     Max    IQRMAX       3STD       P50       P75       P90  \\\n",
       "0  161531.30    1  334076  486572.0  444784.68  157795.0  242882.0  296715.0   \n",
       "0     731.27    3   21282      50.0   11901.21       9.0      23.0      80.0   \n",
       "\n",
       "        P95        P99  Outlier IQR  %Outlier IQR  Outlier 3SD  %Outlier 3SD  \\\n",
       "0  311888.0  329113.39            0          0.00            0          0.00   \n",
       "0     673.0   21282.00        88979         13.21        21282          3.16   \n",
       "\n",
       "   Outlier P90  %Outlier P90  Outlier P95  %Outlier P95  Outlier P99  \\\n",
       "0        67332         10.00        33665          5.00         6734   \n",
       "0        67100          9.97        33374          4.96            0   \n",
       "\n",
       "   %Outlier P99  \n",
       "0           1.0  \n",
       "0           0.0  "
      ]
     },
     "execution_count": 16,
     "metadata": {},
     "output_type": "execute_result"
    }
   ],
   "source": [
    "df_forum_messages[\"ForumTopicId_Int\"] = df_forum_messages[\"ForumTopicId\"].astype(int)\n",
    "Validator.validar_numerico(df_forum_messages,[\"ForumTopicId_Int\",\"Comments\"])"
   ]
  },
  {
   "cell_type": "code",
   "execution_count": 17,
   "metadata": {},
   "outputs": [
    {
     "data": {
      "image/png": "[encoded data removed]",
      "text/plain": [
       "<Figure size 842.4x595.44 with 1 Axes>"
      ]
     },
     "metadata": {},
     "output_type": "display_data"
    }
   ],
   "source": [
    "plt.hist(df_forum_messages[\"Comments\"],bins=100)\n",
    "plt.show()"
   ]
  },
  {
   "cell_type": "code",
   "execution_count": 18,
   "metadata": {},
   "outputs": [
    {
     "data": {
      "text/html": [
       "<div>\n",
       "<style scoped>\n",
       "    .dataframe tbody tr th:only-of-type {\n",
       "        vertical-align: middle;\n",
       "    }\n",
       "\n",
       "    .dataframe tbody tr th {\n",
       "        vertical-align: top;\n",
       "    }\n",
       "\n",
       "    .dataframe thead th {\n",
       "        text-align: right;\n",
       "    }\n",
       "</style>\n",
       "<table border=\"1\" class=\"dataframe\">\n",
       "  <thead>\n",
       "    <tr style=\"text-align: right;\">\n",
       "      <th></th>\n",
       "      <th>ForumTopicId</th>\n",
       "      <th>UserId</th>\n",
       "      <th>Comments</th>\n",
       "      <th>ForumTopicId_Int</th>\n",
       "    </tr>\n",
       "  </thead>\n",
       "  <tbody>\n",
       "    <tr>\n",
       "      <th>252</th>\n",
       "      <td>35118</td>\n",
       "      <td>368</td>\n",
       "      <td>122</td>\n",
       "      <td>35118</td>\n",
       "    </tr>\n",
       "    <tr>\n",
       "      <th>261</th>\n",
       "      <td>60914</td>\n",
       "      <td>368</td>\n",
       "      <td>659</td>\n",
       "      <td>60914</td>\n",
       "    </tr>\n",
       "    <tr>\n",
       "      <th>271</th>\n",
       "      <td>137078</td>\n",
       "      <td>368</td>\n",
       "      <td>101</td>\n",
       "      <td>137078</td>\n",
       "    </tr>\n",
       "    <tr>\n",
       "      <th>583</th>\n",
       "      <td>36940</td>\n",
       "      <td>464</td>\n",
       "      <td>187</td>\n",
       "      <td>36940</td>\n",
       "    </tr>\n",
       "    <tr>\n",
       "      <th>616</th>\n",
       "      <td>111053</td>\n",
       "      <td>583</td>\n",
       "      <td>21282</td>\n",
       "      <td>111053</td>\n",
       "    </tr>\n",
       "  </tbody>\n",
       "</table>\n",
       "</div>"
      ],
      "text/plain": [
       "    ForumTopicId UserId  Comments  ForumTopicId_Int\n",
       "252        35118    368       122             35118\n",
       "261        60914    368       659             60914\n",
       "271       137078    368       101            137078\n",
       "583        36940    464       187             36940\n",
       "616       111053    583     21282            111053"
      ]
     },
     "execution_count": 18,
     "metadata": {},
     "output_type": "execute_result"
    }
   ],
   "source": [
    "df_forum_messages[df_forum_messages[\"Comments\"]>80].head()"
   ]
  },
  {
   "cell_type": "code",
   "execution_count": 19,
   "metadata": {},
   "outputs": [
    {
     "data": {
      "text/html": [
       "<div>\n",
       "<style scoped>\n",
       "    .dataframe tbody tr th:only-of-type {\n",
       "        vertical-align: middle;\n",
       "    }\n",
       "\n",
       "    .dataframe tbody tr th {\n",
       "        vertical-align: top;\n",
       "    }\n",
       "\n",
       "    .dataframe thead th {\n",
       "        text-align: right;\n",
       "    }\n",
       "</style>\n",
       "<table border=\"1\" class=\"dataframe\">\n",
       "  <thead>\n",
       "    <tr style=\"text-align: right;\">\n",
       "      <th></th>\n",
       "      <th>ForumId</th>\n",
       "      <th>ParentForumId</th>\n",
       "      <th>Title</th>\n",
       "    </tr>\n",
       "  </thead>\n",
       "  <tbody>\n",
       "    <tr>\n",
       "      <th>0</th>\n",
       "      <td>1</td>\n",
       "      <td>8</td>\n",
       "      <td>Predict HIV Progression</td>\n",
       "    </tr>\n",
       "    <tr>\n",
       "      <th>1</th>\n",
       "      <td>2</td>\n",
       "      <td>8</td>\n",
       "      <td>Forecast Eurovision Voting</td>\n",
       "    </tr>\n",
       "    <tr>\n",
       "      <th>2</th>\n",
       "      <td>3</td>\n",
       "      <td>8</td>\n",
       "      <td>World Cup 2010 - Take on the Quants</td>\n",
       "    </tr>\n",
       "    <tr>\n",
       "      <th>3</th>\n",
       "      <td>4</td>\n",
       "      <td>8</td>\n",
       "      <td>INFORMS Data Mining Contest 2010</td>\n",
       "    </tr>\n",
       "    <tr>\n",
       "      <th>4</th>\n",
       "      <td>5</td>\n",
       "      <td>NaN</td>\n",
       "      <td>Active Competitions</td>\n",
       "    </tr>\n",
       "  </tbody>\n",
       "</table>\n",
       "</div>"
      ],
      "text/plain": [
       "  ForumId ParentForumId                                Title\n",
       "0       1             8              Predict HIV Progression\n",
       "1       2             8           Forecast Eurovision Voting\n",
       "2       3             8  World Cup 2010 - Take on the Quants\n",
       "3       4             8     INFORMS Data Mining Contest 2010\n",
       "4       5           NaN                  Active Competitions"
      ]
     },
     "execution_count": 19,
     "metadata": {},
     "output_type": "execute_result"
    }
   ],
   "source": [
    "df_forums = pd.read_csv(r\"../data/interim/Forums.csv\",dtype=str)\n",
    "df_forums.head()"
   ]
  },
  {
   "cell_type": "code",
   "execution_count": 20,
   "metadata": {},
   "outputs": [
    {
     "data": {
      "text/html": [
       "<div>\n",
       "<style scoped>\n",
       "    .dataframe tbody tr th:only-of-type {\n",
       "        vertical-align: middle;\n",
       "    }\n",
       "\n",
       "    .dataframe tbody tr th {\n",
       "        vertical-align: top;\n",
       "    }\n",
       "\n",
       "    .dataframe thead th {\n",
       "        text-align: right;\n",
       "    }\n",
       "</style>\n",
       "<table border=\"1\" class=\"dataframe\">\n",
       "  <thead>\n",
       "    <tr style=\"text-align: right;\">\n",
       "      <th></th>\n",
       "      <th>ForumTopicId</th>\n",
       "      <th>ForumId</th>\n",
       "      <th>Title</th>\n",
       "      <th>TotalViews</th>\n",
       "      <th>TotalMessages</th>\n",
       "      <th>Score</th>\n",
       "    </tr>\n",
       "  </thead>\n",
       "  <tbody>\n",
       "    <tr>\n",
       "      <th>0</th>\n",
       "      <td>1</td>\n",
       "      <td>1</td>\n",
       "      <td>A few techniques you might try:</td>\n",
       "      <td>9405.0</td>\n",
       "      <td>19.0</td>\n",
       "      <td>0.0</td>\n",
       "    </tr>\n",
       "    <tr>\n",
       "      <th>1</th>\n",
       "      <td>2</td>\n",
       "      <td>1</td>\n",
       "      <td>Question regarding algorithms used</td>\n",
       "      <td>2185.0</td>\n",
       "      <td>3.0</td>\n",
       "      <td>0.0</td>\n",
       "    </tr>\n",
       "    <tr>\n",
       "      <th>2</th>\n",
       "      <td>3</td>\n",
       "      <td>1</td>\n",
       "      <td>Question about data</td>\n",
       "      <td>2121.0</td>\n",
       "      <td>3.0</td>\n",
       "      <td>0.0</td>\n",
       "    </tr>\n",
       "    <tr>\n",
       "      <th>3</th>\n",
       "      <td>4</td>\n",
       "      <td>1</td>\n",
       "      <td>Biased sets</td>\n",
       "      <td>2780.0</td>\n",
       "      <td>4.0</td>\n",
       "      <td>1.0</td>\n",
       "    </tr>\n",
       "    <tr>\n",
       "      <th>4</th>\n",
       "      <td>5</td>\n",
       "      <td>1</td>\n",
       "      <td>Non-standard nucleotide codings</td>\n",
       "      <td>2045.0</td>\n",
       "      <td>2.0</td>\n",
       "      <td>0.0</td>\n",
       "    </tr>\n",
       "  </tbody>\n",
       "</table>\n",
       "</div>"
      ],
      "text/plain": [
       "  ForumTopicId ForumId                               Title TotalViews  \\\n",
       "0            1       1     A few techniques you might try:     9405.0   \n",
       "1            2       1  Question regarding algorithms used     2185.0   \n",
       "2            3       1                 Question about data     2121.0   \n",
       "3            4       1                         Biased sets     2780.0   \n",
       "4            5       1     Non-standard nucleotide codings     2045.0   \n",
       "\n",
       "  TotalMessages Score  \n",
       "0          19.0   0.0  \n",
       "1           3.0   0.0  \n",
       "2           3.0   0.0  \n",
       "3           4.0   1.0  \n",
       "4           2.0   0.0  "
      ]
     },
     "execution_count": 20,
     "metadata": {},
     "output_type": "execute_result"
    }
   ],
   "source": [
    "df_forum_topics = pd.read_csv(r\"../data/interim/ForumTopics.csv\",dtype=str)\n",
    "df_forum_topics.head()"
   ]
  },
  {
   "cell_type": "code",
   "execution_count": 21,
   "metadata": {},
   "outputs": [
    {
     "data": {
      "text/html": [
       "<div>\n",
       "<style scoped>\n",
       "    .dataframe tbody tr th:only-of-type {\n",
       "        vertical-align: middle;\n",
       "    }\n",
       "\n",
       "    .dataframe tbody tr th {\n",
       "        vertical-align: top;\n",
       "    }\n",
       "\n",
       "    .dataframe thead th {\n",
       "        text-align: right;\n",
       "    }\n",
       "</style>\n",
       "<table border=\"1\" class=\"dataframe\">\n",
       "  <thead>\n",
       "    <tr style=\"text-align: right;\">\n",
       "      <th></th>\n",
       "      <th>ForumTopicId</th>\n",
       "      <th>ForumId</th>\n",
       "      <th>ParentForumId</th>\n",
       "      <th>ForumTopicName</th>\n",
       "      <th>ParentForumName</th>\n",
       "    </tr>\n",
       "  </thead>\n",
       "  <tbody>\n",
       "    <tr>\n",
       "      <th>0</th>\n",
       "      <td>1</td>\n",
       "      <td>1</td>\n",
       "      <td>8</td>\n",
       "      <td>Predict HIV Progression</td>\n",
       "      <td>Past Competitions</td>\n",
       "    </tr>\n",
       "    <tr>\n",
       "      <th>1</th>\n",
       "      <td>2</td>\n",
       "      <td>1</td>\n",
       "      <td>8</td>\n",
       "      <td>Predict HIV Progression</td>\n",
       "      <td>Past Competitions</td>\n",
       "    </tr>\n",
       "    <tr>\n",
       "      <th>2</th>\n",
       "      <td>3</td>\n",
       "      <td>1</td>\n",
       "      <td>8</td>\n",
       "      <td>Predict HIV Progression</td>\n",
       "      <td>Past Competitions</td>\n",
       "    </tr>\n",
       "    <tr>\n",
       "      <th>3</th>\n",
       "      <td>4</td>\n",
       "      <td>1</td>\n",
       "      <td>8</td>\n",
       "      <td>Predict HIV Progression</td>\n",
       "      <td>Past Competitions</td>\n",
       "    </tr>\n",
       "    <tr>\n",
       "      <th>4</th>\n",
       "      <td>5</td>\n",
       "      <td>1</td>\n",
       "      <td>8</td>\n",
       "      <td>Predict HIV Progression</td>\n",
       "      <td>Past Competitions</td>\n",
       "    </tr>\n",
       "  </tbody>\n",
       "</table>\n",
       "</div>"
      ],
      "text/plain": [
       "  ForumTopicId ForumId ParentForumId           ForumTopicName  \\\n",
       "0            1       1             8  Predict HIV Progression   \n",
       "1            2       1             8  Predict HIV Progression   \n",
       "2            3       1             8  Predict HIV Progression   \n",
       "3            4       1             8  Predict HIV Progression   \n",
       "4            5       1             8  Predict HIV Progression   \n",
       "\n",
       "     ParentForumName  \n",
       "0  Past Competitions  \n",
       "1  Past Competitions  \n",
       "2  Past Competitions  \n",
       "3  Past Competitions  \n",
       "4  Past Competitions  "
      ]
     },
     "execution_count": 21,
     "metadata": {},
     "output_type": "execute_result"
    }
   ],
   "source": [
    "df_forums_2 = df_forums.copy()\n",
    "df_forums_2 = df_forums_2[[\"ForumId\",\"ParentForumId\",\"Title\"]]\n",
    "df_forum_topics = df_forum_topics[[\"ForumTopicId\",\"ForumId\"]]\n",
    "df_forum_topics_merge = df_forum_topics.merge(df_forums_2,how=\"left\",on=[\"ForumId\"])\n",
    "df_forum_topics_merge.rename(columns={\"Title\":\"ForumTopicName\"},inplace=True)\n",
    "\n",
    "#Cambio el codigo del foro para sacar el nombre del padre\n",
    "df_forums_parent = df_forums_2.copy()\n",
    "df_forums_parent = df_forums_parent[\"ParentForumId\"].dropna()\n",
    "df_forums_2 = df_forums_2[[\"ForumId\",\"Title\"]]\n",
    "df_forums_2.rename(columns={\"ForumId\":\"ParentForumId\",\"Title\":\"ParentForumName\"},inplace=True)\n",
    "df_forum_topics_merge_2 = df_forum_topics_merge.merge(df_forums_2,how=\"left\",on=[\"ParentForumId\"])\n",
    "\n",
    "df_forum_topics_merge_2.head()"
   ]
  },
  {
   "cell_type": "code",
   "execution_count": 22,
   "metadata": {},
   "outputs": [
    {
     "data": {
      "text/plain": [
       "General                65287\n",
       "Past Competitions      64636\n",
       "Public Datasets        16330\n",
       "Active Competitions     2524\n",
       "Name: ParentForumName, dtype: int64"
      ]
     },
     "execution_count": 22,
     "metadata": {},
     "output_type": "execute_result"
    }
   ],
   "source": [
    "df_forum_topics_merge_2[\"ParentForumName\"].value_counts()"
   ]
  },
  {
   "cell_type": "code",
   "execution_count": 23,
   "metadata": {},
   "outputs": [
    {
     "data": {
      "text/plain": [
       "9       65287\n",
       "8       64636\n",
       "1023    16330\n",
       "5        2524\n",
       "52        544\n",
       "6         456\n",
       "198       335\n",
       "91        214\n",
       "Name: ParentForumId, dtype: int64"
      ]
     },
     "execution_count": 23,
     "metadata": {},
     "output_type": "execute_result"
    }
   ],
   "source": [
    "df_forum_topics_merge_2[\"ParentForumId\"].value_counts()"
   ]
  },
  {
   "cell_type": "code",
   "execution_count": 24,
   "metadata": {},
   "outputs": [
    {
     "data": {
      "text/html": [
       "<div>\n",
       "<style scoped>\n",
       "    .dataframe tbody tr th:only-of-type {\n",
       "        vertical-align: middle;\n",
       "    }\n",
       "\n",
       "    .dataframe tbody tr th {\n",
       "        vertical-align: top;\n",
       "    }\n",
       "\n",
       "    .dataframe thead th {\n",
       "        text-align: right;\n",
       "    }\n",
       "</style>\n",
       "<table border=\"1\" class=\"dataframe\">\n",
       "  <thead>\n",
       "    <tr style=\"text-align: right;\">\n",
       "      <th></th>\n",
       "      <th>ForumTopicId</th>\n",
       "      <th>ForumId</th>\n",
       "      <th>ParentForumId</th>\n",
       "      <th>ForumTopicName</th>\n",
       "      <th>ParentForumName</th>\n",
       "    </tr>\n",
       "  </thead>\n",
       "  <tbody>\n",
       "    <tr>\n",
       "      <th>21661</th>\n",
       "      <td>856</td>\n",
       "      <td>54</td>\n",
       "      <td>52</td>\n",
       "      <td>UW STAT331 Linear Models Contest</td>\n",
       "      <td>NaN</td>\n",
       "    </tr>\n",
       "    <tr>\n",
       "      <th>21662</th>\n",
       "      <td>857</td>\n",
       "      <td>54</td>\n",
       "      <td>52</td>\n",
       "      <td>UW STAT331 Linear Models Contest</td>\n",
       "      <td>NaN</td>\n",
       "    </tr>\n",
       "    <tr>\n",
       "      <th>21663</th>\n",
       "      <td>858</td>\n",
       "      <td>54</td>\n",
       "      <td>52</td>\n",
       "      <td>UW STAT331 Linear Models Contest</td>\n",
       "      <td>NaN</td>\n",
       "    </tr>\n",
       "    <tr>\n",
       "      <th>21664</th>\n",
       "      <td>859</td>\n",
       "      <td>54</td>\n",
       "      <td>52</td>\n",
       "      <td>UW STAT331 Linear Models Contest</td>\n",
       "      <td>NaN</td>\n",
       "    </tr>\n",
       "    <tr>\n",
       "      <th>21665</th>\n",
       "      <td>860</td>\n",
       "      <td>54</td>\n",
       "      <td>52</td>\n",
       "      <td>UW STAT331 Linear Models Contest</td>\n",
       "      <td>NaN</td>\n",
       "    </tr>\n",
       "  </tbody>\n",
       "</table>\n",
       "</div>"
      ],
      "text/plain": [
       "      ForumTopicId ForumId ParentForumId                    ForumTopicName  \\\n",
       "21661          856      54            52  UW STAT331 Linear Models Contest   \n",
       "21662          857      54            52  UW STAT331 Linear Models Contest   \n",
       "21663          858      54            52  UW STAT331 Linear Models Contest   \n",
       "21664          859      54            52  UW STAT331 Linear Models Contest   \n",
       "21665          860      54            52  UW STAT331 Linear Models Contest   \n",
       "\n",
       "      ParentForumName  \n",
       "21661             NaN  \n",
       "21662             NaN  \n",
       "21663             NaN  \n",
       "21664             NaN  \n",
       "21665             NaN  "
      ]
     },
     "execution_count": 24,
     "metadata": {},
     "output_type": "execute_result"
    }
   ],
   "source": [
    "df_forum_topics_merge_2[df_forum_topics_merge_2[\"ParentForumId\"]==\"52\"].head()"
   ]
  },
  {
   "cell_type": "code",
   "execution_count": 25,
   "metadata": {},
   "outputs": [
    {
     "data": {
      "text/html": [
       "<div>\n",
       "<style scoped>\n",
       "    .dataframe tbody tr th:only-of-type {\n",
       "        vertical-align: middle;\n",
       "    }\n",
       "\n",
       "    .dataframe tbody tr th {\n",
       "        vertical-align: top;\n",
       "    }\n",
       "\n",
       "    .dataframe thead th {\n",
       "        text-align: right;\n",
       "    }\n",
       "</style>\n",
       "<table border=\"1\" class=\"dataframe\">\n",
       "  <thead>\n",
       "    <tr style=\"text-align: right;\">\n",
       "      <th></th>\n",
       "      <th>ForumId</th>\n",
       "      <th>ParentForumId</th>\n",
       "      <th>Title</th>\n",
       "    </tr>\n",
       "  </thead>\n",
       "  <tbody>\n",
       "    <tr>\n",
       "      <th>24</th>\n",
       "      <td>51</td>\n",
       "      <td>8</td>\n",
       "      <td>Give Me Some Credit</td>\n",
       "    </tr>\n",
       "  </tbody>\n",
       "</table>\n",
       "</div>"
      ],
      "text/plain": [
       "   ForumId ParentForumId                Title\n",
       "24      51             8  Give Me Some Credit"
      ]
     },
     "execution_count": 25,
     "metadata": {},
     "output_type": "execute_result"
    }
   ],
   "source": [
    "df_forums[df_forums[\"ForumId\"]==\"51\"]"
   ]
  },
  {
   "cell_type": "code",
   "execution_count": 26,
   "metadata": {},
   "outputs": [
    {
     "data": {
      "text/html": [
       "<div>\n",
       "<style scoped>\n",
       "    .dataframe tbody tr th:only-of-type {\n",
       "        vertical-align: middle;\n",
       "    }\n",
       "\n",
       "    .dataframe tbody tr th {\n",
       "        vertical-align: top;\n",
       "    }\n",
       "\n",
       "    .dataframe thead th {\n",
       "        text-align: right;\n",
       "    }\n",
       "</style>\n",
       "<table border=\"1\" class=\"dataframe\">\n",
       "  <thead>\n",
       "    <tr style=\"text-align: right;\">\n",
       "      <th></th>\n",
       "      <th>ForumTopicId</th>\n",
       "      <th>UserId</th>\n",
       "      <th>Comments</th>\n",
       "      <th>ForumTopicId_Int</th>\n",
       "      <th>ForumId</th>\n",
       "      <th>ParentForumId</th>\n",
       "      <th>ForumTopicName</th>\n",
       "      <th>ParentForumName</th>\n",
       "    </tr>\n",
       "  </thead>\n",
       "  <tbody>\n",
       "    <tr>\n",
       "      <th>0</th>\n",
       "      <td>2</td>\n",
       "      <td>368</td>\n",
       "      <td>3</td>\n",
       "      <td>2</td>\n",
       "      <td>1</td>\n",
       "      <td>8</td>\n",
       "      <td>Predict HIV Progression</td>\n",
       "      <td>Past Competitions</td>\n",
       "    </tr>\n",
       "    <tr>\n",
       "      <th>1</th>\n",
       "      <td>20</td>\n",
       "      <td>368</td>\n",
       "      <td>5</td>\n",
       "      <td>20</td>\n",
       "      <td>1</td>\n",
       "      <td>8</td>\n",
       "      <td>Predict HIV Progression</td>\n",
       "      <td>Past Competitions</td>\n",
       "    </tr>\n",
       "    <tr>\n",
       "      <th>2</th>\n",
       "      <td>26</td>\n",
       "      <td>368</td>\n",
       "      <td>28</td>\n",
       "      <td>26</td>\n",
       "      <td>15</td>\n",
       "      <td>9</td>\n",
       "      <td>General</td>\n",
       "      <td>General</td>\n",
       "    </tr>\n",
       "    <tr>\n",
       "      <th>3</th>\n",
       "      <td>30</td>\n",
       "      <td>368</td>\n",
       "      <td>3</td>\n",
       "      <td>30</td>\n",
       "      <td>4</td>\n",
       "      <td>8</td>\n",
       "      <td>INFORMS Data Mining Contest 2010</td>\n",
       "      <td>Past Competitions</td>\n",
       "    </tr>\n",
       "    <tr>\n",
       "      <th>4</th>\n",
       "      <td>34</td>\n",
       "      <td>368</td>\n",
       "      <td>8</td>\n",
       "      <td>34</td>\n",
       "      <td>4</td>\n",
       "      <td>8</td>\n",
       "      <td>INFORMS Data Mining Contest 2010</td>\n",
       "      <td>Past Competitions</td>\n",
       "    </tr>\n",
       "  </tbody>\n",
       "</table>\n",
       "</div>"
      ],
      "text/plain": [
       "  ForumTopicId UserId  Comments  ForumTopicId_Int ForumId ParentForumId  \\\n",
       "0            2    368         3                 2       1             8   \n",
       "1           20    368         5                20       1             8   \n",
       "2           26    368        28                26      15             9   \n",
       "3           30    368         3                30       4             8   \n",
       "4           34    368         8                34       4             8   \n",
       "\n",
       "                     ForumTopicName    ParentForumName  \n",
       "0           Predict HIV Progression  Past Competitions  \n",
       "1           Predict HIV Progression  Past Competitions  \n",
       "2                           General            General  \n",
       "3  INFORMS Data Mining Contest 2010  Past Competitions  \n",
       "4  INFORMS Data Mining Contest 2010  Past Competitions  "
      ]
     },
     "execution_count": 26,
     "metadata": {},
     "output_type": "execute_result"
    }
   ],
   "source": [
    "df_forum_join = df_forum_messages.merge(df_forum_topics_merge_2,how=\"left\",on=[\"ForumTopicId\"])\n",
    "df_forum_join.head()"
   ]
  },
  {
   "cell_type": "code",
   "execution_count": 27,
   "metadata": {},
   "outputs": [
    {
     "data": {
      "text/plain": [
       "<AxesSubplot:xlabel='ParentForumName', ylabel='Comments'>"
      ]
     },
     "execution_count": 27,
     "metadata": {},
     "output_type": "execute_result"
    },
    {
     "data": {
      "image/png": "[encoded data removed]",
      "text/plain": [
       "<Figure size 842.4x595.44 with 1 Axes>"
      ]
     },
     "metadata": {},
     "output_type": "display_data"
    }
   ],
   "source": [
    "#Observamos que la mayoria de ForumParents que tienen mas de 250 comentarios son del general, asi que haremos un zoom sobre cuales son\n",
    "sns.boxplot(data=df_forum_join, x='ParentForumName', y='Comments')"
   ]
  },
  {
   "cell_type": "code",
   "execution_count": 28,
   "metadata": {},
   "outputs": [
    {
     "data": {
      "text/plain": [
       "General    11596\n",
       "Name: ParentForumName, dtype: int64"
      ]
     },
     "execution_count": 28,
     "metadata": {},
     "output_type": "execute_result"
    }
   ],
   "source": [
    "df_forum_join[df_forum_join[\"Comments\"]>250][\"ParentForumName\"].value_counts()"
   ]
  },
  {
   "cell_type": "code",
   "execution_count": 29,
   "metadata": {},
   "outputs": [
    {
     "data": {
      "text/html": [
       "<div>\n",
       "<style scoped>\n",
       "    .dataframe tbody tr th:only-of-type {\n",
       "        vertical-align: middle;\n",
       "    }\n",
       "\n",
       "    .dataframe tbody tr th {\n",
       "        vertical-align: top;\n",
       "    }\n",
       "\n",
       "    .dataframe thead th {\n",
       "        text-align: right;\n",
       "    }\n",
       "</style>\n",
       "<table border=\"1\" class=\"dataframe\">\n",
       "  <thead>\n",
       "    <tr style=\"text-align: right;\">\n",
       "      <th></th>\n",
       "      <th>ForumTopicId</th>\n",
       "      <th>UserId</th>\n",
       "      <th>Comments</th>\n",
       "      <th>ForumTopicId_Int</th>\n",
       "      <th>ForumId</th>\n",
       "      <th>ParentForumId</th>\n",
       "      <th>ForumTopicName</th>\n",
       "      <th>ParentForumName</th>\n",
       "    </tr>\n",
       "  </thead>\n",
       "  <tbody>\n",
       "    <tr>\n",
       "      <th>164</th>\n",
       "      <td>60914</td>\n",
       "      <td>368</td>\n",
       "      <td>659</td>\n",
       "      <td>60914</td>\n",
       "      <td>15</td>\n",
       "      <td>9</td>\n",
       "      <td>General</td>\n",
       "      <td>General</td>\n",
       "    </tr>\n",
       "    <tr>\n",
       "      <th>363</th>\n",
       "      <td>111053</td>\n",
       "      <td>583</td>\n",
       "      <td>21282</td>\n",
       "      <td>111053</td>\n",
       "      <td>16860</td>\n",
       "      <td>NaN</td>\n",
       "      <td>Notebooks</td>\n",
       "      <td>NaN</td>\n",
       "    </tr>\n",
       "    <tr>\n",
       "      <th>691</th>\n",
       "      <td>256646</td>\n",
       "      <td>937</td>\n",
       "      <td>3105</td>\n",
       "      <td>256646</td>\n",
       "      <td>16860</td>\n",
       "      <td>NaN</td>\n",
       "      <td>Notebooks</td>\n",
       "      <td>NaN</td>\n",
       "    </tr>\n",
       "    <tr>\n",
       "      <th>1286</th>\n",
       "      <td>111053</td>\n",
       "      <td>1327</td>\n",
       "      <td>21282</td>\n",
       "      <td>111053</td>\n",
       "      <td>16860</td>\n",
       "      <td>NaN</td>\n",
       "      <td>Notebooks</td>\n",
       "      <td>NaN</td>\n",
       "    </tr>\n",
       "    <tr>\n",
       "      <th>1409</th>\n",
       "      <td>256489</td>\n",
       "      <td>1408</td>\n",
       "      <td>1789</td>\n",
       "      <td>256489</td>\n",
       "      <td>208</td>\n",
       "      <td>9</td>\n",
       "      <td>Getting Started</td>\n",
       "      <td>General</td>\n",
       "    </tr>\n",
       "  </tbody>\n",
       "</table>\n",
       "</div>"
      ],
      "text/plain": [
       "     ForumTopicId UserId  Comments  ForumTopicId_Int ForumId ParentForumId  \\\n",
       "164         60914    368       659             60914      15             9   \n",
       "363        111053    583     21282            111053   16860           NaN   \n",
       "691        256646    937      3105            256646   16860           NaN   \n",
       "1286       111053   1327     21282            111053   16860           NaN   \n",
       "1409       256489   1408      1789            256489     208             9   \n",
       "\n",
       "       ForumTopicName ParentForumName  \n",
       "164           General         General  \n",
       "363         Notebooks             NaN  \n",
       "691         Notebooks             NaN  \n",
       "1286        Notebooks             NaN  \n",
       "1409  Getting Started         General  "
      ]
     },
     "execution_count": 29,
     "metadata": {},
     "output_type": "execute_result"
    }
   ],
   "source": [
    "df_forum_join[df_forum_join[\"Comments\"]>250].head()"
   ]
  },
  {
   "cell_type": "code",
   "execution_count": 30,
   "metadata": {},
   "outputs": [
    {
     "data": {
      "text/plain": [
       "<AxesSubplot:xlabel='ForumTopicName', ylabel='Comments'>"
      ]
     },
     "execution_count": 30,
     "metadata": {},
     "output_type": "execute_result"
    },
    {
     "data": {
      "image/png": "[encoded data removed]",
      "text/plain": [
       "<Figure size 842.4x595.44 with 1 Axes>"
      ]
     },
     "metadata": {},
     "output_type": "display_data"
    }
   ],
   "source": [
    "#Los foros con mas de 250 comentarios son los foros generales, de un notebook en particular o de uno de la categoria \"iniciando\"\n",
    "sns.boxplot(data=df_forum_join[df_forum_join[\"Comments\"]>250], x='ForumTopicName', y='Comments')"
   ]
  },
  {
   "cell_type": "code",
   "execution_count": 31,
   "metadata": {},
   "outputs": [
    {
     "data": {
      "text/html": [
       "<div>\n",
       "<style scoped>\n",
       "    .dataframe tbody tr th:only-of-type {\n",
       "        vertical-align: middle;\n",
       "    }\n",
       "\n",
       "    .dataframe tbody tr th {\n",
       "        vertical-align: top;\n",
       "    }\n",
       "\n",
       "    .dataframe thead th {\n",
       "        text-align: right;\n",
       "    }\n",
       "</style>\n",
       "<table border=\"1\" class=\"dataframe\">\n",
       "  <thead>\n",
       "    <tr style=\"text-align: right;\">\n",
       "      <th></th>\n",
       "      <th>ForumTopicId</th>\n",
       "      <th>UserId</th>\n",
       "      <th>Comments</th>\n",
       "      <th>ForumTopicId_Int</th>\n",
       "    </tr>\n",
       "  </thead>\n",
       "  <tbody>\n",
       "    <tr>\n",
       "      <th>0</th>\n",
       "      <td>2</td>\n",
       "      <td>368</td>\n",
       "      <td>3</td>\n",
       "      <td>2</td>\n",
       "    </tr>\n",
       "    <tr>\n",
       "      <th>2</th>\n",
       "      <td>20</td>\n",
       "      <td>368</td>\n",
       "      <td>5</td>\n",
       "      <td>20</td>\n",
       "    </tr>\n",
       "    <tr>\n",
       "      <th>3</th>\n",
       "      <td>26</td>\n",
       "      <td>368</td>\n",
       "      <td>28</td>\n",
       "      <td>26</td>\n",
       "    </tr>\n",
       "    <tr>\n",
       "      <th>5</th>\n",
       "      <td>30</td>\n",
       "      <td>368</td>\n",
       "      <td>3</td>\n",
       "      <td>30</td>\n",
       "    </tr>\n",
       "    <tr>\n",
       "      <th>6</th>\n",
       "      <td>34</td>\n",
       "      <td>368</td>\n",
       "      <td>8</td>\n",
       "      <td>34</td>\n",
       "    </tr>\n",
       "  </tbody>\n",
       "</table>\n",
       "</div>"
      ],
      "text/plain": [
       "  ForumTopicId UserId  Comments  ForumTopicId_Int\n",
       "0            2    368         3                 2\n",
       "2           20    368         5                20\n",
       "3           26    368        28                26\n",
       "5           30    368         3                30\n",
       "6           34    368         8                34"
      ]
     },
     "execution_count": 31,
     "metadata": {},
     "output_type": "execute_result"
    }
   ],
   "source": [
    "df_forum_messages.head()"
   ]
  },
  {
   "cell_type": "code",
   "execution_count": 32,
   "metadata": {},
   "outputs": [
    {
     "data": {
      "text/html": [
       "<div>\n",
       "<style scoped>\n",
       "    .dataframe tbody tr th:only-of-type {\n",
       "        vertical-align: middle;\n",
       "    }\n",
       "\n",
       "    .dataframe tbody tr th {\n",
       "        vertical-align: top;\n",
       "    }\n",
       "\n",
       "    .dataframe thead th {\n",
       "        text-align: right;\n",
       "    }\n",
       "</style>\n",
       "<table border=\"1\" class=\"dataframe\">\n",
       "  <thead>\n",
       "    <tr style=\"text-align: right;\">\n",
       "      <th></th>\n",
       "      <th>Variable</th>\n",
       "      <th>n</th>\n",
       "      <th>Missing</th>\n",
       "      <th>%Missing</th>\n",
       "      <th>Negativo</th>\n",
       "      <th>%Negativo</th>\n",
       "      <th>Unico</th>\n",
       "      <th>Media</th>\n",
       "      <th>Min</th>\n",
       "      <th>Max</th>\n",
       "      <th>IQRMAX</th>\n",
       "      <th>3STD</th>\n",
       "      <th>P50</th>\n",
       "      <th>P75</th>\n",
       "      <th>P90</th>\n",
       "      <th>P95</th>\n",
       "      <th>P99</th>\n",
       "      <th>Outlier IQR</th>\n",
       "      <th>%Outlier IQR</th>\n",
       "      <th>Outlier 3SD</th>\n",
       "      <th>%Outlier 3SD</th>\n",
       "      <th>Outlier P90</th>\n",
       "      <th>%Outlier P90</th>\n",
       "      <th>Outlier P95</th>\n",
       "      <th>%Outlier P95</th>\n",
       "      <th>Outlier P99</th>\n",
       "      <th>%Outlier P99</th>\n",
       "    </tr>\n",
       "  </thead>\n",
       "  <tbody>\n",
       "    <tr>\n",
       "      <th>0</th>\n",
       "      <td>ForumTopicId_Int</td>\n",
       "      <td>630785</td>\n",
       "      <td>0</td>\n",
       "      <td>0.0</td>\n",
       "      <td>0</td>\n",
       "      <td>0.0</td>\n",
       "      <td>90563</td>\n",
       "      <td>164250.1</td>\n",
       "      <td>1</td>\n",
       "      <td>334076</td>\n",
       "      <td>492841.0</td>\n",
       "      <td>450294.54</td>\n",
       "      <td>163754.0</td>\n",
       "      <td>245188.0</td>\n",
       "      <td>298491.0</td>\n",
       "      <td>313142.0</td>\n",
       "      <td>329372.0</td>\n",
       "      <td>0</td>\n",
       "      <td>0.00</td>\n",
       "      <td>0</td>\n",
       "      <td>0.00</td>\n",
       "      <td>63075</td>\n",
       "      <td>10.00</td>\n",
       "      <td>31538</td>\n",
       "      <td>5.0</td>\n",
       "      <td>6305</td>\n",
       "      <td>1.00</td>\n",
       "    </tr>\n",
       "    <tr>\n",
       "      <th>0</th>\n",
       "      <td>Comments</td>\n",
       "      <td>630785</td>\n",
       "      <td>0</td>\n",
       "      <td>0.0</td>\n",
       "      <td>0</td>\n",
       "      <td>0.0</td>\n",
       "      <td>169</td>\n",
       "      <td>18.1</td>\n",
       "      <td>3</td>\n",
       "      <td>244</td>\n",
       "      <td>37.5</td>\n",
       "      <td>102.30</td>\n",
       "      <td>8.0</td>\n",
       "      <td>18.0</td>\n",
       "      <td>40.0</td>\n",
       "      <td>68.0</td>\n",
       "      <td>163.0</td>\n",
       "      <td>68213</td>\n",
       "      <td>10.81</td>\n",
       "      <td>16911</td>\n",
       "      <td>2.68</td>\n",
       "      <td>62516</td>\n",
       "      <td>9.91</td>\n",
       "      <td>31528</td>\n",
       "      <td>5.0</td>\n",
       "      <td>6182</td>\n",
       "      <td>0.98</td>\n",
       "    </tr>\n",
       "  </tbody>\n",
       "</table>\n",
       "</div>"
      ],
      "text/plain": [
       "           Variable       n  Missing  %Missing  Negativo  %Negativo  Unico  \\\n",
       "0  ForumTopicId_Int  630785        0       0.0         0        0.0  90563   \n",
       "0          Comments  630785        0       0.0         0        0.0    169   \n",
       "\n",
       "      Media  Min     Max    IQRMAX       3STD       P50       P75       P90  \\\n",
       "0  164250.1    1  334076  492841.0  450294.54  163754.0  245188.0  298491.0   \n",
       "0      18.1    3     244      37.5     102.30       8.0      18.0      40.0   \n",
       "\n",
       "        P95       P99  Outlier IQR  %Outlier IQR  Outlier 3SD  %Outlier 3SD  \\\n",
       "0  313142.0  329372.0            0          0.00            0          0.00   \n",
       "0      68.0     163.0        68213         10.81        16911          2.68   \n",
       "\n",
       "   Outlier P90  %Outlier P90  Outlier P95  %Outlier P95  Outlier P99  \\\n",
       "0        63075         10.00        31538           5.0         6305   \n",
       "0        62516          9.91        31528           5.0         6182   \n",
       "\n",
       "   %Outlier P99  \n",
       "0          1.00  \n",
       "0          0.98  "
      ]
     },
     "execution_count": 32,
     "metadata": {},
     "output_type": "execute_result"
    }
   ],
   "source": [
    "#Decidimos prescindir de estos foros que tiene >250 mensajes y que representan menos del 10% del dataset\n",
    "df_forum_messages = df_forum_messages[df_forum_messages[\"Comments\"]<250]\n",
    "Validator.validar_numerico(df_forum_messages,[\"ForumTopicId_Int\",\"Comments\"])"
   ]
  },
  {
   "cell_type": "code",
   "execution_count": 33,
   "metadata": {},
   "outputs": [
    {
     "data": {
      "text/html": [
       "<div>\n",
       "<style scoped>\n",
       "    .dataframe tbody tr th:only-of-type {\n",
       "        vertical-align: middle;\n",
       "    }\n",
       "\n",
       "    .dataframe tbody tr th {\n",
       "        vertical-align: top;\n",
       "    }\n",
       "\n",
       "    .dataframe thead th {\n",
       "        text-align: right;\n",
       "    }\n",
       "</style>\n",
       "<table border=\"1\" class=\"dataframe\">\n",
       "  <thead>\n",
       "    <tr style=\"text-align: right;\">\n",
       "      <th></th>\n",
       "      <th>ForumTopicId</th>\n",
       "      <th>UserId_1</th>\n",
       "      <th>UserId_2</th>\n",
       "    </tr>\n",
       "  </thead>\n",
       "  <tbody>\n",
       "    <tr>\n",
       "      <th>0</th>\n",
       "      <td>1</td>\n",
       "      <td>368</td>\n",
       "      <td>478</td>\n",
       "    </tr>\n",
       "    <tr>\n",
       "      <th>1</th>\n",
       "      <td>1</td>\n",
       "      <td>368</td>\n",
       "      <td>673</td>\n",
       "    </tr>\n",
       "    <tr>\n",
       "      <th>2</th>\n",
       "      <td>1</td>\n",
       "      <td>368</td>\n",
       "      <td>703</td>\n",
       "    </tr>\n",
       "    <tr>\n",
       "      <th>3</th>\n",
       "      <td>1</td>\n",
       "      <td>368</td>\n",
       "      <td>728</td>\n",
       "    </tr>\n",
       "    <tr>\n",
       "      <th>4</th>\n",
       "      <td>1</td>\n",
       "      <td>368</td>\n",
       "      <td>808</td>\n",
       "    </tr>\n",
       "  </tbody>\n",
       "</table>\n",
       "</div>"
      ],
      "text/plain": [
       "  ForumTopicId UserId_1 UserId_2\n",
       "0            1      368      478\n",
       "1            1      368      673\n",
       "2            1      368      703\n",
       "3            1      368      728\n",
       "4            1      368      808"
      ]
     },
     "execution_count": 33,
     "metadata": {},
     "output_type": "execute_result"
    }
   ],
   "source": [
    "df_forum_messages_graph = Combinations.create_combinations(df = df_forum_messages[[\"ForumTopicId\",\"UserId\"]],group_by = \"ForumTopicId\",name_col_1 =\"UserId_1\",name_col_2 = \"UserId_2\")\n",
    "df_forum_messages_graph.head()\n"
   ]
  },
  {
   "cell_type": "code",
   "execution_count": 48,
   "metadata": {},
   "outputs": [
    {
     "data": {
      "text/html": [
       "<div>\n",
       "<style scoped>\n",
       "    .dataframe tbody tr th:only-of-type {\n",
       "        vertical-align: middle;\n",
       "    }\n",
       "\n",
       "    .dataframe tbody tr th {\n",
       "        vertical-align: top;\n",
       "    }\n",
       "\n",
       "    .dataframe thead th {\n",
       "        text-align: right;\n",
       "    }\n",
       "</style>\n",
       "<table border=\"1\" class=\"dataframe\">\n",
       "  <thead>\n",
       "    <tr style=\"text-align: right;\">\n",
       "      <th></th>\n",
       "      <th>UserId_1</th>\n",
       "      <th>UserId_2</th>\n",
       "      <th>weight</th>\n",
       "    </tr>\n",
       "  </thead>\n",
       "  <tbody>\n",
       "    <tr>\n",
       "      <th>0</th>\n",
       "      <td>10000014</td>\n",
       "      <td>10030651</td>\n",
       "      <td>7</td>\n",
       "    </tr>\n",
       "    <tr>\n",
       "      <th>1</th>\n",
       "      <td>10000014</td>\n",
       "      <td>10135089</td>\n",
       "      <td>1</td>\n",
       "    </tr>\n",
       "    <tr>\n",
       "      <th>2</th>\n",
       "      <td>10000014</td>\n",
       "      <td>10275991</td>\n",
       "      <td>4</td>\n",
       "    </tr>\n",
       "    <tr>\n",
       "      <th>3</th>\n",
       "      <td>10000014</td>\n",
       "      <td>10352854</td>\n",
       "      <td>1</td>\n",
       "    </tr>\n",
       "    <tr>\n",
       "      <th>4</th>\n",
       "      <td>10000014</td>\n",
       "      <td>10454992</td>\n",
       "      <td>1</td>\n",
       "    </tr>\n",
       "  </tbody>\n",
       "</table>\n",
       "</div>"
      ],
      "text/plain": [
       "   UserId_1  UserId_2  weight\n",
       "0  10000014  10030651       7\n",
       "1  10000014  10135089       1\n",
       "2  10000014  10275991       4\n",
       "3  10000014  10352854       1\n",
       "4  10000014  10454992       1"
      ]
     },
     "execution_count": 48,
     "metadata": {},
     "output_type": "execute_result"
    }
   ],
   "source": [
    "df_forum_messages_graph_2 = df_forum_messages_graph[[\"UserId_1\",\"UserId_2\"]].groupby([\"UserId_1\",\"UserId_2\"]).size().reset_index()\n",
    "df_forum_messages_graph_2.rename(columns={0:\"weight\"},inplace=True)\n",
    "df_forum_messages_graph_2.head()"
   ]
  },
  {
   "cell_type": "code",
   "execution_count": 49,
   "metadata": {},
   "outputs": [
    {
     "name": "stdout",
     "output_type": "stream",
     "text": [
      "(5392174, 3)\n",
      "(4306750, 3)\n"
     ]
    }
   ],
   "source": [
    "print(df_forum_messages_graph.shape)\n",
    "print(df_forum_messages_graph_2.shape)"
   ]
  },
  {
   "cell_type": "code",
   "execution_count": 55,
   "metadata": {},
   "outputs": [],
   "source": [
    "#MultiGraph\n",
    "df_forum_messages_graph_2.to_csv(r\"../data/processed/Graph_ForumMessages.csv\",index=False)"
   ]
  }
 ],
 "metadata": {
  "kernelspec": {
   "display_name": "Python 3.6.5 ('.venv': venv)",
   "language": "python",
   "name": "python3"
  },
  "language_info": {
   "codemirror_mode": {
    "name": "ipython",
    "version": 3
   },
   "file_extension": ".py",
   "mimetype": "text/x-python",
   "name": "python",
   "nbconvert_exporter": "python",
   "pygments_lexer": "ipython3",
   "version": "3.6.5"
  },
  "orig_nbformat": 4,
  "vscode": {
   "interpreter": {
    "hash": "34b652421595a0c643e374c4ab7a0ee86f5cb1455b91e0738f83360473bef1bf"
   }
  }
 },
 "nbformat": 4,
 "nbformat_minor": 2
}
