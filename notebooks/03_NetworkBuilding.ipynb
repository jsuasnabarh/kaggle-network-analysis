{
 "cells": [
  {
   "cell_type": "markdown",
   "metadata": {},
   "source": [
    "# Library Imports"
   ]
  },
  {
   "cell_type": "code",
   "execution_count": 5,
   "metadata": {},
   "outputs": [],
   "source": [
    "import sys\n",
    "import os\n",
    "directory_path = os.path.abspath(os.path.join('..'))\n",
    "utils_path = os.path.abspath(os.path.join('../utils'))\n",
    "if directory_path not in sys.path:\n",
    "    sys.path.append(directory_path)\n",
    "    sys.path.append(utils_path)"
   ]
  },
  {
   "cell_type": "code",
   "execution_count": 6,
   "metadata": {},
   "outputs": [],
   "source": [
    "import pandas as pd\n",
    "import numpy as np\n",
    "import networkx as nx\n",
    "import seaborn as sns\n",
    "import matplotlib.pyplot as plt\n",
    "import warnings\n",
    "warnings.filterwarnings(\"ignore\")\n",
    "from utils.Validator import *\n",
    "from utils.Combinations import *\n",
    "pd.set_option('display.max_columns', None)\n",
    "sns.set(rc={'figure.figsize':(11.7,8.27)})"
   ]
  },
  {
   "cell_type": "markdown",
   "metadata": {},
   "source": [
    "# Network Data Preparation"
   ]
  },
  {
   "cell_type": "markdown",
   "metadata": {},
   "source": [
    "## Users Followers"
   ]
  },
  {
   "cell_type": "code",
   "execution_count": 3,
   "metadata": {},
   "outputs": [
    {
     "data": {
      "text/html": [
       "<div>\n",
       "<style scoped>\n",
       "    .dataframe tbody tr th:only-of-type {\n",
       "        vertical-align: middle;\n",
       "    }\n",
       "\n",
       "    .dataframe tbody tr th {\n",
       "        vertical-align: top;\n",
       "    }\n",
       "\n",
       "    .dataframe thead th {\n",
       "        text-align: right;\n",
       "    }\n",
       "</style>\n",
       "<table border=\"1\" class=\"dataframe\">\n",
       "  <thead>\n",
       "    <tr style=\"text-align: right;\">\n",
       "      <th></th>\n",
       "      <th>UserId</th>\n",
       "      <th>FollowerUserId</th>\n",
       "    </tr>\n",
       "  </thead>\n",
       "  <tbody>\n",
       "    <tr>\n",
       "      <th>0</th>\n",
       "      <td>368</td>\n",
       "      <td>993</td>\n",
       "    </tr>\n",
       "    <tr>\n",
       "      <th>1</th>\n",
       "      <td>368</td>\n",
       "      <td>1902</td>\n",
       "    </tr>\n",
       "    <tr>\n",
       "      <th>2</th>\n",
       "      <td>368</td>\n",
       "      <td>1950</td>\n",
       "    </tr>\n",
       "    <tr>\n",
       "      <th>3</th>\n",
       "      <td>368</td>\n",
       "      <td>3258</td>\n",
       "    </tr>\n",
       "    <tr>\n",
       "      <th>4</th>\n",
       "      <td>368</td>\n",
       "      <td>3429</td>\n",
       "    </tr>\n",
       "  </tbody>\n",
       "</table>\n",
       "</div>"
      ],
      "text/plain": [
       "  UserId FollowerUserId\n",
       "0    368            993\n",
       "1    368           1902\n",
       "2    368           1950\n",
       "3    368           3258\n",
       "4    368           3429"
      ]
     },
     "execution_count": 3,
     "metadata": {},
     "output_type": "execute_result"
    }
   ],
   "source": [
    "df_user_followers = pd.read_csv(r\"../data/interim/UserFollowers.csv\",dtype=str)\n",
    "df_user_followers.head()"
   ]
  },
  {
   "cell_type": "code",
   "execution_count": 4,
   "metadata": {},
   "outputs": [],
   "source": [
    "df_user_followers.to_csv(r\"../data/processed/DiGraph_Followers.csv\",index=False)"
   ]
  },
  {
   "cell_type": "markdown",
   "metadata": {},
   "source": [
    "## Users Teams"
   ]
  },
  {
   "cell_type": "code",
   "execution_count": 7,
   "metadata": {},
   "outputs": [
    {
     "data": {
      "text/html": [
       "<div>\n",
       "<style scoped>\n",
       "    .dataframe tbody tr th:only-of-type {\n",
       "        vertical-align: middle;\n",
       "    }\n",
       "\n",
       "    .dataframe tbody tr th {\n",
       "        vertical-align: top;\n",
       "    }\n",
       "\n",
       "    .dataframe thead th {\n",
       "        text-align: right;\n",
       "    }\n",
       "</style>\n",
       "<table border=\"1\" class=\"dataframe\">\n",
       "  <thead>\n",
       "    <tr style=\"text-align: right;\">\n",
       "      <th></th>\n",
       "      <th>TeamId</th>\n",
       "      <th>UserId</th>\n",
       "    </tr>\n",
       "  </thead>\n",
       "  <tbody>\n",
       "    <tr>\n",
       "      <th>0</th>\n",
       "      <td>518</td>\n",
       "      <td>635</td>\n",
       "    </tr>\n",
       "    <tr>\n",
       "      <th>1</th>\n",
       "      <td>526</td>\n",
       "      <td>839</td>\n",
       "    </tr>\n",
       "    <tr>\n",
       "      <th>2</th>\n",
       "      <td>527</td>\n",
       "      <td>816</td>\n",
       "    </tr>\n",
       "    <tr>\n",
       "      <th>3</th>\n",
       "      <td>528</td>\n",
       "      <td>778</td>\n",
       "    </tr>\n",
       "    <tr>\n",
       "      <th>4</th>\n",
       "      <td>529</td>\n",
       "      <td>747</td>\n",
       "    </tr>\n",
       "  </tbody>\n",
       "</table>\n",
       "</div>"
      ],
      "text/plain": [
       "  TeamId UserId\n",
       "0    518    635\n",
       "1    526    839\n",
       "2    527    816\n",
       "3    528    778\n",
       "4    529    747"
      ]
     },
     "execution_count": 7,
     "metadata": {},
     "output_type": "execute_result"
    }
   ],
   "source": [
    "df_team_memberships = pd.read_csv(r\"../data/interim/TeamMemberships.csv\",dtype=str)\n",
    "df_team_memberships.head()"
   ]
  },
  {
   "cell_type": "code",
   "execution_count": 8,
   "metadata": {},
   "outputs": [
    {
     "data": {
      "text/html": [
       "<div>\n",
       "<style scoped>\n",
       "    .dataframe tbody tr th:only-of-type {\n",
       "        vertical-align: middle;\n",
       "    }\n",
       "\n",
       "    .dataframe tbody tr th {\n",
       "        vertical-align: top;\n",
       "    }\n",
       "\n",
       "    .dataframe thead th {\n",
       "        text-align: right;\n",
       "    }\n",
       "</style>\n",
       "<table border=\"1\" class=\"dataframe\">\n",
       "  <thead>\n",
       "    <tr style=\"text-align: right;\">\n",
       "      <th></th>\n",
       "      <th>TeamId</th>\n",
       "      <th>CompetitionId</th>\n",
       "      <th>Medal</th>\n",
       "    </tr>\n",
       "  </thead>\n",
       "  <tbody>\n",
       "    <tr>\n",
       "      <th>0</th>\n",
       "      <td>496</td>\n",
       "      <td>2435</td>\n",
       "      <td>NaN</td>\n",
       "    </tr>\n",
       "    <tr>\n",
       "      <th>1</th>\n",
       "      <td>497</td>\n",
       "      <td>2435</td>\n",
       "      <td>3.0</td>\n",
       "    </tr>\n",
       "    <tr>\n",
       "      <th>2</th>\n",
       "      <td>499</td>\n",
       "      <td>2435</td>\n",
       "      <td>NaN</td>\n",
       "    </tr>\n",
       "    <tr>\n",
       "      <th>3</th>\n",
       "      <td>500</td>\n",
       "      <td>2435</td>\n",
       "      <td>3.0</td>\n",
       "    </tr>\n",
       "    <tr>\n",
       "      <th>4</th>\n",
       "      <td>501</td>\n",
       "      <td>2435</td>\n",
       "      <td>NaN</td>\n",
       "    </tr>\n",
       "  </tbody>\n",
       "</table>\n",
       "</div>"
      ],
      "text/plain": [
       "  TeamId CompetitionId Medal\n",
       "0    496          2435   NaN\n",
       "1    497          2435   3.0\n",
       "2    499          2435   NaN\n",
       "3    500          2435   3.0\n",
       "4    501          2435   NaN"
      ]
     },
     "execution_count": 8,
     "metadata": {},
     "output_type": "execute_result"
    }
   ],
   "source": [
    "df_teams = pd.read_csv(r\"../data/interim/Teams.csv\",dtype=str)\n",
    "df_teams= df_teams[[\"TeamId\",\"CompetitionId\",\"Medal\"]]\n",
    "df_teams.head()"
   ]
  },
  {
   "cell_type": "code",
   "execution_count": 9,
   "metadata": {},
   "outputs": [
    {
     "data": {
      "text/plain": [
       "TeamId                 0\n",
       "CompetitionId          0\n",
       "Medal            5309895\n",
       "dtype: int64"
      ]
     },
     "execution_count": 9,
     "metadata": {},
     "output_type": "execute_result"
    }
   ],
   "source": [
    "df_teams.isnull().sum()"
   ]
  },
  {
   "cell_type": "code",
   "execution_count": 10,
   "metadata": {},
   "outputs": [
    {
     "data": {
      "text/html": [
       "<div>\n",
       "<style scoped>\n",
       "    .dataframe tbody tr th:only-of-type {\n",
       "        vertical-align: middle;\n",
       "    }\n",
       "\n",
       "    .dataframe tbody tr th {\n",
       "        vertical-align: top;\n",
       "    }\n",
       "\n",
       "    .dataframe thead th {\n",
       "        text-align: right;\n",
       "    }\n",
       "</style>\n",
       "<table border=\"1\" class=\"dataframe\">\n",
       "  <thead>\n",
       "    <tr style=\"text-align: right;\">\n",
       "      <th></th>\n",
       "      <th>TeamId</th>\n",
       "      <th>CompetitionId</th>\n",
       "      <th>MedalPoint</th>\n",
       "    </tr>\n",
       "  </thead>\n",
       "  <tbody>\n",
       "    <tr>\n",
       "      <th>0</th>\n",
       "      <td>496</td>\n",
       "      <td>2435</td>\n",
       "      <td>0.0</td>\n",
       "    </tr>\n",
       "    <tr>\n",
       "      <th>1</th>\n",
       "      <td>497</td>\n",
       "      <td>2435</td>\n",
       "      <td>1.0</td>\n",
       "    </tr>\n",
       "    <tr>\n",
       "      <th>2</th>\n",
       "      <td>499</td>\n",
       "      <td>2435</td>\n",
       "      <td>0.0</td>\n",
       "    </tr>\n",
       "    <tr>\n",
       "      <th>3</th>\n",
       "      <td>500</td>\n",
       "      <td>2435</td>\n",
       "      <td>1.0</td>\n",
       "    </tr>\n",
       "    <tr>\n",
       "      <th>4</th>\n",
       "      <td>501</td>\n",
       "      <td>2435</td>\n",
       "      <td>0.0</td>\n",
       "    </tr>\n",
       "  </tbody>\n",
       "</table>\n",
       "</div>"
      ],
      "text/plain": [
       "  TeamId CompetitionId  MedalPoint\n",
       "0    496          2435         0.0\n",
       "1    497          2435         1.0\n",
       "2    499          2435         0.0\n",
       "3    500          2435         1.0\n",
       "4    501          2435         0.0"
      ]
     },
     "execution_count": 10,
     "metadata": {},
     "output_type": "execute_result"
    }
   ],
   "source": [
    "df_teams.fillna(0,inplace=True)\n",
    "df_teams[\"Medal\"] = df_teams[\"Medal\"].astype(float)\n",
    "df_teams.loc[df_teams.Medal == 3, 'MedalPoint'] = 1\n",
    "df_teams.loc[df_teams.Medal == 1, 'MedalPoint'] = 3\n",
    "df_teams.loc[df_teams.Medal == 2, 'MedalPoint'] = 2\n",
    "df_teams.loc[df_teams.Medal == 0, 'MedalPoint'] = 0\n",
    "df_teams = df_teams[[\"TeamId\",\"CompetitionId\",\"MedalPoint\"]]\n",
    "df_teams.head()"
   ]
  },
  {
   "cell_type": "code",
   "execution_count": 11,
   "metadata": {},
   "outputs": [
    {
     "data": {
      "text/html": [
       "<div>\n",
       "<style scoped>\n",
       "    .dataframe tbody tr th:only-of-type {\n",
       "        vertical-align: middle;\n",
       "    }\n",
       "\n",
       "    .dataframe tbody tr th {\n",
       "        vertical-align: top;\n",
       "    }\n",
       "\n",
       "    .dataframe thead th {\n",
       "        text-align: right;\n",
       "    }\n",
       "</style>\n",
       "<table border=\"1\" class=\"dataframe\">\n",
       "  <thead>\n",
       "    <tr style=\"text-align: right;\">\n",
       "      <th></th>\n",
       "      <th>TeamId</th>\n",
       "      <th>Members</th>\n",
       "    </tr>\n",
       "  </thead>\n",
       "  <tbody>\n",
       "    <tr>\n",
       "      <th>0</th>\n",
       "      <td>1000</td>\n",
       "      <td>1</td>\n",
       "    </tr>\n",
       "    <tr>\n",
       "      <th>1</th>\n",
       "      <td>1000003</td>\n",
       "      <td>1</td>\n",
       "    </tr>\n",
       "    <tr>\n",
       "      <th>2</th>\n",
       "      <td>1000004</td>\n",
       "      <td>1</td>\n",
       "    </tr>\n",
       "    <tr>\n",
       "      <th>3</th>\n",
       "      <td>1000005</td>\n",
       "      <td>1</td>\n",
       "    </tr>\n",
       "    <tr>\n",
       "      <th>4</th>\n",
       "      <td>1000007</td>\n",
       "      <td>1</td>\n",
       "    </tr>\n",
       "  </tbody>\n",
       "</table>\n",
       "</div>"
      ],
      "text/plain": [
       "    TeamId  Members\n",
       "0     1000        1\n",
       "1  1000003        1\n",
       "2  1000004        1\n",
       "3  1000005        1\n",
       "4  1000007        1"
      ]
     },
     "execution_count": 11,
     "metadata": {},
     "output_type": "execute_result"
    }
   ],
   "source": [
    "df_team_memberships_2 = df_team_memberships.copy()\n",
    "df_team_memberships_2 = df_team_memberships_2.groupby(\"TeamId\").count().reset_index()\n",
    "df_team_memberships_2.rename(columns={\"UserId\":\"Members\"},inplace=True)\n",
    "df_team_memberships_2.head()"
   ]
  },
  {
   "cell_type": "code",
   "execution_count": 12,
   "metadata": {},
   "outputs": [
    {
     "data": {
      "text/html": [
       "<div>\n",
       "<style scoped>\n",
       "    .dataframe tbody tr th:only-of-type {\n",
       "        vertical-align: middle;\n",
       "    }\n",
       "\n",
       "    .dataframe tbody tr th {\n",
       "        vertical-align: top;\n",
       "    }\n",
       "\n",
       "    .dataframe thead th {\n",
       "        text-align: right;\n",
       "    }\n",
       "</style>\n",
       "<table border=\"1\" class=\"dataframe\">\n",
       "  <thead>\n",
       "    <tr style=\"text-align: right;\">\n",
       "      <th></th>\n",
       "      <th>TeamId</th>\n",
       "      <th>Members</th>\n",
       "      <th>CompetitionId</th>\n",
       "      <th>MedalPoint</th>\n",
       "    </tr>\n",
       "  </thead>\n",
       "  <tbody>\n",
       "    <tr>\n",
       "      <th>0</th>\n",
       "      <td>1000</td>\n",
       "      <td>1</td>\n",
       "      <td>2447</td>\n",
       "      <td>0.0</td>\n",
       "    </tr>\n",
       "    <tr>\n",
       "      <th>1</th>\n",
       "      <td>1000003</td>\n",
       "      <td>1</td>\n",
       "      <td>7163</td>\n",
       "      <td>0.0</td>\n",
       "    </tr>\n",
       "    <tr>\n",
       "      <th>2</th>\n",
       "      <td>1000004</td>\n",
       "      <td>1</td>\n",
       "      <td>7082</td>\n",
       "      <td>0.0</td>\n",
       "    </tr>\n",
       "    <tr>\n",
       "      <th>3</th>\n",
       "      <td>1000005</td>\n",
       "      <td>1</td>\n",
       "      <td>3362</td>\n",
       "      <td>0.0</td>\n",
       "    </tr>\n",
       "    <tr>\n",
       "      <th>4</th>\n",
       "      <td>1000007</td>\n",
       "      <td>1</td>\n",
       "      <td>7163</td>\n",
       "      <td>0.0</td>\n",
       "    </tr>\n",
       "  </tbody>\n",
       "</table>\n",
       "</div>"
      ],
      "text/plain": [
       "    TeamId  Members CompetitionId  MedalPoint\n",
       "0     1000        1          2447         0.0\n",
       "1  1000003        1          7163         0.0\n",
       "2  1000004        1          7082         0.0\n",
       "3  1000005        1          3362         0.0\n",
       "4  1000007        1          7163         0.0"
      ]
     },
     "execution_count": 12,
     "metadata": {},
     "output_type": "execute_result"
    }
   ],
   "source": [
    "df_team_memberships_2 = pd.merge(df_team_memberships_2,df_teams,on=\"TeamId\")\n",
    "df_team_memberships_2.head()"
   ]
  },
  {
   "cell_type": "code",
   "execution_count": 13,
   "metadata": {},
   "outputs": [
    {
     "data": {
      "text/plain": [
       "TeamId           0\n",
       "Members          0\n",
       "CompetitionId    0\n",
       "MedalPoint       0\n",
       "dtype: int64"
      ]
     },
     "execution_count": 13,
     "metadata": {},
     "output_type": "execute_result"
    }
   ],
   "source": [
    "df_team_memberships_2.isnull().sum()"
   ]
  },
  {
   "cell_type": "code",
   "execution_count": 14,
   "metadata": {},
   "outputs": [
    {
     "data": {
      "text/plain": [
       "(5327689, 4)"
      ]
     },
     "execution_count": 14,
     "metadata": {},
     "output_type": "execute_result"
    }
   ],
   "source": [
    "df_team_memberships_2.shape"
   ]
  },
  {
   "cell_type": "code",
   "execution_count": 15,
   "metadata": {},
   "outputs": [
    {
     "data": {
      "text/plain": [
       "(90621, 4)"
      ]
     },
     "execution_count": 15,
     "metadata": {},
     "output_type": "execute_result"
    }
   ],
   "source": [
    "df_team_memberships_3 = df_team_memberships_2.copy()\n",
    "df_team_memberships_3 = df_team_memberships_2[df_team_memberships_2[\"Members\"]>1]\n",
    "df_team_memberships_3.shape"
   ]
  },
  {
   "cell_type": "code",
   "execution_count": 16,
   "metadata": {},
   "outputs": [
    {
     "data": {
      "text/plain": [
       "1.7009438801701824"
      ]
     },
     "execution_count": 16,
     "metadata": {},
     "output_type": "execute_result"
    }
   ],
   "source": [
    "# Numero de equipos de kaggle con mas de 1 miembro\n",
    "90621/5327689*100"
   ]
  },
  {
   "cell_type": "code",
   "execution_count": 17,
   "metadata": {},
   "outputs": [
    {
     "data": {
      "text/html": [
       "<div>\n",
       "<style scoped>\n",
       "    .dataframe tbody tr th:only-of-type {\n",
       "        vertical-align: middle;\n",
       "    }\n",
       "\n",
       "    .dataframe tbody tr th {\n",
       "        vertical-align: top;\n",
       "    }\n",
       "\n",
       "    .dataframe thead th {\n",
       "        text-align: right;\n",
       "    }\n",
       "</style>\n",
       "<table border=\"1\" class=\"dataframe\">\n",
       "  <thead>\n",
       "    <tr style=\"text-align: right;\">\n",
       "      <th></th>\n",
       "      <th>TeamId</th>\n",
       "      <th>Members</th>\n",
       "      <th>CompetitionId</th>\n",
       "      <th>MedalPoint</th>\n",
       "    </tr>\n",
       "  </thead>\n",
       "  <tbody>\n",
       "    <tr>\n",
       "      <th>58</th>\n",
       "      <td>1000101</td>\n",
       "      <td>3</td>\n",
       "      <td>7372</td>\n",
       "      <td>0.0</td>\n",
       "    </tr>\n",
       "    <tr>\n",
       "      <th>288</th>\n",
       "      <td>100044</td>\n",
       "      <td>5</td>\n",
       "      <td>3948</td>\n",
       "      <td>0.0</td>\n",
       "    </tr>\n",
       "    <tr>\n",
       "      <th>415</th>\n",
       "      <td>100062</td>\n",
       "      <td>4</td>\n",
       "      <td>3887</td>\n",
       "      <td>0.0</td>\n",
       "    </tr>\n",
       "    <tr>\n",
       "      <th>477</th>\n",
       "      <td>100071</td>\n",
       "      <td>2</td>\n",
       "      <td>3897</td>\n",
       "      <td>2.0</td>\n",
       "    </tr>\n",
       "    <tr>\n",
       "      <th>493</th>\n",
       "      <td>1000733</td>\n",
       "      <td>2</td>\n",
       "      <td>7082</td>\n",
       "      <td>0.0</td>\n",
       "    </tr>\n",
       "  </tbody>\n",
       "</table>\n",
       "</div>"
      ],
      "text/plain": [
       "      TeamId  Members CompetitionId  MedalPoint\n",
       "58   1000101        3          7372         0.0\n",
       "288   100044        5          3948         0.0\n",
       "415   100062        4          3887         0.0\n",
       "477   100071        2          3897         2.0\n",
       "493  1000733        2          7082         0.0"
      ]
     },
     "execution_count": 17,
     "metadata": {},
     "output_type": "execute_result"
    }
   ],
   "source": [
    "df_team_memberships_3.head()"
   ]
  },
  {
   "cell_type": "markdown",
   "metadata": {},
   "source": [
    "Podemos observar que solo el 1.5% de equipos conformados en Kaggle para concursar en competiciones han sido formados por equipos de 2 a mas miembros"
   ]
  },
  {
   "cell_type": "code",
   "execution_count": 18,
   "metadata": {},
   "outputs": [
    {
     "data": {
      "text/plain": [
       "<AxesSubplot:>"
      ]
     },
     "execution_count": 18,
     "metadata": {},
     "output_type": "execute_result"
    },
    {
     "data": {
      "image/png": "[encoded data removed]",
      "text/plain": [
       "<Figure size 842.4x595.44 with 1 Axes>"
      ]
     },
     "metadata": {},
     "output_type": "display_data"
    }
   ],
   "source": [
    "df_team_memberships_3[\"Members\"].hist()"
   ]
  },
  {
   "cell_type": "code",
   "execution_count": 19,
   "metadata": {},
   "outputs": [
    {
     "data": {
      "text/html": [
       "<div>\n",
       "<style scoped>\n",
       "    .dataframe tbody tr th:only-of-type {\n",
       "        vertical-align: middle;\n",
       "    }\n",
       "\n",
       "    .dataframe tbody tr th {\n",
       "        vertical-align: top;\n",
       "    }\n",
       "\n",
       "    .dataframe thead th {\n",
       "        text-align: right;\n",
       "    }\n",
       "</style>\n",
       "<table border=\"1\" class=\"dataframe\">\n",
       "  <thead>\n",
       "    <tr style=\"text-align: right;\">\n",
       "      <th></th>\n",
       "      <th>TeamId</th>\n",
       "      <th>Members</th>\n",
       "      <th>CompetitionId</th>\n",
       "      <th>MedalPoint</th>\n",
       "    </tr>\n",
       "  </thead>\n",
       "  <tbody>\n",
       "    <tr>\n",
       "      <th>5260049</th>\n",
       "      <td>9021</td>\n",
       "      <td>40</td>\n",
       "      <td>2589</td>\n",
       "      <td>1.0</td>\n",
       "    </tr>\n",
       "    <tr>\n",
       "      <th>2369659</th>\n",
       "      <td>439016</td>\n",
       "      <td>34</td>\n",
       "      <td>5916</td>\n",
       "      <td>1.0</td>\n",
       "    </tr>\n",
       "    <tr>\n",
       "      <th>4345069</th>\n",
       "      <td>74305</td>\n",
       "      <td>25</td>\n",
       "      <td>3638</td>\n",
       "      <td>3.0</td>\n",
       "    </tr>\n",
       "    <tr>\n",
       "      <th>4569120</th>\n",
       "      <td>77642</td>\n",
       "      <td>24</td>\n",
       "      <td>3756</td>\n",
       "      <td>1.0</td>\n",
       "    </tr>\n",
       "    <tr>\n",
       "      <th>2190225</th>\n",
       "      <td>41125</td>\n",
       "      <td>24</td>\n",
       "      <td>3445</td>\n",
       "      <td>3.0</td>\n",
       "    </tr>\n",
       "    <tr>\n",
       "      <th>...</th>\n",
       "      <td>...</td>\n",
       "      <td>...</td>\n",
       "      <td>...</td>\n",
       "      <td>...</td>\n",
       "    </tr>\n",
       "    <tr>\n",
       "      <th>1943999</th>\n",
       "      <td>375078</td>\n",
       "      <td>2</td>\n",
       "      <td>5357</td>\n",
       "      <td>0.0</td>\n",
       "    </tr>\n",
       "    <tr>\n",
       "      <th>1944200</th>\n",
       "      <td>3751075</td>\n",
       "      <td>2</td>\n",
       "      <td>13451</td>\n",
       "      <td>0.0</td>\n",
       "    </tr>\n",
       "    <tr>\n",
       "      <th>1944256</th>\n",
       "      <td>3751172</td>\n",
       "      <td>2</td>\n",
       "      <td>13451</td>\n",
       "      <td>0.0</td>\n",
       "    </tr>\n",
       "    <tr>\n",
       "      <th>1944299</th>\n",
       "      <td>3751243</td>\n",
       "      <td>2</td>\n",
       "      <td>13451</td>\n",
       "      <td>0.0</td>\n",
       "    </tr>\n",
       "    <tr>\n",
       "      <th>5327655</th>\n",
       "      <td>99995</td>\n",
       "      <td>2</td>\n",
       "      <td>3887</td>\n",
       "      <td>0.0</td>\n",
       "    </tr>\n",
       "  </tbody>\n",
       "</table>\n",
       "<p>90621 rows × 4 columns</p>\n",
       "</div>"
      ],
      "text/plain": [
       "          TeamId  Members CompetitionId  MedalPoint\n",
       "5260049     9021       40          2589         1.0\n",
       "2369659   439016       34          5916         1.0\n",
       "4345069    74305       25          3638         3.0\n",
       "4569120    77642       24          3756         1.0\n",
       "2190225    41125       24          3445         3.0\n",
       "...          ...      ...           ...         ...\n",
       "1943999   375078        2          5357         0.0\n",
       "1944200  3751075        2         13451         0.0\n",
       "1944256  3751172        2         13451         0.0\n",
       "1944299  3751243        2         13451         0.0\n",
       "5327655    99995        2          3887         0.0\n",
       "\n",
       "[90621 rows x 4 columns]"
      ]
     },
     "execution_count": 19,
     "metadata": {},
     "output_type": "execute_result"
    }
   ],
   "source": [
    "df_team_memberships_3.sort_values(\"Members\",ascending=False)"
   ]
  },
  {
   "cell_type": "code",
   "execution_count": 20,
   "metadata": {},
   "outputs": [
    {
     "data": {
      "text/plain": [
       "<AxesSubplot:>"
      ]
     },
     "execution_count": 20,
     "metadata": {},
     "output_type": "execute_result"
    },
    {
     "data": {
      "image/png": "[encoded data removed]",
      "text/plain": [
       "<Figure size 842.4x595.44 with 1 Axes>"
      ]
     },
     "metadata": {},
     "output_type": "display_data"
    }
   ],
   "source": [
    "df_team_memberships_3.boxplot()"
   ]
  },
  {
   "cell_type": "code",
   "execution_count": 21,
   "metadata": {},
   "outputs": [
    {
     "data": {
      "text/html": [
       "<div>\n",
       "<style scoped>\n",
       "    .dataframe tbody tr th:only-of-type {\n",
       "        vertical-align: middle;\n",
       "    }\n",
       "\n",
       "    .dataframe tbody tr th {\n",
       "        vertical-align: top;\n",
       "    }\n",
       "\n",
       "    .dataframe thead th {\n",
       "        text-align: right;\n",
       "    }\n",
       "</style>\n",
       "<table border=\"1\" class=\"dataframe\">\n",
       "  <thead>\n",
       "    <tr style=\"text-align: right;\">\n",
       "      <th></th>\n",
       "      <th>TeamId</th>\n",
       "      <th>UserId</th>\n",
       "    </tr>\n",
       "  </thead>\n",
       "  <tbody>\n",
       "    <tr>\n",
       "      <th>0</th>\n",
       "      <td>518</td>\n",
       "      <td>635</td>\n",
       "    </tr>\n",
       "    <tr>\n",
       "      <th>1</th>\n",
       "      <td>526</td>\n",
       "      <td>839</td>\n",
       "    </tr>\n",
       "    <tr>\n",
       "      <th>2</th>\n",
       "      <td>527</td>\n",
       "      <td>816</td>\n",
       "    </tr>\n",
       "    <tr>\n",
       "      <th>3</th>\n",
       "      <td>528</td>\n",
       "      <td>778</td>\n",
       "    </tr>\n",
       "    <tr>\n",
       "      <th>4</th>\n",
       "      <td>529</td>\n",
       "      <td>747</td>\n",
       "    </tr>\n",
       "  </tbody>\n",
       "</table>\n",
       "</div>"
      ],
      "text/plain": [
       "  TeamId UserId\n",
       "0    518    635\n",
       "1    526    839\n",
       "2    527    816\n",
       "3    528    778\n",
       "4    529    747"
      ]
     },
     "execution_count": 21,
     "metadata": {},
     "output_type": "execute_result"
    }
   ],
   "source": [
    "df_team_memberships.head()"
   ]
  },
  {
   "cell_type": "code",
   "execution_count": 22,
   "metadata": {},
   "outputs": [
    {
     "data": {
      "text/html": [
       "<div>\n",
       "<style scoped>\n",
       "    .dataframe tbody tr th:only-of-type {\n",
       "        vertical-align: middle;\n",
       "    }\n",
       "\n",
       "    .dataframe tbody tr th {\n",
       "        vertical-align: top;\n",
       "    }\n",
       "\n",
       "    .dataframe thead th {\n",
       "        text-align: right;\n",
       "    }\n",
       "</style>\n",
       "<table border=\"1\" class=\"dataframe\">\n",
       "  <thead>\n",
       "    <tr style=\"text-align: right;\">\n",
       "      <th></th>\n",
       "      <th>TeamId</th>\n",
       "      <th>UserId_1</th>\n",
       "      <th>UserId_2</th>\n",
       "    </tr>\n",
       "  </thead>\n",
       "  <tbody>\n",
       "    <tr>\n",
       "      <th>0</th>\n",
       "      <td>1000101</td>\n",
       "      <td>771602</td>\n",
       "      <td>611059</td>\n",
       "    </tr>\n",
       "    <tr>\n",
       "      <th>1</th>\n",
       "      <td>1000101</td>\n",
       "      <td>771602</td>\n",
       "      <td>599610</td>\n",
       "    </tr>\n",
       "    <tr>\n",
       "      <th>2</th>\n",
       "      <td>1000101</td>\n",
       "      <td>611059</td>\n",
       "      <td>599610</td>\n",
       "    </tr>\n",
       "    <tr>\n",
       "      <th>3</th>\n",
       "      <td>100044</td>\n",
       "      <td>2692</td>\n",
       "      <td>194687</td>\n",
       "    </tr>\n",
       "    <tr>\n",
       "      <th>4</th>\n",
       "      <td>100044</td>\n",
       "      <td>2692</td>\n",
       "      <td>208175</td>\n",
       "    </tr>\n",
       "  </tbody>\n",
       "</table>\n",
       "</div>"
      ],
      "text/plain": [
       "    TeamId UserId_1 UserId_2\n",
       "0  1000101   771602   611059\n",
       "1  1000101   771602   599610\n",
       "2  1000101   611059   599610\n",
       "3   100044     2692   194687\n",
       "4   100044     2692   208175"
      ]
     },
     "execution_count": 22,
     "metadata": {},
     "output_type": "execute_result"
    }
   ],
   "source": [
    "df_team_memberships_graph = Combinations.create_combinations(df = df_team_memberships,group_by = \"TeamId\",name_col_1 =\"UserId_1\",name_col_2 = \"UserId_2\")\n",
    "df_team_memberships_graph.head()"
   ]
  },
  {
   "cell_type": "code",
   "execution_count": 23,
   "metadata": {},
   "outputs": [
    {
     "data": {
      "text/html": [
       "<div>\n",
       "<style scoped>\n",
       "    .dataframe tbody tr th:only-of-type {\n",
       "        vertical-align: middle;\n",
       "    }\n",
       "\n",
       "    .dataframe tbody tr th {\n",
       "        vertical-align: top;\n",
       "    }\n",
       "\n",
       "    .dataframe thead th {\n",
       "        text-align: right;\n",
       "    }\n",
       "</style>\n",
       "<table border=\"1\" class=\"dataframe\">\n",
       "  <thead>\n",
       "    <tr style=\"text-align: right;\">\n",
       "      <th></th>\n",
       "      <th>TeamId</th>\n",
       "      <th>UserId_1</th>\n",
       "      <th>UserId_2</th>\n",
       "      <th>CompetitionId</th>\n",
       "      <th>MedalPoint</th>\n",
       "      <th>Members</th>\n",
       "      <th>MedalPointFraccionated</th>\n",
       "    </tr>\n",
       "  </thead>\n",
       "  <tbody>\n",
       "    <tr>\n",
       "      <th>0</th>\n",
       "      <td>1000101</td>\n",
       "      <td>771602</td>\n",
       "      <td>611059</td>\n",
       "      <td>7372</td>\n",
       "      <td>0.0</td>\n",
       "      <td>3</td>\n",
       "      <td>0.0</td>\n",
       "    </tr>\n",
       "    <tr>\n",
       "      <th>1</th>\n",
       "      <td>1000101</td>\n",
       "      <td>771602</td>\n",
       "      <td>599610</td>\n",
       "      <td>7372</td>\n",
       "      <td>0.0</td>\n",
       "      <td>3</td>\n",
       "      <td>0.0</td>\n",
       "    </tr>\n",
       "    <tr>\n",
       "      <th>2</th>\n",
       "      <td>1000101</td>\n",
       "      <td>611059</td>\n",
       "      <td>599610</td>\n",
       "      <td>7372</td>\n",
       "      <td>0.0</td>\n",
       "      <td>3</td>\n",
       "      <td>0.0</td>\n",
       "    </tr>\n",
       "    <tr>\n",
       "      <th>3</th>\n",
       "      <td>100044</td>\n",
       "      <td>2692</td>\n",
       "      <td>194687</td>\n",
       "      <td>3948</td>\n",
       "      <td>0.0</td>\n",
       "      <td>5</td>\n",
       "      <td>0.0</td>\n",
       "    </tr>\n",
       "    <tr>\n",
       "      <th>4</th>\n",
       "      <td>100044</td>\n",
       "      <td>2692</td>\n",
       "      <td>208175</td>\n",
       "      <td>3948</td>\n",
       "      <td>0.0</td>\n",
       "      <td>5</td>\n",
       "      <td>0.0</td>\n",
       "    </tr>\n",
       "  </tbody>\n",
       "</table>\n",
       "</div>"
      ],
      "text/plain": [
       "    TeamId UserId_1 UserId_2 CompetitionId  MedalPoint  Members  \\\n",
       "0  1000101   771602   611059          7372         0.0        3   \n",
       "1  1000101   771602   599610          7372         0.0        3   \n",
       "2  1000101   611059   599610          7372         0.0        3   \n",
       "3   100044     2692   194687          3948         0.0        5   \n",
       "4   100044     2692   208175          3948         0.0        5   \n",
       "\n",
       "   MedalPointFraccionated  \n",
       "0                     0.0  \n",
       "1                     0.0  \n",
       "2                     0.0  \n",
       "3                     0.0  \n",
       "4                     0.0  "
      ]
     },
     "execution_count": 23,
     "metadata": {},
     "output_type": "execute_result"
    }
   ],
   "source": [
    "df_team_memberships_graph_2 = df_team_memberships_graph.merge(df_teams)\n",
    "df_team_memberships_graph_2 = df_team_memberships_graph_2.merge(df_team_memberships_3)\n",
    "#Creamos la fraccion que del valor de la medalla entre los competidores del team la cual sera el peso de la arista\n",
    "df_team_memberships_graph_2[\"MedalPointFraccionated\"] = df_team_memberships_graph_2[\"MedalPoint\"] /df_team_memberships_graph_2[\"Members\"]\n",
    "df_team_memberships_graph_2.head()"
   ]
  },
  {
   "cell_type": "code",
   "execution_count": 24,
   "metadata": {},
   "outputs": [
    {
     "name": "stdout",
     "output_type": "stream",
     "text": [
      "<class 'pandas.core.frame.DataFrame'>\n",
      "Int64Index: 252332 entries, 0 to 252331\n",
      "Data columns (total 7 columns):\n",
      " #   Column                  Non-Null Count   Dtype  \n",
      "---  ------                  --------------   -----  \n",
      " 0   TeamId                  252332 non-null  object \n",
      " 1   UserId_1                252332 non-null  object \n",
      " 2   UserId_2                252332 non-null  object \n",
      " 3   CompetitionId           252332 non-null  object \n",
      " 4   MedalPoint              252332 non-null  float64\n",
      " 5   Members                 252332 non-null  int64  \n",
      " 6   MedalPointFraccionated  252332 non-null  float64\n",
      "dtypes: float64(2), int64(1), object(4)\n",
      "memory usage: 15.4+ MB\n"
     ]
    }
   ],
   "source": [
    "df_team_memberships_graph_2.info()"
   ]
  },
  {
   "cell_type": "code",
   "execution_count": 25,
   "metadata": {},
   "outputs": [
    {
     "data": {
      "text/html": [
       "<div>\n",
       "<style scoped>\n",
       "    .dataframe tbody tr th:only-of-type {\n",
       "        vertical-align: middle;\n",
       "    }\n",
       "\n",
       "    .dataframe tbody tr th {\n",
       "        vertical-align: top;\n",
       "    }\n",
       "\n",
       "    .dataframe thead th {\n",
       "        text-align: right;\n",
       "    }\n",
       "</style>\n",
       "<table border=\"1\" class=\"dataframe\">\n",
       "  <thead>\n",
       "    <tr style=\"text-align: right;\">\n",
       "      <th></th>\n",
       "      <th>TeamId</th>\n",
       "      <th>UserId_1</th>\n",
       "      <th>UserId_2</th>\n",
       "      <th>CompetitionId</th>\n",
       "      <th>MedalPoint</th>\n",
       "      <th>Members</th>\n",
       "      <th>MedalPointFraccionated</th>\n",
       "    </tr>\n",
       "  </thead>\n",
       "  <tbody>\n",
       "    <tr>\n",
       "      <th>27128</th>\n",
       "      <td>16998</td>\n",
       "      <td>42832</td>\n",
       "      <td>43883</td>\n",
       "      <td>2748</td>\n",
       "      <td>2.0</td>\n",
       "      <td>23</td>\n",
       "      <td>0.086957</td>\n",
       "    </tr>\n",
       "    <tr>\n",
       "      <th>27149</th>\n",
       "      <td>16998</td>\n",
       "      <td>42831</td>\n",
       "      <td>43883</td>\n",
       "      <td>2748</td>\n",
       "      <td>2.0</td>\n",
       "      <td>23</td>\n",
       "      <td>0.086957</td>\n",
       "    </tr>\n",
       "    <tr>\n",
       "      <th>27169</th>\n",
       "      <td>16998</td>\n",
       "      <td>6133</td>\n",
       "      <td>43883</td>\n",
       "      <td>2748</td>\n",
       "      <td>2.0</td>\n",
       "      <td>23</td>\n",
       "      <td>0.086957</td>\n",
       "    </tr>\n",
       "    <tr>\n",
       "      <th>27188</th>\n",
       "      <td>16998</td>\n",
       "      <td>33583</td>\n",
       "      <td>43883</td>\n",
       "      <td>2748</td>\n",
       "      <td>2.0</td>\n",
       "      <td>23</td>\n",
       "      <td>0.086957</td>\n",
       "    </tr>\n",
       "    <tr>\n",
       "      <th>27206</th>\n",
       "      <td>16998</td>\n",
       "      <td>43882</td>\n",
       "      <td>43883</td>\n",
       "      <td>2748</td>\n",
       "      <td>2.0</td>\n",
       "      <td>23</td>\n",
       "      <td>0.086957</td>\n",
       "    </tr>\n",
       "    <tr>\n",
       "      <th>...</th>\n",
       "      <td>...</td>\n",
       "      <td>...</td>\n",
       "      <td>...</td>\n",
       "      <td>...</td>\n",
       "      <td>...</td>\n",
       "      <td>...</td>\n",
       "      <td>...</td>\n",
       "    </tr>\n",
       "    <tr>\n",
       "      <th>116304</th>\n",
       "      <td>41126</td>\n",
       "      <td>43883</td>\n",
       "      <td>97238</td>\n",
       "      <td>3446</td>\n",
       "      <td>3.0</td>\n",
       "      <td>24</td>\n",
       "      <td>0.125000</td>\n",
       "    </tr>\n",
       "    <tr>\n",
       "      <th>116305</th>\n",
       "      <td>41126</td>\n",
       "      <td>43883</td>\n",
       "      <td>97245</td>\n",
       "      <td>3446</td>\n",
       "      <td>3.0</td>\n",
       "      <td>24</td>\n",
       "      <td>0.125000</td>\n",
       "    </tr>\n",
       "    <tr>\n",
       "      <th>116306</th>\n",
       "      <td>41126</td>\n",
       "      <td>43883</td>\n",
       "      <td>97248</td>\n",
       "      <td>3446</td>\n",
       "      <td>3.0</td>\n",
       "      <td>24</td>\n",
       "      <td>0.125000</td>\n",
       "    </tr>\n",
       "    <tr>\n",
       "      <th>116307</th>\n",
       "      <td>41126</td>\n",
       "      <td>43883</td>\n",
       "      <td>97342</td>\n",
       "      <td>3446</td>\n",
       "      <td>3.0</td>\n",
       "      <td>24</td>\n",
       "      <td>0.125000</td>\n",
       "    </tr>\n",
       "    <tr>\n",
       "      <th>116308</th>\n",
       "      <td>41126</td>\n",
       "      <td>43883</td>\n",
       "      <td>97360</td>\n",
       "      <td>3446</td>\n",
       "      <td>3.0</td>\n",
       "      <td>24</td>\n",
       "      <td>0.125000</td>\n",
       "    </tr>\n",
       "  </tbody>\n",
       "</table>\n",
       "<p>90 rows × 7 columns</p>\n",
       "</div>"
      ],
      "text/plain": [
       "       TeamId UserId_1 UserId_2 CompetitionId  MedalPoint  Members  \\\n",
       "27128   16998    42832    43883          2748         2.0       23   \n",
       "27149   16998    42831    43883          2748         2.0       23   \n",
       "27169   16998     6133    43883          2748         2.0       23   \n",
       "27188   16998    33583    43883          2748         2.0       23   \n",
       "27206   16998    43882    43883          2748         2.0       23   \n",
       "...       ...      ...      ...           ...         ...      ...   \n",
       "116304  41126    43883    97238          3446         3.0       24   \n",
       "116305  41126    43883    97245          3446         3.0       24   \n",
       "116306  41126    43883    97248          3446         3.0       24   \n",
       "116307  41126    43883    97342          3446         3.0       24   \n",
       "116308  41126    43883    97360          3446         3.0       24   \n",
       "\n",
       "        MedalPointFraccionated  \n",
       "27128                 0.086957  \n",
       "27149                 0.086957  \n",
       "27169                 0.086957  \n",
       "27188                 0.086957  \n",
       "27206                 0.086957  \n",
       "...                        ...  \n",
       "116304                0.125000  \n",
       "116305                0.125000  \n",
       "116306                0.125000  \n",
       "116307                0.125000  \n",
       "116308                0.125000  \n",
       "\n",
       "[90 rows x 7 columns]"
      ]
     },
     "execution_count": 25,
     "metadata": {},
     "output_type": "execute_result"
    }
   ],
   "source": [
    "df_team_memberships_graph_2[(df_team_memberships_graph_2[\"UserId_1\"]==\"43883\") | (df_team_memberships_graph_2[\"UserId_2\"]==\"43883\")]"
   ]
  },
  {
   "cell_type": "code",
   "execution_count": 26,
   "metadata": {},
   "outputs": [
    {
     "data": {
      "text/html": [
       "<div>\n",
       "<style scoped>\n",
       "    .dataframe tbody tr th:only-of-type {\n",
       "        vertical-align: middle;\n",
       "    }\n",
       "\n",
       "    .dataframe tbody tr th {\n",
       "        vertical-align: top;\n",
       "    }\n",
       "\n",
       "    .dataframe thead th {\n",
       "        text-align: right;\n",
       "    }\n",
       "</style>\n",
       "<table border=\"1\" class=\"dataframe\">\n",
       "  <thead>\n",
       "    <tr style=\"text-align: right;\">\n",
       "      <th></th>\n",
       "      <th>UserId_1</th>\n",
       "      <th>UserId_2</th>\n",
       "      <th>weight</th>\n",
       "    </tr>\n",
       "  </thead>\n",
       "  <tbody>\n",
       "    <tr>\n",
       "      <th>0</th>\n",
       "      <td>10000270</td>\n",
       "      <td>8243312</td>\n",
       "      <td>3</td>\n",
       "    </tr>\n",
       "    <tr>\n",
       "      <th>1</th>\n",
       "      <td>10000270</td>\n",
       "      <td>9829581</td>\n",
       "      <td>2</td>\n",
       "    </tr>\n",
       "    <tr>\n",
       "      <th>2</th>\n",
       "      <td>1000033</td>\n",
       "      <td>1003122</td>\n",
       "      <td>1</td>\n",
       "    </tr>\n",
       "    <tr>\n",
       "      <th>3</th>\n",
       "      <td>1000033</td>\n",
       "      <td>1214207</td>\n",
       "      <td>1</td>\n",
       "    </tr>\n",
       "    <tr>\n",
       "      <th>4</th>\n",
       "      <td>1000033</td>\n",
       "      <td>1581982</td>\n",
       "      <td>1</td>\n",
       "    </tr>\n",
       "  </tbody>\n",
       "</table>\n",
       "</div>"
      ],
      "text/plain": [
       "   UserId_1 UserId_2  weight\n",
       "0  10000270  8243312       3\n",
       "1  10000270  9829581       2\n",
       "2   1000033  1003122       1\n",
       "3   1000033  1214207       1\n",
       "4   1000033  1581982       1"
      ]
     },
     "execution_count": 26,
     "metadata": {},
     "output_type": "execute_result"
    }
   ],
   "source": [
    "df_team_memberships_graph_3 = df_team_memberships_graph_2[[\"UserId_1\",\"UserId_2\",\"MedalPoint\"]].groupby([\"UserId_1\",\"UserId_2\"]).size().reset_index()\n",
    "df_team_memberships_graph_3.rename(columns={0:\"weight\"},inplace=True)\n",
    "df_team_memberships_graph_3.head()"
   ]
  },
  {
   "cell_type": "code",
   "execution_count": 27,
   "metadata": {},
   "outputs": [
    {
     "data": {
      "text/html": [
       "<div>\n",
       "<style scoped>\n",
       "    .dataframe tbody tr th:only-of-type {\n",
       "        vertical-align: middle;\n",
       "    }\n",
       "\n",
       "    .dataframe tbody tr th {\n",
       "        vertical-align: top;\n",
       "    }\n",
       "\n",
       "    .dataframe thead th {\n",
       "        text-align: right;\n",
       "    }\n",
       "</style>\n",
       "<table border=\"1\" class=\"dataframe\">\n",
       "  <thead>\n",
       "    <tr style=\"text-align: right;\">\n",
       "      <th></th>\n",
       "      <th>UserId_1</th>\n",
       "      <th>UserId_2</th>\n",
       "      <th>weight</th>\n",
       "    </tr>\n",
       "  </thead>\n",
       "  <tbody>\n",
       "    <tr>\n",
       "      <th>165603</th>\n",
       "      <td>637722</td>\n",
       "      <td>2360956</td>\n",
       "      <td>60</td>\n",
       "    </tr>\n",
       "    <tr>\n",
       "      <th>103873</th>\n",
       "      <td>3597476</td>\n",
       "      <td>3594546</td>\n",
       "      <td>32</td>\n",
       "    </tr>\n",
       "    <tr>\n",
       "      <th>236</th>\n",
       "      <td>100236</td>\n",
       "      <td>149507</td>\n",
       "      <td>29</td>\n",
       "    </tr>\n",
       "    <tr>\n",
       "      <th>49696</th>\n",
       "      <td>2029256</td>\n",
       "      <td>2711607</td>\n",
       "      <td>27</td>\n",
       "    </tr>\n",
       "    <tr>\n",
       "      <th>40241</th>\n",
       "      <td>1788308</td>\n",
       "      <td>1918280</td>\n",
       "      <td>27</td>\n",
       "    </tr>\n",
       "    <tr>\n",
       "      <th>...</th>\n",
       "      <td>...</td>\n",
       "      <td>...</td>\n",
       "      <td>...</td>\n",
       "    </tr>\n",
       "    <tr>\n",
       "      <th>75471</th>\n",
       "      <td>2679958</td>\n",
       "      <td>2723843</td>\n",
       "      <td>1</td>\n",
       "    </tr>\n",
       "    <tr>\n",
       "      <th>75472</th>\n",
       "      <td>2679958</td>\n",
       "      <td>2731468</td>\n",
       "      <td>1</td>\n",
       "    </tr>\n",
       "    <tr>\n",
       "      <th>75473</th>\n",
       "      <td>2679959</td>\n",
       "      <td>339839</td>\n",
       "      <td>1</td>\n",
       "    </tr>\n",
       "    <tr>\n",
       "      <th>75474</th>\n",
       "      <td>2679963</td>\n",
       "      <td>5260576</td>\n",
       "      <td>1</td>\n",
       "    </tr>\n",
       "    <tr>\n",
       "      <th>212458</th>\n",
       "      <td>999940</td>\n",
       "      <td>1204400</td>\n",
       "      <td>1</td>\n",
       "    </tr>\n",
       "  </tbody>\n",
       "</table>\n",
       "<p>212459 rows × 3 columns</p>\n",
       "</div>"
      ],
      "text/plain": [
       "       UserId_1 UserId_2  weight\n",
       "165603   637722  2360956      60\n",
       "103873  3597476  3594546      32\n",
       "236      100236   149507      29\n",
       "49696   2029256  2711607      27\n",
       "40241   1788308  1918280      27\n",
       "...         ...      ...     ...\n",
       "75471   2679958  2723843       1\n",
       "75472   2679958  2731468       1\n",
       "75473   2679959   339839       1\n",
       "75474   2679963  5260576       1\n",
       "212458   999940  1204400       1\n",
       "\n",
       "[212459 rows x 3 columns]"
      ]
     },
     "execution_count": 27,
     "metadata": {},
     "output_type": "execute_result"
    }
   ],
   "source": [
    "df_team_memberships_graph_3.sort_values(\"weight\",ascending=False)"
   ]
  },
  {
   "cell_type": "code",
   "execution_count": 28,
   "metadata": {},
   "outputs": [
    {
     "name": "stdout",
     "output_type": "stream",
     "text": [
      "(252332, 7)\n",
      "(212459, 3)\n"
     ]
    }
   ],
   "source": [
    "print(df_team_memberships_graph_2.shape)\n",
    "print(df_team_memberships_graph_3.shape)"
   ]
  },
  {
   "cell_type": "code",
   "execution_count": 29,
   "metadata": {},
   "outputs": [
    {
     "ename": "",
     "evalue": "",
     "output_type": "error",
     "traceback": [
      "El Kernel se bloqueó al ejecutar código en la celda actual o en una celda anterior. Revise el código de las celdas para identificar una posible causa del error. Haga clic <a href='https://aka.ms/vscodeJupyterKernelCrash'>aquí</a> para obtener más información. Vea el [registro] de Jupyter (command:jupyter.viewOutput) para obtener más detalles."
     ]
    }
   ],
   "source": [
    "#MultiGraph\n",
    "df_team_memberships_graph_3.to_csv(r\"../data/processed/Graph_Teams.csv\",index=False)"
   ]
  },
  {
   "cell_type": "markdown",
   "metadata": {},
   "source": [
    "## User Participants in Competition"
   ]
  },
  {
   "cell_type": "code",
   "execution_count": 28,
   "metadata": {},
   "outputs": [
    {
     "data": {
      "text/html": [
       "<div>\n",
       "<style scoped>\n",
       "    .dataframe tbody tr th:only-of-type {\n",
       "        vertical-align: middle;\n",
       "    }\n",
       "\n",
       "    .dataframe tbody tr th {\n",
       "        vertical-align: top;\n",
       "    }\n",
       "\n",
       "    .dataframe thead th {\n",
       "        text-align: right;\n",
       "    }\n",
       "</style>\n",
       "<table border=\"1\" class=\"dataframe\">\n",
       "  <thead>\n",
       "    <tr style=\"text-align: right;\">\n",
       "      <th></th>\n",
       "      <th>TeamId</th>\n",
       "      <th>UserId</th>\n",
       "    </tr>\n",
       "  </thead>\n",
       "  <tbody>\n",
       "    <tr>\n",
       "      <th>0</th>\n",
       "      <td>518</td>\n",
       "      <td>635</td>\n",
       "    </tr>\n",
       "    <tr>\n",
       "      <th>1</th>\n",
       "      <td>526</td>\n",
       "      <td>839</td>\n",
       "    </tr>\n",
       "    <tr>\n",
       "      <th>2</th>\n",
       "      <td>527</td>\n",
       "      <td>816</td>\n",
       "    </tr>\n",
       "    <tr>\n",
       "      <th>3</th>\n",
       "      <td>528</td>\n",
       "      <td>778</td>\n",
       "    </tr>\n",
       "    <tr>\n",
       "      <th>4</th>\n",
       "      <td>529</td>\n",
       "      <td>747</td>\n",
       "    </tr>\n",
       "  </tbody>\n",
       "</table>\n",
       "</div>"
      ],
      "text/plain": [
       "  TeamId UserId\n",
       "0    518    635\n",
       "1    526    839\n",
       "2    527    816\n",
       "3    528    778\n",
       "4    529    747"
      ]
     },
     "execution_count": 28,
     "metadata": {},
     "output_type": "execute_result"
    }
   ],
   "source": [
    "df_team_memberships = pd.read_csv(r\"../data/interim/TeamMemberships.csv\",dtype=str)\n",
    "df_team_memberships.head()"
   ]
  },
  {
   "cell_type": "code",
   "execution_count": 29,
   "metadata": {},
   "outputs": [
    {
     "data": {
      "text/html": [
       "<div>\n",
       "<style scoped>\n",
       "    .dataframe tbody tr th:only-of-type {\n",
       "        vertical-align: middle;\n",
       "    }\n",
       "\n",
       "    .dataframe tbody tr th {\n",
       "        vertical-align: top;\n",
       "    }\n",
       "\n",
       "    .dataframe thead th {\n",
       "        text-align: right;\n",
       "    }\n",
       "</style>\n",
       "<table border=\"1\" class=\"dataframe\">\n",
       "  <thead>\n",
       "    <tr style=\"text-align: right;\">\n",
       "      <th></th>\n",
       "      <th>TeamId</th>\n",
       "      <th>CompetitionId</th>\n",
       "      <th>TeamLeaderId</th>\n",
       "      <th>TeamName</th>\n",
       "      <th>Medal</th>\n",
       "      <th>PrivateLeaderboardRank</th>\n",
       "    </tr>\n",
       "  </thead>\n",
       "  <tbody>\n",
       "    <tr>\n",
       "      <th>0</th>\n",
       "      <td>496</td>\n",
       "      <td>2435</td>\n",
       "      <td>647</td>\n",
       "      <td>team1</td>\n",
       "      <td>NaN</td>\n",
       "      <td>83.0</td>\n",
       "    </tr>\n",
       "    <tr>\n",
       "      <th>1</th>\n",
       "      <td>497</td>\n",
       "      <td>2435</td>\n",
       "      <td>619</td>\n",
       "      <td>jonp</td>\n",
       "      <td>3.0</td>\n",
       "      <td>25.0</td>\n",
       "    </tr>\n",
       "    <tr>\n",
       "      <th>2</th>\n",
       "      <td>499</td>\n",
       "      <td>2435</td>\n",
       "      <td>663</td>\n",
       "      <td>Bwaas</td>\n",
       "      <td>NaN</td>\n",
       "      <td>100.0</td>\n",
       "    </tr>\n",
       "    <tr>\n",
       "      <th>3</th>\n",
       "      <td>500</td>\n",
       "      <td>2435</td>\n",
       "      <td>673</td>\n",
       "      <td>Thylacoleo</td>\n",
       "      <td>3.0</td>\n",
       "      <td>23.0</td>\n",
       "    </tr>\n",
       "    <tr>\n",
       "      <th>4</th>\n",
       "      <td>501</td>\n",
       "      <td>2435</td>\n",
       "      <td>435</td>\n",
       "      <td>pjonesdotcda</td>\n",
       "      <td>NaN</td>\n",
       "      <td>80.0</td>\n",
       "    </tr>\n",
       "  </tbody>\n",
       "</table>\n",
       "</div>"
      ],
      "text/plain": [
       "  TeamId CompetitionId TeamLeaderId      TeamName Medal PrivateLeaderboardRank\n",
       "0    496          2435          647         team1   NaN                   83.0\n",
       "1    497          2435          619          jonp   3.0                   25.0\n",
       "2    499          2435          663         Bwaas   NaN                  100.0\n",
       "3    500          2435          673    Thylacoleo   3.0                   23.0\n",
       "4    501          2435          435  pjonesdotcda   NaN                   80.0"
      ]
     },
     "execution_count": 29,
     "metadata": {},
     "output_type": "execute_result"
    }
   ],
   "source": [
    "df_teams = pd.read_csv(r\"../data/interim/Teams.csv\",dtype=str)\n",
    "df_teams.head()"
   ]
  },
  {
   "cell_type": "code",
   "execution_count": 30,
   "metadata": {},
   "outputs": [
    {
     "data": {
      "text/plain": [
       "(5357344, 6)"
      ]
     },
     "execution_count": 30,
     "metadata": {},
     "output_type": "execute_result"
    }
   ],
   "source": [
    "df_teams.shape"
   ]
  },
  {
   "cell_type": "code",
   "execution_count": 31,
   "metadata": {},
   "outputs": [
    {
     "data": {
      "text/plain": [
       "(47379, 6)"
      ]
     },
     "execution_count": 31,
     "metadata": {},
     "output_type": "execute_result"
    }
   ],
   "source": [
    "df_teams[\"Medal\"].fillna(0,inplace=True)\n",
    "df_teams[\"Medal\"] = df_teams[\"Medal\"].astype(float)\n",
    "df_teams[df_teams[\"Medal\"]>0].shape"
   ]
  },
  {
   "cell_type": "code",
   "execution_count": 32,
   "metadata": {},
   "outputs": [
    {
     "data": {
      "text/plain": [
       "0.8843747946743759"
      ]
     },
     "execution_count": 32,
     "metadata": {},
     "output_type": "execute_result"
    }
   ],
   "source": [
    "# Solo el 1% de los participantes consigueron un podio con medallas ganadas en competiciones\n",
    "47379/5357344*100"
   ]
  },
  {
   "cell_type": "code",
   "execution_count": 33,
   "metadata": {},
   "outputs": [
    {
     "data": {
      "text/html": [
       "<div>\n",
       "<style scoped>\n",
       "    .dataframe tbody tr th:only-of-type {\n",
       "        vertical-align: middle;\n",
       "    }\n",
       "\n",
       "    .dataframe tbody tr th {\n",
       "        vertical-align: top;\n",
       "    }\n",
       "\n",
       "    .dataframe thead th {\n",
       "        text-align: right;\n",
       "    }\n",
       "</style>\n",
       "<table border=\"1\" class=\"dataframe\">\n",
       "  <thead>\n",
       "    <tr style=\"text-align: right;\">\n",
       "      <th></th>\n",
       "      <th>CompetitionId</th>\n",
       "      <th>Participants</th>\n",
       "    </tr>\n",
       "  </thead>\n",
       "  <tbody>\n",
       "    <tr>\n",
       "      <th>0</th>\n",
       "      <td>10001</td>\n",
       "      <td>20</td>\n",
       "    </tr>\n",
       "    <tr>\n",
       "      <th>1</th>\n",
       "      <td>10006</td>\n",
       "      <td>168</td>\n",
       "    </tr>\n",
       "    <tr>\n",
       "      <th>2</th>\n",
       "      <td>10012</td>\n",
       "      <td>9046</td>\n",
       "    </tr>\n",
       "    <tr>\n",
       "      <th>3</th>\n",
       "      <td>10014</td>\n",
       "      <td>1033</td>\n",
       "    </tr>\n",
       "    <tr>\n",
       "      <th>4</th>\n",
       "      <td>10025</td>\n",
       "      <td>12790</td>\n",
       "    </tr>\n",
       "  </tbody>\n",
       "</table>\n",
       "</div>"
      ],
      "text/plain": [
       "  CompetitionId  Participants\n",
       "0         10001            20\n",
       "1         10006           168\n",
       "2         10012          9046\n",
       "3         10014          1033\n",
       "4         10025         12790"
      ]
     },
     "execution_count": 33,
     "metadata": {},
     "output_type": "execute_result"
    }
   ],
   "source": [
    "df_teams_part = df_teams.groupby([\"CompetitionId\"]).size().reset_index()\n",
    "df_teams_part.rename(columns={0:\"Participants\"},inplace=True)\n",
    "df_teams_part.head()"
   ]
  },
  {
   "cell_type": "code",
   "execution_count": 34,
   "metadata": {},
   "outputs": [
    {
     "data": {
      "text/plain": [
       "array([[<AxesSubplot:title={'center':'Participants'}>]], dtype=object)"
      ]
     },
     "execution_count": 34,
     "metadata": {},
     "output_type": "execute_result"
    },
    {
     "data": {
      "image/png": "[encoded data removed]",
      "text/plain": [
       "<Figure size 842.4x595.44 with 1 Axes>"
      ]
     },
     "metadata": {},
     "output_type": "display_data"
    }
   ],
   "source": [
    "df_teams_part.hist(bins=50)"
   ]
  },
  {
   "cell_type": "code",
   "execution_count": 35,
   "metadata": {},
   "outputs": [
    {
     "data": {
      "text/html": [
       "<div>\n",
       "<style scoped>\n",
       "    .dataframe tbody tr th:only-of-type {\n",
       "        vertical-align: middle;\n",
       "    }\n",
       "\n",
       "    .dataframe tbody tr th {\n",
       "        vertical-align: top;\n",
       "    }\n",
       "\n",
       "    .dataframe thead th {\n",
       "        text-align: right;\n",
       "    }\n",
       "</style>\n",
       "<table border=\"1\" class=\"dataframe\">\n",
       "  <thead>\n",
       "    <tr style=\"text-align: right;\">\n",
       "      <th></th>\n",
       "      <th>Variable</th>\n",
       "      <th>n</th>\n",
       "      <th>Missing</th>\n",
       "      <th>%Missing</th>\n",
       "      <th>Negativo</th>\n",
       "      <th>%Negativo</th>\n",
       "      <th>Zero</th>\n",
       "      <th>%Zero</th>\n",
       "      <th>Unico</th>\n",
       "      <th>Media</th>\n",
       "      <th>Min</th>\n",
       "      <th>Max</th>\n",
       "      <th>IQRMAX</th>\n",
       "      <th>3STD</th>\n",
       "      <th>P10</th>\n",
       "      <th>P25</th>\n",
       "      <th>P50</th>\n",
       "      <th>P75</th>\n",
       "      <th>P90</th>\n",
       "      <th>P95</th>\n",
       "      <th>P99</th>\n",
       "      <th>Outlier IQR</th>\n",
       "      <th>%Outlier IQR</th>\n",
       "      <th>Outlier 3SD</th>\n",
       "      <th>%Outlier 3SD</th>\n",
       "      <th>Outlier P90</th>\n",
       "      <th>%Outlier P90</th>\n",
       "      <th>Outlier P95</th>\n",
       "      <th>%Outlier P95</th>\n",
       "      <th>Outlier P99</th>\n",
       "      <th>%Outlier P99</th>\n",
       "    </tr>\n",
       "  </thead>\n",
       "  <tbody>\n",
       "    <tr>\n",
       "      <th>0</th>\n",
       "      <td>Participants</td>\n",
       "      <td>5485</td>\n",
       "      <td>0</td>\n",
       "      <td>0.0</td>\n",
       "      <td>0</td>\n",
       "      <td>0.0</td>\n",
       "      <td>0</td>\n",
       "      <td>0.0</td>\n",
       "      <td>970</td>\n",
       "      <td>976.73</td>\n",
       "      <td>1</td>\n",
       "      <td>203279</td>\n",
       "      <td>260.0</td>\n",
       "      <td>16400.39</td>\n",
       "      <td>5.0</td>\n",
       "      <td>15.0</td>\n",
       "      <td>41.0</td>\n",
       "      <td>113.0</td>\n",
       "      <td>692.0</td>\n",
       "      <td>4555.4</td>\n",
       "      <td>23553.44</td>\n",
       "      <td>809</td>\n",
       "      <td>14.75</td>\n",
       "      <td>92</td>\n",
       "      <td>1.68</td>\n",
       "      <td>548</td>\n",
       "      <td>9.99</td>\n",
       "      <td>275</td>\n",
       "      <td>5.01</td>\n",
       "      <td>55</td>\n",
       "      <td>1.0</td>\n",
       "    </tr>\n",
       "  </tbody>\n",
       "</table>\n",
       "</div>"
      ],
      "text/plain": [
       "       Variable     n  Missing  %Missing  Negativo  %Negativo  Zero  %Zero  \\\n",
       "0  Participants  5485        0       0.0         0        0.0     0    0.0   \n",
       "\n",
       "   Unico   Media  Min     Max  IQRMAX      3STD  P10   P25   P50    P75  \\\n",
       "0    970  976.73    1  203279   260.0  16400.39  5.0  15.0  41.0  113.0   \n",
       "\n",
       "     P90     P95       P99  Outlier IQR  %Outlier IQR  Outlier 3SD  \\\n",
       "0  692.0  4555.4  23553.44          809         14.75           92   \n",
       "\n",
       "   %Outlier 3SD  Outlier P90  %Outlier P90  Outlier P95  %Outlier P95  \\\n",
       "0          1.68          548          9.99          275          5.01   \n",
       "\n",
       "   Outlier P99  %Outlier P99  \n",
       "0           55           1.0  "
      ]
     },
     "execution_count": 35,
     "metadata": {},
     "output_type": "execute_result"
    }
   ],
   "source": [
    "Validator.validar_numerico(df_teams_part,[\"Participants\"])"
   ]
  },
  {
   "cell_type": "code",
   "execution_count": 36,
   "metadata": {},
   "outputs": [
    {
     "data": {
      "text/html": [
       "<div>\n",
       "<style scoped>\n",
       "    .dataframe tbody tr th:only-of-type {\n",
       "        vertical-align: middle;\n",
       "    }\n",
       "\n",
       "    .dataframe tbody tr th {\n",
       "        vertical-align: top;\n",
       "    }\n",
       "\n",
       "    .dataframe thead th {\n",
       "        text-align: right;\n",
       "    }\n",
       "</style>\n",
       "<table border=\"1\" class=\"dataframe\">\n",
       "  <thead>\n",
       "    <tr style=\"text-align: right;\">\n",
       "      <th></th>\n",
       "      <th>Variable</th>\n",
       "      <th>n</th>\n",
       "      <th>Missing</th>\n",
       "      <th>%Missing</th>\n",
       "      <th>Negativo</th>\n",
       "      <th>%Negativo</th>\n",
       "      <th>Zero</th>\n",
       "      <th>%Zero</th>\n",
       "      <th>Unico</th>\n",
       "      <th>Media</th>\n",
       "      <th>Min</th>\n",
       "      <th>Max</th>\n",
       "      <th>IQRMAX</th>\n",
       "      <th>3STD</th>\n",
       "      <th>P10</th>\n",
       "      <th>P25</th>\n",
       "      <th>P50</th>\n",
       "      <th>P75</th>\n",
       "      <th>P90</th>\n",
       "      <th>P95</th>\n",
       "      <th>P99</th>\n",
       "      <th>Outlier IQR</th>\n",
       "      <th>%Outlier IQR</th>\n",
       "      <th>Outlier 3SD</th>\n",
       "      <th>%Outlier 3SD</th>\n",
       "      <th>Outlier P90</th>\n",
       "      <th>%Outlier P90</th>\n",
       "      <th>Outlier P95</th>\n",
       "      <th>%Outlier P95</th>\n",
       "      <th>Outlier P99</th>\n",
       "      <th>%Outlier P99</th>\n",
       "    </tr>\n",
       "  </thead>\n",
       "  <tbody>\n",
       "    <tr>\n",
       "      <th>0</th>\n",
       "      <td>Participants</td>\n",
       "      <td>4671</td>\n",
       "      <td>0</td>\n",
       "      <td>0.0</td>\n",
       "      <td>0</td>\n",
       "      <td>0.0</td>\n",
       "      <td>0</td>\n",
       "      <td>0.0</td>\n",
       "      <td>248</td>\n",
       "      <td>50.16</td>\n",
       "      <td>1</td>\n",
       "      <td>258</td>\n",
       "      <td>152.0</td>\n",
       "      <td>209.57</td>\n",
       "      <td>5.0</td>\n",
       "      <td>12.0</td>\n",
       "      <td>31.0</td>\n",
       "      <td>68.0</td>\n",
       "      <td>126.0</td>\n",
       "      <td>171.0</td>\n",
       "      <td>232.0</td>\n",
       "      <td>332</td>\n",
       "      <td>7.11</td>\n",
       "      <td>117</td>\n",
       "      <td>2.5</td>\n",
       "      <td>467</td>\n",
       "      <td>10.0</td>\n",
       "      <td>232</td>\n",
       "      <td>4.97</td>\n",
       "      <td>46</td>\n",
       "      <td>0.98</td>\n",
       "    </tr>\n",
       "  </tbody>\n",
       "</table>\n",
       "</div>"
      ],
      "text/plain": [
       "       Variable     n  Missing  %Missing  Negativo  %Negativo  Zero  %Zero  \\\n",
       "0  Participants  4671        0       0.0         0        0.0     0    0.0   \n",
       "\n",
       "   Unico  Media  Min  Max  IQRMAX    3STD  P10   P25   P50   P75    P90  \\\n",
       "0    248  50.16    1  258   152.0  209.57  5.0  12.0  31.0  68.0  126.0   \n",
       "\n",
       "     P95    P99  Outlier IQR  %Outlier IQR  Outlier 3SD  %Outlier 3SD  \\\n",
       "0  171.0  232.0          332          7.11          117           2.5   \n",
       "\n",
       "   Outlier P90  %Outlier P90  Outlier P95  %Outlier P95  Outlier P99  \\\n",
       "0          467          10.0          232          4.97           46   \n",
       "\n",
       "   %Outlier P99  \n",
       "0          0.98  "
      ]
     },
     "execution_count": 36,
     "metadata": {},
     "output_type": "execute_result"
    }
   ],
   "source": [
    "# Decidimos prescindir de las competiciones que tengan participantes fuera del rango intercuantilico (Removemos como outliers el 7% de las competiciones)\n",
    "df_teams_part = df_teams_part[df_teams_part[\"Participants\"]<260]\n",
    "Validator.validar_numerico(df_teams_part,[\"Participants\"])"
   ]
  },
  {
   "cell_type": "code",
   "execution_count": 37,
   "metadata": {},
   "outputs": [
    {
     "data": {
      "text/plain": [
       "array([[<AxesSubplot:title={'center':'Participants'}>]], dtype=object)"
      ]
     },
     "execution_count": 37,
     "metadata": {},
     "output_type": "execute_result"
    },
    {
     "data": {
      "image/png": "[encoded data removed]",
      "text/plain": [
       "<Figure size 842.4x595.44 with 1 Axes>"
      ]
     },
     "metadata": {},
     "output_type": "display_data"
    }
   ],
   "source": [
    "df_teams_part.hist(bins=50)"
   ]
  },
  {
   "cell_type": "code",
   "execution_count": 38,
   "metadata": {},
   "outputs": [
    {
     "data": {
      "text/plain": [
       "(42, 6)"
      ]
     },
     "execution_count": 38,
     "metadata": {},
     "output_type": "execute_result"
    }
   ],
   "source": [
    "df_teams[(df_teams[\"CompetitionId\"]==\"2435\") & (df_teams[\"Medal\"]>0)].shape"
   ]
  },
  {
   "cell_type": "code",
   "execution_count": 39,
   "metadata": {},
   "outputs": [
    {
     "data": {
      "text/plain": [
       "(234317, 2)"
      ]
     },
     "execution_count": 39,
     "metadata": {},
     "output_type": "execute_result"
    }
   ],
   "source": [
    "# Mantenemos solo a los equipos que hayan participado en las competiciones acotadas (habiendo borrado los outliers)\n",
    "df_teams = df_teams[df_teams[\"CompetitionId\"].isin(df_teams_part[\"CompetitionId\"].tolist())]\n",
    "df_teams= df_teams[[\"TeamId\",\"CompetitionId\"]]\n",
    "df_teams.shape"
   ]
  },
  {
   "cell_type": "code",
   "execution_count": 40,
   "metadata": {},
   "outputs": [
    {
     "data": {
      "text/html": [
       "<div>\n",
       "<style scoped>\n",
       "    .dataframe tbody tr th:only-of-type {\n",
       "        vertical-align: middle;\n",
       "    }\n",
       "\n",
       "    .dataframe tbody tr th {\n",
       "        vertical-align: top;\n",
       "    }\n",
       "\n",
       "    .dataframe thead th {\n",
       "        text-align: right;\n",
       "    }\n",
       "</style>\n",
       "<table border=\"1\" class=\"dataframe\">\n",
       "  <thead>\n",
       "    <tr style=\"text-align: right;\">\n",
       "      <th></th>\n",
       "      <th>CompetitionId</th>\n",
       "      <th>UserId</th>\n",
       "    </tr>\n",
       "  </thead>\n",
       "  <tbody>\n",
       "    <tr>\n",
       "      <th>0</th>\n",
       "      <td>2488</td>\n",
       "      <td>62</td>\n",
       "    </tr>\n",
       "    <tr>\n",
       "      <th>1</th>\n",
       "      <td>2488</td>\n",
       "      <td>5251</td>\n",
       "    </tr>\n",
       "    <tr>\n",
       "      <th>2</th>\n",
       "      <td>2488</td>\n",
       "      <td>5298</td>\n",
       "    </tr>\n",
       "    <tr>\n",
       "      <th>3</th>\n",
       "      <td>2488</td>\n",
       "      <td>424</td>\n",
       "    </tr>\n",
       "    <tr>\n",
       "      <th>4</th>\n",
       "      <td>2488</td>\n",
       "      <td>5111</td>\n",
       "    </tr>\n",
       "  </tbody>\n",
       "</table>\n",
       "</div>"
      ],
      "text/plain": [
       "  CompetitionId UserId\n",
       "0          2488     62\n",
       "1          2488   5251\n",
       "2          2488   5298\n",
       "3          2488    424\n",
       "4          2488   5111"
      ]
     },
     "execution_count": 40,
     "metadata": {},
     "output_type": "execute_result"
    }
   ],
   "source": [
    "df_competition_participant = pd.merge(df_teams,df_team_memberships,on=\"TeamId\",how=\"inner\")\n",
    "df_competition_participant = df_competition_participant[[\"CompetitionId\",\"UserId\"]]\n",
    "df_competition_participant.drop_duplicates(inplace=True)\n",
    "df_competition_participant.head()"
   ]
  },
  {
   "cell_type": "code",
   "execution_count": 41,
   "metadata": {},
   "outputs": [
    {
     "data": {
      "text/plain": [
       "(226128, 2)"
      ]
     },
     "execution_count": 41,
     "metadata": {},
     "output_type": "execute_result"
    }
   ],
   "source": [
    "df_competition_participant.shape"
   ]
  },
  {
   "cell_type": "code",
   "execution_count": 42,
   "metadata": {},
   "outputs": [
    {
     "data": {
      "text/html": [
       "<div>\n",
       "<style scoped>\n",
       "    .dataframe tbody tr th:only-of-type {\n",
       "        vertical-align: middle;\n",
       "    }\n",
       "\n",
       "    .dataframe tbody tr th {\n",
       "        vertical-align: top;\n",
       "    }\n",
       "\n",
       "    .dataframe thead th {\n",
       "        text-align: right;\n",
       "    }\n",
       "</style>\n",
       "<table border=\"1\" class=\"dataframe\">\n",
       "  <thead>\n",
       "    <tr style=\"text-align: right;\">\n",
       "      <th></th>\n",
       "      <th>CompetitionId</th>\n",
       "      <th>UserId_1</th>\n",
       "      <th>UserId_2</th>\n",
       "    </tr>\n",
       "  </thead>\n",
       "  <tbody>\n",
       "    <tr>\n",
       "      <th>0</th>\n",
       "      <td>10001</td>\n",
       "      <td>1549002</td>\n",
       "      <td>1984379</td>\n",
       "    </tr>\n",
       "    <tr>\n",
       "      <th>1</th>\n",
       "      <td>10001</td>\n",
       "      <td>1549002</td>\n",
       "      <td>1985614</td>\n",
       "    </tr>\n",
       "    <tr>\n",
       "      <th>2</th>\n",
       "      <td>10001</td>\n",
       "      <td>1549002</td>\n",
       "      <td>1984443</td>\n",
       "    </tr>\n",
       "    <tr>\n",
       "      <th>3</th>\n",
       "      <td>10001</td>\n",
       "      <td>1549002</td>\n",
       "      <td>1984237</td>\n",
       "    </tr>\n",
       "    <tr>\n",
       "      <th>4</th>\n",
       "      <td>10001</td>\n",
       "      <td>1549002</td>\n",
       "      <td>1985685</td>\n",
       "    </tr>\n",
       "  </tbody>\n",
       "</table>\n",
       "</div>"
      ],
      "text/plain": [
       "  CompetitionId UserId_1 UserId_2\n",
       "0         10001  1549002  1984379\n",
       "1         10001  1549002  1985614\n",
       "2         10001  1549002  1984443\n",
       "3         10001  1549002  1984237\n",
       "4         10001  1549002  1985685"
      ]
     },
     "execution_count": 42,
     "metadata": {},
     "output_type": "execute_result"
    }
   ],
   "source": [
    "df_comp_participant_graph = Combinations.create_combinations(df = df_competition_participant,group_by = \"CompetitionId\",name_col_1 =\"UserId_1\",name_col_2 = \"UserId_2\")\n",
    "df_comp_participant_graph.head()"
   ]
  },
  {
   "cell_type": "code",
   "execution_count": 43,
   "metadata": {},
   "outputs": [
    {
     "data": {
      "text/html": [
       "<div>\n",
       "<style scoped>\n",
       "    .dataframe tbody tr th:only-of-type {\n",
       "        vertical-align: middle;\n",
       "    }\n",
       "\n",
       "    .dataframe tbody tr th {\n",
       "        vertical-align: top;\n",
       "    }\n",
       "\n",
       "    .dataframe thead th {\n",
       "        text-align: right;\n",
       "    }\n",
       "</style>\n",
       "<table border=\"1\" class=\"dataframe\">\n",
       "  <thead>\n",
       "    <tr style=\"text-align: right;\">\n",
       "      <th></th>\n",
       "      <th>UserId_1</th>\n",
       "      <th>UserId_2</th>\n",
       "      <th>weight</th>\n",
       "    </tr>\n",
       "  </thead>\n",
       "  <tbody>\n",
       "    <tr>\n",
       "      <th>0</th>\n",
       "      <td>1000025</td>\n",
       "      <td>10148801</td>\n",
       "      <td>1</td>\n",
       "    </tr>\n",
       "    <tr>\n",
       "      <th>1</th>\n",
       "      <td>1000025</td>\n",
       "      <td>10668599</td>\n",
       "      <td>1</td>\n",
       "    </tr>\n",
       "    <tr>\n",
       "      <th>2</th>\n",
       "      <td>1000025</td>\n",
       "      <td>1138223</td>\n",
       "      <td>1</td>\n",
       "    </tr>\n",
       "    <tr>\n",
       "      <th>3</th>\n",
       "      <td>1000025</td>\n",
       "      <td>1169450</td>\n",
       "      <td>1</td>\n",
       "    </tr>\n",
       "    <tr>\n",
       "      <th>4</th>\n",
       "      <td>1000025</td>\n",
       "      <td>1299826</td>\n",
       "      <td>1</td>\n",
       "    </tr>\n",
       "  </tbody>\n",
       "</table>\n",
       "</div>"
      ],
      "text/plain": [
       "  UserId_1  UserId_2  weight\n",
       "0  1000025  10148801       1\n",
       "1  1000025  10668599       1\n",
       "2  1000025   1138223       1\n",
       "3  1000025   1169450       1\n",
       "4  1000025   1299826       1"
      ]
     },
     "execution_count": 43,
     "metadata": {},
     "output_type": "execute_result"
    }
   ],
   "source": [
    "# Creamos la variable weigth que representan la frecuencia de que un usuario haya competido con otro usuario en competencias\n",
    "df_comp_participant_graph_2 = df_comp_participant_graph[[\"UserId_1\",\"UserId_2\"]].groupby([\"UserId_1\",\"UserId_2\"]).size().reset_index()\n",
    "df_comp_participant_graph_2.rename(columns={0:\"weight\"},inplace=True)\n",
    "df_comp_participant_graph_2.head()"
   ]
  },
  {
   "cell_type": "code",
   "execution_count": 44,
   "metadata": {},
   "outputs": [
    {
     "name": "stdout",
     "output_type": "stream",
     "text": [
      "(11946680, 3)\n",
      "(10428791, 3)\n"
     ]
    }
   ],
   "source": [
    "print(df_comp_participant_graph.shape)\n",
    "print(df_comp_participant_graph_2.shape)"
   ]
  },
  {
   "cell_type": "code",
   "execution_count": 45,
   "metadata": {},
   "outputs": [],
   "source": [
    "#MultiGraph\n",
    "df_comp_participant_graph_2.to_csv(r\"../data/processed/Graph_CompParticipant.csv\",index=False)"
   ]
  },
  {
   "cell_type": "markdown",
   "metadata": {},
   "source": [
    "## User Forum Messages"
   ]
  },
  {
   "cell_type": "code",
   "execution_count": 46,
   "metadata": {},
   "outputs": [
    {
     "data": {
      "text/html": [
       "<div>\n",
       "<style scoped>\n",
       "    .dataframe tbody tr th:only-of-type {\n",
       "        vertical-align: middle;\n",
       "    }\n",
       "\n",
       "    .dataframe tbody tr th {\n",
       "        vertical-align: top;\n",
       "    }\n",
       "\n",
       "    .dataframe thead th {\n",
       "        text-align: right;\n",
       "    }\n",
       "</style>\n",
       "<table border=\"1\" class=\"dataframe\">\n",
       "  <thead>\n",
       "    <tr style=\"text-align: right;\">\n",
       "      <th></th>\n",
       "      <th>ForumTopicId</th>\n",
       "      <th>UserId</th>\n",
       "      <th>Medal</th>\n",
       "    </tr>\n",
       "  </thead>\n",
       "  <tbody>\n",
       "    <tr>\n",
       "      <th>0</th>\n",
       "      <td>2</td>\n",
       "      <td>368</td>\n",
       "      <td>NaN</td>\n",
       "    </tr>\n",
       "    <tr>\n",
       "      <th>1</th>\n",
       "      <td>16</td>\n",
       "      <td>368</td>\n",
       "      <td>NaN</td>\n",
       "    </tr>\n",
       "    <tr>\n",
       "      <th>2</th>\n",
       "      <td>16</td>\n",
       "      <td>368</td>\n",
       "      <td>NaN</td>\n",
       "    </tr>\n",
       "    <tr>\n",
       "      <th>3</th>\n",
       "      <td>20</td>\n",
       "      <td>368</td>\n",
       "      <td>NaN</td>\n",
       "    </tr>\n",
       "    <tr>\n",
       "      <th>4</th>\n",
       "      <td>20</td>\n",
       "      <td>368</td>\n",
       "      <td>NaN</td>\n",
       "    </tr>\n",
       "  </tbody>\n",
       "</table>\n",
       "</div>"
      ],
      "text/plain": [
       "  ForumTopicId UserId Medal\n",
       "0            2    368   NaN\n",
       "1           16    368   NaN\n",
       "2           16    368   NaN\n",
       "3           20    368   NaN\n",
       "4           20    368   NaN"
      ]
     },
     "execution_count": 46,
     "metadata": {},
     "output_type": "execute_result"
    }
   ],
   "source": [
    "df_forum_messages = pd.read_csv(r\"../data/interim/ForumMessages.csv\",dtype=str)\n",
    "df_forum_messages.head()"
   ]
  },
  {
   "cell_type": "code",
   "execution_count": 47,
   "metadata": {},
   "outputs": [
    {
     "name": "stdout",
     "output_type": "stream",
     "text": [
      "(1526307, 3)\n"
     ]
    }
   ],
   "source": [
    "print(df_forum_messages.shape)"
   ]
  },
  {
   "cell_type": "code",
   "execution_count": 48,
   "metadata": {},
   "outputs": [
    {
     "name": "stdout",
     "output_type": "stream",
     "text": [
      "(1040836, 2)\n"
     ]
    }
   ],
   "source": [
    "#Eliminamos los duplicados ya que no nos interesa si una persona comento 1 o 100 veces sobre un mismo foro, solo nos interesa si participo o no\n",
    "df_forum_messages = df_forum_messages[[\"ForumTopicId\",\"UserId\"]].drop_duplicates()\n",
    "print(df_forum_messages.shape)"
   ]
  },
  {
   "cell_type": "code",
   "execution_count": 49,
   "metadata": {},
   "outputs": [
    {
     "data": {
      "text/html": [
       "<div>\n",
       "<style scoped>\n",
       "    .dataframe tbody tr th:only-of-type {\n",
       "        vertical-align: middle;\n",
       "    }\n",
       "\n",
       "    .dataframe tbody tr th {\n",
       "        vertical-align: top;\n",
       "    }\n",
       "\n",
       "    .dataframe thead th {\n",
       "        text-align: right;\n",
       "    }\n",
       "</style>\n",
       "<table border=\"1\" class=\"dataframe\">\n",
       "  <thead>\n",
       "    <tr style=\"text-align: right;\">\n",
       "      <th></th>\n",
       "      <th>ForumTopicId</th>\n",
       "      <th>Comments</th>\n",
       "    </tr>\n",
       "  </thead>\n",
       "  <tbody>\n",
       "    <tr>\n",
       "      <th>0</th>\n",
       "      <td>1</td>\n",
       "      <td>9</td>\n",
       "    </tr>\n",
       "    <tr>\n",
       "      <th>1</th>\n",
       "      <td>10</td>\n",
       "      <td>3</td>\n",
       "    </tr>\n",
       "    <tr>\n",
       "      <th>2</th>\n",
       "      <td>100</td>\n",
       "      <td>4</td>\n",
       "    </tr>\n",
       "    <tr>\n",
       "      <th>3</th>\n",
       "      <td>1000</td>\n",
       "      <td>1</td>\n",
       "    </tr>\n",
       "    <tr>\n",
       "      <th>4</th>\n",
       "      <td>10000</td>\n",
       "      <td>2</td>\n",
       "    </tr>\n",
       "  </tbody>\n",
       "</table>\n",
       "</div>"
      ],
      "text/plain": [
       "  ForumTopicId  Comments\n",
       "0            1         9\n",
       "1           10         3\n",
       "2          100         4\n",
       "3         1000         1\n",
       "4        10000         2"
      ]
     },
     "execution_count": 49,
     "metadata": {},
     "output_type": "execute_result"
    }
   ],
   "source": [
    "df_forum_messages_size = df_forum_messages.groupby(\"ForumTopicId\").size().to_frame('Comments').reset_index()\n",
    "df_forum_messages_size.head()"
   ]
  },
  {
   "cell_type": "code",
   "execution_count": 50,
   "metadata": {},
   "outputs": [
    {
     "name": "stdout",
     "output_type": "stream",
     "text": [
      "(1040836, 3)\n"
     ]
    }
   ],
   "source": [
    "df_forum_messages = df_forum_messages.merge(df_forum_messages_size, how='left', on=['ForumTopicId'])\n",
    "print(df_forum_messages.shape)"
   ]
  },
  {
   "cell_type": "code",
   "execution_count": 51,
   "metadata": {},
   "outputs": [
    {
     "name": "stdout",
     "output_type": "stream",
     "text": [
      "(953715, 3)\n"
     ]
    }
   ],
   "source": [
    "#Nos interesa foros donde al menos hayan interactuado 2 personas\n",
    "df_forum_messages = df_forum_messages[df_forum_messages[\"Comments\"]>1]\n",
    "print(df_forum_messages.shape)"
   ]
  },
  {
   "cell_type": "code",
   "execution_count": 52,
   "metadata": {},
   "outputs": [
    {
     "data": {
      "text/html": [
       "<div>\n",
       "<style scoped>\n",
       "    .dataframe tbody tr th:only-of-type {\n",
       "        vertical-align: middle;\n",
       "    }\n",
       "\n",
       "    .dataframe tbody tr th {\n",
       "        vertical-align: top;\n",
       "    }\n",
       "\n",
       "    .dataframe thead th {\n",
       "        text-align: right;\n",
       "    }\n",
       "</style>\n",
       "<table border=\"1\" class=\"dataframe\">\n",
       "  <thead>\n",
       "    <tr style=\"text-align: right;\">\n",
       "      <th></th>\n",
       "      <th>ForumTopicId</th>\n",
       "      <th>UserId</th>\n",
       "      <th>Comments</th>\n",
       "    </tr>\n",
       "  </thead>\n",
       "  <tbody>\n",
       "    <tr>\n",
       "      <th>0</th>\n",
       "      <td>2</td>\n",
       "      <td>368</td>\n",
       "      <td>3</td>\n",
       "    </tr>\n",
       "    <tr>\n",
       "      <th>2</th>\n",
       "      <td>20</td>\n",
       "      <td>368</td>\n",
       "      <td>6</td>\n",
       "    </tr>\n",
       "    <tr>\n",
       "      <th>3</th>\n",
       "      <td>26</td>\n",
       "      <td>368</td>\n",
       "      <td>33</td>\n",
       "    </tr>\n",
       "    <tr>\n",
       "      <th>5</th>\n",
       "      <td>30</td>\n",
       "      <td>368</td>\n",
       "      <td>3</td>\n",
       "    </tr>\n",
       "    <tr>\n",
       "      <th>6</th>\n",
       "      <td>34</td>\n",
       "      <td>368</td>\n",
       "      <td>8</td>\n",
       "    </tr>\n",
       "  </tbody>\n",
       "</table>\n",
       "</div>"
      ],
      "text/plain": [
       "  ForumTopicId UserId  Comments\n",
       "0            2    368         3\n",
       "2           20    368         6\n",
       "3           26    368        33\n",
       "5           30    368         3\n",
       "6           34    368         8"
      ]
     },
     "execution_count": 52,
     "metadata": {},
     "output_type": "execute_result"
    }
   ],
   "source": [
    "df_forum_messages.head()"
   ]
  },
  {
   "cell_type": "code",
   "execution_count": 53,
   "metadata": {},
   "outputs": [
    {
     "data": {
      "text/html": [
       "<div>\n",
       "<style scoped>\n",
       "    .dataframe tbody tr th:only-of-type {\n",
       "        vertical-align: middle;\n",
       "    }\n",
       "\n",
       "    .dataframe tbody tr th {\n",
       "        vertical-align: top;\n",
       "    }\n",
       "\n",
       "    .dataframe thead th {\n",
       "        text-align: right;\n",
       "    }\n",
       "</style>\n",
       "<table border=\"1\" class=\"dataframe\">\n",
       "  <thead>\n",
       "    <tr style=\"text-align: right;\">\n",
       "      <th></th>\n",
       "      <th>Variable</th>\n",
       "      <th>n</th>\n",
       "      <th>Missing</th>\n",
       "      <th>%Missing</th>\n",
       "      <th>Negativo</th>\n",
       "      <th>%Negativo</th>\n",
       "      <th>Zero</th>\n",
       "      <th>%Zero</th>\n",
       "      <th>Unico</th>\n",
       "      <th>Media</th>\n",
       "      <th>Min</th>\n",
       "      <th>Max</th>\n",
       "      <th>IQRMAX</th>\n",
       "      <th>3STD</th>\n",
       "      <th>P10</th>\n",
       "      <th>P25</th>\n",
       "      <th>P50</th>\n",
       "      <th>P75</th>\n",
       "      <th>P90</th>\n",
       "      <th>P95</th>\n",
       "      <th>P99</th>\n",
       "      <th>Outlier IQR</th>\n",
       "      <th>%Outlier IQR</th>\n",
       "      <th>Outlier 3SD</th>\n",
       "      <th>%Outlier 3SD</th>\n",
       "      <th>Outlier P90</th>\n",
       "      <th>%Outlier P90</th>\n",
       "      <th>Outlier P95</th>\n",
       "      <th>%Outlier P95</th>\n",
       "      <th>Outlier P99</th>\n",
       "      <th>%Outlier P99</th>\n",
       "    </tr>\n",
       "  </thead>\n",
       "  <tbody>\n",
       "    <tr>\n",
       "      <th>0</th>\n",
       "      <td>ForumTopicId_Int</td>\n",
       "      <td>953715</td>\n",
       "      <td>0</td>\n",
       "      <td>0.0</td>\n",
       "      <td>0</td>\n",
       "      <td>0.0</td>\n",
       "      <td>0</td>\n",
       "      <td>0.0</td>\n",
       "      <td>173248</td>\n",
       "      <td>155000.57</td>\n",
       "      <td>1</td>\n",
       "      <td>334148</td>\n",
       "      <td>489444.5</td>\n",
       "      <td>441227.89</td>\n",
       "      <td>31593.0</td>\n",
       "      <td>69112.0</td>\n",
       "      <td>146147.0</td>\n",
       "      <td>237245.0</td>\n",
       "      <td>295286.6</td>\n",
       "      <td>311899.0</td>\n",
       "      <td>329232.86</td>\n",
       "      <td>0</td>\n",
       "      <td>0.00</td>\n",
       "      <td>0</td>\n",
       "      <td>0.00</td>\n",
       "      <td>95372</td>\n",
       "      <td>10.00</td>\n",
       "      <td>47684</td>\n",
       "      <td>5.00</td>\n",
       "      <td>9538</td>\n",
       "      <td>1.0</td>\n",
       "    </tr>\n",
       "    <tr>\n",
       "      <th>0</th>\n",
       "      <td>Comments</td>\n",
       "      <td>953715</td>\n",
       "      <td>0</td>\n",
       "      <td>0.0</td>\n",
       "      <td>0</td>\n",
       "      <td>0.0</td>\n",
       "      <td>0</td>\n",
       "      <td>0.0</td>\n",
       "      <td>241</td>\n",
       "      <td>627.63</td>\n",
       "      <td>2</td>\n",
       "      <td>23022</td>\n",
       "      <td>49.0</td>\n",
       "      <td>11248.95</td>\n",
       "      <td>2.0</td>\n",
       "      <td>4.0</td>\n",
       "      <td>8.0</td>\n",
       "      <td>22.0</td>\n",
       "      <td>86.0</td>\n",
       "      <td>536.0</td>\n",
       "      <td>23022.00</td>\n",
       "      <td>133664</td>\n",
       "      <td>14.02</td>\n",
       "      <td>23022</td>\n",
       "      <td>2.41</td>\n",
       "      <td>95066</td>\n",
       "      <td>9.97</td>\n",
       "      <td>47366</td>\n",
       "      <td>4.97</td>\n",
       "      <td>0</td>\n",
       "      <td>0.0</td>\n",
       "    </tr>\n",
       "  </tbody>\n",
       "</table>\n",
       "</div>"
      ],
      "text/plain": [
       "           Variable       n  Missing  %Missing  Negativo  %Negativo  Zero  \\\n",
       "0  ForumTopicId_Int  953715        0       0.0         0        0.0     0   \n",
       "0          Comments  953715        0       0.0         0        0.0     0   \n",
       "\n",
       "   %Zero   Unico      Media  Min     Max    IQRMAX       3STD      P10  \\\n",
       "0    0.0  173248  155000.57    1  334148  489444.5  441227.89  31593.0   \n",
       "0    0.0     241     627.63    2   23022      49.0   11248.95      2.0   \n",
       "\n",
       "       P25       P50       P75       P90       P95        P99  Outlier IQR  \\\n",
       "0  69112.0  146147.0  237245.0  295286.6  311899.0  329232.86            0   \n",
       "0      4.0       8.0      22.0      86.0     536.0   23022.00       133664   \n",
       "\n",
       "   %Outlier IQR  Outlier 3SD  %Outlier 3SD  Outlier P90  %Outlier P90  \\\n",
       "0          0.00            0          0.00        95372         10.00   \n",
       "0         14.02        23022          2.41        95066          9.97   \n",
       "\n",
       "   Outlier P95  %Outlier P95  Outlier P99  %Outlier P99  \n",
       "0        47684          5.00         9538           1.0  \n",
       "0        47366          4.97            0           0.0  "
      ]
     },
     "execution_count": 53,
     "metadata": {},
     "output_type": "execute_result"
    }
   ],
   "source": [
    "df_forum_messages[\"ForumTopicId_Int\"] = df_forum_messages[\"ForumTopicId\"].astype(int)\n",
    "Validator.validar_numerico(df_forum_messages,[\"ForumTopicId_Int\",\"Comments\"])"
   ]
  },
  {
   "cell_type": "code",
   "execution_count": 54,
   "metadata": {},
   "outputs": [
    {
     "data": {
      "image/png": "[encoded data removed]",
      "text/plain": [
       "<Figure size 842.4x595.44 with 1 Axes>"
      ]
     },
     "metadata": {},
     "output_type": "display_data"
    }
   ],
   "source": [
    "plt.hist(df_forum_messages[\"Comments\"],bins=20)\n",
    "plt.show()"
   ]
  },
  {
   "cell_type": "code",
   "execution_count": 55,
   "metadata": {},
   "outputs": [
    {
     "data": {
      "text/html": [
       "<div>\n",
       "<style scoped>\n",
       "    .dataframe tbody tr th:only-of-type {\n",
       "        vertical-align: middle;\n",
       "    }\n",
       "\n",
       "    .dataframe tbody tr th {\n",
       "        vertical-align: top;\n",
       "    }\n",
       "\n",
       "    .dataframe thead th {\n",
       "        text-align: right;\n",
       "    }\n",
       "</style>\n",
       "<table border=\"1\" class=\"dataframe\">\n",
       "  <thead>\n",
       "    <tr style=\"text-align: right;\">\n",
       "      <th></th>\n",
       "      <th>ForumTopicId</th>\n",
       "      <th>UserId</th>\n",
       "      <th>Comments</th>\n",
       "      <th>ForumTopicId_Int</th>\n",
       "    </tr>\n",
       "  </thead>\n",
       "  <tbody>\n",
       "    <tr>\n",
       "      <th>252</th>\n",
       "      <td>35118</td>\n",
       "      <td>368</td>\n",
       "      <td>157</td>\n",
       "      <td>35118</td>\n",
       "    </tr>\n",
       "    <tr>\n",
       "      <th>261</th>\n",
       "      <td>60914</td>\n",
       "      <td>368</td>\n",
       "      <td>832</td>\n",
       "      <td>60914</td>\n",
       "    </tr>\n",
       "    <tr>\n",
       "      <th>271</th>\n",
       "      <td>137078</td>\n",
       "      <td>368</td>\n",
       "      <td>145</td>\n",
       "      <td>137078</td>\n",
       "    </tr>\n",
       "    <tr>\n",
       "      <th>479</th>\n",
       "      <td>27729</td>\n",
       "      <td>393</td>\n",
       "      <td>326</td>\n",
       "      <td>27729</td>\n",
       "    </tr>\n",
       "    <tr>\n",
       "      <th>595</th>\n",
       "      <td>36940</td>\n",
       "      <td>464</td>\n",
       "      <td>344</td>\n",
       "      <td>36940</td>\n",
       "    </tr>\n",
       "  </tbody>\n",
       "</table>\n",
       "</div>"
      ],
      "text/plain": [
       "    ForumTopicId UserId  Comments  ForumTopicId_Int\n",
       "252        35118    368       157             35118\n",
       "261        60914    368       832             60914\n",
       "271       137078    368       145            137078\n",
       "479        27729    393       326             27729\n",
       "595        36940    464       344             36940"
      ]
     },
     "execution_count": 55,
     "metadata": {},
     "output_type": "execute_result"
    }
   ],
   "source": [
    "df_forum_messages[df_forum_messages[\"Comments\"]>80].head()"
   ]
  },
  {
   "cell_type": "code",
   "execution_count": 56,
   "metadata": {},
   "outputs": [
    {
     "data": {
      "text/html": [
       "<div>\n",
       "<style scoped>\n",
       "    .dataframe tbody tr th:only-of-type {\n",
       "        vertical-align: middle;\n",
       "    }\n",
       "\n",
       "    .dataframe tbody tr th {\n",
       "        vertical-align: top;\n",
       "    }\n",
       "\n",
       "    .dataframe thead th {\n",
       "        text-align: right;\n",
       "    }\n",
       "</style>\n",
       "<table border=\"1\" class=\"dataframe\">\n",
       "  <thead>\n",
       "    <tr style=\"text-align: right;\">\n",
       "      <th></th>\n",
       "      <th>ForumId</th>\n",
       "      <th>ParentForumId</th>\n",
       "      <th>Title</th>\n",
       "    </tr>\n",
       "  </thead>\n",
       "  <tbody>\n",
       "    <tr>\n",
       "      <th>0</th>\n",
       "      <td>1</td>\n",
       "      <td>8</td>\n",
       "      <td>Predict HIV Progression</td>\n",
       "    </tr>\n",
       "    <tr>\n",
       "      <th>1</th>\n",
       "      <td>2</td>\n",
       "      <td>8</td>\n",
       "      <td>Forecast Eurovision Voting</td>\n",
       "    </tr>\n",
       "    <tr>\n",
       "      <th>2</th>\n",
       "      <td>3</td>\n",
       "      <td>8</td>\n",
       "      <td>World Cup 2010 - Take on the Quants</td>\n",
       "    </tr>\n",
       "    <tr>\n",
       "      <th>3</th>\n",
       "      <td>4</td>\n",
       "      <td>8</td>\n",
       "      <td>INFORMS Data Mining Contest 2010</td>\n",
       "    </tr>\n",
       "    <tr>\n",
       "      <th>4</th>\n",
       "      <td>5</td>\n",
       "      <td>NaN</td>\n",
       "      <td>Active Competitions</td>\n",
       "    </tr>\n",
       "  </tbody>\n",
       "</table>\n",
       "</div>"
      ],
      "text/plain": [
       "  ForumId ParentForumId                                Title\n",
       "0       1             8              Predict HIV Progression\n",
       "1       2             8           Forecast Eurovision Voting\n",
       "2       3             8  World Cup 2010 - Take on the Quants\n",
       "3       4             8     INFORMS Data Mining Contest 2010\n",
       "4       5           NaN                  Active Competitions"
      ]
     },
     "execution_count": 56,
     "metadata": {},
     "output_type": "execute_result"
    }
   ],
   "source": [
    "df_forums = pd.read_csv(r\"../data/interim/Forums.csv\",dtype=str)\n",
    "df_forums.head()"
   ]
  },
  {
   "cell_type": "code",
   "execution_count": 57,
   "metadata": {},
   "outputs": [
    {
     "data": {
      "text/html": [
       "<div>\n",
       "<style scoped>\n",
       "    .dataframe tbody tr th:only-of-type {\n",
       "        vertical-align: middle;\n",
       "    }\n",
       "\n",
       "    .dataframe tbody tr th {\n",
       "        vertical-align: top;\n",
       "    }\n",
       "\n",
       "    .dataframe thead th {\n",
       "        text-align: right;\n",
       "    }\n",
       "</style>\n",
       "<table border=\"1\" class=\"dataframe\">\n",
       "  <thead>\n",
       "    <tr style=\"text-align: right;\">\n",
       "      <th></th>\n",
       "      <th>ForumTopicId</th>\n",
       "      <th>ForumId</th>\n",
       "      <th>Title</th>\n",
       "      <th>TotalViews</th>\n",
       "      <th>TotalMessages</th>\n",
       "      <th>Score</th>\n",
       "    </tr>\n",
       "  </thead>\n",
       "  <tbody>\n",
       "    <tr>\n",
       "      <th>0</th>\n",
       "      <td>1</td>\n",
       "      <td>1</td>\n",
       "      <td>A few techniques you might try:</td>\n",
       "      <td>9405.0</td>\n",
       "      <td>19.0</td>\n",
       "      <td>0.0</td>\n",
       "    </tr>\n",
       "    <tr>\n",
       "      <th>1</th>\n",
       "      <td>2</td>\n",
       "      <td>1</td>\n",
       "      <td>Question regarding algorithms used</td>\n",
       "      <td>2185.0</td>\n",
       "      <td>3.0</td>\n",
       "      <td>0.0</td>\n",
       "    </tr>\n",
       "    <tr>\n",
       "      <th>2</th>\n",
       "      <td>3</td>\n",
       "      <td>1</td>\n",
       "      <td>Question about data</td>\n",
       "      <td>2121.0</td>\n",
       "      <td>3.0</td>\n",
       "      <td>0.0</td>\n",
       "    </tr>\n",
       "    <tr>\n",
       "      <th>3</th>\n",
       "      <td>4</td>\n",
       "      <td>1</td>\n",
       "      <td>Biased sets</td>\n",
       "      <td>2780.0</td>\n",
       "      <td>4.0</td>\n",
       "      <td>1.0</td>\n",
       "    </tr>\n",
       "    <tr>\n",
       "      <th>4</th>\n",
       "      <td>5</td>\n",
       "      <td>1</td>\n",
       "      <td>Non-standard nucleotide codings</td>\n",
       "      <td>2045.0</td>\n",
       "      <td>2.0</td>\n",
       "      <td>0.0</td>\n",
       "    </tr>\n",
       "  </tbody>\n",
       "</table>\n",
       "</div>"
      ],
      "text/plain": [
       "  ForumTopicId ForumId                               Title TotalViews  \\\n",
       "0            1       1     A few techniques you might try:     9405.0   \n",
       "1            2       1  Question regarding algorithms used     2185.0   \n",
       "2            3       1                 Question about data     2121.0   \n",
       "3            4       1                         Biased sets     2780.0   \n",
       "4            5       1     Non-standard nucleotide codings     2045.0   \n",
       "\n",
       "  TotalMessages Score  \n",
       "0          19.0   0.0  \n",
       "1           3.0   0.0  \n",
       "2           3.0   0.0  \n",
       "3           4.0   1.0  \n",
       "4           2.0   0.0  "
      ]
     },
     "execution_count": 57,
     "metadata": {},
     "output_type": "execute_result"
    }
   ],
   "source": [
    "df_forum_topics = pd.read_csv(r\"../data/interim/ForumTopics.csv\",dtype=str)\n",
    "df_forum_topics.head()"
   ]
  },
  {
   "cell_type": "code",
   "execution_count": 58,
   "metadata": {},
   "outputs": [
    {
     "data": {
      "text/html": [
       "<div>\n",
       "<style scoped>\n",
       "    .dataframe tbody tr th:only-of-type {\n",
       "        vertical-align: middle;\n",
       "    }\n",
       "\n",
       "    .dataframe tbody tr th {\n",
       "        vertical-align: top;\n",
       "    }\n",
       "\n",
       "    .dataframe thead th {\n",
       "        text-align: right;\n",
       "    }\n",
       "</style>\n",
       "<table border=\"1\" class=\"dataframe\">\n",
       "  <thead>\n",
       "    <tr style=\"text-align: right;\">\n",
       "      <th></th>\n",
       "      <th>ForumTopicId</th>\n",
       "      <th>ForumId</th>\n",
       "      <th>ParentForumId</th>\n",
       "      <th>ForumTopicName</th>\n",
       "      <th>ParentForumName</th>\n",
       "    </tr>\n",
       "  </thead>\n",
       "  <tbody>\n",
       "    <tr>\n",
       "      <th>0</th>\n",
       "      <td>1</td>\n",
       "      <td>1</td>\n",
       "      <td>8</td>\n",
       "      <td>Predict HIV Progression</td>\n",
       "      <td>Past Competitions</td>\n",
       "    </tr>\n",
       "    <tr>\n",
       "      <th>1</th>\n",
       "      <td>2</td>\n",
       "      <td>1</td>\n",
       "      <td>8</td>\n",
       "      <td>Predict HIV Progression</td>\n",
       "      <td>Past Competitions</td>\n",
       "    </tr>\n",
       "    <tr>\n",
       "      <th>2</th>\n",
       "      <td>3</td>\n",
       "      <td>1</td>\n",
       "      <td>8</td>\n",
       "      <td>Predict HIV Progression</td>\n",
       "      <td>Past Competitions</td>\n",
       "    </tr>\n",
       "    <tr>\n",
       "      <th>3</th>\n",
       "      <td>4</td>\n",
       "      <td>1</td>\n",
       "      <td>8</td>\n",
       "      <td>Predict HIV Progression</td>\n",
       "      <td>Past Competitions</td>\n",
       "    </tr>\n",
       "    <tr>\n",
       "      <th>4</th>\n",
       "      <td>5</td>\n",
       "      <td>1</td>\n",
       "      <td>8</td>\n",
       "      <td>Predict HIV Progression</td>\n",
       "      <td>Past Competitions</td>\n",
       "    </tr>\n",
       "  </tbody>\n",
       "</table>\n",
       "</div>"
      ],
      "text/plain": [
       "  ForumTopicId ForumId ParentForumId           ForumTopicName  \\\n",
       "0            1       1             8  Predict HIV Progression   \n",
       "1            2       1             8  Predict HIV Progression   \n",
       "2            3       1             8  Predict HIV Progression   \n",
       "3            4       1             8  Predict HIV Progression   \n",
       "4            5       1             8  Predict HIV Progression   \n",
       "\n",
       "     ParentForumName  \n",
       "0  Past Competitions  \n",
       "1  Past Competitions  \n",
       "2  Past Competitions  \n",
       "3  Past Competitions  \n",
       "4  Past Competitions  "
      ]
     },
     "execution_count": 58,
     "metadata": {},
     "output_type": "execute_result"
    }
   ],
   "source": [
    "df_forums_2 = df_forums.copy()\n",
    "df_forums_2 = df_forums_2[[\"ForumId\",\"ParentForumId\",\"Title\"]]\n",
    "df_forum_topics = df_forum_topics[[\"ForumTopicId\",\"ForumId\"]]\n",
    "df_forum_topics_merge = df_forum_topics.merge(df_forums_2,how=\"left\",on=[\"ForumId\"])\n",
    "df_forum_topics_merge.rename(columns={\"Title\":\"ForumTopicName\"},inplace=True)\n",
    "\n",
    "#Cambio el codigo del foro para sacar el nombre del padre\n",
    "df_forums_parent = df_forums_2.copy()\n",
    "df_forums_parent = df_forums_parent[\"ParentForumId\"].dropna()\n",
    "df_forums_2 = df_forums_2[[\"ForumId\",\"Title\"]]\n",
    "df_forums_2.rename(columns={\"ForumId\":\"ParentForumId\",\"Title\":\"ParentForumName\"},inplace=True)\n",
    "df_forum_topics_merge_2 = df_forum_topics_merge.merge(df_forums_2,how=\"left\",on=[\"ParentForumId\"])\n",
    "\n",
    "df_forum_topics_merge_2.head()"
   ]
  },
  {
   "cell_type": "code",
   "execution_count": 59,
   "metadata": {},
   "outputs": [
    {
     "data": {
      "text/plain": [
       "General                65287\n",
       "Past Competitions      64636\n",
       "Public Datasets        16330\n",
       "Active Competitions     2524\n",
       "Name: ParentForumName, dtype: int64"
      ]
     },
     "execution_count": 59,
     "metadata": {},
     "output_type": "execute_result"
    }
   ],
   "source": [
    "df_forum_topics_merge_2[\"ParentForumName\"].value_counts()"
   ]
  },
  {
   "cell_type": "code",
   "execution_count": 60,
   "metadata": {},
   "outputs": [
    {
     "data": {
      "text/plain": [
       "9       65287\n",
       "8       64636\n",
       "1023    16330\n",
       "5        2524\n",
       "52        544\n",
       "6         456\n",
       "198       335\n",
       "91        214\n",
       "Name: ParentForumId, dtype: int64"
      ]
     },
     "execution_count": 60,
     "metadata": {},
     "output_type": "execute_result"
    }
   ],
   "source": [
    "df_forum_topics_merge_2[\"ParentForumId\"].value_counts()"
   ]
  },
  {
   "cell_type": "code",
   "execution_count": 61,
   "metadata": {},
   "outputs": [
    {
     "data": {
      "text/html": [
       "<div>\n",
       "<style scoped>\n",
       "    .dataframe tbody tr th:only-of-type {\n",
       "        vertical-align: middle;\n",
       "    }\n",
       "\n",
       "    .dataframe tbody tr th {\n",
       "        vertical-align: top;\n",
       "    }\n",
       "\n",
       "    .dataframe thead th {\n",
       "        text-align: right;\n",
       "    }\n",
       "</style>\n",
       "<table border=\"1\" class=\"dataframe\">\n",
       "  <thead>\n",
       "    <tr style=\"text-align: right;\">\n",
       "      <th></th>\n",
       "      <th>ForumTopicId</th>\n",
       "      <th>ForumId</th>\n",
       "      <th>ParentForumId</th>\n",
       "      <th>ForumTopicName</th>\n",
       "      <th>ParentForumName</th>\n",
       "    </tr>\n",
       "  </thead>\n",
       "  <tbody>\n",
       "    <tr>\n",
       "      <th>21661</th>\n",
       "      <td>856</td>\n",
       "      <td>54</td>\n",
       "      <td>52</td>\n",
       "      <td>UW STAT331 Linear Models Contest</td>\n",
       "      <td>NaN</td>\n",
       "    </tr>\n",
       "    <tr>\n",
       "      <th>21662</th>\n",
       "      <td>857</td>\n",
       "      <td>54</td>\n",
       "      <td>52</td>\n",
       "      <td>UW STAT331 Linear Models Contest</td>\n",
       "      <td>NaN</td>\n",
       "    </tr>\n",
       "    <tr>\n",
       "      <th>21663</th>\n",
       "      <td>858</td>\n",
       "      <td>54</td>\n",
       "      <td>52</td>\n",
       "      <td>UW STAT331 Linear Models Contest</td>\n",
       "      <td>NaN</td>\n",
       "    </tr>\n",
       "    <tr>\n",
       "      <th>21664</th>\n",
       "      <td>859</td>\n",
       "      <td>54</td>\n",
       "      <td>52</td>\n",
       "      <td>UW STAT331 Linear Models Contest</td>\n",
       "      <td>NaN</td>\n",
       "    </tr>\n",
       "    <tr>\n",
       "      <th>21665</th>\n",
       "      <td>860</td>\n",
       "      <td>54</td>\n",
       "      <td>52</td>\n",
       "      <td>UW STAT331 Linear Models Contest</td>\n",
       "      <td>NaN</td>\n",
       "    </tr>\n",
       "  </tbody>\n",
       "</table>\n",
       "</div>"
      ],
      "text/plain": [
       "      ForumTopicId ForumId ParentForumId                    ForumTopicName  \\\n",
       "21661          856      54            52  UW STAT331 Linear Models Contest   \n",
       "21662          857      54            52  UW STAT331 Linear Models Contest   \n",
       "21663          858      54            52  UW STAT331 Linear Models Contest   \n",
       "21664          859      54            52  UW STAT331 Linear Models Contest   \n",
       "21665          860      54            52  UW STAT331 Linear Models Contest   \n",
       "\n",
       "      ParentForumName  \n",
       "21661             NaN  \n",
       "21662             NaN  \n",
       "21663             NaN  \n",
       "21664             NaN  \n",
       "21665             NaN  "
      ]
     },
     "execution_count": 61,
     "metadata": {},
     "output_type": "execute_result"
    }
   ],
   "source": [
    "df_forum_topics_merge_2[df_forum_topics_merge_2[\"ParentForumId\"]==\"52\"].head()"
   ]
  },
  {
   "cell_type": "code",
   "execution_count": 62,
   "metadata": {},
   "outputs": [
    {
     "data": {
      "text/html": [
       "<div>\n",
       "<style scoped>\n",
       "    .dataframe tbody tr th:only-of-type {\n",
       "        vertical-align: middle;\n",
       "    }\n",
       "\n",
       "    .dataframe tbody tr th {\n",
       "        vertical-align: top;\n",
       "    }\n",
       "\n",
       "    .dataframe thead th {\n",
       "        text-align: right;\n",
       "    }\n",
       "</style>\n",
       "<table border=\"1\" class=\"dataframe\">\n",
       "  <thead>\n",
       "    <tr style=\"text-align: right;\">\n",
       "      <th></th>\n",
       "      <th>ForumId</th>\n",
       "      <th>ParentForumId</th>\n",
       "      <th>Title</th>\n",
       "    </tr>\n",
       "  </thead>\n",
       "  <tbody>\n",
       "    <tr>\n",
       "      <th>24</th>\n",
       "      <td>51</td>\n",
       "      <td>8</td>\n",
       "      <td>Give Me Some Credit</td>\n",
       "    </tr>\n",
       "  </tbody>\n",
       "</table>\n",
       "</div>"
      ],
      "text/plain": [
       "   ForumId ParentForumId                Title\n",
       "24      51             8  Give Me Some Credit"
      ]
     },
     "execution_count": 62,
     "metadata": {},
     "output_type": "execute_result"
    }
   ],
   "source": [
    "df_forums[df_forums[\"ForumId\"]==\"51\"]"
   ]
  },
  {
   "cell_type": "code",
   "execution_count": 63,
   "metadata": {},
   "outputs": [
    {
     "data": {
      "text/html": [
       "<div>\n",
       "<style scoped>\n",
       "    .dataframe tbody tr th:only-of-type {\n",
       "        vertical-align: middle;\n",
       "    }\n",
       "\n",
       "    .dataframe tbody tr th {\n",
       "        vertical-align: top;\n",
       "    }\n",
       "\n",
       "    .dataframe thead th {\n",
       "        text-align: right;\n",
       "    }\n",
       "</style>\n",
       "<table border=\"1\" class=\"dataframe\">\n",
       "  <thead>\n",
       "    <tr style=\"text-align: right;\">\n",
       "      <th></th>\n",
       "      <th>ForumTopicId</th>\n",
       "      <th>UserId</th>\n",
       "      <th>Comments</th>\n",
       "      <th>ForumTopicId_Int</th>\n",
       "      <th>ForumId</th>\n",
       "      <th>ParentForumId</th>\n",
       "      <th>ForumTopicName</th>\n",
       "      <th>ParentForumName</th>\n",
       "    </tr>\n",
       "  </thead>\n",
       "  <tbody>\n",
       "    <tr>\n",
       "      <th>0</th>\n",
       "      <td>2</td>\n",
       "      <td>368</td>\n",
       "      <td>3</td>\n",
       "      <td>2</td>\n",
       "      <td>1</td>\n",
       "      <td>8</td>\n",
       "      <td>Predict HIV Progression</td>\n",
       "      <td>Past Competitions</td>\n",
       "    </tr>\n",
       "    <tr>\n",
       "      <th>1</th>\n",
       "      <td>20</td>\n",
       "      <td>368</td>\n",
       "      <td>6</td>\n",
       "      <td>20</td>\n",
       "      <td>1</td>\n",
       "      <td>8</td>\n",
       "      <td>Predict HIV Progression</td>\n",
       "      <td>Past Competitions</td>\n",
       "    </tr>\n",
       "    <tr>\n",
       "      <th>2</th>\n",
       "      <td>26</td>\n",
       "      <td>368</td>\n",
       "      <td>33</td>\n",
       "      <td>26</td>\n",
       "      <td>15</td>\n",
       "      <td>9</td>\n",
       "      <td>General</td>\n",
       "      <td>General</td>\n",
       "    </tr>\n",
       "    <tr>\n",
       "      <th>3</th>\n",
       "      <td>30</td>\n",
       "      <td>368</td>\n",
       "      <td>3</td>\n",
       "      <td>30</td>\n",
       "      <td>4</td>\n",
       "      <td>8</td>\n",
       "      <td>INFORMS Data Mining Contest 2010</td>\n",
       "      <td>Past Competitions</td>\n",
       "    </tr>\n",
       "    <tr>\n",
       "      <th>4</th>\n",
       "      <td>34</td>\n",
       "      <td>368</td>\n",
       "      <td>8</td>\n",
       "      <td>34</td>\n",
       "      <td>4</td>\n",
       "      <td>8</td>\n",
       "      <td>INFORMS Data Mining Contest 2010</td>\n",
       "      <td>Past Competitions</td>\n",
       "    </tr>\n",
       "  </tbody>\n",
       "</table>\n",
       "</div>"
      ],
      "text/plain": [
       "  ForumTopicId UserId  Comments  ForumTopicId_Int ForumId ParentForumId  \\\n",
       "0            2    368         3                 2       1             8   \n",
       "1           20    368         6                20       1             8   \n",
       "2           26    368        33                26      15             9   \n",
       "3           30    368         3                30       4             8   \n",
       "4           34    368         8                34       4             8   \n",
       "\n",
       "                     ForumTopicName    ParentForumName  \n",
       "0           Predict HIV Progression  Past Competitions  \n",
       "1           Predict HIV Progression  Past Competitions  \n",
       "2                           General            General  \n",
       "3  INFORMS Data Mining Contest 2010  Past Competitions  \n",
       "4  INFORMS Data Mining Contest 2010  Past Competitions  "
      ]
     },
     "execution_count": 63,
     "metadata": {},
     "output_type": "execute_result"
    }
   ],
   "source": [
    "df_forum_join = df_forum_messages.merge(df_forum_topics_merge_2,how=\"left\",on=[\"ForumTopicId\"])\n",
    "df_forum_join.head()"
   ]
  },
  {
   "cell_type": "code",
   "execution_count": 64,
   "metadata": {},
   "outputs": [
    {
     "data": {
      "text/plain": [
       "<AxesSubplot:xlabel='ParentForumName', ylabel='Comments'>"
      ]
     },
     "execution_count": 64,
     "metadata": {},
     "output_type": "execute_result"
    },
    {
     "data": {
      "image/png": "[encoded data removed]",
      "text/plain": [
       "<Figure size 842.4x595.44 with 1 Axes>"
      ]
     },
     "metadata": {},
     "output_type": "display_data"
    }
   ],
   "source": [
    "#Observamos que la mayoria de ForumParents que tienen mas de 500 (PERCENTIL 95) comentarios son del general, asi que haremos un zoom sobre cuales son\n",
    "sns.boxplot(data=df_forum_join, x='ParentForumName', y='Comments')"
   ]
  },
  {
   "cell_type": "code",
   "execution_count": 65,
   "metadata": {},
   "outputs": [
    {
     "data": {
      "text/plain": [
       "General    13271\n",
       "Name: ParentForumName, dtype: int64"
      ]
     },
     "execution_count": 65,
     "metadata": {},
     "output_type": "execute_result"
    }
   ],
   "source": [
    "df_forum_join[df_forum_join[\"Comments\"]>500][\"ParentForumName\"].value_counts()"
   ]
  },
  {
   "cell_type": "code",
   "execution_count": 66,
   "metadata": {},
   "outputs": [
    {
     "data": {
      "text/html": [
       "<div>\n",
       "<style scoped>\n",
       "    .dataframe tbody tr th:only-of-type {\n",
       "        vertical-align: middle;\n",
       "    }\n",
       "\n",
       "    .dataframe tbody tr th {\n",
       "        vertical-align: top;\n",
       "    }\n",
       "\n",
       "    .dataframe thead th {\n",
       "        text-align: right;\n",
       "    }\n",
       "</style>\n",
       "<table border=\"1\" class=\"dataframe\">\n",
       "  <thead>\n",
       "    <tr style=\"text-align: right;\">\n",
       "      <th></th>\n",
       "      <th>ForumTopicId</th>\n",
       "      <th>UserId</th>\n",
       "      <th>Comments</th>\n",
       "      <th>ForumTopicId_Int</th>\n",
       "      <th>ForumId</th>\n",
       "      <th>ParentForumId</th>\n",
       "      <th>ForumTopicName</th>\n",
       "      <th>ParentForumName</th>\n",
       "    </tr>\n",
       "  </thead>\n",
       "  <tbody>\n",
       "    <tr>\n",
       "      <th>246</th>\n",
       "      <td>60914</td>\n",
       "      <td>368</td>\n",
       "      <td>832</td>\n",
       "      <td>60914</td>\n",
       "      <td>15</td>\n",
       "      <td>9</td>\n",
       "      <td>General</td>\n",
       "      <td>General</td>\n",
       "    </tr>\n",
       "    <tr>\n",
       "      <th>563</th>\n",
       "      <td>111053</td>\n",
       "      <td>583</td>\n",
       "      <td>23022</td>\n",
       "      <td>111053</td>\n",
       "      <td>16860</td>\n",
       "      <td>NaN</td>\n",
       "      <td>Notebooks</td>\n",
       "      <td>NaN</td>\n",
       "    </tr>\n",
       "    <tr>\n",
       "      <th>976</th>\n",
       "      <td>256646</td>\n",
       "      <td>937</td>\n",
       "      <td>3754</td>\n",
       "      <td>256646</td>\n",
       "      <td>16860</td>\n",
       "      <td>NaN</td>\n",
       "      <td>Notebooks</td>\n",
       "      <td>NaN</td>\n",
       "    </tr>\n",
       "    <tr>\n",
       "      <th>2060</th>\n",
       "      <td>111053</td>\n",
       "      <td>1327</td>\n",
       "      <td>23022</td>\n",
       "      <td>111053</td>\n",
       "      <td>16860</td>\n",
       "      <td>NaN</td>\n",
       "      <td>Notebooks</td>\n",
       "      <td>NaN</td>\n",
       "    </tr>\n",
       "    <tr>\n",
       "      <th>2245</th>\n",
       "      <td>256489</td>\n",
       "      <td>1408</td>\n",
       "      <td>2162</td>\n",
       "      <td>256489</td>\n",
       "      <td>208</td>\n",
       "      <td>9</td>\n",
       "      <td>Getting Started</td>\n",
       "      <td>General</td>\n",
       "    </tr>\n",
       "  </tbody>\n",
       "</table>\n",
       "</div>"
      ],
      "text/plain": [
       "     ForumTopicId UserId  Comments  ForumTopicId_Int ForumId ParentForumId  \\\n",
       "246         60914    368       832             60914      15             9   \n",
       "563        111053    583     23022            111053   16860           NaN   \n",
       "976        256646    937      3754            256646   16860           NaN   \n",
       "2060       111053   1327     23022            111053   16860           NaN   \n",
       "2245       256489   1408      2162            256489     208             9   \n",
       "\n",
       "       ForumTopicName ParentForumName  \n",
       "246           General         General  \n",
       "563         Notebooks             NaN  \n",
       "976         Notebooks             NaN  \n",
       "2060        Notebooks             NaN  \n",
       "2245  Getting Started         General  "
      ]
     },
     "execution_count": 66,
     "metadata": {},
     "output_type": "execute_result"
    }
   ],
   "source": [
    "df_forum_join[df_forum_join[\"Comments\"]>500].head()"
   ]
  },
  {
   "cell_type": "code",
   "execution_count": 67,
   "metadata": {},
   "outputs": [
    {
     "data": {
      "text/plain": [
       "<AxesSubplot:xlabel='ForumTopicName', ylabel='Comments'>"
      ]
     },
     "execution_count": 67,
     "metadata": {},
     "output_type": "execute_result"
    },
    {
     "data": {
      "image/png": "[encoded data removed]",
      "text/plain": [
       "<Figure size 842.4x595.44 with 1 Axes>"
      ]
     },
     "metadata": {},
     "output_type": "display_data"
    }
   ],
   "source": [
    "#Los foros con mas de 500 comentarios son los foros generales, algunos de general y getting started\n",
    "sns.boxplot(data=df_forum_join[df_forum_join[\"Comments\"]>500], x='ForumTopicName', y='Comments')"
   ]
  },
  {
   "cell_type": "code",
   "execution_count": 68,
   "metadata": {},
   "outputs": [
    {
     "data": {
      "text/html": [
       "<div>\n",
       "<style scoped>\n",
       "    .dataframe tbody tr th:only-of-type {\n",
       "        vertical-align: middle;\n",
       "    }\n",
       "\n",
       "    .dataframe tbody tr th {\n",
       "        vertical-align: top;\n",
       "    }\n",
       "\n",
       "    .dataframe thead th {\n",
       "        text-align: right;\n",
       "    }\n",
       "</style>\n",
       "<table border=\"1\" class=\"dataframe\">\n",
       "  <thead>\n",
       "    <tr style=\"text-align: right;\">\n",
       "      <th></th>\n",
       "      <th>ForumTopicId</th>\n",
       "      <th>UserId</th>\n",
       "      <th>Comments</th>\n",
       "      <th>ForumTopicId_Int</th>\n",
       "    </tr>\n",
       "  </thead>\n",
       "  <tbody>\n",
       "    <tr>\n",
       "      <th>0</th>\n",
       "      <td>2</td>\n",
       "      <td>368</td>\n",
       "      <td>3</td>\n",
       "      <td>2</td>\n",
       "    </tr>\n",
       "    <tr>\n",
       "      <th>2</th>\n",
       "      <td>20</td>\n",
       "      <td>368</td>\n",
       "      <td>6</td>\n",
       "      <td>20</td>\n",
       "    </tr>\n",
       "    <tr>\n",
       "      <th>3</th>\n",
       "      <td>26</td>\n",
       "      <td>368</td>\n",
       "      <td>33</td>\n",
       "      <td>26</td>\n",
       "    </tr>\n",
       "    <tr>\n",
       "      <th>5</th>\n",
       "      <td>30</td>\n",
       "      <td>368</td>\n",
       "      <td>3</td>\n",
       "      <td>30</td>\n",
       "    </tr>\n",
       "    <tr>\n",
       "      <th>6</th>\n",
       "      <td>34</td>\n",
       "      <td>368</td>\n",
       "      <td>8</td>\n",
       "      <td>34</td>\n",
       "    </tr>\n",
       "  </tbody>\n",
       "</table>\n",
       "</div>"
      ],
      "text/plain": [
       "  ForumTopicId UserId  Comments  ForumTopicId_Int\n",
       "0            2    368         3                 2\n",
       "2           20    368         6                20\n",
       "3           26    368        33                26\n",
       "5           30    368         3                30\n",
       "6           34    368         8                34"
      ]
     },
     "execution_count": 68,
     "metadata": {},
     "output_type": "execute_result"
    }
   ],
   "source": [
    "df_forum_messages.head()"
   ]
  },
  {
   "cell_type": "code",
   "execution_count": 69,
   "metadata": {},
   "outputs": [
    {
     "data": {
      "text/html": [
       "<div>\n",
       "<style scoped>\n",
       "    .dataframe tbody tr th:only-of-type {\n",
       "        vertical-align: middle;\n",
       "    }\n",
       "\n",
       "    .dataframe tbody tr th {\n",
       "        vertical-align: top;\n",
       "    }\n",
       "\n",
       "    .dataframe thead th {\n",
       "        text-align: right;\n",
       "    }\n",
       "</style>\n",
       "<table border=\"1\" class=\"dataframe\">\n",
       "  <thead>\n",
       "    <tr style=\"text-align: right;\">\n",
       "      <th></th>\n",
       "      <th>Variable</th>\n",
       "      <th>n</th>\n",
       "      <th>Missing</th>\n",
       "      <th>%Missing</th>\n",
       "      <th>Negativo</th>\n",
       "      <th>%Negativo</th>\n",
       "      <th>Zero</th>\n",
       "      <th>%Zero</th>\n",
       "      <th>Unico</th>\n",
       "      <th>Media</th>\n",
       "      <th>Min</th>\n",
       "      <th>Max</th>\n",
       "      <th>IQRMAX</th>\n",
       "      <th>3STD</th>\n",
       "      <th>P10</th>\n",
       "      <th>P25</th>\n",
       "      <th>P50</th>\n",
       "      <th>P75</th>\n",
       "      <th>P90</th>\n",
       "      <th>P95</th>\n",
       "      <th>P99</th>\n",
       "      <th>Outlier IQR</th>\n",
       "      <th>%Outlier IQR</th>\n",
       "      <th>Outlier 3SD</th>\n",
       "      <th>%Outlier 3SD</th>\n",
       "      <th>Outlier P90</th>\n",
       "      <th>%Outlier P90</th>\n",
       "      <th>Outlier P95</th>\n",
       "      <th>%Outlier P95</th>\n",
       "      <th>Outlier P99</th>\n",
       "      <th>%Outlier P99</th>\n",
       "    </tr>\n",
       "  </thead>\n",
       "  <tbody>\n",
       "    <tr>\n",
       "      <th>0</th>\n",
       "      <td>ForumTopicId_Int</td>\n",
       "      <td>953715</td>\n",
       "      <td>0</td>\n",
       "      <td>0.0</td>\n",
       "      <td>0</td>\n",
       "      <td>0.0</td>\n",
       "      <td>0</td>\n",
       "      <td>0.0</td>\n",
       "      <td>173248</td>\n",
       "      <td>155000.57</td>\n",
       "      <td>1</td>\n",
       "      <td>334148</td>\n",
       "      <td>489444.5</td>\n",
       "      <td>441227.89</td>\n",
       "      <td>31593.0</td>\n",
       "      <td>69112.0</td>\n",
       "      <td>146147.0</td>\n",
       "      <td>237245.0</td>\n",
       "      <td>295286.6</td>\n",
       "      <td>311899.0</td>\n",
       "      <td>329232.86</td>\n",
       "      <td>0</td>\n",
       "      <td>0.00</td>\n",
       "      <td>0</td>\n",
       "      <td>0.00</td>\n",
       "      <td>95372</td>\n",
       "      <td>10.00</td>\n",
       "      <td>47684</td>\n",
       "      <td>5.00</td>\n",
       "      <td>9538</td>\n",
       "      <td>1.0</td>\n",
       "    </tr>\n",
       "    <tr>\n",
       "      <th>0</th>\n",
       "      <td>Comments</td>\n",
       "      <td>953715</td>\n",
       "      <td>0</td>\n",
       "      <td>0.0</td>\n",
       "      <td>0</td>\n",
       "      <td>0.0</td>\n",
       "      <td>0</td>\n",
       "      <td>0.0</td>\n",
       "      <td>241</td>\n",
       "      <td>627.63</td>\n",
       "      <td>2</td>\n",
       "      <td>23022</td>\n",
       "      <td>49.0</td>\n",
       "      <td>11248.95</td>\n",
       "      <td>2.0</td>\n",
       "      <td>4.0</td>\n",
       "      <td>8.0</td>\n",
       "      <td>22.0</td>\n",
       "      <td>86.0</td>\n",
       "      <td>536.0</td>\n",
       "      <td>23022.00</td>\n",
       "      <td>133664</td>\n",
       "      <td>14.02</td>\n",
       "      <td>23022</td>\n",
       "      <td>2.41</td>\n",
       "      <td>95066</td>\n",
       "      <td>9.97</td>\n",
       "      <td>47366</td>\n",
       "      <td>4.97</td>\n",
       "      <td>0</td>\n",
       "      <td>0.0</td>\n",
       "    </tr>\n",
       "  </tbody>\n",
       "</table>\n",
       "</div>"
      ],
      "text/plain": [
       "           Variable       n  Missing  %Missing  Negativo  %Negativo  Zero  \\\n",
       "0  ForumTopicId_Int  953715        0       0.0         0        0.0     0   \n",
       "0          Comments  953715        0       0.0         0        0.0     0   \n",
       "\n",
       "   %Zero   Unico      Media  Min     Max    IQRMAX       3STD      P10  \\\n",
       "0    0.0  173248  155000.57    1  334148  489444.5  441227.89  31593.0   \n",
       "0    0.0     241     627.63    2   23022      49.0   11248.95      2.0   \n",
       "\n",
       "       P25       P50       P75       P90       P95        P99  Outlier IQR  \\\n",
       "0  69112.0  146147.0  237245.0  295286.6  311899.0  329232.86            0   \n",
       "0      4.0       8.0      22.0      86.0     536.0   23022.00       133664   \n",
       "\n",
       "   %Outlier IQR  Outlier 3SD  %Outlier 3SD  Outlier P90  %Outlier P90  \\\n",
       "0          0.00            0          0.00        95372         10.00   \n",
       "0         14.02        23022          2.41        95066          9.97   \n",
       "\n",
       "   Outlier P95  %Outlier P95  Outlier P99  %Outlier P99  \n",
       "0        47684          5.00         9538           1.0  \n",
       "0        47366          4.97            0           0.0  "
      ]
     },
     "execution_count": 69,
     "metadata": {},
     "output_type": "execute_result"
    }
   ],
   "source": [
    "Validator.validar_numerico(df_forum_messages,[\"ForumTopicId_Int\",\"Comments\"])"
   ]
  },
  {
   "cell_type": "code",
   "execution_count": 70,
   "metadata": {},
   "outputs": [
    {
     "data": {
      "text/html": [
       "<div>\n",
       "<style scoped>\n",
       "    .dataframe tbody tr th:only-of-type {\n",
       "        vertical-align: middle;\n",
       "    }\n",
       "\n",
       "    .dataframe tbody tr th {\n",
       "        vertical-align: top;\n",
       "    }\n",
       "\n",
       "    .dataframe thead th {\n",
       "        text-align: right;\n",
       "    }\n",
       "</style>\n",
       "<table border=\"1\" class=\"dataframe\">\n",
       "  <thead>\n",
       "    <tr style=\"text-align: right;\">\n",
       "      <th></th>\n",
       "      <th>Variable</th>\n",
       "      <th>n</th>\n",
       "      <th>Missing</th>\n",
       "      <th>%Missing</th>\n",
       "      <th>Negativo</th>\n",
       "      <th>%Negativo</th>\n",
       "      <th>Zero</th>\n",
       "      <th>%Zero</th>\n",
       "      <th>Unico</th>\n",
       "      <th>Media</th>\n",
       "      <th>Min</th>\n",
       "      <th>Max</th>\n",
       "      <th>IQRMAX</th>\n",
       "      <th>3STD</th>\n",
       "      <th>P10</th>\n",
       "      <th>P25</th>\n",
       "      <th>P50</th>\n",
       "      <th>P75</th>\n",
       "      <th>P90</th>\n",
       "      <th>P95</th>\n",
       "      <th>P99</th>\n",
       "      <th>Outlier IQR</th>\n",
       "      <th>%Outlier IQR</th>\n",
       "      <th>Outlier 3SD</th>\n",
       "      <th>%Outlier 3SD</th>\n",
       "      <th>Outlier P90</th>\n",
       "      <th>%Outlier P90</th>\n",
       "      <th>Outlier P95</th>\n",
       "      <th>%Outlier P95</th>\n",
       "      <th>Outlier P99</th>\n",
       "      <th>%Outlier P99</th>\n",
       "    </tr>\n",
       "  </thead>\n",
       "  <tbody>\n",
       "    <tr>\n",
       "      <th>0</th>\n",
       "      <td>ForumTopicId_Int</td>\n",
       "      <td>905813</td>\n",
       "      <td>0</td>\n",
       "      <td>0.0</td>\n",
       "      <td>0</td>\n",
       "      <td>0.0</td>\n",
       "      <td>0</td>\n",
       "      <td>0.0</td>\n",
       "      <td>173229</td>\n",
       "      <td>156887.10</td>\n",
       "      <td>1</td>\n",
       "      <td>334148</td>\n",
       "      <td>494216.0</td>\n",
       "      <td>445733.61</td>\n",
       "      <td>31861.0</td>\n",
       "      <td>69251.0</td>\n",
       "      <td>151001.0</td>\n",
       "      <td>239237.0</td>\n",
       "      <td>296948.0</td>\n",
       "      <td>312861.0</td>\n",
       "      <td>329412.0</td>\n",
       "      <td>0</td>\n",
       "      <td>0.00</td>\n",
       "      <td>0</td>\n",
       "      <td>0.0</td>\n",
       "      <td>90580</td>\n",
       "      <td>10.00</td>\n",
       "      <td>45287</td>\n",
       "      <td>5.00</td>\n",
       "      <td>8966</td>\n",
       "      <td>0.99</td>\n",
       "    </tr>\n",
       "    <tr>\n",
       "      <th>0</th>\n",
       "      <td>Comments</td>\n",
       "      <td>905813</td>\n",
       "      <td>0</td>\n",
       "      <td>0.0</td>\n",
       "      <td>0</td>\n",
       "      <td>0.0</td>\n",
       "      <td>0</td>\n",
       "      <td>0.0</td>\n",
       "      <td>223</td>\n",
       "      <td>21.42</td>\n",
       "      <td>2</td>\n",
       "      <td>477</td>\n",
       "      <td>40.5</td>\n",
       "      <td>159.45</td>\n",
       "      <td>2.0</td>\n",
       "      <td>3.0</td>\n",
       "      <td>7.0</td>\n",
       "      <td>18.0</td>\n",
       "      <td>47.0</td>\n",
       "      <td>89.0</td>\n",
       "      <td>268.0</td>\n",
       "      <td>104071</td>\n",
       "      <td>11.49</td>\n",
       "      <td>20797</td>\n",
       "      <td>2.3</td>\n",
       "      <td>89834</td>\n",
       "      <td>9.92</td>\n",
       "      <td>44870</td>\n",
       "      <td>4.95</td>\n",
       "      <td>8812</td>\n",
       "      <td>0.97</td>\n",
       "    </tr>\n",
       "  </tbody>\n",
       "</table>\n",
       "</div>"
      ],
      "text/plain": [
       "           Variable       n  Missing  %Missing  Negativo  %Negativo  Zero  \\\n",
       "0  ForumTopicId_Int  905813        0       0.0         0        0.0     0   \n",
       "0          Comments  905813        0       0.0         0        0.0     0   \n",
       "\n",
       "   %Zero   Unico      Media  Min     Max    IQRMAX       3STD      P10  \\\n",
       "0    0.0  173229  156887.10    1  334148  494216.0  445733.61  31861.0   \n",
       "0    0.0     223      21.42    2     477      40.5     159.45      2.0   \n",
       "\n",
       "       P25       P50       P75       P90       P95       P99  Outlier IQR  \\\n",
       "0  69251.0  151001.0  239237.0  296948.0  312861.0  329412.0            0   \n",
       "0      3.0       7.0      18.0      47.0      89.0     268.0       104071   \n",
       "\n",
       "   %Outlier IQR  Outlier 3SD  %Outlier 3SD  Outlier P90  %Outlier P90  \\\n",
       "0          0.00            0           0.0        90580         10.00   \n",
       "0         11.49        20797           2.3        89834          9.92   \n",
       "\n",
       "   Outlier P95  %Outlier P95  Outlier P99  %Outlier P99  \n",
       "0        45287          5.00         8966          0.99  \n",
       "0        44870          4.95         8812          0.97  "
      ]
     },
     "execution_count": 70,
     "metadata": {},
     "output_type": "execute_result"
    }
   ],
   "source": [
    "#Decidimos prescindir de estos foros que tiene >=500 mensajes y que representan menos del 5% del dataset\n",
    "df_forum_messages = df_forum_messages[df_forum_messages[\"Comments\"]<500]\n",
    "Validator.validar_numerico(df_forum_messages,[\"ForumTopicId_Int\",\"Comments\"])"
   ]
  },
  {
   "cell_type": "code",
   "execution_count": 71,
   "metadata": {},
   "outputs": [
    {
     "data": {
      "text/html": [
       "<div>\n",
       "<style scoped>\n",
       "    .dataframe tbody tr th:only-of-type {\n",
       "        vertical-align: middle;\n",
       "    }\n",
       "\n",
       "    .dataframe tbody tr th {\n",
       "        vertical-align: top;\n",
       "    }\n",
       "\n",
       "    .dataframe thead th {\n",
       "        text-align: right;\n",
       "    }\n",
       "</style>\n",
       "<table border=\"1\" class=\"dataframe\">\n",
       "  <thead>\n",
       "    <tr style=\"text-align: right;\">\n",
       "      <th></th>\n",
       "      <th>ForumTopicId</th>\n",
       "      <th>UserId_1</th>\n",
       "      <th>UserId_2</th>\n",
       "    </tr>\n",
       "  </thead>\n",
       "  <tbody>\n",
       "    <tr>\n",
       "      <th>0</th>\n",
       "      <td>1</td>\n",
       "      <td>368</td>\n",
       "      <td>478</td>\n",
       "    </tr>\n",
       "    <tr>\n",
       "      <th>1</th>\n",
       "      <td>1</td>\n",
       "      <td>368</td>\n",
       "      <td>673</td>\n",
       "    </tr>\n",
       "    <tr>\n",
       "      <th>2</th>\n",
       "      <td>1</td>\n",
       "      <td>368</td>\n",
       "      <td>703</td>\n",
       "    </tr>\n",
       "    <tr>\n",
       "      <th>3</th>\n",
       "      <td>1</td>\n",
       "      <td>368</td>\n",
       "      <td>728</td>\n",
       "    </tr>\n",
       "    <tr>\n",
       "      <th>4</th>\n",
       "      <td>1</td>\n",
       "      <td>368</td>\n",
       "      <td>808</td>\n",
       "    </tr>\n",
       "  </tbody>\n",
       "</table>\n",
       "</div>"
      ],
      "text/plain": [
       "  ForumTopicId UserId_1 UserId_2\n",
       "0            1      368      478\n",
       "1            1      368      673\n",
       "2            1      368      703\n",
       "3            1      368      728\n",
       "4            1      368      808"
      ]
     },
     "execution_count": 71,
     "metadata": {},
     "output_type": "execute_result"
    }
   ],
   "source": [
    "df_forum_messages_graph = Combinations.create_combinations(df = df_forum_messages[[\"ForumTopicId\",\"UserId\"]],group_by = \"ForumTopicId\",name_col_1 =\"UserId_1\",name_col_2 = \"UserId_2\")\n",
    "df_forum_messages_graph.head()\n"
   ]
  },
  {
   "cell_type": "code",
   "execution_count": 72,
   "metadata": {},
   "outputs": [
    {
     "data": {
      "text/plain": [
       "(9250249, 3)"
      ]
     },
     "execution_count": 72,
     "metadata": {},
     "output_type": "execute_result"
    }
   ],
   "source": [
    "df_forum_messages_graph.shape"
   ]
  },
  {
   "cell_type": "code",
   "execution_count": 73,
   "metadata": {},
   "outputs": [
    {
     "data": {
      "text/html": [
       "<div>\n",
       "<style scoped>\n",
       "    .dataframe tbody tr th:only-of-type {\n",
       "        vertical-align: middle;\n",
       "    }\n",
       "\n",
       "    .dataframe tbody tr th {\n",
       "        vertical-align: top;\n",
       "    }\n",
       "\n",
       "    .dataframe thead th {\n",
       "        text-align: right;\n",
       "    }\n",
       "</style>\n",
       "<table border=\"1\" class=\"dataframe\">\n",
       "  <thead>\n",
       "    <tr style=\"text-align: right;\">\n",
       "      <th></th>\n",
       "      <th>UserId_1</th>\n",
       "      <th>UserId_2</th>\n",
       "      <th>weight</th>\n",
       "    </tr>\n",
       "  </thead>\n",
       "  <tbody>\n",
       "    <tr>\n",
       "      <th>0</th>\n",
       "      <td>10000014</td>\n",
       "      <td>10030651</td>\n",
       "      <td>7</td>\n",
       "    </tr>\n",
       "    <tr>\n",
       "      <th>1</th>\n",
       "      <td>10000014</td>\n",
       "      <td>10135089</td>\n",
       "      <td>1</td>\n",
       "    </tr>\n",
       "    <tr>\n",
       "      <th>2</th>\n",
       "      <td>10000014</td>\n",
       "      <td>10215702</td>\n",
       "      <td>1</td>\n",
       "    </tr>\n",
       "    <tr>\n",
       "      <th>3</th>\n",
       "      <td>10000014</td>\n",
       "      <td>10275991</td>\n",
       "      <td>4</td>\n",
       "    </tr>\n",
       "    <tr>\n",
       "      <th>4</th>\n",
       "      <td>10000014</td>\n",
       "      <td>10277092</td>\n",
       "      <td>1</td>\n",
       "    </tr>\n",
       "  </tbody>\n",
       "</table>\n",
       "</div>"
      ],
      "text/plain": [
       "   UserId_1  UserId_2  weight\n",
       "0  10000014  10030651       7\n",
       "1  10000014  10135089       1\n",
       "2  10000014  10215702       1\n",
       "3  10000014  10275991       4\n",
       "4  10000014  10277092       1"
      ]
     },
     "execution_count": 73,
     "metadata": {},
     "output_type": "execute_result"
    }
   ],
   "source": [
    "# Creamos la variable weigth que representan la frecuencia de que un usuario haya interactuado con otro en algun foro\n",
    "df_forum_messages_graph_2 = df_forum_messages_graph[[\"UserId_1\",\"UserId_2\"]].groupby([\"UserId_1\",\"UserId_2\"]).size().reset_index()\n",
    "df_forum_messages_graph_2.rename(columns={0:\"weight\"},inplace=True)\n",
    "df_forum_messages_graph_2.head()"
   ]
  },
  {
   "cell_type": "code",
   "execution_count": 74,
   "metadata": {},
   "outputs": [
    {
     "name": "stdout",
     "output_type": "stream",
     "text": [
      "(9250249, 3)\n",
      "(8085584, 3)\n"
     ]
    }
   ],
   "source": [
    "print(df_forum_messages_graph.shape)\n",
    "print(df_forum_messages_graph_2.shape)"
   ]
  },
  {
   "cell_type": "code",
   "execution_count": 75,
   "metadata": {},
   "outputs": [],
   "source": [
    "#MultiGraph\n",
    "df_forum_messages_graph_2.to_csv(r\"../data/processed/Graph_ForumMessages.csv\",index=False)"
   ]
  }
 ],
 "metadata": {
  "kernelspec": {
   "display_name": "Python 3.6.5 ('.venv': venv)",
   "language": "python",
   "name": "python3"
  },
  "language_info": {
   "codemirror_mode": {
    "name": "ipython",
    "version": 3
   },
   "file_extension": ".py",
   "mimetype": "text/x-python",
   "name": "python",
   "nbconvert_exporter": "python",
   "pygments_lexer": "ipython3",
   "version": "3.6.5"
  },
  "orig_nbformat": 4,
  "vscode": {
   "interpreter": {
    "hash": "34b652421595a0c643e374c4ab7a0ee86f5cb1455b91e0738f83360473bef1bf"
   }
  }
 },
 "nbformat": 4,
 "nbformat_minor": 2
}
