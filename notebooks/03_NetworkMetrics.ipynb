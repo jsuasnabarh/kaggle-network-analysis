{
 "cells": [
  {
   "cell_type": "markdown",
   "metadata": {},
   "source": [
    "# Libraries"
   ]
  },
  {
   "cell_type": "code",
   "execution_count": 1,
   "metadata": {},
   "outputs": [],
   "source": [
    "import sys\n",
    "import os\n",
    "directory_path = os.path.abspath(os.path.join('..'))\n",
    "utils_path = os.path.abspath(os.path.join('../utils'))\n",
    "if directory_path not in sys.path:\n",
    "    sys.path.append(directory_path)\n",
    "    sys.path.append(utils_path)"
   ]
  },
  {
   "cell_type": "code",
   "execution_count": 2,
   "metadata": {},
   "outputs": [],
   "source": [
    "import pandas as pd\n",
    "import numpy as np\n",
    "import networkx as nx\n",
    "import seaborn as sns\n",
    "import matplotlib.pyplot as plt\n",
    "import warnings\n",
    "warnings.filterwarnings(\"ignore\")\n",
    "from utils.Validator import *\n",
    "from utils.Combinations import *\n",
    "from utils.Network import *\n",
    "pd.set_option('display.max_columns', None)  \n",
    "sns.set(rc={'figure.figsize':(11.7,8.27)})"
   ]
  },
  {
   "cell_type": "markdown",
   "metadata": {},
   "source": [
    "# Digraph: User Followers"
   ]
  },
  {
   "cell_type": "code",
   "execution_count": 3,
   "metadata": {},
   "outputs": [
    {
     "data": {
      "text/html": [
       "<div>\n",
       "<style scoped>\n",
       "    .dataframe tbody tr th:only-of-type {\n",
       "        vertical-align: middle;\n",
       "    }\n",
       "\n",
       "    .dataframe tbody tr th {\n",
       "        vertical-align: top;\n",
       "    }\n",
       "\n",
       "    .dataframe thead th {\n",
       "        text-align: right;\n",
       "    }\n",
       "</style>\n",
       "<table border=\"1\" class=\"dataframe\">\n",
       "  <thead>\n",
       "    <tr style=\"text-align: right;\">\n",
       "      <th></th>\n",
       "      <th>UserId</th>\n",
       "      <th>FollowerUserId</th>\n",
       "    </tr>\n",
       "  </thead>\n",
       "  <tbody>\n",
       "    <tr>\n",
       "      <th>0</th>\n",
       "      <td>368</td>\n",
       "      <td>993</td>\n",
       "    </tr>\n",
       "    <tr>\n",
       "      <th>1</th>\n",
       "      <td>368</td>\n",
       "      <td>1902</td>\n",
       "    </tr>\n",
       "    <tr>\n",
       "      <th>2</th>\n",
       "      <td>368</td>\n",
       "      <td>1950</td>\n",
       "    </tr>\n",
       "    <tr>\n",
       "      <th>3</th>\n",
       "      <td>368</td>\n",
       "      <td>3258</td>\n",
       "    </tr>\n",
       "    <tr>\n",
       "      <th>4</th>\n",
       "      <td>368</td>\n",
       "      <td>3429</td>\n",
       "    </tr>\n",
       "  </tbody>\n",
       "</table>\n",
       "</div>"
      ],
      "text/plain": [
       "   UserId  FollowerUserId\n",
       "0     368             993\n",
       "1     368            1902\n",
       "2     368            1950\n",
       "3     368            3258\n",
       "4     368            3429"
      ]
     },
     "execution_count": 3,
     "metadata": {},
     "output_type": "execute_result"
    }
   ],
   "source": [
    "df_user_follower = pd.read_csv(\"../data/processed/DiGraph_Followers.csv\")\n",
    "df_user_follower.head()"
   ]
  },
  {
   "cell_type": "code",
   "execution_count": 4,
   "metadata": {},
   "outputs": [
    {
     "name": "stdout",
     "output_type": "stream",
     "text": [
      "Name: \n",
      "Type: DiGraph\n",
      "Number of nodes: 253893\n",
      "Number of edges: 765508\n",
      "Average in degree:   3.0151\n",
      "Average out degree:   3.0151\n"
     ]
    }
   ],
   "source": [
    "GUF = nx.from_pandas_edgelist(df_user_follower, source = \"UserId\", target = \"FollowerUserId\", create_using=nx.DiGraph())\n",
    "print(nx.info(GUF))"
   ]
  },
  {
   "cell_type": "code",
   "execution_count": 5,
   "metadata": {},
   "outputs": [
    {
     "data": {
      "text/plain": [
       "{4333519: 0.002126725378651298,\n",
       " 87114: 0.00099114808114556,\n",
       " 4956446: 0.0009757464270521383,\n",
       " 3006723: 0.0006596276295753494,\n",
       " 2357264: 0.00046691348480868794}"
      ]
     },
     "execution_count": 5,
     "metadata": {},
     "output_type": "execute_result"
    }
   ],
   "source": [
    "pagerank_centrality =nx.pagerank(GUF)\n",
    "Network.get_top_nodes(pagerank_centrality)"
   ]
  },
  {
   "cell_type": "code",
   "execution_count": 6,
   "metadata": {},
   "outputs": [],
   "source": [
    "nx.set_node_attributes(GUF, name='pagerank_cent_followers', values = pagerank_centrality)"
   ]
  },
  {
   "cell_type": "markdown",
   "metadata": {},
   "source": [
    "# Graph: Team Members"
   ]
  },
  {
   "cell_type": "code",
   "execution_count": 7,
   "metadata": {},
   "outputs": [
    {
     "data": {
      "text/html": [
       "<div>\n",
       "<style scoped>\n",
       "    .dataframe tbody tr th:only-of-type {\n",
       "        vertical-align: middle;\n",
       "    }\n",
       "\n",
       "    .dataframe tbody tr th {\n",
       "        vertical-align: top;\n",
       "    }\n",
       "\n",
       "    .dataframe thead th {\n",
       "        text-align: right;\n",
       "    }\n",
       "</style>\n",
       "<table border=\"1\" class=\"dataframe\">\n",
       "  <thead>\n",
       "    <tr style=\"text-align: right;\">\n",
       "      <th></th>\n",
       "      <th>UserId_1</th>\n",
       "      <th>UserId_2</th>\n",
       "      <th>weight</th>\n",
       "    </tr>\n",
       "  </thead>\n",
       "  <tbody>\n",
       "    <tr>\n",
       "      <th>0</th>\n",
       "      <td>10000270</td>\n",
       "      <td>8243312</td>\n",
       "      <td>3</td>\n",
       "    </tr>\n",
       "    <tr>\n",
       "      <th>1</th>\n",
       "      <td>10000270</td>\n",
       "      <td>9829581</td>\n",
       "      <td>2</td>\n",
       "    </tr>\n",
       "    <tr>\n",
       "      <th>2</th>\n",
       "      <td>1000033</td>\n",
       "      <td>1003122</td>\n",
       "      <td>1</td>\n",
       "    </tr>\n",
       "    <tr>\n",
       "      <th>3</th>\n",
       "      <td>1000033</td>\n",
       "      <td>1214207</td>\n",
       "      <td>1</td>\n",
       "    </tr>\n",
       "    <tr>\n",
       "      <th>4</th>\n",
       "      <td>1000033</td>\n",
       "      <td>1581982</td>\n",
       "      <td>1</td>\n",
       "    </tr>\n",
       "  </tbody>\n",
       "</table>\n",
       "</div>"
      ],
      "text/plain": [
       "   UserId_1  UserId_2  weight\n",
       "0  10000270   8243312       3\n",
       "1  10000270   9829581       2\n",
       "2   1000033   1003122       1\n",
       "3   1000033   1214207       1\n",
       "4   1000033   1581982       1"
      ]
     },
     "execution_count": 7,
     "metadata": {},
     "output_type": "execute_result"
    }
   ],
   "source": [
    "df_user_team = pd.read_csv(\"../data/processed/Graph_Teams.csv\")\n",
    "df_user_team.head()"
   ]
  },
  {
   "cell_type": "code",
   "execution_count": 8,
   "metadata": {},
   "outputs": [
    {
     "name": "stdout",
     "output_type": "stream",
     "text": [
      "Name: \n",
      "Type: Graph\n",
      "Number of nodes: 155730\n",
      "Number of edges: 196736\n",
      "Average degree:   2.5266\n"
     ]
    }
   ],
   "source": [
    "GUT = nx.from_pandas_edgelist(df_user_team, source = \"UserId_1\", target = \"UserId_2\",edge_attr=True, create_using=nx.Graph())\n",
    "print(nx.info(GUT))"
   ]
  },
  {
   "cell_type": "code",
   "execution_count": 9,
   "metadata": {},
   "outputs": [
    {
     "data": {
      "text/plain": [
       "{637722: 0.7050741444838826,\n",
       " 2360956: 0.7050741444838826,\n",
       " 43882: 0.017099873206441504,\n",
       " 43896: 0.016979948853551405,\n",
       " 43883: 0.0168582338863929}"
      ]
     },
     "execution_count": 9,
     "metadata": {},
     "output_type": "execute_result"
    }
   ],
   "source": [
    "eigenvector_centrality = nx.eigenvector_centrality(GUT,weight=\"weight\")\n",
    "Network.get_top_nodes(eigenvector_centrality)"
   ]
  },
  {
   "cell_type": "code",
   "execution_count": 10,
   "metadata": {},
   "outputs": [],
   "source": [
    "nx.set_node_attributes(GUT, name='eigenvector_cent_teams', values = eigenvector_centrality)"
   ]
  },
  {
   "cell_type": "markdown",
   "metadata": {},
   "source": [
    "# Graph: User Forum Messages"
   ]
  },
  {
   "cell_type": "code",
   "execution_count": 11,
   "metadata": {},
   "outputs": [
    {
     "data": {
      "text/html": [
       "<div>\n",
       "<style scoped>\n",
       "    .dataframe tbody tr th:only-of-type {\n",
       "        vertical-align: middle;\n",
       "    }\n",
       "\n",
       "    .dataframe tbody tr th {\n",
       "        vertical-align: top;\n",
       "    }\n",
       "\n",
       "    .dataframe thead th {\n",
       "        text-align: right;\n",
       "    }\n",
       "</style>\n",
       "<table border=\"1\" class=\"dataframe\">\n",
       "  <thead>\n",
       "    <tr style=\"text-align: right;\">\n",
       "      <th></th>\n",
       "      <th>UserId_1</th>\n",
       "      <th>UserId_2</th>\n",
       "      <th>weight</th>\n",
       "    </tr>\n",
       "  </thead>\n",
       "  <tbody>\n",
       "    <tr>\n",
       "      <th>0</th>\n",
       "      <td>10000014</td>\n",
       "      <td>10030651</td>\n",
       "      <td>7</td>\n",
       "    </tr>\n",
       "    <tr>\n",
       "      <th>1</th>\n",
       "      <td>10000014</td>\n",
       "      <td>10135089</td>\n",
       "      <td>1</td>\n",
       "    </tr>\n",
       "    <tr>\n",
       "      <th>2</th>\n",
       "      <td>10000014</td>\n",
       "      <td>10275991</td>\n",
       "      <td>4</td>\n",
       "    </tr>\n",
       "    <tr>\n",
       "      <th>3</th>\n",
       "      <td>10000014</td>\n",
       "      <td>10352854</td>\n",
       "      <td>1</td>\n",
       "    </tr>\n",
       "    <tr>\n",
       "      <th>4</th>\n",
       "      <td>10000014</td>\n",
       "      <td>10454992</td>\n",
       "      <td>1</td>\n",
       "    </tr>\n",
       "  </tbody>\n",
       "</table>\n",
       "</div>"
      ],
      "text/plain": [
       "   UserId_1  UserId_2  weight\n",
       "0  10000014  10030651       7\n",
       "1  10000014  10135089       1\n",
       "2  10000014  10275991       4\n",
       "3  10000014  10352854       1\n",
       "4  10000014  10454992       1"
      ]
     },
     "execution_count": 11,
     "metadata": {},
     "output_type": "execute_result"
    }
   ],
   "source": [
    "df_user_forum_messages = pd.read_csv(\"../data/processed/Graph_ForumMessages.csv\")\n",
    "df_user_forum_messages.head()"
   ]
  },
  {
   "cell_type": "code",
   "execution_count": 12,
   "metadata": {},
   "outputs": [
    {
     "name": "stdout",
     "output_type": "stream",
     "text": [
      "Name: \n",
      "Type: Graph\n",
      "Number of nodes: 101284\n",
      "Number of edges: 4306750\n",
      "Average degree:  85.0430\n"
     ]
    }
   ],
   "source": [
    "GUM = nx.from_pandas_edgelist(df_user_forum_messages, source = \"UserId_1\", target = \"UserId_2\",edge_attr=True, create_using=nx.Graph())\n",
    "print(nx.info(GUM))"
   ]
  },
  {
   "cell_type": "code",
   "execution_count": 13,
   "metadata": {},
   "outputs": [
    {
     "data": {
      "text/plain": [
       "{3012786: 0.3803401654659919,\n",
       " 3399844: 0.24816810564171174,\n",
       " 3490494: 0.24719264760265058,\n",
       " 5274255: 0.20270009941050648,\n",
       " 4956446: 0.1942832969748979}"
      ]
     },
     "execution_count": 13,
     "metadata": {},
     "output_type": "execute_result"
    }
   ],
   "source": [
    "eigenvector_centrality = nx.eigenvector_centrality(GUM,weight=\"weight\")\n",
    "Network.get_top_nodes(eigenvector_centrality)"
   ]
  },
  {
   "cell_type": "code",
   "execution_count": 14,
   "metadata": {},
   "outputs": [],
   "source": [
    "nx.set_node_attributes(GUM, name='eigenvector_cent_forums', values = eigenvector_centrality)"
   ]
  },
  {
   "cell_type": "markdown",
   "metadata": {},
   "source": [
    "# Gephi Export"
   ]
  },
  {
   "cell_type": "code",
   "execution_count": 20,
   "metadata": {},
   "outputs": [],
   "source": [
    "nx.write_gexf(GUF, r\"../data/gephi/GUF.gexf\")\n",
    "nx.write_gexf(GUT, r\"../data/gephi/GUT.gexf\")\n",
    "nx.write_gexf(GUM, r\"../data/gephi/GUM.gexf\")"
   ]
  },
  {
   "cell_type": "markdown",
   "metadata": {},
   "source": [
    "# To Dataframe"
   ]
  },
  {
   "cell_type": "code",
   "execution_count": 15,
   "metadata": {},
   "outputs": [],
   "source": [
    "df_GUF = pd.DataFrame.from_dict(dict(GUF.nodes(data=True)), orient='index').reset_index()\n",
    "df_GUF = df_GUF.rename(columns = {'index':'UserId'})\n",
    "\n",
    "df_GUT = pd.DataFrame.from_dict(dict(GUT.nodes(data=True)), orient='index').reset_index()\n",
    "df_GUT = df_GUT.rename(columns = {'index':'UserId'})\n",
    "\n",
    "df_GUM = pd.DataFrame.from_dict(dict(GUM.nodes(data=True)), orient='index').reset_index()\n",
    "df_GUM = df_GUM.rename(columns = {'index':'UserId'})\n",
    "\n",
    "df_GUF[\"UserId\"] = df_GUF[\"UserId\"].astype(str)\n",
    "df_GUT[\"UserId\"] = df_GUT[\"UserId\"].astype(str)\n",
    "df_GUM[\"UserId\"] = df_GUM[\"UserId\"].astype(str)"
   ]
  },
  {
   "cell_type": "code",
   "execution_count": 16,
   "metadata": {},
   "outputs": [
    {
     "data": {
      "text/html": [
       "<div>\n",
       "<style scoped>\n",
       "    .dataframe tbody tr th:only-of-type {\n",
       "        vertical-align: middle;\n",
       "    }\n",
       "\n",
       "    .dataframe tbody tr th {\n",
       "        vertical-align: top;\n",
       "    }\n",
       "\n",
       "    .dataframe thead th {\n",
       "        text-align: right;\n",
       "    }\n",
       "</style>\n",
       "<table border=\"1\" class=\"dataframe\">\n",
       "  <thead>\n",
       "    <tr style=\"text-align: right;\">\n",
       "      <th></th>\n",
       "      <th>UserId</th>\n",
       "      <th>UserName</th>\n",
       "      <th>DisplayName</th>\n",
       "    </tr>\n",
       "  </thead>\n",
       "  <tbody>\n",
       "    <tr>\n",
       "      <th>0</th>\n",
       "      <td>368</td>\n",
       "      <td>antgoldbloom</td>\n",
       "      <td>Anthony Goldbloom</td>\n",
       "    </tr>\n",
       "    <tr>\n",
       "      <th>1</th>\n",
       "      <td>381</td>\n",
       "      <td>iguyon</td>\n",
       "      <td>Isabelle</td>\n",
       "    </tr>\n",
       "    <tr>\n",
       "      <th>2</th>\n",
       "      <td>389</td>\n",
       "      <td>anandjeyahar</td>\n",
       "      <td>Anand Jeyahar</td>\n",
       "    </tr>\n",
       "    <tr>\n",
       "      <th>3</th>\n",
       "      <td>392</td>\n",
       "      <td>jmeynet</td>\n",
       "      <td>Julien Meynet</td>\n",
       "    </tr>\n",
       "    <tr>\n",
       "      <th>4</th>\n",
       "      <td>394</td>\n",
       "      <td>m4xl1n</td>\n",
       "      <td>m4xl1n</td>\n",
       "    </tr>\n",
       "  </tbody>\n",
       "</table>\n",
       "</div>"
      ],
      "text/plain": [
       "  UserId      UserName        DisplayName\n",
       "0    368  antgoldbloom  Anthony Goldbloom\n",
       "1    381        iguyon           Isabelle\n",
       "2    389  anandjeyahar      Anand Jeyahar\n",
       "3    392       jmeynet      Julien Meynet\n",
       "4    394        m4xl1n             m4xl1n"
      ]
     },
     "execution_count": 16,
     "metadata": {},
     "output_type": "execute_result"
    }
   ],
   "source": [
    "df_users = pd.read_csv(r\"../data/interim/Users.csv\",dtype=str)\n",
    "df_users.head()"
   ]
  },
  {
   "cell_type": "code",
   "execution_count": 17,
   "metadata": {},
   "outputs": [
    {
     "data": {
      "text/html": [
       "<div>\n",
       "<style scoped>\n",
       "    .dataframe tbody tr th:only-of-type {\n",
       "        vertical-align: middle;\n",
       "    }\n",
       "\n",
       "    .dataframe tbody tr th {\n",
       "        vertical-align: top;\n",
       "    }\n",
       "\n",
       "    .dataframe thead th {\n",
       "        text-align: right;\n",
       "    }\n",
       "</style>\n",
       "<table border=\"1\" class=\"dataframe\">\n",
       "  <thead>\n",
       "    <tr style=\"text-align: right;\">\n",
       "      <th></th>\n",
       "      <th>UserId</th>\n",
       "      <th>UserName</th>\n",
       "      <th>DisplayName</th>\n",
       "      <th>pagerank_cent_followers</th>\n",
       "      <th>eigenvector_cent_teams</th>\n",
       "      <th>eigenvector_cent_forums</th>\n",
       "    </tr>\n",
       "  </thead>\n",
       "  <tbody>\n",
       "    <tr>\n",
       "      <th>0</th>\n",
       "      <td>368</td>\n",
       "      <td>antgoldbloom</td>\n",
       "      <td>Anthony Goldbloom</td>\n",
       "      <td>0.000003</td>\n",
       "      <td>9.451808e-26</td>\n",
       "      <td>0.001207</td>\n",
       "    </tr>\n",
       "    <tr>\n",
       "      <th>1</th>\n",
       "      <td>381</td>\n",
       "      <td>iguyon</td>\n",
       "      <td>Isabelle</td>\n",
       "      <td>0.000003</td>\n",
       "      <td>NaN</td>\n",
       "      <td>0.000052</td>\n",
       "    </tr>\n",
       "    <tr>\n",
       "      <th>2</th>\n",
       "      <td>389</td>\n",
       "      <td>anandjeyahar</td>\n",
       "      <td>Anand Jeyahar</td>\n",
       "      <td>0.000003</td>\n",
       "      <td>1.171515e-26</td>\n",
       "      <td>0.000033</td>\n",
       "    </tr>\n",
       "    <tr>\n",
       "      <th>3</th>\n",
       "      <td>392</td>\n",
       "      <td>jmeynet</td>\n",
       "      <td>Julien Meynet</td>\n",
       "      <td>0.000003</td>\n",
       "      <td>NaN</td>\n",
       "      <td>0.000001</td>\n",
       "    </tr>\n",
       "    <tr>\n",
       "      <th>4</th>\n",
       "      <td>394</td>\n",
       "      <td>m4xl1n</td>\n",
       "      <td>m4xl1n</td>\n",
       "      <td>NaN</td>\n",
       "      <td>NaN</td>\n",
       "      <td>NaN</td>\n",
       "    </tr>\n",
       "  </tbody>\n",
       "</table>\n",
       "</div>"
      ],
      "text/plain": [
       "  UserId      UserName        DisplayName  pagerank_cent_followers  \\\n",
       "0    368  antgoldbloom  Anthony Goldbloom                 0.000003   \n",
       "1    381        iguyon           Isabelle                 0.000003   \n",
       "2    389  anandjeyahar      Anand Jeyahar                 0.000003   \n",
       "3    392       jmeynet      Julien Meynet                 0.000003   \n",
       "4    394        m4xl1n             m4xl1n                      NaN   \n",
       "\n",
       "   eigenvector_cent_teams  eigenvector_cent_forums  \n",
       "0            9.451808e-26                 0.001207  \n",
       "1                     NaN                 0.000052  \n",
       "2            1.171515e-26                 0.000033  \n",
       "3                     NaN                 0.000001  \n",
       "4                     NaN                      NaN  "
      ]
     },
     "execution_count": 17,
     "metadata": {},
     "output_type": "execute_result"
    }
   ],
   "source": [
    "df_users_net = df_users.merge(df_GUF,how=\"left\",on=[\"UserId\"]).merge(df_GUT,how=\"left\",on=[\"UserId\"]).merge(df_GUM,how=\"left\",on=[\"UserId\"])\n",
    "df_users_net.head()"
   ]
  },
  {
   "cell_type": "code",
   "execution_count": 18,
   "metadata": {},
   "outputs": [
    {
     "data": {
      "text/html": [
       "<div>\n",
       "<style scoped>\n",
       "    .dataframe tbody tr th:only-of-type {\n",
       "        vertical-align: middle;\n",
       "    }\n",
       "\n",
       "    .dataframe tbody tr th {\n",
       "        vertical-align: top;\n",
       "    }\n",
       "\n",
       "    .dataframe thead th {\n",
       "        text-align: right;\n",
       "    }\n",
       "</style>\n",
       "<table border=\"1\" class=\"dataframe\">\n",
       "  <thead>\n",
       "    <tr style=\"text-align: right;\">\n",
       "      <th></th>\n",
       "      <th>Variable</th>\n",
       "      <th>n</th>\n",
       "      <th>Missing</th>\n",
       "      <th>%Missing</th>\n",
       "      <th>Negativo</th>\n",
       "      <th>%Negativo</th>\n",
       "      <th>Unico</th>\n",
       "      <th>Media</th>\n",
       "      <th>Min</th>\n",
       "      <th>Max</th>\n",
       "      <th>IQRMAX</th>\n",
       "      <th>3STD</th>\n",
       "      <th>P50</th>\n",
       "      <th>P75</th>\n",
       "      <th>P90</th>\n",
       "      <th>P95</th>\n",
       "      <th>P99</th>\n",
       "      <th>Outlier IQR</th>\n",
       "      <th>%Outlier IQR</th>\n",
       "      <th>Outlier 3SD</th>\n",
       "      <th>%Outlier 3SD</th>\n",
       "      <th>Outlier P90</th>\n",
       "      <th>%Outlier P90</th>\n",
       "      <th>Outlier P95</th>\n",
       "      <th>%Outlier P95</th>\n",
       "      <th>Outlier P99</th>\n",
       "      <th>%Outlier P99</th>\n",
       "    </tr>\n",
       "  </thead>\n",
       "  <tbody>\n",
       "    <tr>\n",
       "      <th>0</th>\n",
       "      <td>pagerank_cent_followers</td>\n",
       "      <td>194147</td>\n",
       "      <td>112354</td>\n",
       "      <td>57.87</td>\n",
       "      <td>0</td>\n",
       "      <td>0.0</td>\n",
       "      <td>37369</td>\n",
       "      <td>0.0</td>\n",
       "      <td>0.0</td>\n",
       "      <td>0.00</td>\n",
       "      <td>0.0</td>\n",
       "      <td>0.00</td>\n",
       "      <td>0.0</td>\n",
       "      <td>0.0</td>\n",
       "      <td>0.0</td>\n",
       "      <td>0.0</td>\n",
       "      <td>0.0</td>\n",
       "      <td>12103</td>\n",
       "      <td>6.23</td>\n",
       "      <td>181</td>\n",
       "      <td>0.09</td>\n",
       "      <td>7718</td>\n",
       "      <td>3.98</td>\n",
       "      <td>4090</td>\n",
       "      <td>2.11</td>\n",
       "      <td>818</td>\n",
       "      <td>0.42</td>\n",
       "    </tr>\n",
       "    <tr>\n",
       "      <th>0</th>\n",
       "      <td>eigenvector_cent_teams</td>\n",
       "      <td>194147</td>\n",
       "      <td>155035</td>\n",
       "      <td>79.85</td>\n",
       "      <td>0</td>\n",
       "      <td>0.0</td>\n",
       "      <td>13350</td>\n",
       "      <td>0.0</td>\n",
       "      <td>0.0</td>\n",
       "      <td>0.71</td>\n",
       "      <td>0.0</td>\n",
       "      <td>0.02</td>\n",
       "      <td>0.0</td>\n",
       "      <td>0.0</td>\n",
       "      <td>0.0</td>\n",
       "      <td>0.0</td>\n",
       "      <td>0.0</td>\n",
       "      <td>9671</td>\n",
       "      <td>4.98</td>\n",
       "      <td>7</td>\n",
       "      <td>0.00</td>\n",
       "      <td>3912</td>\n",
       "      <td>2.01</td>\n",
       "      <td>1956</td>\n",
       "      <td>1.01</td>\n",
       "      <td>392</td>\n",
       "      <td>0.20</td>\n",
       "    </tr>\n",
       "    <tr>\n",
       "      <th>0</th>\n",
       "      <td>eigenvector_cent_forums</td>\n",
       "      <td>194147</td>\n",
       "      <td>92863</td>\n",
       "      <td>47.83</td>\n",
       "      <td>0</td>\n",
       "      <td>0.0</td>\n",
       "      <td>63858</td>\n",
       "      <td>0.0</td>\n",
       "      <td>0.0</td>\n",
       "      <td>0.38</td>\n",
       "      <td>0.0</td>\n",
       "      <td>0.01</td>\n",
       "      <td>0.0</td>\n",
       "      <td>0.0</td>\n",
       "      <td>0.0</td>\n",
       "      <td>0.0</td>\n",
       "      <td>0.0</td>\n",
       "      <td>10522</td>\n",
       "      <td>5.42</td>\n",
       "      <td>481</td>\n",
       "      <td>0.25</td>\n",
       "      <td>10129</td>\n",
       "      <td>5.22</td>\n",
       "      <td>5065</td>\n",
       "      <td>2.61</td>\n",
       "      <td>1013</td>\n",
       "      <td>0.52</td>\n",
       "    </tr>\n",
       "  </tbody>\n",
       "</table>\n",
       "</div>"
      ],
      "text/plain": [
       "                  Variable       n  Missing  %Missing  Negativo  %Negativo  \\\n",
       "0  pagerank_cent_followers  194147   112354     57.87         0        0.0   \n",
       "0   eigenvector_cent_teams  194147   155035     79.85         0        0.0   \n",
       "0  eigenvector_cent_forums  194147    92863     47.83         0        0.0   \n",
       "\n",
       "   Unico  Media  Min   Max  IQRMAX  3STD  P50  P75  P90  P95  P99  \\\n",
       "0  37369    0.0  0.0  0.00     0.0  0.00  0.0  0.0  0.0  0.0  0.0   \n",
       "0  13350    0.0  0.0  0.71     0.0  0.02  0.0  0.0  0.0  0.0  0.0   \n",
       "0  63858    0.0  0.0  0.38     0.0  0.01  0.0  0.0  0.0  0.0  0.0   \n",
       "\n",
       "   Outlier IQR  %Outlier IQR  Outlier 3SD  %Outlier 3SD  Outlier P90  \\\n",
       "0        12103          6.23          181          0.09         7718   \n",
       "0         9671          4.98            7          0.00         3912   \n",
       "0        10522          5.42          481          0.25        10129   \n",
       "\n",
       "   %Outlier P90  Outlier P95  %Outlier P95  Outlier P99  %Outlier P99  \n",
       "0          3.98         4090          2.11          818          0.42  \n",
       "0          2.01         1956          1.01          392          0.20  \n",
       "0          5.22         5065          2.61         1013          0.52  "
      ]
     },
     "execution_count": 18,
     "metadata": {},
     "output_type": "execute_result"
    }
   ],
   "source": [
    "Validator.validar_numerico(df_users_net,[\"pagerank_cent_followers\",\"eigenvector_cent_teams\",\"eigenvector_cent_forums\"])"
   ]
  },
  {
   "cell_type": "code",
   "execution_count": 19,
   "metadata": {},
   "outputs": [],
   "source": [
    "# Completamos con -1 todos los valores nulos para las 3 metricas\n",
    "df_users_net.fillna(-1,inplace=True)"
   ]
  },
  {
   "cell_type": "code",
   "execution_count": 20,
   "metadata": {},
   "outputs": [],
   "source": [
    "#Dataset Networks\n",
    "df_users_net.to_csv(r\"../data/processed/UserNetworksMetrics.csv\",index=False)"
   ]
  }
 ],
 "metadata": {
  "kernelspec": {
   "display_name": "Python 3.6.5 ('.venv': venv)",
   "language": "python",
   "name": "python3"
  },
  "language_info": {
   "codemirror_mode": {
    "name": "ipython",
    "version": 3
   },
   "file_extension": ".py",
   "mimetype": "text/x-python",
   "name": "python",
   "nbconvert_exporter": "python",
   "pygments_lexer": "ipython3",
   "version": "3.6.5"
  },
  "orig_nbformat": 4,
  "vscode": {
   "interpreter": {
    "hash": "34b652421595a0c643e374c4ab7a0ee86f5cb1455b91e0738f83360473bef1bf"
   }
  }
 },
 "nbformat": 4,
 "nbformat_minor": 2
}
