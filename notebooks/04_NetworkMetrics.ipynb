{
 "cells": [
  {
   "cell_type": "markdown",
   "metadata": {},
   "source": [
    "# Libraries"
   ]
  },
  {
   "cell_type": "code",
   "execution_count": 1,
   "metadata": {},
   "outputs": [],
   "source": [
    "import sys\n",
    "import os\n",
    "directory_path = os.path.abspath(os.path.join('..'))\n",
    "utils_path = os.path.abspath(os.path.join('../utils'))\n",
    "if directory_path not in sys.path:\n",
    "    sys.path.append(directory_path)\n",
    "    sys.path.append(utils_path)"
   ]
  },
  {
   "cell_type": "code",
   "execution_count": 2,
   "metadata": {},
   "outputs": [],
   "source": [
    "import pandas as pd\n",
    "import numpy as np\n",
    "import networkx as nx\n",
    "import seaborn as sns\n",
    "import matplotlib.pyplot as plt\n",
    "from sklearn.preprocessing import MinMaxScaler\n",
    "import warnings\n",
    "warnings.filterwarnings(\"ignore\")\n",
    "from utils.Validator import *\n",
    "from utils.Combinations import *\n",
    "from utils.NetworkDraw import *\n",
    "pd.set_option('display.max_columns', None)\n",
    "sns.set(rc={'figure.figsize':(11.7,8.27)})"
   ]
  },
  {
   "cell_type": "markdown",
   "metadata": {},
   "source": [
    "# Digraph: User Followers"
   ]
  },
  {
   "cell_type": "code",
   "execution_count": 3,
   "metadata": {},
   "outputs": [
    {
     "data": {
      "text/html": [
       "<div>\n",
       "<style scoped>\n",
       "    .dataframe tbody tr th:only-of-type {\n",
       "        vertical-align: middle;\n",
       "    }\n",
       "\n",
       "    .dataframe tbody tr th {\n",
       "        vertical-align: top;\n",
       "    }\n",
       "\n",
       "    .dataframe thead th {\n",
       "        text-align: right;\n",
       "    }\n",
       "</style>\n",
       "<table border=\"1\" class=\"dataframe\">\n",
       "  <thead>\n",
       "    <tr style=\"text-align: right;\">\n",
       "      <th></th>\n",
       "      <th>UserId</th>\n",
       "      <th>FollowerUserId</th>\n",
       "    </tr>\n",
       "  </thead>\n",
       "  <tbody>\n",
       "    <tr>\n",
       "      <th>0</th>\n",
       "      <td>368</td>\n",
       "      <td>993</td>\n",
       "    </tr>\n",
       "    <tr>\n",
       "      <th>1</th>\n",
       "      <td>368</td>\n",
       "      <td>1902</td>\n",
       "    </tr>\n",
       "    <tr>\n",
       "      <th>2</th>\n",
       "      <td>368</td>\n",
       "      <td>1950</td>\n",
       "    </tr>\n",
       "    <tr>\n",
       "      <th>3</th>\n",
       "      <td>368</td>\n",
       "      <td>3258</td>\n",
       "    </tr>\n",
       "    <tr>\n",
       "      <th>4</th>\n",
       "      <td>368</td>\n",
       "      <td>3429</td>\n",
       "    </tr>\n",
       "  </tbody>\n",
       "</table>\n",
       "</div>"
      ],
      "text/plain": [
       "   UserId  FollowerUserId\n",
       "0     368             993\n",
       "1     368            1902\n",
       "2     368            1950\n",
       "3     368            3258\n",
       "4     368            3429"
      ]
     },
     "execution_count": 3,
     "metadata": {},
     "output_type": "execute_result"
    }
   ],
   "source": [
    "df_user_follower = pd.read_csv(\"../data/processed/DiGraph_Followers.csv\")\n",
    "df_user_follower.head()"
   ]
  },
  {
   "cell_type": "code",
   "execution_count": 4,
   "metadata": {},
   "outputs": [
    {
     "name": "stdout",
     "output_type": "stream",
     "text": [
      "Name: \n",
      "Type: DiGraph\n",
      "Number of nodes: 365493\n",
      "Number of edges: 927918\n",
      "Average in degree:   2.5388\n",
      "Average out degree:   2.5388\n"
     ]
    }
   ],
   "source": [
    "GUF = nx.from_pandas_edgelist(df_user_follower, source = \"FollowerUserId\", target = \"UserId\", create_using=nx.DiGraph())\n",
    "print(nx.info(GUF))"
   ]
  },
  {
   "cell_type": "code",
   "execution_count": 5,
   "metadata": {},
   "outputs": [
    {
     "data": {
      "text/plain": [
       "{5309: 16840, 71388: 13751, 708283: 13216, 1723677: 11607, 54836: 10725}"
      ]
     },
     "execution_count": 5,
     "metadata": {},
     "output_type": "execute_result"
    }
   ],
   "source": [
    "indeg=GUF.in_degree()\n",
    "indeg = dict(indeg)\n",
    "NetworkDraw.get_top_nodes(indeg)"
   ]
  },
  {
   "cell_type": "code",
   "execution_count": 6,
   "metadata": {},
   "outputs": [
    {
     "data": {
      "text/plain": [
       "{4333519: 3310, 87114: 2430, 2357264: 1367, 4348347: 1213, 4956446: 905}"
      ]
     },
     "execution_count": 6,
     "metadata": {},
     "output_type": "execute_result"
    }
   ],
   "source": [
    "outdeg=GUF.out_degree()\n",
    "outdeg = dict(outdeg)\n",
    "NetworkDraw.get_top_nodes(outdeg)"
   ]
  },
  {
   "cell_type": "code",
   "execution_count": 7,
   "metadata": {},
   "outputs": [
    {
     "data": {
      "text/plain": [
       "{5309: 0.04607487988793188,\n",
       " 71388: 0.03762325851181421,\n",
       " 708283: 0.036159478182833,\n",
       " 1723677: 0.03175719304389699,\n",
       " 54836: 0.02934400752957657}"
      ]
     },
     "execution_count": 7,
     "metadata": {},
     "output_type": "execute_result"
    }
   ],
   "source": [
    "#The degree centrality values are normalized by dividing by the maximum possible degree in a simple graph n-1 where n is the number of nodes in G.\n",
    "degree_centrality =nx.in_degree_centrality(GUF)\n",
    "NetworkDraw.get_top_nodes(degree_centrality)"
   ]
  },
  {
   "cell_type": "code",
   "execution_count": 8,
   "metadata": {},
   "outputs": [
    {
     "data": {
      "text/plain": [
       "{5309: 0.02708929779719563,\n",
       " 417337: 0.00830070114376981,\n",
       " 708283: 0.00753479591606326,\n",
       " 1723677: 0.007476415943191747,\n",
       " 71388: 0.007169006637838913}"
      ]
     },
     "execution_count": 8,
     "metadata": {},
     "output_type": "execute_result"
    }
   ],
   "source": [
    "pagerank_centrality =nx.pagerank(GUF)\n",
    "NetworkDraw.get_top_nodes(pagerank_centrality)"
   ]
  },
  {
   "cell_type": "code",
   "execution_count": 9,
   "metadata": {},
   "outputs": [],
   "source": [
    "nx.set_node_attributes(GUF, name='in_degree_followers', values=indeg)\n",
    "nx.set_node_attributes(GUF, name='out_degree_followers', values=outdeg)\n",
    "nx.set_node_attributes(GUF, name='in_degree_cent_followers', values = degree_centrality)\n",
    "nx.set_node_attributes(GUF, name='pagerank_cent_followers', values = pagerank_centrality)"
   ]
  },
  {
   "cell_type": "code",
   "execution_count": 10,
   "metadata": {},
   "outputs": [],
   "source": [
    "nx.write_gexf(GUF, r\"../data/processed/GUF.gexf\")\n",
    "del GUF, df_user_follower, indeg, outdeg, degree_centrality, pagerank_centrality"
   ]
  },
  {
   "cell_type": "markdown",
   "metadata": {},
   "source": [
    "# Graph: Team Members"
   ]
  },
  {
   "cell_type": "code",
   "execution_count": 3,
   "metadata": {},
   "outputs": [
    {
     "data": {
      "text/html": [
       "<div>\n",
       "<style scoped>\n",
       "    .dataframe tbody tr th:only-of-type {\n",
       "        vertical-align: middle;\n",
       "    }\n",
       "\n",
       "    .dataframe tbody tr th {\n",
       "        vertical-align: top;\n",
       "    }\n",
       "\n",
       "    .dataframe thead th {\n",
       "        text-align: right;\n",
       "    }\n",
       "</style>\n",
       "<table border=\"1\" class=\"dataframe\">\n",
       "  <thead>\n",
       "    <tr style=\"text-align: right;\">\n",
       "      <th></th>\n",
       "      <th>UserId_1</th>\n",
       "      <th>UserId_2</th>\n",
       "      <th>weight</th>\n",
       "    </tr>\n",
       "  </thead>\n",
       "  <tbody>\n",
       "    <tr>\n",
       "      <th>0</th>\n",
       "      <td>10000270</td>\n",
       "      <td>8243312</td>\n",
       "      <td>3</td>\n",
       "    </tr>\n",
       "    <tr>\n",
       "      <th>1</th>\n",
       "      <td>10000270</td>\n",
       "      <td>9829581</td>\n",
       "      <td>2</td>\n",
       "    </tr>\n",
       "    <tr>\n",
       "      <th>2</th>\n",
       "      <td>1000033</td>\n",
       "      <td>1003122</td>\n",
       "      <td>1</td>\n",
       "    </tr>\n",
       "    <tr>\n",
       "      <th>3</th>\n",
       "      <td>1000033</td>\n",
       "      <td>1214207</td>\n",
       "      <td>1</td>\n",
       "    </tr>\n",
       "    <tr>\n",
       "      <th>4</th>\n",
       "      <td>1000033</td>\n",
       "      <td>1581982</td>\n",
       "      <td>1</td>\n",
       "    </tr>\n",
       "  </tbody>\n",
       "</table>\n",
       "</div>"
      ],
      "text/plain": [
       "   UserId_1  UserId_2  weight\n",
       "0  10000270   8243312       3\n",
       "1  10000270   9829581       2\n",
       "2   1000033   1003122       1\n",
       "3   1000033   1214207       1\n",
       "4   1000033   1581982       1"
      ]
     },
     "execution_count": 3,
     "metadata": {},
     "output_type": "execute_result"
    }
   ],
   "source": [
    "df_user_team = pd.read_csv(\"../data/processed/Graph_Teams.csv\")\n",
    "df_user_team.head()"
   ]
  },
  {
   "cell_type": "code",
   "execution_count": 4,
   "metadata": {},
   "outputs": [
    {
     "name": "stdout",
     "output_type": "stream",
     "text": [
      "Name: \n",
      "Type: Graph\n",
      "Number of nodes: 155730\n",
      "Number of edges: 196736\n",
      "Average degree:   2.5266\n"
     ]
    }
   ],
   "source": [
    "GUT = nx.from_pandas_edgelist(df_user_team, source = \"UserId_1\", target = \"UserId_2\",edge_attr=True, create_using=nx.Graph())\n",
    "print(nx.info(GUT))"
   ]
  },
  {
   "cell_type": "code",
   "execution_count": 5,
   "metadata": {},
   "outputs": [
    {
     "data": {
      "text/plain": [
       "{54836: 133, 1192776: 110, 18463: 99, 111640: 92, 5309: 90}"
      ]
     },
     "execution_count": 5,
     "metadata": {},
     "output_type": "execute_result"
    }
   ],
   "source": [
    "degrees=GUT.degree()\n",
    "degrees = dict(degrees)\n",
    "NetworkDraw.get_top_nodes(degrees)"
   ]
  },
  {
   "cell_type": "code",
   "execution_count": 6,
   "metadata": {},
   "outputs": [
    {
     "data": {
      "text/plain": [
       "{54836: 0.0008540477367734975,\n",
       " 1192776: 0.0007063552710156746,\n",
       " 18463: 0.0006357197439141072,\n",
       " 111640: 0.0005907698630312915,\n",
       " 5309: 0.0005779270399219156}"
      ]
     },
     "execution_count": 6,
     "metadata": {},
     "output_type": "execute_result"
    }
   ],
   "source": [
    "degree_centrality =nx.degree_centrality(GUT)\n",
    "NetworkDraw.get_top_nodes(degree_centrality)"
   ]
  },
  {
   "cell_type": "code",
   "execution_count": 7,
   "metadata": {},
   "outputs": [
    {
     "data": {
      "text/plain": [
       "{637722: 0.7050741444838826,\n",
       " 2360956: 0.7050741444838826,\n",
       " 43882: 0.017099873206441504,\n",
       " 43896: 0.016979948853551405,\n",
       " 43883: 0.0168582338863929}"
      ]
     },
     "execution_count": 7,
     "metadata": {},
     "output_type": "execute_result"
    }
   ],
   "source": [
    "eigenvector_centrality = nx.eigenvector_centrality(GUT,weight=\"weight\")\n",
    "NetworkDraw.get_top_nodes(eigenvector_centrality)"
   ]
  },
  {
   "cell_type": "code",
   "execution_count": 8,
   "metadata": {},
   "outputs": [],
   "source": [
    "nx.set_node_attributes(GUT, name='degree_teams', values=degrees)\n",
    "nx.set_node_attributes(GUT, name='degree_cent_teams', values=degree_centrality)\n",
    "nx.set_node_attributes(GUT, name='eigenvector_cent_teams', values = eigenvector_centrality)"
   ]
  },
  {
   "cell_type": "code",
   "execution_count": 9,
   "metadata": {},
   "outputs": [],
   "source": [
    "nx.write_gexf(GUT, r\"../data/processed/GUT.gexf\")\n",
    "del GUT, df_user_team, degrees, degree_centrality, eigenvector_centrality"
   ]
  },
  {
   "cell_type": "markdown",
   "metadata": {},
   "source": [
    "# Graph: Competition Participant"
   ]
  },
  {
   "cell_type": "code",
   "execution_count": 18,
   "metadata": {},
   "outputs": [
    {
     "data": {
      "text/html": [
       "<div>\n",
       "<style scoped>\n",
       "    .dataframe tbody tr th:only-of-type {\n",
       "        vertical-align: middle;\n",
       "    }\n",
       "\n",
       "    .dataframe tbody tr th {\n",
       "        vertical-align: top;\n",
       "    }\n",
       "\n",
       "    .dataframe thead th {\n",
       "        text-align: right;\n",
       "    }\n",
       "</style>\n",
       "<table border=\"1\" class=\"dataframe\">\n",
       "  <thead>\n",
       "    <tr style=\"text-align: right;\">\n",
       "      <th></th>\n",
       "      <th>UserId_1</th>\n",
       "      <th>UserId_2</th>\n",
       "      <th>weight</th>\n",
       "    </tr>\n",
       "  </thead>\n",
       "  <tbody>\n",
       "    <tr>\n",
       "      <th>0</th>\n",
       "      <td>1000025</td>\n",
       "      <td>10148801</td>\n",
       "      <td>1</td>\n",
       "    </tr>\n",
       "    <tr>\n",
       "      <th>1</th>\n",
       "      <td>1000025</td>\n",
       "      <td>10668599</td>\n",
       "      <td>1</td>\n",
       "    </tr>\n",
       "    <tr>\n",
       "      <th>2</th>\n",
       "      <td>1000025</td>\n",
       "      <td>1138223</td>\n",
       "      <td>1</td>\n",
       "    </tr>\n",
       "    <tr>\n",
       "      <th>3</th>\n",
       "      <td>1000025</td>\n",
       "      <td>1169450</td>\n",
       "      <td>1</td>\n",
       "    </tr>\n",
       "    <tr>\n",
       "      <th>4</th>\n",
       "      <td>1000025</td>\n",
       "      <td>1299826</td>\n",
       "      <td>1</td>\n",
       "    </tr>\n",
       "  </tbody>\n",
       "</table>\n",
       "</div>"
      ],
      "text/plain": [
       "   UserId_1  UserId_2  weight\n",
       "0   1000025  10148801       1\n",
       "1   1000025  10668599       1\n",
       "2   1000025   1138223       1\n",
       "3   1000025   1169450       1\n",
       "4   1000025   1299826       1"
      ]
     },
     "execution_count": 18,
     "metadata": {},
     "output_type": "execute_result"
    }
   ],
   "source": [
    "df_comp_part = pd.read_csv(\"../data/processed/Graph_CompParticipant.csv\")\n",
    "df_comp_part.head()"
   ]
  },
  {
   "cell_type": "code",
   "execution_count": 19,
   "metadata": {},
   "outputs": [
    {
     "name": "stdout",
     "output_type": "stream",
     "text": [
      "Name: \n",
      "Type: Graph\n",
      "Number of nodes: 157158\n",
      "Number of edges: 10068094\n",
      "Average degree: 128.1270\n"
     ]
    }
   ],
   "source": [
    "GUP = nx.from_pandas_edgelist(df_comp_part, source = \"UserId_1\", target = \"UserId_2\",edge_attr=True, create_using=nx.Graph())\n",
    "print(nx.info(GUP))"
   ]
  },
  {
   "cell_type": "code",
   "execution_count": 20,
   "metadata": {},
   "outputs": [
    {
     "data": {
      "text/plain": [
       "{5030586: 44655, 929585: 32448, 2121639: 10856, 18463: 6711, 1283757: 6060}"
      ]
     },
     "execution_count": 20,
     "metadata": {},
     "output_type": "execute_result"
    }
   ],
   "source": [
    "degrees=GUP.degree()\n",
    "degrees = dict(degrees)\n",
    "NetworkDraw.get_top_nodes(degrees)"
   ]
  },
  {
   "cell_type": "code",
   "execution_count": 21,
   "metadata": {},
   "outputs": [
    {
     "data": {
      "text/plain": [
       "{5030586: 0.2841426089833733,\n",
       " 929585: 0.20646869054512365,\n",
       " 2121639: 0.06907741939589072,\n",
       " 18463: 0.042702520409526774,\n",
       " 1283757: 0.03856016594870098}"
      ]
     },
     "execution_count": 21,
     "metadata": {},
     "output_type": "execute_result"
    }
   ],
   "source": [
    "degree_centrality =nx.degree_centrality(GUP)\n",
    "NetworkDraw.get_top_nodes(degree_centrality)"
   ]
  },
  {
   "cell_type": "code",
   "execution_count": 22,
   "metadata": {},
   "outputs": [
    {
     "data": {
      "text/plain": [
       "{5755222: 0.09584890581263975,\n",
       " 5749234: 0.09511932730451683,\n",
       " 5752077: 0.09324808386352273,\n",
       " 5119531: 0.09323238260549731,\n",
       " 5753055: 0.09259691999193165}"
      ]
     },
     "execution_count": 22,
     "metadata": {},
     "output_type": "execute_result"
    }
   ],
   "source": [
    "eigenvector_centrality = nx.eigenvector_centrality(GUP,weight=\"weight\")\n",
    "NetworkDraw.get_top_nodes(eigenvector_centrality)"
   ]
  },
  {
   "cell_type": "code",
   "execution_count": 23,
   "metadata": {},
   "outputs": [],
   "source": [
    "nx.set_node_attributes(GUP, name='degree_participant', values=degrees)\n",
    "nx.set_node_attributes(GUP, name='degree_cent_participant', values=degree_centrality)\n",
    "nx.set_node_attributes(GUP, name='eigenvector_cent_participant', values = eigenvector_centrality)"
   ]
  },
  {
   "cell_type": "code",
   "execution_count": 24,
   "metadata": {},
   "outputs": [],
   "source": [
    "nx.write_gexf(GUP, r\"../data/processed/GUP.gexf\")\n",
    "del GUP, df_comp_part, degrees, degree_centrality, eigenvector_centrality"
   ]
  },
  {
   "cell_type": "markdown",
   "metadata": {},
   "source": [
    "# Graph: User Forum Messages"
   ]
  },
  {
   "cell_type": "code",
   "execution_count": 25,
   "metadata": {},
   "outputs": [
    {
     "data": {
      "text/html": [
       "<div>\n",
       "<style scoped>\n",
       "    .dataframe tbody tr th:only-of-type {\n",
       "        vertical-align: middle;\n",
       "    }\n",
       "\n",
       "    .dataframe tbody tr th {\n",
       "        vertical-align: top;\n",
       "    }\n",
       "\n",
       "    .dataframe thead th {\n",
       "        text-align: right;\n",
       "    }\n",
       "</style>\n",
       "<table border=\"1\" class=\"dataframe\">\n",
       "  <thead>\n",
       "    <tr style=\"text-align: right;\">\n",
       "      <th></th>\n",
       "      <th>UserId_1</th>\n",
       "      <th>UserId_2</th>\n",
       "      <th>weight</th>\n",
       "    </tr>\n",
       "  </thead>\n",
       "  <tbody>\n",
       "    <tr>\n",
       "      <th>0</th>\n",
       "      <td>10000014</td>\n",
       "      <td>10030651</td>\n",
       "      <td>7</td>\n",
       "    </tr>\n",
       "    <tr>\n",
       "      <th>1</th>\n",
       "      <td>10000014</td>\n",
       "      <td>10135089</td>\n",
       "      <td>1</td>\n",
       "    </tr>\n",
       "    <tr>\n",
       "      <th>2</th>\n",
       "      <td>10000014</td>\n",
       "      <td>10215702</td>\n",
       "      <td>1</td>\n",
       "    </tr>\n",
       "    <tr>\n",
       "      <th>3</th>\n",
       "      <td>10000014</td>\n",
       "      <td>10275991</td>\n",
       "      <td>4</td>\n",
       "    </tr>\n",
       "    <tr>\n",
       "      <th>4</th>\n",
       "      <td>10000014</td>\n",
       "      <td>10277092</td>\n",
       "      <td>1</td>\n",
       "    </tr>\n",
       "  </tbody>\n",
       "</table>\n",
       "</div>"
      ],
      "text/plain": [
       "   UserId_1  UserId_2  weight\n",
       "0  10000014  10030651       7\n",
       "1  10000014  10135089       1\n",
       "2  10000014  10215702       1\n",
       "3  10000014  10275991       4\n",
       "4  10000014  10277092       1"
      ]
     },
     "execution_count": 25,
     "metadata": {},
     "output_type": "execute_result"
    }
   ],
   "source": [
    "df_user_forum_messages = pd.read_csv(\"../data/processed/Graph_ForumMessages.csv\")\n",
    "df_user_forum_messages.head()"
   ]
  },
  {
   "cell_type": "code",
   "execution_count": 26,
   "metadata": {},
   "outputs": [
    {
     "name": "stdout",
     "output_type": "stream",
     "text": [
      "Name: \n",
      "Type: Graph\n",
      "Number of nodes: 209241\n",
      "Number of edges: 8085584\n",
      "Average degree:  77.2849\n"
     ]
    }
   ],
   "source": [
    "GUM = nx.from_pandas_edgelist(df_user_forum_messages, source = \"UserId_1\", target = \"UserId_2\",edge_attr=True, create_using=nx.Graph())\n",
    "print(nx.info(GUM))"
   ]
  },
  {
   "cell_type": "code",
   "execution_count": 27,
   "metadata": {},
   "outputs": [
    {
     "data": {
      "text/plain": [
       "{3012786: 22855, 75976: 12485, 1723677: 12084, 1245336: 9336, 1106296: 8864}"
      ]
     },
     "execution_count": 27,
     "metadata": {},
     "output_type": "execute_result"
    }
   ],
   "source": [
    "degrees=GUM.degree()\n",
    "degrees = dict(degrees)\n",
    "NetworkDraw.get_top_nodes(degrees)"
   ]
  },
  {
   "cell_type": "code",
   "execution_count": 28,
   "metadata": {},
   "outputs": [
    {
     "data": {
      "text/plain": [
       "{3012786: 0.1092286369718983,\n",
       " 75976: 0.059668323456318104,\n",
       " 1723677: 0.05775186388835787,\n",
       " 1245336: 0.044618619766774996,\n",
       " 1106296: 0.04236283693366469}"
      ]
     },
     "execution_count": 28,
     "metadata": {},
     "output_type": "execute_result"
    }
   ],
   "source": [
    "degree_centrality =nx.degree_centrality(GUM)\n",
    "NetworkDraw.get_top_nodes(degree_centrality)"
   ]
  },
  {
   "cell_type": "code",
   "execution_count": 29,
   "metadata": {},
   "outputs": [
    {
     "data": {
      "text/plain": [
       "{3012786: 0.3870537519595844,\n",
       " 3399844: 0.24673694975222174,\n",
       " 3490494: 0.24550454055507087,\n",
       " 5274255: 0.20054791210175402,\n",
       " 4956446: 0.1922082501348615}"
      ]
     },
     "execution_count": 29,
     "metadata": {},
     "output_type": "execute_result"
    }
   ],
   "source": [
    "eigenvector_centrality = nx.eigenvector_centrality(GUM,weight=\"weight\")\n",
    "NetworkDraw.get_top_nodes(eigenvector_centrality)"
   ]
  },
  {
   "cell_type": "code",
   "execution_count": 30,
   "metadata": {},
   "outputs": [],
   "source": [
    "nx.set_node_attributes(GUM, name='degree_forums', values=degrees)\n",
    "nx.set_node_attributes(GUM, name='degree_cent_forums', values=degree_centrality)\n",
    "nx.set_node_attributes(GUM, name='eigenvector_cent_forums', values = eigenvector_centrality)"
   ]
  },
  {
   "cell_type": "code",
   "execution_count": 31,
   "metadata": {},
   "outputs": [],
   "source": [
    "nx.write_gexf(GUM, r\"../data/processed/GUM.gexf\")\n",
    "del GUM, df_user_forum_messages, degrees, degree_centrality, eigenvector_centrality"
   ]
  },
  {
   "cell_type": "markdown",
   "metadata": {},
   "source": [
    "# To Dataframe"
   ]
  },
  {
   "cell_type": "code",
   "execution_count": 8,
   "metadata": {},
   "outputs": [],
   "source": [
    "def scaler_network(GName,list_metrics,scaler,df_user):\n",
    "    G = nx.read_gexf(r\"../data/processed/\"+GName+\".gexf\")\n",
    "    df_G = pd.DataFrame.from_dict(dict(G.nodes(data=True)), orient='index').reset_index()\n",
    "    df_G = df_G.rename(columns = {'index':'UserId'})\n",
    "    df_G[\"UserId\"] = df_G[\"UserId\"].astype(str)\n",
    "    df_G = df_G.iloc[: , :-1]\n",
    "    #df_G_2 = df_G.copy()\n",
    "\n",
    "    # Join con Users\n",
    "    df_G_2 = df_G_2.merge(df_user, how='left', on='UserId')\n",
    "    df_G_2 = df_G_2[list_metrics]\n",
    "\n",
    "    #Escalamiento\n",
    "    df_G_2_to_scale = df_G.iloc[:,2:]\n",
    "    df_G_2_scaled = scaler.fit_transform(df_G_2_to_scale)\n",
    "    df_G_2_scaled = pd.DataFrame(df_G_2_scaled,columns=[df_G_2_to_scale.columns])\n",
    "    df_G_2[df_G_2_to_scale.columns+\"_scaled\"] = df_G_2_scaled[df_G_2_to_scale.columns]\n",
    "    df_G_2[df_G_2_to_scale.columns+\"_scaled\"].fillna(10,inplace=True)\n",
    "\n",
    "    #To csv scaled\n",
    "    df_G_2.to_csv(r\"../data/processed/df_\"+GName+\"_scaled.csv\",index=False)\n",
    "\n",
    "    #Return grafo leido\n",
    "    return df_G"
   ]
  },
  {
   "cell_type": "code",
   "execution_count": 4,
   "metadata": {},
   "outputs": [],
   "source": [
    "#Dataframe de usuarios\n",
    "df_user = pd.read_csv(r\"../data/interim/Users.csv\",dtype=str)\n",
    "df_user = df_user[[\"UserId\",\"UserName\",\"PerformanceTier_Cat\",\"Seniority_Cat\"]]\n",
    "\n",
    "#Objecto de MinMax Scaler\n",
    "scaler = MinMaxScaler(feature_range=(20,100))\n",
    "\n",
    "#Metricas a escalar\n",
    "list_metrics_dir = ['UserId', 'UserName', 'in_degree_followers', 'out_degree_followers', 'in_degree_cent_followers', 'pagerank_cent_followers']\n",
    "list_metrics_nodir_GUT= ['UserId', 'UserName', 'degree_teams', 'degree_cent_teams', 'eigenvector_cent_teams']\n",
    "list_metrics_nodir_GUP = ['UserId', 'UserName', 'degree_participant', 'degree_cent_participant', 'eigenvector_cent_participant']\n",
    "list_metrics_nodir_GUM = ['UserId', 'UserName', 'degree_forums', 'degree_cent_forums', 'eigenvector_cent_forums']"
   ]
  },
  {
   "cell_type": "code",
   "execution_count": 5,
   "metadata": {},
   "outputs": [
    {
     "data": {
      "text/plain": [
       "(365493, 5)"
      ]
     },
     "execution_count": 5,
     "metadata": {},
     "output_type": "execute_result"
    }
   ],
   "source": [
    "df_GUF = scaler_network(\"GUF\",list_metrics_dir,scaler,df_user)\n",
    "df_GUF.shape"
   ]
  },
  {
   "cell_type": "code",
   "execution_count": 6,
   "metadata": {},
   "outputs": [
    {
     "data": {
      "text/plain": [
       "(155730, 4)"
      ]
     },
     "execution_count": 6,
     "metadata": {},
     "output_type": "execute_result"
    }
   ],
   "source": [
    "df_GUT = scaler_network(\"GUT\",list_metrics_nodir_GUT,scaler,df_user)\n",
    "df_GUT.shape"
   ]
  },
  {
   "cell_type": "code",
   "execution_count": 9,
   "metadata": {},
   "outputs": [
    {
     "data": {
      "text/plain": [
       "(157158, 4)"
      ]
     },
     "execution_count": 9,
     "metadata": {},
     "output_type": "execute_result"
    }
   ],
   "source": [
    "df_GUP = scaler_network(\"GUP\",list_metrics_nodir_GUP,scaler,df_user)\n",
    "df_GUP.shape"
   ]
  },
  {
   "cell_type": "code",
   "execution_count": 10,
   "metadata": {},
   "outputs": [
    {
     "data": {
      "text/plain": [
       "(209241, 4)"
      ]
     },
     "execution_count": 10,
     "metadata": {},
     "output_type": "execute_result"
    }
   ],
   "source": [
    "df_GUM = scaler_network(\"GUM\",list_metrics_nodir_GUM,scaler,df_user)\n",
    "df_GUM.shape"
   ]
  },
  {
   "cell_type": "code",
   "execution_count": 11,
   "metadata": {},
   "outputs": [
    {
     "data": {
      "text/html": [
       "<div>\n",
       "<style scoped>\n",
       "    .dataframe tbody tr th:only-of-type {\n",
       "        vertical-align: middle;\n",
       "    }\n",
       "\n",
       "    .dataframe tbody tr th {\n",
       "        vertical-align: top;\n",
       "    }\n",
       "\n",
       "    .dataframe thead th {\n",
       "        text-align: right;\n",
       "    }\n",
       "</style>\n",
       "<table border=\"1\" class=\"dataframe\">\n",
       "  <thead>\n",
       "    <tr style=\"text-align: right;\">\n",
       "      <th></th>\n",
       "      <th>UserId</th>\n",
       "      <th>UserName</th>\n",
       "      <th>PerformanceTier_Cat</th>\n",
       "      <th>Seniority_Cat</th>\n",
       "      <th>in_degree_followers</th>\n",
       "      <th>out_degree_followers</th>\n",
       "      <th>in_degree_cent_followers</th>\n",
       "      <th>pagerank_cent_followers</th>\n",
       "      <th>degree_teams</th>\n",
       "      <th>degree_cent_teams</th>\n",
       "      <th>eigenvector_cent_teams</th>\n",
       "      <th>degree_participant</th>\n",
       "      <th>degree_cent_participant</th>\n",
       "      <th>eigenvector_cent_participant</th>\n",
       "      <th>degree_forums</th>\n",
       "      <th>degree_cent_forums</th>\n",
       "      <th>eigenvector_cent_forums</th>\n",
       "    </tr>\n",
       "  </thead>\n",
       "  <tbody>\n",
       "    <tr>\n",
       "      <th>0</th>\n",
       "      <td>368</td>\n",
       "      <td>antgoldbloom</td>\n",
       "      <td>Expert</td>\n",
       "      <td>4_mas</td>\n",
       "      <td>983.0</td>\n",
       "      <td>6.0</td>\n",
       "      <td>0.002690</td>\n",
       "      <td>0.001607</td>\n",
       "      <td>4.0</td>\n",
       "      <td>0.000026</td>\n",
       "      <td>9.451808e-26</td>\n",
       "      <td>NaN</td>\n",
       "      <td>NaN</td>\n",
       "      <td>NaN</td>\n",
       "      <td>1320.0</td>\n",
       "      <td>0.006309</td>\n",
       "      <td>0.00126</td>\n",
       "    </tr>\n",
       "    <tr>\n",
       "      <th>1</th>\n",
       "      <td>381</td>\n",
       "      <td>iguyon</td>\n",
       "      <td>Expert</td>\n",
       "      <td>4_mas</td>\n",
       "      <td>6.0</td>\n",
       "      <td>0.0</td>\n",
       "      <td>0.000016</td>\n",
       "      <td>0.000003</td>\n",
       "      <td>NaN</td>\n",
       "      <td>NaN</td>\n",
       "      <td>NaN</td>\n",
       "      <td>163.0</td>\n",
       "      <td>0.001037</td>\n",
       "      <td>0.000024</td>\n",
       "      <td>164.0</td>\n",
       "      <td>0.000784</td>\n",
       "      <td>0.00006</td>\n",
       "    </tr>\n",
       "    <tr>\n",
       "      <th>2</th>\n",
       "      <td>383</td>\n",
       "      <td>davidstephan</td>\n",
       "      <td>Novice</td>\n",
       "      <td>4_mas</td>\n",
       "      <td>NaN</td>\n",
       "      <td>NaN</td>\n",
       "      <td>NaN</td>\n",
       "      <td>NaN</td>\n",
       "      <td>NaN</td>\n",
       "      <td>NaN</td>\n",
       "      <td>NaN</td>\n",
       "      <td>NaN</td>\n",
       "      <td>NaN</td>\n",
       "      <td>NaN</td>\n",
       "      <td>NaN</td>\n",
       "      <td>NaN</td>\n",
       "      <td>NaN</td>\n",
       "    </tr>\n",
       "    <tr>\n",
       "      <th>3</th>\n",
       "      <td>384</td>\n",
       "      <td>gabewarren</td>\n",
       "      <td>Novice</td>\n",
       "      <td>4_mas</td>\n",
       "      <td>NaN</td>\n",
       "      <td>NaN</td>\n",
       "      <td>NaN</td>\n",
       "      <td>NaN</td>\n",
       "      <td>NaN</td>\n",
       "      <td>NaN</td>\n",
       "      <td>NaN</td>\n",
       "      <td>NaN</td>\n",
       "      <td>NaN</td>\n",
       "      <td>NaN</td>\n",
       "      <td>NaN</td>\n",
       "      <td>NaN</td>\n",
       "      <td>NaN</td>\n",
       "    </tr>\n",
       "    <tr>\n",
       "      <th>4</th>\n",
       "      <td>385</td>\n",
       "      <td>demonjosh</td>\n",
       "      <td>Novice</td>\n",
       "      <td>4_mas</td>\n",
       "      <td>NaN</td>\n",
       "      <td>NaN</td>\n",
       "      <td>NaN</td>\n",
       "      <td>NaN</td>\n",
       "      <td>NaN</td>\n",
       "      <td>NaN</td>\n",
       "      <td>NaN</td>\n",
       "      <td>NaN</td>\n",
       "      <td>NaN</td>\n",
       "      <td>NaN</td>\n",
       "      <td>NaN</td>\n",
       "      <td>NaN</td>\n",
       "      <td>NaN</td>\n",
       "    </tr>\n",
       "  </tbody>\n",
       "</table>\n",
       "</div>"
      ],
      "text/plain": [
       "  UserId      UserName PerformanceTier_Cat Seniority_Cat  in_degree_followers  \\\n",
       "0    368  antgoldbloom              Expert         4_mas                983.0   \n",
       "1    381        iguyon              Expert         4_mas                  6.0   \n",
       "2    383  davidstephan              Novice         4_mas                  NaN   \n",
       "3    384    gabewarren              Novice         4_mas                  NaN   \n",
       "4    385     demonjosh              Novice         4_mas                  NaN   \n",
       "\n",
       "   out_degree_followers  in_degree_cent_followers  pagerank_cent_followers  \\\n",
       "0                   6.0                  0.002690                 0.001607   \n",
       "1                   0.0                  0.000016                 0.000003   \n",
       "2                   NaN                       NaN                      NaN   \n",
       "3                   NaN                       NaN                      NaN   \n",
       "4                   NaN                       NaN                      NaN   \n",
       "\n",
       "   degree_teams  degree_cent_teams  eigenvector_cent_teams  \\\n",
       "0           4.0           0.000026            9.451808e-26   \n",
       "1           NaN                NaN                     NaN   \n",
       "2           NaN                NaN                     NaN   \n",
       "3           NaN                NaN                     NaN   \n",
       "4           NaN                NaN                     NaN   \n",
       "\n",
       "   degree_participant  degree_cent_participant  eigenvector_cent_participant  \\\n",
       "0                 NaN                      NaN                           NaN   \n",
       "1               163.0                 0.001037                      0.000024   \n",
       "2                 NaN                      NaN                           NaN   \n",
       "3                 NaN                      NaN                           NaN   \n",
       "4                 NaN                      NaN                           NaN   \n",
       "\n",
       "   degree_forums  degree_cent_forums  eigenvector_cent_forums  \n",
       "0         1320.0            0.006309                  0.00126  \n",
       "1          164.0            0.000784                  0.00006  \n",
       "2            NaN                 NaN                      NaN  \n",
       "3            NaN                 NaN                      NaN  \n",
       "4            NaN                 NaN                      NaN  "
      ]
     },
     "execution_count": 11,
     "metadata": {},
     "output_type": "execute_result"
    }
   ],
   "source": [
    "df_users_net = df_user.merge(df_GUF,how=\"left\",on=[\"UserId\"]).merge(df_GUT,how=\"left\",on=[\"UserId\"]).merge(df_GUP,how=\"left\",on=[\"UserId\"]).merge(df_GUM,how=\"left\",on=[\"UserId\"])\n",
    "df_users_net.head()"
   ]
  },
  {
   "cell_type": "code",
   "execution_count": 12,
   "metadata": {},
   "outputs": [],
   "source": [
    "#Dataset Networks\n",
    "df_users_net.to_csv(r\"../data/interim/UserNetworksMetrics.csv\",index=False)"
   ]
  },
  {
   "cell_type": "code",
   "execution_count": 13,
   "metadata": {},
   "outputs": [],
   "source": [
    "del df_users_net,df_GUF,df_GUT,df_GUP,df_GUM"
   ]
  }
 ],
 "metadata": {
  "kernelspec": {
   "display_name": "Python 3.6.5 ('.venv': venv)",
   "language": "python",
   "name": "python3"
  },
  "language_info": {
   "codemirror_mode": {
    "name": "ipython",
    "version": 3
   },
   "file_extension": ".py",
   "mimetype": "text/x-python",
   "name": "python",
   "nbconvert_exporter": "python",
   "pygments_lexer": "ipython3",
   "version": "3.6.5"
  },
  "orig_nbformat": 4,
  "vscode": {
   "interpreter": {
    "hash": "34b652421595a0c643e374c4ab7a0ee86f5cb1455b91e0738f83360473bef1bf"
   }
  }
 },
 "nbformat": 4,
 "nbformat_minor": 2
}
