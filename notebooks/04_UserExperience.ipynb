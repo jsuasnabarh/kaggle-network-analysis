{
 "cells": [
  {
   "cell_type": "markdown",
   "metadata": {},
   "source": [
    "# Libraries"
   ]
  },
  {
   "cell_type": "code",
   "execution_count": 1,
   "metadata": {},
   "outputs": [],
   "source": [
    "import sys\n",
    "import os\n",
    "directory_path = os.path.abspath(os.path.join('..'))\n",
    "utils_path = os.path.abspath(os.path.join('../utils'))\n",
    "if directory_path not in sys.path:\n",
    "    sys.path.append(directory_path)\n",
    "    sys.path.append(utils_path)"
   ]
  },
  {
   "cell_type": "code",
   "execution_count": 2,
   "metadata": {},
   "outputs": [],
   "source": [
    "import pandas as pd\n",
    "import numpy as np\n",
    "import networkx as nx\n",
    "import seaborn as sns\n",
    "import matplotlib.pyplot as plt\n",
    "import warnings\n",
    "warnings.filterwarnings(\"ignore\")\n",
    "from utils.Validator import *\n",
    "from utils.Combinations import *\n",
    "from utils.Network import *\n",
    "pd.set_option('display.max_columns', None)  \n",
    "sns.set(rc={'figure.figsize':(11.7,8.27)})"
   ]
  },
  {
   "cell_type": "markdown",
   "metadata": {},
   "source": [
    "# Data"
   ]
  },
  {
   "cell_type": "code",
   "execution_count": 13,
   "metadata": {},
   "outputs": [],
   "source": [
    "df_01 = pd.read_csv(r\"../data/interim/TeamMemberships.csv\")\n",
    "df_02 = pd.read_csv(r\"../data/interim/Teams.csv\")\n",
    "df_03 = pd.read_csv(r\"../data/interim/CompetitionTags.csv\")\n",
    "df_04 = pd.read_csv(r\"../data/interim/Tags.csv\")"
   ]
  },
  {
   "cell_type": "code",
   "execution_count": 14,
   "metadata": {},
   "outputs": [
    {
     "data": {
      "text/html": [
       "<div>\n",
       "<style scoped>\n",
       "    .dataframe tbody tr th:only-of-type {\n",
       "        vertical-align: middle;\n",
       "    }\n",
       "\n",
       "    .dataframe tbody tr th {\n",
       "        vertical-align: top;\n",
       "    }\n",
       "\n",
       "    .dataframe thead th {\n",
       "        text-align: right;\n",
       "    }\n",
       "</style>\n",
       "<table border=\"1\" class=\"dataframe\">\n",
       "  <thead>\n",
       "    <tr style=\"text-align: right;\">\n",
       "      <th></th>\n",
       "      <th>TeamId</th>\n",
       "      <th>UserId</th>\n",
       "    </tr>\n",
       "  </thead>\n",
       "  <tbody>\n",
       "    <tr>\n",
       "      <th>0</th>\n",
       "      <td>518</td>\n",
       "      <td>635</td>\n",
       "    </tr>\n",
       "    <tr>\n",
       "      <th>1</th>\n",
       "      <td>526</td>\n",
       "      <td>839</td>\n",
       "    </tr>\n",
       "    <tr>\n",
       "      <th>2</th>\n",
       "      <td>527</td>\n",
       "      <td>816</td>\n",
       "    </tr>\n",
       "    <tr>\n",
       "      <th>3</th>\n",
       "      <td>528</td>\n",
       "      <td>778</td>\n",
       "    </tr>\n",
       "    <tr>\n",
       "      <th>4</th>\n",
       "      <td>529</td>\n",
       "      <td>747</td>\n",
       "    </tr>\n",
       "  </tbody>\n",
       "</table>\n",
       "</div>"
      ],
      "text/plain": [
       "   TeamId  UserId\n",
       "0     518     635\n",
       "1     526     839\n",
       "2     527     816\n",
       "3     528     778\n",
       "4     529     747"
      ]
     },
     "execution_count": 14,
     "metadata": {},
     "output_type": "execute_result"
    }
   ],
   "source": [
    "df_01.head()"
   ]
  },
  {
   "cell_type": "code",
   "execution_count": 15,
   "metadata": {},
   "outputs": [
    {
     "data": {
      "text/html": [
       "<div>\n",
       "<style scoped>\n",
       "    .dataframe tbody tr th:only-of-type {\n",
       "        vertical-align: middle;\n",
       "    }\n",
       "\n",
       "    .dataframe tbody tr th {\n",
       "        vertical-align: top;\n",
       "    }\n",
       "\n",
       "    .dataframe thead th {\n",
       "        text-align: right;\n",
       "    }\n",
       "</style>\n",
       "<table border=\"1\" class=\"dataframe\">\n",
       "  <thead>\n",
       "    <tr style=\"text-align: right;\">\n",
       "      <th></th>\n",
       "      <th>TeamId</th>\n",
       "      <th>CompetitionId</th>\n",
       "      <th>TeamLeaderId</th>\n",
       "      <th>TeamName</th>\n",
       "      <th>Medal</th>\n",
       "      <th>PrivateLeaderboardRank</th>\n",
       "    </tr>\n",
       "  </thead>\n",
       "  <tbody>\n",
       "    <tr>\n",
       "      <th>0</th>\n",
       "      <td>496</td>\n",
       "      <td>2435</td>\n",
       "      <td>647.0</td>\n",
       "      <td>team1</td>\n",
       "      <td>NaN</td>\n",
       "      <td>83.0</td>\n",
       "    </tr>\n",
       "    <tr>\n",
       "      <th>1</th>\n",
       "      <td>497</td>\n",
       "      <td>2435</td>\n",
       "      <td>619.0</td>\n",
       "      <td>jonp</td>\n",
       "      <td>3.0</td>\n",
       "      <td>25.0</td>\n",
       "    </tr>\n",
       "    <tr>\n",
       "      <th>2</th>\n",
       "      <td>499</td>\n",
       "      <td>2435</td>\n",
       "      <td>663.0</td>\n",
       "      <td>Bwaas</td>\n",
       "      <td>NaN</td>\n",
       "      <td>100.0</td>\n",
       "    </tr>\n",
       "    <tr>\n",
       "      <th>3</th>\n",
       "      <td>500</td>\n",
       "      <td>2435</td>\n",
       "      <td>673.0</td>\n",
       "      <td>Thylacoleo</td>\n",
       "      <td>3.0</td>\n",
       "      <td>23.0</td>\n",
       "    </tr>\n",
       "    <tr>\n",
       "      <th>4</th>\n",
       "      <td>501</td>\n",
       "      <td>2435</td>\n",
       "      <td>435.0</td>\n",
       "      <td>pjonesdotcda</td>\n",
       "      <td>NaN</td>\n",
       "      <td>80.0</td>\n",
       "    </tr>\n",
       "  </tbody>\n",
       "</table>\n",
       "</div>"
      ],
      "text/plain": [
       "   TeamId  CompetitionId  TeamLeaderId      TeamName  Medal  \\\n",
       "0     496           2435         647.0         team1    NaN   \n",
       "1     497           2435         619.0          jonp    3.0   \n",
       "2     499           2435         663.0         Bwaas    NaN   \n",
       "3     500           2435         673.0    Thylacoleo    3.0   \n",
       "4     501           2435         435.0  pjonesdotcda    NaN   \n",
       "\n",
       "   PrivateLeaderboardRank  \n",
       "0                    83.0  \n",
       "1                    25.0  \n",
       "2                   100.0  \n",
       "3                    23.0  \n",
       "4                    80.0  "
      ]
     },
     "execution_count": 15,
     "metadata": {},
     "output_type": "execute_result"
    }
   ],
   "source": [
    "df_02.head()"
   ]
  },
  {
   "cell_type": "markdown",
   "metadata": {},
   "source": [
    "# Cruce para tener la competencia que pertenece el usuario\n",
    "#### La tabla Teams.csv solo se tiene esta relacion para el lider, la logica es ponerle la competencia a todos los usarios segun la competencia que tiene el lider en el grupo."
   ]
  },
  {
   "cell_type": "code",
   "execution_count": 16,
   "metadata": {},
   "outputs": [],
   "source": [
    "df_cruce1 = pd.merge(df_02[[\"TeamId\",\"CompetitionId\",\"TeamLeaderId\"]], df_01[[\"TeamId\",\"UserId\"]],  how='inner', left_on=['TeamId','TeamLeaderId'], right_on = ['TeamId','UserId'])"
   ]
  },
  {
   "cell_type": "code",
   "execution_count": 19,
   "metadata": {},
   "outputs": [
    {
     "name": "stdout",
     "output_type": "stream",
     "text": [
      "cantidad de lideres por team: 1\n",
      "cantidad de teams: 5357344\n"
     ]
    }
   ],
   "source": [
    "print('cantidad de lideres por team:',df_02.groupby('TeamId').TeamId.count().max())\n",
    "print('cantidad de teams:',df_02.shape[0])"
   ]
  },
  {
   "cell_type": "code",
   "execution_count": 20,
   "metadata": {},
   "outputs": [
    {
     "name": "stdout",
     "output_type": "stream",
     "text": [
      "cantidad de lideres por team: 1\n",
      "cantidad de teams: 5327674\n"
     ]
    }
   ],
   "source": [
    "print('cantidad de lideres por team:',df_cruce1.groupby('TeamId').TeamId.count().max())\n",
    "print('cantidad de teams:',df_cruce1.shape[0])"
   ]
  },
  {
   "cell_type": "code",
   "execution_count": 21,
   "metadata": {},
   "outputs": [
    {
     "name": "stdout",
     "output_type": "stream",
     "text": [
      "cantidad de teams que no cruzaron 29670\n"
     ]
    }
   ],
   "source": [
    "print('cantidad de teams que no cruzaron',df_02.shape[0]-df_cruce1.shape[0])"
   ]
  },
  {
   "cell_type": "markdown",
   "metadata": {},
   "source": [
    "# Cruce para tener la etiqueta de los tag que tiene asociado una competencia\n",
    "#### La tabla CompetitionTags.csv solo tiene el identificador del tag, pero no el descriptivo de ese codigo"
   ]
  },
  {
   "cell_type": "code",
   "execution_count": 26,
   "metadata": {},
   "outputs": [
    {
     "data": {
      "text/html": [
       "<div>\n",
       "<style scoped>\n",
       "    .dataframe tbody tr th:only-of-type {\n",
       "        vertical-align: middle;\n",
       "    }\n",
       "\n",
       "    .dataframe tbody tr th {\n",
       "        vertical-align: top;\n",
       "    }\n",
       "\n",
       "    .dataframe thead th {\n",
       "        text-align: right;\n",
       "    }\n",
       "</style>\n",
       "<table border=\"1\" class=\"dataframe\">\n",
       "  <thead>\n",
       "    <tr style=\"text-align: right;\">\n",
       "      <th></th>\n",
       "      <th>CompetitionId</th>\n",
       "      <th>TagId</th>\n",
       "      <th>Name</th>\n",
       "    </tr>\n",
       "  </thead>\n",
       "  <tbody>\n",
       "    <tr>\n",
       "      <th>0</th>\n",
       "      <td>3486</td>\n",
       "      <td>14102</td>\n",
       "      <td>image data</td>\n",
       "    </tr>\n",
       "    <tr>\n",
       "      <th>1</th>\n",
       "      <td>3947</td>\n",
       "      <td>14102</td>\n",
       "      <td>image data</td>\n",
       "    </tr>\n",
       "    <tr>\n",
       "      <th>2</th>\n",
       "      <td>3978</td>\n",
       "      <td>14102</td>\n",
       "      <td>image data</td>\n",
       "    </tr>\n",
       "    <tr>\n",
       "      <th>3</th>\n",
       "      <td>4104</td>\n",
       "      <td>14102</td>\n",
       "      <td>image data</td>\n",
       "    </tr>\n",
       "    <tr>\n",
       "      <th>4</th>\n",
       "      <td>4406</td>\n",
       "      <td>14102</td>\n",
       "      <td>image data</td>\n",
       "    </tr>\n",
       "  </tbody>\n",
       "</table>\n",
       "</div>"
      ],
      "text/plain": [
       "   CompetitionId  TagId        Name\n",
       "0           3486  14102  image data\n",
       "1           3947  14102  image data\n",
       "2           3978  14102  image data\n",
       "3           4104  14102  image data\n",
       "4           4406  14102  image data"
      ]
     },
     "execution_count": 26,
     "metadata": {},
     "output_type": "execute_result"
    }
   ],
   "source": [
    "df_cruce2 = pd.merge(df_03[[\"CompetitionId\",\"TagId\"]], df_04[[\"TagId\",\"Name\"]],  how='inner', left_on=['TagId'], right_on = ['TagId'])\n",
    "df_cruce2.head()"
   ]
  },
  {
   "cell_type": "code",
   "execution_count": 27,
   "metadata": {},
   "outputs": [
    {
     "name": "stdout",
     "output_type": "stream",
     "text": [
      "cantidad de lideres por team: 5\n",
      "cantidad de teams: 686\n"
     ]
    }
   ],
   "source": [
    "print('cantidad de lideres por team:',df_03.groupby('CompetitionId').CompetitionId.count().max())\n",
    "print('cantidad de teams:',df_03.shape[0])"
   ]
  },
  {
   "cell_type": "code",
   "execution_count": 29,
   "metadata": {},
   "outputs": [
    {
     "name": "stdout",
     "output_type": "stream",
     "text": [
      "cantidad de lideres por team: 1\n",
      "cantidad de teams: 320\n"
     ]
    }
   ],
   "source": [
    "print('cantidad de lideres por team:',df_04.groupby('TagId').TagId.count().max())\n",
    "print('cantidad de teams:',df_04.shape[0])"
   ]
  },
  {
   "cell_type": "code",
   "execution_count": 30,
   "metadata": {},
   "outputs": [
    {
     "name": "stdout",
     "output_type": "stream",
     "text": [
      "cantidad de lideres por team: 5\n",
      "cantidad de teams: 686\n"
     ]
    }
   ],
   "source": [
    "print('cantidad de lideres por team:',df_cruce2.groupby('CompetitionId').CompetitionId.count().max())\n",
    "print('cantidad de teams:',df_cruce2.shape[0])"
   ]
  },
  {
   "cell_type": "code",
   "execution_count": 31,
   "metadata": {},
   "outputs": [
    {
     "name": "stdout",
     "output_type": "stream",
     "text": [
      "cantidad de teams que no cruzaron 0\n"
     ]
    }
   ],
   "source": [
    "print('cantidad de teams que no cruzaron',df_03.shape[0]-df_cruce2.shape[0])"
   ]
  },
  {
   "cell_type": "code",
   "execution_count": 32,
   "metadata": {},
   "outputs": [
    {
     "data": {
      "text/html": [
       "<div>\n",
       "<style scoped>\n",
       "    .dataframe tbody tr th:only-of-type {\n",
       "        vertical-align: middle;\n",
       "    }\n",
       "\n",
       "    .dataframe tbody tr th {\n",
       "        vertical-align: top;\n",
       "    }\n",
       "\n",
       "    .dataframe thead th {\n",
       "        text-align: right;\n",
       "    }\n",
       "</style>\n",
       "<table border=\"1\" class=\"dataframe\">\n",
       "  <thead>\n",
       "    <tr style=\"text-align: right;\">\n",
       "      <th></th>\n",
       "      <th>CompetitionId</th>\n",
       "      <th>TagId</th>\n",
       "      <th>Name</th>\n",
       "    </tr>\n",
       "  </thead>\n",
       "  <tbody>\n",
       "    <tr>\n",
       "      <th>545</th>\n",
       "      <td>22111</td>\n",
       "      <td>7100</td>\n",
       "      <td>biology</td>\n",
       "    </tr>\n",
       "    <tr>\n",
       "      <th>658</th>\n",
       "      <td>22111</td>\n",
       "      <td>16575</td>\n",
       "      <td>covid19</td>\n",
       "    </tr>\n",
       "    <tr>\n",
       "      <th>663</th>\n",
       "      <td>22111</td>\n",
       "      <td>4309</td>\n",
       "      <td>public health</td>\n",
       "    </tr>\n",
       "    <tr>\n",
       "      <th>664</th>\n",
       "      <td>22111</td>\n",
       "      <td>12005</td>\n",
       "      <td>biotechnology</td>\n",
       "    </tr>\n",
       "  </tbody>\n",
       "</table>\n",
       "</div>"
      ],
      "text/plain": [
       "     CompetitionId  TagId           Name\n",
       "545          22111   7100        biology\n",
       "658          22111  16575        covid19\n",
       "663          22111   4309  public health\n",
       "664          22111  12005  biotechnology"
      ]
     },
     "execution_count": 32,
     "metadata": {},
     "output_type": "execute_result"
    }
   ],
   "source": [
    "df_cruce2[df_cruce2['CompetitionId']==22111]"
   ]
  },
  {
   "cell_type": "markdown",
   "metadata": {},
   "source": [
    "## Listas de codigos de tags que cumplen la condición de:\n",
    "### DS_toolkit: competencias con tags que se relacionan a Data Science - como un toolkit/herramientas de DS.\n",
    "### DS_S: competencias con tags que se relacionan a Data Science para algoritmos supervizados (Clasificación/Regresión)\n",
    "### DS_NS: competencias con tags que se relacionan a Data Science para algoritmos no supervizados (Cluster/PCA/FCA)"
   ]
  },
  {
   "cell_type": "code",
   "execution_count": 33,
   "metadata": {},
   "outputs": [],
   "source": [
    "DS_toolkit = [6602,6603,6613,12101,12107,12125,12300,13102,13103,13104,13201,13202,13203,13204,13205,13206,13207,13208,13209,13210,13213,13215,13302,13304,13305,13306,13308,13309,13310,13311,13313,13315,13401,13402,13403,13404,13405,13406,13407,13408,13409,13410,13411,13412,13413,13414,13415,13416,13417,14101,14102,14104,14105,14106,14201,14202,14203,14211,14221,15002,16002,16008,16070,16071,16072,16074,16586,16587,16588,16589,16590,16591,16592,16593,16595,16596,16598,16599,16600,16601,16602,16603,16604,16605,16606,16607,16608,16609,16611,16612,16613,16614,16615,16616,16619,16620,16621,16622,16623,16624,16625,16627,16628,16629,16630,16631,16632,16633,16634,16635,16636,16639,16640,16641,16643,16668,16669]\n",
    "DS_S = [6602,6603,6613,12101,12107,12125,12300,13102,13103,13104,13201,13202,13203,13205,13207,13208,13209,13210,13213,13215,13302,13305,13306,13308,13309,13310,13313,13315,13401,13402,13403,13404,13405,13406,13407,13410,13411,13412,13414,13415,13417,14101,14104,14105,14106,14201,14202,14203,14211,14221,15002,16002,16008,16070,16071,16072,16074,16586,16587,16588,16589,16590,16591,16592,16593,16595,16596,16598,16599,16600,16601,16602,16603,16604,16605,16606,16607,16608,16609,16611,16612,16613,16614,16615,16616,16619,16620,16621,16622,16623,16624,16625,16627,16628,16629,16630,16631,16632,16633,16634,16635,16636,16639,16640,16641,16643,16668,16669]\n",
    "DS_NS = [6602,6603,6613,12101,12107,12125,12300,13102,13103,13104,13201,13202,13203,13204,13205,13206,13208,13210,13215,13304,13306,13308,13309,13310,13311,13315,13401,13408,13409,13410,13413,13416,14101,14102,14104,14105,14106,14211,14221,15002,16002,16008,16070,16071,16072,16074,16587,16588,16589,16590,16591,16593,16595,16596,16598,16599,16600,16601,16602,16603,16604,16606,16607,16608,16609,16611,16612,16613,16614,16615,16619,16620,16621,16622,16623,16624,16625,16627,16628,16629,16630,16631,16632,16633,16634,16635,16639,16640,16641,16643,16668,16669]"
   ]
  },
  {
   "cell_type": "code",
   "execution_count": 34,
   "metadata": {},
   "outputs": [
    {
     "name": "stdout",
     "output_type": "stream",
     "text": [
      "117\n",
      "108\n",
      "92\n"
     ]
    }
   ],
   "source": [
    "print(len(DS_toolkit))\n",
    "print(len(DS_S))\n",
    "print(len(DS_NS))"
   ]
  },
  {
   "cell_type": "code",
   "execution_count": 35,
   "metadata": {},
   "outputs": [],
   "source": [
    "df_cruce2['flg_DS'] = np.where(df_cruce2[[\"TagId\"]].isin(DS_toolkit),1,0)\n",
    "df_cruce2['flg_DS_Supervizado'] = np.where(df_cruce2[[\"TagId\"]].isin(DS_S),1,0)\n",
    "df_cruce2['flg_DS_NoSupervizado'] = np.where(df_cruce2[[\"TagId\"]].isin(DS_NS),1,0)"
   ]
  },
  {
   "cell_type": "code",
   "execution_count": 36,
   "metadata": {},
   "outputs": [],
   "source": [
    "df_competencias_agg = df_cruce2.groupby('CompetitionId').agg({'flg_DS':['max'],'flg_DS_Supervizado':['max'],'flg_DS_NoSupervizado':['max']}).reset_index(drop=False)\n",
    "df_competencias_agg.columns = ['CompetitionId','Marca_DS','Marca_Supervizado','Marca_NoSupervizado']"
   ]
  },
  {
   "cell_type": "code",
   "execution_count": 37,
   "metadata": {},
   "outputs": [
    {
     "data": {
      "text/html": [
       "<div>\n",
       "<style scoped>\n",
       "    .dataframe tbody tr th:only-of-type {\n",
       "        vertical-align: middle;\n",
       "    }\n",
       "\n",
       "    .dataframe tbody tr th {\n",
       "        vertical-align: top;\n",
       "    }\n",
       "\n",
       "    .dataframe thead th {\n",
       "        text-align: right;\n",
       "    }\n",
       "</style>\n",
       "<table border=\"1\" class=\"dataframe\">\n",
       "  <thead>\n",
       "    <tr style=\"text-align: right;\">\n",
       "      <th></th>\n",
       "      <th>CompetitionId</th>\n",
       "      <th>Marca_DS</th>\n",
       "      <th>Marca_Supervizado</th>\n",
       "      <th>Marca_NoSupervizado</th>\n",
       "    </tr>\n",
       "  </thead>\n",
       "  <tbody>\n",
       "    <tr>\n",
       "      <th>0</th>\n",
       "      <td>3486</td>\n",
       "      <td>1</td>\n",
       "      <td>0</td>\n",
       "      <td>1</td>\n",
       "    </tr>\n",
       "    <tr>\n",
       "      <th>1</th>\n",
       "      <td>3526</td>\n",
       "      <td>1</td>\n",
       "      <td>1</td>\n",
       "      <td>1</td>\n",
       "    </tr>\n",
       "    <tr>\n",
       "      <th>2</th>\n",
       "      <td>3706</td>\n",
       "      <td>0</td>\n",
       "      <td>0</td>\n",
       "      <td>0</td>\n",
       "    </tr>\n",
       "    <tr>\n",
       "      <th>3</th>\n",
       "      <td>3810</td>\n",
       "      <td>1</td>\n",
       "      <td>1</td>\n",
       "      <td>1</td>\n",
       "    </tr>\n",
       "    <tr>\n",
       "      <th>4</th>\n",
       "      <td>3816</td>\n",
       "      <td>1</td>\n",
       "      <td>1</td>\n",
       "      <td>0</td>\n",
       "    </tr>\n",
       "  </tbody>\n",
       "</table>\n",
       "</div>"
      ],
      "text/plain": [
       "   CompetitionId  Marca_DS  Marca_Supervizado  Marca_NoSupervizado\n",
       "0           3486         1                  0                    1\n",
       "1           3526         1                  1                    1\n",
       "2           3706         0                  0                    0\n",
       "3           3810         1                  1                    1\n",
       "4           3816         1                  1                    0"
      ]
     },
     "execution_count": 37,
     "metadata": {},
     "output_type": "execute_result"
    }
   ],
   "source": [
    "df_competencias_agg.head()"
   ]
  },
  {
   "cell_type": "markdown",
   "metadata": {},
   "source": [
    "# Cruce de tablas para obtener la competencia para todos los usuarios de un team y no solo del lider\n",
    "##### Tambien se le agrega la marca que caracteristica de DS tiene cada competencia"
   ]
  },
  {
   "cell_type": "code",
   "execution_count": 38,
   "metadata": {},
   "outputs": [],
   "source": [
    "df_CompetenciaUsers = pd.merge(df_01[[\"TeamId\",\"UserId\"]], df_cruce1[[\"TeamId\",\"CompetitionId\"]],  how='left', left_on=['TeamId'], right_on = ['TeamId'])\n",
    "df_CompetenciaUsersAttrib = pd.merge(df_CompetenciaUsers, df_competencias_agg,  how='left', left_on=['CompetitionId'], right_on = ['CompetitionId'])"
   ]
  },
  {
   "cell_type": "code",
   "execution_count": 39,
   "metadata": {},
   "outputs": [
    {
     "name": "stdout",
     "output_type": "stream",
     "text": [
      "(5478304, 2)\n",
      "(5478304, 3)\n",
      "(5478304, 6)\n"
     ]
    }
   ],
   "source": [
    "print(df_01.shape)\n",
    "print(df_CompetenciaUsers.shape)\n",
    "print(df_CompetenciaUsersAttrib.shape)"
   ]
  },
  {
   "cell_type": "code",
   "execution_count": 40,
   "metadata": {},
   "outputs": [
    {
     "data": {
      "text/html": [
       "<div>\n",
       "<style scoped>\n",
       "    .dataframe tbody tr th:only-of-type {\n",
       "        vertical-align: middle;\n",
       "    }\n",
       "\n",
       "    .dataframe tbody tr th {\n",
       "        vertical-align: top;\n",
       "    }\n",
       "\n",
       "    .dataframe thead th {\n",
       "        text-align: right;\n",
       "    }\n",
       "</style>\n",
       "<table border=\"1\" class=\"dataframe\">\n",
       "  <thead>\n",
       "    <tr style=\"text-align: right;\">\n",
       "      <th></th>\n",
       "      <th>TeamId</th>\n",
       "      <th>UserId</th>\n",
       "      <th>CompetitionId</th>\n",
       "      <th>Marca_DS</th>\n",
       "      <th>Marca_Supervizado</th>\n",
       "      <th>Marca_NoSupervizado</th>\n",
       "    </tr>\n",
       "  </thead>\n",
       "  <tbody>\n",
       "    <tr>\n",
       "      <th>0</th>\n",
       "      <td>518</td>\n",
       "      <td>635</td>\n",
       "      <td>2408.0</td>\n",
       "      <td>0.0</td>\n",
       "      <td>0.0</td>\n",
       "      <td>0.0</td>\n",
       "    </tr>\n",
       "    <tr>\n",
       "      <th>1</th>\n",
       "      <td>526</td>\n",
       "      <td>839</td>\n",
       "      <td>2408.0</td>\n",
       "      <td>0.0</td>\n",
       "      <td>0.0</td>\n",
       "      <td>0.0</td>\n",
       "    </tr>\n",
       "    <tr>\n",
       "      <th>2</th>\n",
       "      <td>527</td>\n",
       "      <td>816</td>\n",
       "      <td>2408.0</td>\n",
       "      <td>0.0</td>\n",
       "      <td>0.0</td>\n",
       "      <td>0.0</td>\n",
       "    </tr>\n",
       "    <tr>\n",
       "      <th>3</th>\n",
       "      <td>528</td>\n",
       "      <td>778</td>\n",
       "      <td>2408.0</td>\n",
       "      <td>0.0</td>\n",
       "      <td>0.0</td>\n",
       "      <td>0.0</td>\n",
       "    </tr>\n",
       "    <tr>\n",
       "      <th>4</th>\n",
       "      <td>529</td>\n",
       "      <td>747</td>\n",
       "      <td>2408.0</td>\n",
       "      <td>0.0</td>\n",
       "      <td>0.0</td>\n",
       "      <td>0.0</td>\n",
       "    </tr>\n",
       "  </tbody>\n",
       "</table>\n",
       "</div>"
      ],
      "text/plain": [
       "   TeamId  UserId  CompetitionId  Marca_DS  Marca_Supervizado  \\\n",
       "0     518     635         2408.0       0.0                0.0   \n",
       "1     526     839         2408.0       0.0                0.0   \n",
       "2     527     816         2408.0       0.0                0.0   \n",
       "3     528     778         2408.0       0.0                0.0   \n",
       "4     529     747         2408.0       0.0                0.0   \n",
       "\n",
       "   Marca_NoSupervizado  \n",
       "0                  0.0  \n",
       "1                  0.0  \n",
       "2                  0.0  \n",
       "3                  0.0  \n",
       "4                  0.0  "
      ]
     },
     "execution_count": 40,
     "metadata": {},
     "output_type": "execute_result"
    }
   ],
   "source": [
    "df_CompetenciaUsersAttrib['Marca_DS'] = np.where(df_CompetenciaUsersAttrib[['Marca_DS']].isnull(),0,df_CompetenciaUsersAttrib[['Marca_DS']])\n",
    "df_CompetenciaUsersAttrib['Marca_Supervizado'] = np.where(df_CompetenciaUsersAttrib[['Marca_Supervizado']].isnull(),0,df_CompetenciaUsersAttrib[['Marca_Supervizado']])\n",
    "df_CompetenciaUsersAttrib['Marca_NoSupervizado'] = np.where(df_CompetenciaUsersAttrib[['Marca_NoSupervizado']].isnull(),0,df_CompetenciaUsersAttrib[['Marca_NoSupervizado']])\n",
    "df_CompetenciaUsersAttrib.head()"
   ]
  },
  {
   "cell_type": "code",
   "execution_count": 41,
   "metadata": {},
   "outputs": [
    {
     "name": "stdout",
     "output_type": "stream",
     "text": [
      "5478304\n",
      "3659134.0\n",
      "5478304\n",
      "2946121.0\n",
      "5478304\n",
      "3481055.0\n"
     ]
    }
   ],
   "source": [
    "print(df_CompetenciaUsersAttrib.Marca_DS.count())\n",
    "print(df_CompetenciaUsersAttrib.Marca_DS.sum())\n",
    "\n",
    "print(df_CompetenciaUsersAttrib.Marca_Supervizado.count())\n",
    "print(df_CompetenciaUsersAttrib.Marca_Supervizado.sum())\n",
    "\n",
    "print(df_CompetenciaUsersAttrib.Marca_NoSupervizado.count())\n",
    "print(df_CompetenciaUsersAttrib.Marca_NoSupervizado.sum())"
   ]
  },
  {
   "cell_type": "code",
   "execution_count": 42,
   "metadata": {},
   "outputs": [
    {
     "data": {
      "text/html": [
       "<div>\n",
       "<style scoped>\n",
       "    .dataframe tbody tr th:only-of-type {\n",
       "        vertical-align: middle;\n",
       "    }\n",
       "\n",
       "    .dataframe tbody tr th {\n",
       "        vertical-align: top;\n",
       "    }\n",
       "\n",
       "    .dataframe thead th {\n",
       "        text-align: right;\n",
       "    }\n",
       "</style>\n",
       "<table border=\"1\" class=\"dataframe\">\n",
       "  <thead>\n",
       "    <tr style=\"text-align: right;\">\n",
       "      <th></th>\n",
       "      <th>TeamId</th>\n",
       "      <th>UserId</th>\n",
       "      <th>CompetitionId</th>\n",
       "      <th>Marca_DS</th>\n",
       "      <th>Marca_Supervizado</th>\n",
       "      <th>Marca_NoSupervizado</th>\n",
       "    </tr>\n",
       "  </thead>\n",
       "  <tbody>\n",
       "    <tr>\n",
       "      <th>144739</th>\n",
       "      <td>111041</td>\n",
       "      <td>38477</td>\n",
       "      <td>3947.0</td>\n",
       "      <td>1.0</td>\n",
       "      <td>0.0</td>\n",
       "      <td>1.0</td>\n",
       "    </tr>\n",
       "    <tr>\n",
       "      <th>144740</th>\n",
       "      <td>111041</td>\n",
       "      <td>223722</td>\n",
       "      <td>3947.0</td>\n",
       "      <td>1.0</td>\n",
       "      <td>0.0</td>\n",
       "      <td>1.0</td>\n",
       "    </tr>\n",
       "  </tbody>\n",
       "</table>\n",
       "</div>"
      ],
      "text/plain": [
       "        TeamId  UserId  CompetitionId  Marca_DS  Marca_Supervizado  \\\n",
       "144739  111041   38477         3947.0       1.0                0.0   \n",
       "144740  111041  223722         3947.0       1.0                0.0   \n",
       "\n",
       "        Marca_NoSupervizado  \n",
       "144739                  1.0  \n",
       "144740                  1.0  "
      ]
     },
     "execution_count": 42,
     "metadata": {},
     "output_type": "execute_result"
    }
   ],
   "source": [
    "df_CompetenciaUsersAttrib[df_CompetenciaUsersAttrib[\"TeamId\"]==111041]"
   ]
  },
  {
   "cell_type": "code",
   "execution_count": 43,
   "metadata": {},
   "outputs": [
    {
     "data": {
      "text/html": [
       "<div>\n",
       "<style scoped>\n",
       "    .dataframe tbody tr th:only-of-type {\n",
       "        vertical-align: middle;\n",
       "    }\n",
       "\n",
       "    .dataframe tbody tr th {\n",
       "        vertical-align: top;\n",
       "    }\n",
       "\n",
       "    .dataframe thead th {\n",
       "        text-align: right;\n",
       "    }\n",
       "</style>\n",
       "<table border=\"1\" class=\"dataframe\">\n",
       "  <thead>\n",
       "    <tr style=\"text-align: right;\">\n",
       "      <th></th>\n",
       "      <th>CompetitionId</th>\n",
       "      <th>TagId</th>\n",
       "      <th>Name</th>\n",
       "      <th>flg_DS</th>\n",
       "      <th>flg_DS_Supervizado</th>\n",
       "      <th>flg_DS_NoSupervizado</th>\n",
       "    </tr>\n",
       "  </thead>\n",
       "  <tbody>\n",
       "    <tr>\n",
       "      <th>1</th>\n",
       "      <td>3947</td>\n",
       "      <td>14102</td>\n",
       "      <td>image data</td>\n",
       "      <td>1</td>\n",
       "      <td>0</td>\n",
       "      <td>1</td>\n",
       "    </tr>\n",
       "  </tbody>\n",
       "</table>\n",
       "</div>"
      ],
      "text/plain": [
       "   CompetitionId  TagId        Name  flg_DS  flg_DS_Supervizado  \\\n",
       "1           3947  14102  image data       1                   0   \n",
       "\n",
       "   flg_DS_NoSupervizado  \n",
       "1                     1  "
      ]
     },
     "execution_count": 43,
     "metadata": {},
     "output_type": "execute_result"
    }
   ],
   "source": [
    "df_cruce2[df_cruce2[\"CompetitionId\"]==3947.0]"
   ]
  },
  {
   "cell_type": "code",
   "execution_count": 44,
   "metadata": {},
   "outputs": [
    {
     "data": {
      "text/html": [
       "<div>\n",
       "<style scoped>\n",
       "    .dataframe tbody tr th:only-of-type {\n",
       "        vertical-align: middle;\n",
       "    }\n",
       "\n",
       "    .dataframe tbody tr th {\n",
       "        vertical-align: top;\n",
       "    }\n",
       "\n",
       "    .dataframe thead th {\n",
       "        text-align: right;\n",
       "    }\n",
       "</style>\n",
       "<table border=\"1\" class=\"dataframe\">\n",
       "  <thead>\n",
       "    <tr style=\"text-align: right;\">\n",
       "      <th></th>\n",
       "      <th>CompetitionId</th>\n",
       "      <th>Marca_DS</th>\n",
       "      <th>Marca_Supervizado</th>\n",
       "      <th>Marca_NoSupervizado</th>\n",
       "    </tr>\n",
       "  </thead>\n",
       "  <tbody>\n",
       "    <tr>\n",
       "      <th>7</th>\n",
       "      <td>3947</td>\n",
       "      <td>1</td>\n",
       "      <td>0</td>\n",
       "      <td>1</td>\n",
       "    </tr>\n",
       "  </tbody>\n",
       "</table>\n",
       "</div>"
      ],
      "text/plain": [
       "   CompetitionId  Marca_DS  Marca_Supervizado  Marca_NoSupervizado\n",
       "7           3947         1                  0                    1"
      ]
     },
     "execution_count": 44,
     "metadata": {},
     "output_type": "execute_result"
    }
   ],
   "source": [
    "df_competencias_agg[df_competencias_agg[\"CompetitionId\"]==3947.0]"
   ]
  },
  {
   "cell_type": "markdown",
   "metadata": {},
   "source": [
    "# Tabla agregada a nivel usuario para saber los atributos de sus competencias\n",
    "#### Saber el total de competencias que estuvo, cuantas de estas tienen caracteristicas de DS, DS Supervizado y DS No Supervizado"
   ]
  },
  {
   "cell_type": "code",
   "execution_count": 46,
   "metadata": {},
   "outputs": [
    {
     "data": {
      "text/html": [
       "<div>\n",
       "<style scoped>\n",
       "    .dataframe tbody tr th:only-of-type {\n",
       "        vertical-align: middle;\n",
       "    }\n",
       "\n",
       "    .dataframe tbody tr th {\n",
       "        vertical-align: top;\n",
       "    }\n",
       "\n",
       "    .dataframe thead th {\n",
       "        text-align: right;\n",
       "    }\n",
       "</style>\n",
       "<table border=\"1\" class=\"dataframe\">\n",
       "  <thead>\n",
       "    <tr style=\"text-align: right;\">\n",
       "      <th></th>\n",
       "      <th>UserId</th>\n",
       "      <th>CTDCOMP</th>\n",
       "      <th>CTDCOMP_DS</th>\n",
       "      <th>CTDCOMP_Supervizado</th>\n",
       "      <th>CTDCOMP_NoSupervizado</th>\n",
       "    </tr>\n",
       "  </thead>\n",
       "  <tbody>\n",
       "    <tr>\n",
       "      <th>0</th>\n",
       "      <td>1</td>\n",
       "      <td>1</td>\n",
       "      <td>1.0</td>\n",
       "      <td>0.0</td>\n",
       "      <td>1.0</td>\n",
       "    </tr>\n",
       "    <tr>\n",
       "      <th>1</th>\n",
       "      <td>62</td>\n",
       "      <td>1</td>\n",
       "      <td>0.0</td>\n",
       "      <td>0.0</td>\n",
       "      <td>0.0</td>\n",
       "    </tr>\n",
       "    <tr>\n",
       "      <th>2</th>\n",
       "      <td>368</td>\n",
       "      <td>101</td>\n",
       "      <td>63.0</td>\n",
       "      <td>44.0</td>\n",
       "      <td>62.0</td>\n",
       "    </tr>\n",
       "    <tr>\n",
       "      <th>3</th>\n",
       "      <td>381</td>\n",
       "      <td>64</td>\n",
       "      <td>2.0</td>\n",
       "      <td>1.0</td>\n",
       "      <td>2.0</td>\n",
       "    </tr>\n",
       "    <tr>\n",
       "      <th>4</th>\n",
       "      <td>387</td>\n",
       "      <td>1</td>\n",
       "      <td>0.0</td>\n",
       "      <td>0.0</td>\n",
       "      <td>0.0</td>\n",
       "    </tr>\n",
       "  </tbody>\n",
       "</table>\n",
       "</div>"
      ],
      "text/plain": [
       "   UserId  CTDCOMP  CTDCOMP_DS  CTDCOMP_Supervizado  CTDCOMP_NoSupervizado\n",
       "0       1        1         1.0                  0.0                    1.0\n",
       "1      62        1         0.0                  0.0                    0.0\n",
       "2     368      101        63.0                 44.0                   62.0\n",
       "3     381       64         2.0                  1.0                    2.0\n",
       "4     387        1         0.0                  0.0                    0.0"
      ]
     },
     "execution_count": 46,
     "metadata": {},
     "output_type": "execute_result"
    }
   ],
   "source": [
    "df_CompetenciaUsersAttrib_agg = df_CompetenciaUsersAttrib.groupby('UserId').agg({'UserId':['count'],'Marca_DS':['sum'],'Marca_Supervizado':['sum'],'Marca_NoSupervizado':['sum']}).reset_index(drop=False)\n",
    "df_CompetenciaUsersAttrib_agg.columns = ['UserId','CTDCOMP','CTDCOMP_DS','CTDCOMP_Supervizado','CTDCOMP_NoSupervizado']\n",
    "df_CompetenciaUsersAttrib_agg.head()"
   ]
  },
  {
   "cell_type": "code",
   "execution_count": 47,
   "metadata": {},
   "outputs": [
    {
     "data": {
      "text/plain": [
       "(1971901, 5)"
      ]
     },
     "execution_count": 47,
     "metadata": {},
     "output_type": "execute_result"
    }
   ],
   "source": [
    "df_CompetenciaUsersAttrib_agg.shape"
   ]
  },
  {
   "cell_type": "code",
   "execution_count": 49,
   "metadata": {},
   "outputs": [
    {
     "data": {
      "text/html": [
       "<div>\n",
       "<style scoped>\n",
       "    .dataframe tbody tr th:only-of-type {\n",
       "        vertical-align: middle;\n",
       "    }\n",
       "\n",
       "    .dataframe tbody tr th {\n",
       "        vertical-align: top;\n",
       "    }\n",
       "\n",
       "    .dataframe thead th {\n",
       "        text-align: right;\n",
       "    }\n",
       "</style>\n",
       "<table border=\"1\" class=\"dataframe\">\n",
       "  <thead>\n",
       "    <tr style=\"text-align: right;\">\n",
       "      <th></th>\n",
       "      <th>UserId</th>\n",
       "      <th>CTDCOMP</th>\n",
       "      <th>CTDCOMP_DS</th>\n",
       "      <th>CTDCOMP_Supervizado</th>\n",
       "      <th>CTDCOMP_NoSupervizado</th>\n",
       "    </tr>\n",
       "  </thead>\n",
       "  <tbody>\n",
       "    <tr>\n",
       "      <th>count</th>\n",
       "      <td>1.971901e+06</td>\n",
       "      <td>1.971901e+06</td>\n",
       "      <td>1.971901e+06</td>\n",
       "      <td>1.971901e+06</td>\n",
       "      <td>1.971901e+06</td>\n",
       "    </tr>\n",
       "    <tr>\n",
       "      <th>mean</th>\n",
       "      <td>3.916752e+06</td>\n",
       "      <td>2.778184e+00</td>\n",
       "      <td>1.855638e+00</td>\n",
       "      <td>1.494051e+00</td>\n",
       "      <td>1.765329e+00</td>\n",
       "    </tr>\n",
       "    <tr>\n",
       "      <th>std</th>\n",
       "      <td>2.809017e+06</td>\n",
       "      <td>5.451353e+00</td>\n",
       "      <td>4.059224e+00</td>\n",
       "      <td>3.240114e+00</td>\n",
       "      <td>3.895552e+00</td>\n",
       "    </tr>\n",
       "    <tr>\n",
       "      <th>min</th>\n",
       "      <td>1.000000e+00</td>\n",
       "      <td>1.000000e+00</td>\n",
       "      <td>0.000000e+00</td>\n",
       "      <td>0.000000e+00</td>\n",
       "      <td>0.000000e+00</td>\n",
       "    </tr>\n",
       "    <tr>\n",
       "      <th>25%</th>\n",
       "      <td>1.556049e+06</td>\n",
       "      <td>1.000000e+00</td>\n",
       "      <td>0.000000e+00</td>\n",
       "      <td>0.000000e+00</td>\n",
       "      <td>0.000000e+00</td>\n",
       "    </tr>\n",
       "    <tr>\n",
       "      <th>50%</th>\n",
       "      <td>3.354141e+06</td>\n",
       "      <td>1.000000e+00</td>\n",
       "      <td>1.000000e+00</td>\n",
       "      <td>1.000000e+00</td>\n",
       "      <td>1.000000e+00</td>\n",
       "    </tr>\n",
       "    <tr>\n",
       "      <th>75%</th>\n",
       "      <td>5.905723e+06</td>\n",
       "      <td>3.000000e+00</td>\n",
       "      <td>2.000000e+00</td>\n",
       "      <td>2.000000e+00</td>\n",
       "      <td>2.000000e+00</td>\n",
       "    </tr>\n",
       "    <tr>\n",
       "      <th>max</th>\n",
       "      <td>1.094694e+07</td>\n",
       "      <td>1.695000e+03</td>\n",
       "      <td>2.800000e+02</td>\n",
       "      <td>2.160000e+02</td>\n",
       "      <td>2.680000e+02</td>\n",
       "    </tr>\n",
       "  </tbody>\n",
       "</table>\n",
       "</div>"
      ],
      "text/plain": [
       "             UserId       CTDCOMP    CTDCOMP_DS  CTDCOMP_Supervizado  \\\n",
       "count  1.971901e+06  1.971901e+06  1.971901e+06         1.971901e+06   \n",
       "mean   3.916752e+06  2.778184e+00  1.855638e+00         1.494051e+00   \n",
       "std    2.809017e+06  5.451353e+00  4.059224e+00         3.240114e+00   \n",
       "min    1.000000e+00  1.000000e+00  0.000000e+00         0.000000e+00   \n",
       "25%    1.556049e+06  1.000000e+00  0.000000e+00         0.000000e+00   \n",
       "50%    3.354141e+06  1.000000e+00  1.000000e+00         1.000000e+00   \n",
       "75%    5.905723e+06  3.000000e+00  2.000000e+00         2.000000e+00   \n",
       "max    1.094694e+07  1.695000e+03  2.800000e+02         2.160000e+02   \n",
       "\n",
       "       CTDCOMP_NoSupervizado  \n",
       "count           1.971901e+06  \n",
       "mean            1.765329e+00  \n",
       "std             3.895552e+00  \n",
       "min             0.000000e+00  \n",
       "25%             0.000000e+00  \n",
       "50%             1.000000e+00  \n",
       "75%             2.000000e+00  \n",
       "max             2.680000e+02  "
      ]
     },
     "execution_count": 49,
     "metadata": {},
     "output_type": "execute_result"
    }
   ],
   "source": [
    "df_CompetenciaUsersAttrib_agg.describe()"
   ]
  },
  {
   "cell_type": "code",
   "execution_count": 48,
   "metadata": {},
   "outputs": [],
   "source": [
    "df_CompetenciaUsersAttrib_agg.to_csv(r\"../data/processed//UserAttributes.csv\",index=False)"
   ]
  }
 ],
 "metadata": {
  "kernelspec": {
   "display_name": "Python 3.6.5 ('.venv': venv)",
   "language": "python",
   "name": "python3"
  },
  "language_info": {
   "codemirror_mode": {
    "name": "ipython",
    "version": 3
   },
   "file_extension": ".py",
   "mimetype": "text/x-python",
   "name": "python",
   "nbconvert_exporter": "python",
   "pygments_lexer": "ipython3",
   "version": "3.6.5"
  },
  "orig_nbformat": 4,
  "vscode": {
   "interpreter": {
    "hash": "34b652421595a0c643e374c4ab7a0ee86f5cb1455b91e0738f83360473bef1bf"
   }
  }
 },
 "nbformat": 4,
 "nbformat_minor": 2
}
