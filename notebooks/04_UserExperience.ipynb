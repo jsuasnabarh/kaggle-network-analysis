{
 "cells": [
  {
   "cell_type": "markdown",
   "metadata": {},
   "source": [
    "# Libraries"
   ]
  },
  {
   "cell_type": "code",
   "execution_count": 1,
   "metadata": {},
   "outputs": [],
   "source": [
    "import sys\n",
    "import os\n",
    "directory_path = os.path.abspath(os.path.join('..'))\n",
    "utils_path = os.path.abspath(os.path.join('../utils'))\n",
    "if directory_path not in sys.path:\n",
    "    sys.path.append(directory_path)\n",
    "    sys.path.append(utils_path)"
   ]
  },
  {
   "cell_type": "code",
   "execution_count": 2,
   "metadata": {},
   "outputs": [],
   "source": [
    "import pandas as pd\n",
    "import numpy as np\n",
    "import networkx as nx\n",
    "import seaborn as sns\n",
    "import matplotlib.pyplot as plt\n",
    "import warnings\n",
    "warnings.filterwarnings(\"ignore\")\n",
    "from utils.Validator import *\n",
    "from utils.Combinations import *\n",
    "from utils.Network import *\n",
    "pd.set_option('display.max_columns', None)\n",
    "sns.set(rc={'figure.figsize':(18.5,10.5)})"
   ]
  },
  {
   "cell_type": "markdown",
   "metadata": {},
   "source": [
    "# Data"
   ]
  },
  {
   "cell_type": "code",
   "execution_count": 3,
   "metadata": {},
   "outputs": [],
   "source": [
    "df_team_members = pd.read_csv(r\"../data/interim/TeamMemberships.csv\",dtype=str)\n",
    "df_teams = pd.read_csv(r\"../data/interim/Teams.csv\",dtype=str)\n",
    "df_competition_tags = pd.read_csv(r\"../data/interim/CompetitionTags.csv\",dtype=str)\n",
    "df_competitions = pd.read_csv(r\"../data/interim/Competitions.csv\",dtype=str)\n",
    "df_datasets = pd.read_csv(r\"../data/interim/Datasets.csv\",dtype=str)\n",
    "df_dataset_tags = pd.read_csv(r\"../data/interim/DatasetTags.csv\",dtype=str)\n",
    "df_tags = pd.read_csv(r\"../data/interim/Tags.csv\",dtype=str)"
   ]
  },
  {
   "cell_type": "code",
   "execution_count": 4,
   "metadata": {},
   "outputs": [
    {
     "name": "stdout",
     "output_type": "stream",
     "text": [
      "# de Datasets: 160934\n",
      "# de Datasets con Tags: 72030\n",
      "% de Datasets con Tags: 0.4475747822088558\n"
     ]
    }
   ],
   "source": [
    "aux_1 = len(df_datasets[\"DatasetId\"].unique())\n",
    "aux_2 = len(df_dataset_tags[\"DatasetId\"].unique())\n",
    "\n",
    "print('# de Datasets:',aux_1)\n",
    "print('# de Datasets con Tags:',aux_2)\n",
    "print('% de Datasets con Tags:',aux_2/aux_1)"
   ]
  },
  {
   "cell_type": "code",
   "execution_count": 5,
   "metadata": {},
   "outputs": [
    {
     "name": "stdout",
     "output_type": "stream",
     "text": [
      "# de Competiciones: 5478\n",
      "# de Competiciones con Tags: 314\n",
      "% de Competiciones con Tags: 0.05732018985031033\n"
     ]
    }
   ],
   "source": [
    "aux_1 = len(df_competitions[\"CompetitionId\"].unique())\n",
    "aux_2 = len(df_competition_tags[\"CompetitionId\"].unique())\n",
    "\n",
    "print('# de Competiciones:',aux_1)\n",
    "print('# de Competiciones con Tags:',aux_2)\n",
    "print('% de Competiciones con Tags:',aux_2/aux_1)"
   ]
  },
  {
   "cell_type": "markdown",
   "metadata": {},
   "source": [
    "A partir de los ratios obtenidos sobre los tags asociados a competiciones, kernels y datasets que son muy bajos hemos decidido prescindir de nuestra propuesta de agrupar y atribuir caracteristicas de un usuario a partir de los tags. No obstante, obtendremos esta informacion y la mostraremos como un adicional para cada candidato por lo que procederemos a dejar un formato estandarizado para estos atributos."
   ]
  }
 ],
 "metadata": {
  "kernelspec": {
   "display_name": "Python 3.6.5 ('.venv': venv)",
   "language": "python",
   "name": "python3"
  },
  "language_info": {
   "codemirror_mode": {
    "name": "ipython",
    "version": 3
   },
   "file_extension": ".py",
   "mimetype": "text/x-python",
   "name": "python",
   "nbconvert_exporter": "python",
   "pygments_lexer": "ipython3",
   "version": "3.6.5"
  },
  "orig_nbformat": 4,
  "vscode": {
   "interpreter": {
    "hash": "34b652421595a0c643e374c4ab7a0ee86f5cb1455b91e0738f83360473bef1bf"
   }
  }
 },
 "nbformat": 4,
 "nbformat_minor": 2
}
