{
 "cells": [
  {
   "cell_type": "markdown",
   "metadata": {},
   "source": [
    "# Library"
   ]
  },
  {
   "cell_type": "code",
   "execution_count": 1,
   "metadata": {},
   "outputs": [],
   "source": [
    "import sys\n",
    "import os\n",
    "directory_path = os.path.abspath(os.path.join('..'))\n",
    "utils_path = os.path.abspath(os.path.join('../utils'))\n",
    "if directory_path not in sys.path:\n",
    "    sys.path.append(directory_path)\n",
    "    sys.path.append(utils_path)"
   ]
  },
  {
   "cell_type": "code",
   "execution_count": 2,
   "metadata": {},
   "outputs": [],
   "source": [
    "import pandas as pd\n",
    "import numpy as np\n",
    "import networkx as nx\n",
    "import warnings\n",
    "from pyvis.network import Network as net\n",
    "from sklearn.preprocessing import MinMaxScaler\n",
    "warnings.filterwarnings(\"ignore\")\n",
    "from utils.Validator import *\n",
    "from utils.Combinations import *\n",
    "from utils.NetworkDraw import *\n",
    "pd.set_option('display.max_columns', None)"
   ]
  },
  {
   "cell_type": "markdown",
   "metadata": {},
   "source": [
    "# Network Attribute"
   ]
  },
  {
   "cell_type": "markdown",
   "metadata": {},
   "source": [
    "## Followers"
   ]
  },
  {
   "cell_type": "code",
   "execution_count": 3,
   "metadata": {},
   "outputs": [
    {
     "data": {
      "text/html": [
       "<div>\n",
       "<style scoped>\n",
       "    .dataframe tbody tr th:only-of-type {\n",
       "        vertical-align: middle;\n",
       "    }\n",
       "\n",
       "    .dataframe tbody tr th {\n",
       "        vertical-align: top;\n",
       "    }\n",
       "\n",
       "    .dataframe thead th {\n",
       "        text-align: right;\n",
       "    }\n",
       "</style>\n",
       "<table border=\"1\" class=\"dataframe\">\n",
       "  <thead>\n",
       "    <tr style=\"text-align: right;\">\n",
       "      <th></th>\n",
       "      <th>UserId</th>\n",
       "      <th>UserName</th>\n",
       "      <th>in_degree_followers</th>\n",
       "      <th>out_degree_followers</th>\n",
       "      <th>in_degree_cent_followers</th>\n",
       "      <th>pagerank_cent_followers</th>\n",
       "      <th>out_degree_followers_scaled</th>\n",
       "      <th>in_degree_cent_followers_scaled</th>\n",
       "      <th>pagerank_cent_followers_scaled</th>\n",
       "    </tr>\n",
       "  </thead>\n",
       "  <tbody>\n",
       "    <tr>\n",
       "      <th>0</th>\n",
       "      <td>993</td>\n",
       "      <td>benhamner</td>\n",
       "      <td>1513</td>\n",
       "      <td>20</td>\n",
       "      <td>0.005959</td>\n",
       "      <td>0.002447</td>\n",
       "      <td>20.580552</td>\n",
       "      <td>27.187648</td>\n",
       "      <td>25.229307</td>\n",
       "    </tr>\n",
       "    <tr>\n",
       "      <th>1</th>\n",
       "      <td>368</td>\n",
       "      <td>antgoldbloom</td>\n",
       "      <td>983</td>\n",
       "      <td>6</td>\n",
       "      <td>0.003872</td>\n",
       "      <td>0.001775</td>\n",
       "      <td>20.174165</td>\n",
       "      <td>24.669834</td>\n",
       "      <td>23.791618</td>\n",
       "    </tr>\n",
       "    <tr>\n",
       "      <th>2</th>\n",
       "      <td>1902</td>\n",
       "      <td>solorzano</td>\n",
       "      <td>207</td>\n",
       "      <td>32</td>\n",
       "      <td>0.000815</td>\n",
       "      <td>0.000135</td>\n",
       "      <td>20.928882</td>\n",
       "      <td>20.983373</td>\n",
       "      <td>20.285634</td>\n",
       "    </tr>\n",
       "    <tr>\n",
       "      <th>3</th>\n",
       "      <td>1950</td>\n",
       "      <td>sskiing</td>\n",
       "      <td>29</td>\n",
       "      <td>26</td>\n",
       "      <td>0.000114</td>\n",
       "      <td>0.000072</td>\n",
       "      <td>20.754717</td>\n",
       "      <td>20.137767</td>\n",
       "      <td>20.152212</td>\n",
       "    </tr>\n",
       "    <tr>\n",
       "      <th>4</th>\n",
       "      <td>3258</td>\n",
       "      <td>NaN</td>\n",
       "      <td>0</td>\n",
       "      <td>22</td>\n",
       "      <td>0.000000</td>\n",
       "      <td>0.000001</td>\n",
       "      <td>20.638607</td>\n",
       "      <td>20.000000</td>\n",
       "      <td>20.000000</td>\n",
       "    </tr>\n",
       "  </tbody>\n",
       "</table>\n",
       "</div>"
      ],
      "text/plain": [
       "  UserId      UserName  in_degree_followers  out_degree_followers  \\\n",
       "0    993     benhamner                 1513                    20   \n",
       "1    368  antgoldbloom                  983                     6   \n",
       "2   1902     solorzano                  207                    32   \n",
       "3   1950       sskiing                   29                    26   \n",
       "4   3258           NaN                    0                    22   \n",
       "\n",
       "   in_degree_cent_followers  pagerank_cent_followers  \\\n",
       "0                  0.005959                 0.002447   \n",
       "1                  0.003872                 0.001775   \n",
       "2                  0.000815                 0.000135   \n",
       "3                  0.000114                 0.000072   \n",
       "4                  0.000000                 0.000001   \n",
       "\n",
       "   out_degree_followers_scaled  in_degree_cent_followers_scaled  \\\n",
       "0                    20.580552                        27.187648   \n",
       "1                    20.174165                        24.669834   \n",
       "2                    20.928882                        20.983373   \n",
       "3                    20.754717                        20.137767   \n",
       "4                    20.638607                        20.000000   \n",
       "\n",
       "   pagerank_cent_followers_scaled  \n",
       "0                       25.229307  \n",
       "1                       23.791618  \n",
       "2                       20.285634  \n",
       "3                       20.152212  \n",
       "4                       20.000000  "
      ]
     },
     "execution_count": 3,
     "metadata": {},
     "output_type": "execute_result"
    }
   ],
   "source": [
    "df_GUF_attr = pd.read_csv(r\"../data/processed/df_GUF_scaled.csv\")\n",
    "df_GUF_attr[\"UserId\"] = df_GUF_attr[\"UserId\"].astype(str)\n",
    "df_GUF_attr.head()"
   ]
  },
  {
   "cell_type": "code",
   "execution_count": 4,
   "metadata": {},
   "outputs": [
    {
     "data": {
      "text/plain": [
       "(253893, 9)"
      ]
     },
     "execution_count": 4,
     "metadata": {},
     "output_type": "execute_result"
    }
   ],
   "source": [
    "df_GUF_attr.shape"
   ]
  },
  {
   "cell_type": "code",
   "execution_count": 17,
   "metadata": {},
   "outputs": [
    {
     "name": "stdout",
     "output_type": "stream",
     "text": [
      "Name: \n",
      "Type: DiGraph\n",
      "Number of nodes: 253893\n",
      "Number of edges: 765508\n",
      "Average in degree:   3.0151\n",
      "Average out degree:   3.0151\n"
     ]
    }
   ],
   "source": [
    "GUF = nx.read_gexf(r\"../data/processed/GUF.gexf\")\n",
    "print(nx.info(GUF))"
   ]
  },
  {
   "cell_type": "code",
   "execution_count": 22,
   "metadata": {},
   "outputs": [],
   "source": [
    "#label\n",
    "dict_tmp = dict(df_GUF_attr[[\"UserId\",\"UserName\"]].values.tolist())\n",
    "nx.set_node_attributes(GUF, name='label', values=dict_tmp)\n",
    "\n",
    "#Tamanio\n",
    "dict_values = dict(df_GUF_attr[[\"UserId\",\"in_degree_cent_followers_scaled\"]].values.tolist())\n",
    "nx.set_node_attributes(GUF, name='size', values=dict_values)\n",
    "\n",
    "#Labels\n",
    "dict_ig = dict(df_GUF_attr[[\"UserId\",\"in_degree_followers\"]].values.tolist())\n",
    "dict_og = dict(df_GUF_attr[[\"UserId\",\"out_degree_followers\"]].values.tolist())\n",
    "dict_pr = dict(df_GUF_attr[[\"UserId\",\"pagerank_cent_followers\"]].values.tolist())\n",
    "\n",
    "list_title = []\n",
    "for n in GUF.nodes:\n",
    "    #Mto Recibido y Enviado\n",
    "    ig = dict_ig[n]\n",
    "    formatted_ig = \"{:,.0f}\".format(ig)\n",
    "    og = dict_og[n]\n",
    "    formatted_og = \"{:,.0f}\".format(og)\n",
    "    pr = dict_pr[n]\n",
    "    formatted_pr = \"{:,.4f}\".format(pr)\n",
    "    # Creamos el html final\n",
    "    title_text = \" Seguidores: \"+str(formatted_ig) + \"\\n Sigue a: \"+str(formatted_og)+ \"\\n Pagerank: \"+str(formatted_pr)\n",
    "    list_title.append((n,title_text))\n",
    "dict_title = dict(list_title)\n",
    "nx.set_node_attributes(GUF, name='title', values=dict_title)"
   ]
  },
  {
   "cell_type": "code",
   "execution_count": 34,
   "metadata": {},
   "outputs": [],
   "source": [
    "nx.write_gexf(GUF, r\"../data/processed/GUF_attr.gexf\")"
   ]
  },
  {
   "cell_type": "markdown",
   "metadata": {},
   "source": [
    "## Teams"
   ]
  },
  {
   "cell_type": "code",
   "execution_count": 19,
   "metadata": {},
   "outputs": [
    {
     "data": {
      "text/html": [
       "<div>\n",
       "<style scoped>\n",
       "    .dataframe tbody tr th:only-of-type {\n",
       "        vertical-align: middle;\n",
       "    }\n",
       "\n",
       "    .dataframe tbody tr th {\n",
       "        vertical-align: top;\n",
       "    }\n",
       "\n",
       "    .dataframe thead th {\n",
       "        text-align: right;\n",
       "    }\n",
       "</style>\n",
       "<table border=\"1\" class=\"dataframe\">\n",
       "  <thead>\n",
       "    <tr style=\"text-align: right;\">\n",
       "      <th></th>\n",
       "      <th>UserId</th>\n",
       "      <th>UserName</th>\n",
       "      <th>degree_teams</th>\n",
       "      <th>degree_cent_teams</th>\n",
       "      <th>eigenvector_cent_teams</th>\n",
       "      <th>degree_teams_scaled</th>\n",
       "      <th>degree_cent_teams_scaled</th>\n",
       "      <th>eigenvector_cent_teams_scaled</th>\n",
       "    </tr>\n",
       "  </thead>\n",
       "  <tbody>\n",
       "    <tr>\n",
       "      <th>155725</th>\n",
       "      <td>7479659</td>\n",
       "      <td>NaN</td>\n",
       "      <td>1</td>\n",
       "      <td>0.000006</td>\n",
       "      <td>5.427340e-23</td>\n",
       "      <td>20.000000</td>\n",
       "      <td>20.000000</td>\n",
       "      <td>20.0</td>\n",
       "    </tr>\n",
       "    <tr>\n",
       "      <th>155726</th>\n",
       "      <td>9998652</td>\n",
       "      <td>NaN</td>\n",
       "      <td>1</td>\n",
       "      <td>0.000006</td>\n",
       "      <td>5.427340e-23</td>\n",
       "      <td>20.000000</td>\n",
       "      <td>20.000000</td>\n",
       "      <td>20.0</td>\n",
       "    </tr>\n",
       "    <tr>\n",
       "      <th>155727</th>\n",
       "      <td>6066760</td>\n",
       "      <td>NaN</td>\n",
       "      <td>1</td>\n",
       "      <td>0.000006</td>\n",
       "      <td>5.427340e-23</td>\n",
       "      <td>20.000000</td>\n",
       "      <td>20.000000</td>\n",
       "      <td>20.0</td>\n",
       "    </tr>\n",
       "    <tr>\n",
       "      <th>155728</th>\n",
       "      <td>99987</td>\n",
       "      <td>chrismoulder</td>\n",
       "      <td>4</td>\n",
       "      <td>0.000026</td>\n",
       "      <td>5.427340e-23</td>\n",
       "      <td>21.818182</td>\n",
       "      <td>21.818182</td>\n",
       "      <td>20.0</td>\n",
       "    </tr>\n",
       "    <tr>\n",
       "      <th>155729</th>\n",
       "      <td>999897</td>\n",
       "      <td>NaN</td>\n",
       "      <td>1</td>\n",
       "      <td>0.000006</td>\n",
       "      <td>5.427340e-23</td>\n",
       "      <td>20.000000</td>\n",
       "      <td>20.000000</td>\n",
       "      <td>20.0</td>\n",
       "    </tr>\n",
       "  </tbody>\n",
       "</table>\n",
       "</div>"
      ],
      "text/plain": [
       "         UserId      UserName  degree_teams  degree_cent_teams  \\\n",
       "155725  7479659           NaN             1           0.000006   \n",
       "155726  9998652           NaN             1           0.000006   \n",
       "155727  6066760           NaN             1           0.000006   \n",
       "155728    99987  chrismoulder             4           0.000026   \n",
       "155729   999897           NaN             1           0.000006   \n",
       "\n",
       "        eigenvector_cent_teams  degree_teams_scaled  degree_cent_teams_scaled  \\\n",
       "155725            5.427340e-23            20.000000                 20.000000   \n",
       "155726            5.427340e-23            20.000000                 20.000000   \n",
       "155727            5.427340e-23            20.000000                 20.000000   \n",
       "155728            5.427340e-23            21.818182                 21.818182   \n",
       "155729            5.427340e-23            20.000000                 20.000000   \n",
       "\n",
       "        eigenvector_cent_teams_scaled  \n",
       "155725                           20.0  \n",
       "155726                           20.0  \n",
       "155727                           20.0  \n",
       "155728                           20.0  \n",
       "155729                           20.0  "
      ]
     },
     "execution_count": 19,
     "metadata": {},
     "output_type": "execute_result"
    }
   ],
   "source": [
    "df_GUT_attr = pd.read_csv(r\"../data/processed/df_GUT_scaled.csv\")\n",
    "df_GUT_attr[\"UserId\"] = df_GUT_attr[\"UserId\"].astype(str)\n",
    "df_GUT_attr.tail()"
   ]
  },
  {
   "cell_type": "code",
   "execution_count": 20,
   "metadata": {},
   "outputs": [
    {
     "name": "stdout",
     "output_type": "stream",
     "text": [
      "(155730, 8)\n"
     ]
    }
   ],
   "source": [
    "print(df_GUT_attr.shape)"
   ]
  },
  {
   "cell_type": "code",
   "execution_count": 21,
   "metadata": {},
   "outputs": [
    {
     "name": "stdout",
     "output_type": "stream",
     "text": [
      "(155730, 8)\n"
     ]
    }
   ],
   "source": [
    "df_GUT_attr.loc[df_GUT_attr[\"UserName\"].isnull(), 'UserName'] = \"Usuario NC\"\n",
    "print(df_GUT_attr.shape)"
   ]
  },
  {
   "cell_type": "code",
   "execution_count": 22,
   "metadata": {},
   "outputs": [
    {
     "name": "stdout",
     "output_type": "stream",
     "text": [
      "Name: \n",
      "Type: Graph\n",
      "Number of nodes: 155730\n",
      "Number of edges: 196736\n",
      "Average degree:   2.5266\n"
     ]
    }
   ],
   "source": [
    "GUT = nx.read_gexf(r\"../data/processed/GUT.gexf\")\n",
    "print(nx.info(GUT))"
   ]
  },
  {
   "cell_type": "code",
   "execution_count": 23,
   "metadata": {},
   "outputs": [],
   "source": [
    "#label\n",
    "dict_tmp = dict(df_GUT_attr[[\"UserId\",\"UserName\"]].values.tolist())\n",
    "nx.set_node_attributes(GUT, name='label', values=dict_tmp)\n",
    "\n",
    "#Tamanio\n",
    "dict_values = dict(df_GUT_attr[[\"UserId\",\"degree_cent_teams_scaled\"]].values.tolist())\n",
    "nx.set_node_attributes(GUT, name='size', values=dict_values)\n",
    "\n",
    "#Labels\n",
    "dict_dg = dict(df_GUT_attr[[\"UserId\",\"degree_teams\"]].values.tolist())\n",
    "dict_ev = dict(df_GUT_attr[[\"UserId\",\"eigenvector_cent_teams\"]].values.tolist())\n",
    "\n",
    "list_title = []\n",
    "for n in GUT.nodes:\n",
    "    #Mto Recibido y Enviado\n",
    "    dg = dict_dg[n]\n",
    "    formatted_dg = \"{:,.0f}\".format(dg)\n",
    "    ev = dict_ev[n]\n",
    "    formatted_ev = \"{:,.4f}\".format(ev)\n",
    "    # Creamos el html final\n",
    "    title_text = \" Grado: \"+str(formatted_dg) + \"\\n Eigenvector: \"+str(formatted_ev)\n",
    "    list_title.append((n,title_text))\n",
    "dict_title = dict(list_title)\n",
    "nx.set_node_attributes(GUT, name='title', values=dict_title)"
   ]
  },
  {
   "cell_type": "code",
   "execution_count": 24,
   "metadata": {},
   "outputs": [],
   "source": [
    "nx.write_gexf(GUT, r\"../data/processed/GUT_attr.gexf\")"
   ]
  },
  {
   "cell_type": "markdown",
   "metadata": {},
   "source": [
    "## Forum"
   ]
  },
  {
   "cell_type": "code",
   "execution_count": 33,
   "metadata": {},
   "outputs": [
    {
     "data": {
      "text/html": [
       "<div>\n",
       "<style scoped>\n",
       "    .dataframe tbody tr th:only-of-type {\n",
       "        vertical-align: middle;\n",
       "    }\n",
       "\n",
       "    .dataframe tbody tr th {\n",
       "        vertical-align: top;\n",
       "    }\n",
       "\n",
       "    .dataframe thead th {\n",
       "        text-align: right;\n",
       "    }\n",
       "</style>\n",
       "<table border=\"1\" class=\"dataframe\">\n",
       "  <thead>\n",
       "    <tr style=\"text-align: right;\">\n",
       "      <th></th>\n",
       "      <th>UserId</th>\n",
       "      <th>UserName</th>\n",
       "      <th>degree_forums</th>\n",
       "      <th>degree_cent_forums</th>\n",
       "      <th>eigenvector_cent_forums</th>\n",
       "      <th>degree_cent_forums_scaled</th>\n",
       "      <th>eigenvector_cent_forums_scaled</th>\n",
       "    </tr>\n",
       "  </thead>\n",
       "  <tbody>\n",
       "    <tr>\n",
       "      <th>101279</th>\n",
       "      <td>997470</td>\n",
       "      <td>captivus</td>\n",
       "      <td>3</td>\n",
       "      <td>0.000030</td>\n",
       "      <td>2.265569e-06</td>\n",
       "      <td>20.005122</td>\n",
       "      <td>20.000477</td>\n",
       "    </tr>\n",
       "    <tr>\n",
       "      <th>101280</th>\n",
       "      <td>99791</td>\n",
       "      <td>shimaa</td>\n",
       "      <td>4</td>\n",
       "      <td>0.000039</td>\n",
       "      <td>1.988875e-07</td>\n",
       "      <td>20.010243</td>\n",
       "      <td>20.000042</td>\n",
       "    </tr>\n",
       "    <tr>\n",
       "      <th>101281</th>\n",
       "      <td>999082</td>\n",
       "      <td>lukewiebolt</td>\n",
       "      <td>10</td>\n",
       "      <td>0.000099</td>\n",
       "      <td>1.421804e-04</td>\n",
       "      <td>20.040973</td>\n",
       "      <td>20.029906</td>\n",
       "    </tr>\n",
       "    <tr>\n",
       "      <th>101282</th>\n",
       "      <td>999317</td>\n",
       "      <td>bednarb</td>\n",
       "      <td>3</td>\n",
       "      <td>0.000030</td>\n",
       "      <td>1.551812e-08</td>\n",
       "      <td>20.005122</td>\n",
       "      <td>20.000003</td>\n",
       "    </tr>\n",
       "    <tr>\n",
       "      <th>101283</th>\n",
       "      <td>99954</td>\n",
       "      <td>leoaguirre</td>\n",
       "      <td>6</td>\n",
       "      <td>0.000059</td>\n",
       "      <td>1.590878e-08</td>\n",
       "      <td>20.020487</td>\n",
       "      <td>20.000003</td>\n",
       "    </tr>\n",
       "  </tbody>\n",
       "</table>\n",
       "</div>"
      ],
      "text/plain": [
       "        UserId     UserName  degree_forums  degree_cent_forums  \\\n",
       "101279  997470     captivus              3            0.000030   \n",
       "101280   99791       shimaa              4            0.000039   \n",
       "101281  999082  lukewiebolt             10            0.000099   \n",
       "101282  999317      bednarb              3            0.000030   \n",
       "101283   99954   leoaguirre              6            0.000059   \n",
       "\n",
       "        eigenvector_cent_forums  degree_cent_forums_scaled  \\\n",
       "101279             2.265569e-06                  20.005122   \n",
       "101280             1.988875e-07                  20.010243   \n",
       "101281             1.421804e-04                  20.040973   \n",
       "101282             1.551812e-08                  20.005122   \n",
       "101283             1.590878e-08                  20.020487   \n",
       "\n",
       "        eigenvector_cent_forums_scaled  \n",
       "101279                       20.000477  \n",
       "101280                       20.000042  \n",
       "101281                       20.029906  \n",
       "101282                       20.000003  \n",
       "101283                       20.000003  "
      ]
     },
     "execution_count": 33,
     "metadata": {},
     "output_type": "execute_result"
    }
   ],
   "source": [
    "df_GUM_attr = pd.read_csv(r\"../data/processed/df_GUM_scaled.csv\")\n",
    "df_GUM_attr[\"UserId\"] = df_GUM_attr[\"UserId\"].astype(str)\n",
    "df_GUM_attr.tail()"
   ]
  },
  {
   "cell_type": "code",
   "execution_count": 34,
   "metadata": {},
   "outputs": [
    {
     "name": "stdout",
     "output_type": "stream",
     "text": [
      "(101284, 7)\n"
     ]
    }
   ],
   "source": [
    "print(df_GUM_attr.shape)"
   ]
  },
  {
   "cell_type": "code",
   "execution_count": 35,
   "metadata": {},
   "outputs": [
    {
     "name": "stdout",
     "output_type": "stream",
     "text": [
      "(101284, 7)\n"
     ]
    }
   ],
   "source": [
    "df_GUM_attr.loc[df_GUM_attr[\"UserName\"].isnull(), 'UserName'] = \"Usuario NC\"\n",
    "print(df_GUM_attr.shape)"
   ]
  },
  {
   "cell_type": "code",
   "execution_count": 36,
   "metadata": {},
   "outputs": [
    {
     "name": "stdout",
     "output_type": "stream",
     "text": [
      "Name: \n",
      "Type: Graph\n",
      "Number of nodes: 101284\n",
      "Number of edges: 4306750\n",
      "Average degree:  85.0430\n"
     ]
    }
   ],
   "source": [
    "GUM = nx.read_gexf(r\"../data/processed/GUM.gexf\")\n",
    "print(nx.info(GUM))"
   ]
  },
  {
   "cell_type": "code",
   "execution_count": 37,
   "metadata": {},
   "outputs": [],
   "source": [
    "#label\n",
    "dict_tmp = dict(df_GUM_attr[[\"UserId\",\"UserName\"]].values.tolist())\n",
    "nx.set_node_attributes(GUM, name='label', values=dict_tmp)\n",
    "\n",
    "#Tamanio\n",
    "dict_values = dict(df_GUM_attr[[\"UserId\",\"degree_cent_forums_scaled\"]].values.tolist())\n",
    "nx.set_node_attributes(GUM, name='size', values=dict_values)\n",
    "\n",
    "#Labels\n",
    "dict_dg = dict(df_GUM_attr[[\"UserId\",\"degree_forums\"]].values.tolist())\n",
    "dict_ev = dict(df_GUM_attr[[\"UserId\",\"eigenvector_cent_forums\"]].values.tolist())\n",
    "\n",
    "list_title = []\n",
    "for n in GUM.nodes:\n",
    "    #Mto Recibido y Enviado\n",
    "    dg = dict_dg[n]\n",
    "    formatted_dg = \"{:,.0f}\".format(dg)\n",
    "    ev = dict_ev[n]\n",
    "    formatted_ev = \"{:,.4f}\".format(ev)\n",
    "    # Creamos el html final\n",
    "    title_text = \" Grado: \"+str(formatted_dg) + \"\\n Eigenvector: \"+str(formatted_ev)\n",
    "    list_title.append((n,title_text))\n",
    "dict_title = dict(list_title)\n",
    "nx.set_node_attributes(GUM, name='title', values=dict_title)"
   ]
  },
  {
   "cell_type": "code",
   "execution_count": 44,
   "metadata": {},
   "outputs": [],
   "source": [
    "nx.write_gexf(GUM, r\"../data/processed/GUM_attr.gexf\")"
   ]
  },
  {
   "cell_type": "markdown",
   "metadata": {},
   "source": [
    "# Function"
   ]
  },
  {
   "cell_type": "code",
   "execution_count": 3,
   "metadata": {},
   "outputs": [],
   "source": [
    "def get_followers_graph(UserId,_with_second_level=False):\n",
    "    GUF = nx.read_gexf(r\"../data/processed/GUF_attr.gexf\")\n",
    "    SG = NetworkDraw.get_subgraph_from_with_neighbors(GUF,UserId,with_second_level=_with_second_level)\n",
    "    #Asignamos el atributo de color\n",
    "    predecessors = list(GUF.predecessors(UserId))\n",
    "    successors = list(GUF.successors(UserId))\n",
    "    list_color = []\n",
    "    for n in GUF.nodes:\n",
    "        var = (0,0)\n",
    "        if n == UserId:\n",
    "            var = (n,\"#FA5748\") # NODO DE CONSULTA\n",
    "        elif n in predecessors or n in successors: #2DO NIVEL\n",
    "            var = (n,\"#61C0FA\")\n",
    "        else:\n",
    "            var = (n,\"#4D82E3\") #3ER NIVEL\n",
    "        list_color.append(var)\n",
    "    dict_color = dict(list_color)\n",
    "    nx.set_node_attributes(GUF, name='color', values=dict_color)\n",
    "    #Dibujamos el grafo\n",
    "    NetworkDraw.draw_graph3(SG,notebook=False,directed=True,only_physics_buttons=False,height=\"100%\",width=\"100%\",\n",
    "                            output_filename=r\"../others/\"+UserId+'_followers.html')"
   ]
  },
  {
   "cell_type": "code",
   "execution_count": 4,
   "metadata": {},
   "outputs": [],
   "source": [
    "def get_teams_graph(UserId,_with_second_level=False):\n",
    "    GUT = nx.read_gexf(r\"../data/processed/GUT_attr.gexf\")\n",
    "    SG = NetworkDraw.get_subgraph_from_with_neighbors(GUT,UserId,with_second_level=_with_second_level,directed=False)\n",
    "    #Asignamos el atributo de color\n",
    "    neighbors = list(GUT.neighbors(UserId))\n",
    "    list_color = []\n",
    "    for n in GUT.nodes:\n",
    "        var = (0,0)\n",
    "        if n == UserId:\n",
    "            var = (n,\"#FA5748\") # NODO DE CONSULTA\n",
    "        elif n in neighbors: #2DO NIVEL\n",
    "            var = (n,\"#61C0FA\")\n",
    "        else:\n",
    "            var = (n,\"#4D82E3\") #3ER NIVEL\n",
    "        list_color.append(var)\n",
    "    dict_color = dict(list_color)\n",
    "    nx.set_node_attributes(GUT, name='color', values=dict_color)\n",
    "    #Dibujamos el grafo\n",
    "    NetworkDraw.draw_graph3(SG,notebook=False,directed=False,only_physics_buttons=False,height=\"100%\",width=\"100%\",\n",
    "                            output_filename=r\"../others/\"+UserId+'_teams.html')"
   ]
  },
  {
   "cell_type": "code",
   "execution_count": 5,
   "metadata": {},
   "outputs": [],
   "source": [
    "def get_forum_graph(UserId,_with_second_level=False):\n",
    "    GUM = nx.read_gexf(r\"../data/processed/GUM_attr.gexf\")\n",
    "    SG = NetworkDraw.get_subgraph_from_with_neighbors(GUM,UserId,with_second_level=_with_second_level,directed=False)\n",
    "    #Asignamos el atributo de color\n",
    "    neighbors = list(GUM.neighbors(UserId))\n",
    "    list_color = []\n",
    "    for n in GUM.nodes:\n",
    "        var = (0,0)\n",
    "        if n == UserId:\n",
    "            var = (n,\"#FA5748\") # NODO DE CONSULTA\n",
    "        elif n in neighbors: #2DO NIVEL\n",
    "            var = (n,\"#61C0FA\")\n",
    "        else:\n",
    "            var = (n,\"#4D82E3\") #3ER NIVEL\n",
    "        list_color.append(var)\n",
    "    dict_color = dict(list_color)\n",
    "    nx.set_node_attributes(GUM, name='color', values=dict_color)\n",
    "    #Dibujamos el grafo\n",
    "    NetworkDraw.draw_graph3(SG,notebook=False,directed=False,only_physics_buttons=False,height=\"100%\",width=\"100%\",\n",
    "                            output_filename=r\"../others/\"+UserId+'_forum.html')"
   ]
  },
  {
   "cell_type": "markdown",
   "metadata": {},
   "source": [
    "# Call Function"
   ]
  },
  {
   "cell_type": "code",
   "execution_count": 38,
   "metadata": {},
   "outputs": [],
   "source": [
    "get_followers_graph(UserId = \"4494269\",_with_second_level=False)"
   ]
  },
  {
   "cell_type": "code",
   "execution_count": 6,
   "metadata": {},
   "outputs": [],
   "source": [
    "get_teams_graph(UserId = \"4494269\",_with_second_level=False)"
   ]
  },
  {
   "cell_type": "code",
   "execution_count": 7,
   "metadata": {},
   "outputs": [],
   "source": [
    "get_forum_graph(UserId = \"4494269\",_with_second_level=False)"
   ]
  }
 ],
 "metadata": {
  "kernelspec": {
   "display_name": "Python 3.6.5 ('.venv': venv)",
   "language": "python",
   "name": "python3"
  },
  "language_info": {
   "codemirror_mode": {
    "name": "ipython",
    "version": 3
   },
   "file_extension": ".py",
   "mimetype": "text/x-python",
   "name": "python",
   "nbconvert_exporter": "python",
   "pygments_lexer": "ipython3",
   "version": "3.6.5"
  },
  "orig_nbformat": 4,
  "vscode": {
   "interpreter": {
    "hash": "34b652421595a0c643e374c4ab7a0ee86f5cb1455b91e0738f83360473bef1bf"
   }
  }
 },
 "nbformat": 4,
 "nbformat_minor": 2
}
