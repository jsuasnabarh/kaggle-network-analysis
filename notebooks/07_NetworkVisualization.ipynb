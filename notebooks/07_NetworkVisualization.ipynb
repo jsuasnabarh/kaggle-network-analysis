{
 "cells": [
  {
   "cell_type": "markdown",
   "metadata": {},
   "source": [
    "# Library"
   ]
  },
  {
   "cell_type": "code",
   "execution_count": 1,
   "metadata": {},
   "outputs": [],
   "source": [
    "import sys\n",
    "import os\n",
    "directory_path = os.path.abspath(os.path.join('..'))\n",
    "utils_path = os.path.abspath(os.path.join('../utils'))\n",
    "if directory_path not in sys.path:\n",
    "    sys.path.append(directory_path)\n",
    "    sys.path.append(utils_path)"
   ]
  },
  {
   "cell_type": "code",
   "execution_count": 17,
   "metadata": {},
   "outputs": [],
   "source": [
    "import pandas as pd\n",
    "import numpy as np\n",
    "import networkx as nx\n",
    "import warnings\n",
    "from pyvis.network import Network as net\n",
    "from sklearn.preprocessing import MinMaxScaler\n",
    "warnings.filterwarnings(\"ignore\")\n",
    "from utils.Validator import *\n",
    "from utils.Combinations import *\n",
    "from utils.NetworkDraw import *\n",
    "pd.set_option('display.max_columns', None)"
   ]
  },
  {
   "cell_type": "markdown",
   "metadata": {},
   "source": [
    "# Network Followers"
   ]
  },
  {
   "cell_type": "code",
   "execution_count": 12,
   "metadata": {},
   "outputs": [
    {
     "data": {
      "text/html": [
       "<div>\n",
       "<style scoped>\n",
       "    .dataframe tbody tr th:only-of-type {\n",
       "        vertical-align: middle;\n",
       "    }\n",
       "\n",
       "    .dataframe tbody tr th {\n",
       "        vertical-align: top;\n",
       "    }\n",
       "\n",
       "    .dataframe thead th {\n",
       "        text-align: right;\n",
       "    }\n",
       "</style>\n",
       "<table border=\"1\" class=\"dataframe\">\n",
       "  <thead>\n",
       "    <tr style=\"text-align: right;\">\n",
       "      <th></th>\n",
       "      <th>UserId</th>\n",
       "      <th>FollowerUserId</th>\n",
       "    </tr>\n",
       "  </thead>\n",
       "  <tbody>\n",
       "    <tr>\n",
       "      <th>0</th>\n",
       "      <td>368</td>\n",
       "      <td>993</td>\n",
       "    </tr>\n",
       "    <tr>\n",
       "      <th>1</th>\n",
       "      <td>368</td>\n",
       "      <td>1902</td>\n",
       "    </tr>\n",
       "    <tr>\n",
       "      <th>2</th>\n",
       "      <td>368</td>\n",
       "      <td>1950</td>\n",
       "    </tr>\n",
       "    <tr>\n",
       "      <th>3</th>\n",
       "      <td>368</td>\n",
       "      <td>3258</td>\n",
       "    </tr>\n",
       "    <tr>\n",
       "      <th>4</th>\n",
       "      <td>368</td>\n",
       "      <td>3429</td>\n",
       "    </tr>\n",
       "  </tbody>\n",
       "</table>\n",
       "</div>"
      ],
      "text/plain": [
       "   UserId  FollowerUserId\n",
       "0     368             993\n",
       "1     368            1902\n",
       "2     368            1950\n",
       "3     368            3258\n",
       "4     368            3429"
      ]
     },
     "execution_count": 12,
     "metadata": {},
     "output_type": "execute_result"
    }
   ],
   "source": [
    "df_followers = pd.read_csv(r\"../data/processed/DiGraph_Followers.csv\")\n",
    "df_followers.head()"
   ]
  },
  {
   "cell_type": "code",
   "execution_count": 13,
   "metadata": {},
   "outputs": [
    {
     "data": {
      "text/plain": [
       "(765508, 2)"
      ]
     },
     "execution_count": 13,
     "metadata": {},
     "output_type": "execute_result"
    }
   ],
   "source": [
    "df_followers[\"UserId\"] = df_followers[\"UserId\"].astype(str)\n",
    "df_followers[\"FollowerUserId\"] = df_followers[\"FollowerUserId\"].astype(str)\n",
    "df_followers.shape"
   ]
  },
  {
   "cell_type": "code",
   "execution_count": 14,
   "metadata": {},
   "outputs": [
    {
     "name": "stdout",
     "output_type": "stream",
     "text": [
      "Name: \n",
      "Type: DiGraph\n",
      "Number of nodes: 253893\n",
      "Number of edges: 765508\n",
      "Average in degree:   3.0151\n",
      "Average out degree:   3.0151\n"
     ]
    }
   ],
   "source": [
    "GUF = nx.from_pandas_edgelist(df_followers, source = \"UserId\", target = \"FollowerUserId\", create_using=nx.DiGraph())\n",
    "print(nx.info(GUF))"
   ]
  },
  {
   "cell_type": "code",
   "execution_count": 29,
   "metadata": {},
   "outputs": [],
   "source": [
    "userId = \"326814\"\n",
    "\n",
    "#Obtengo a los vecinos\n",
    "predecessors = list(GUF.predecessors(userId))\n",
    "successors = list(GUF.successors(userId))\n",
    "list_color = []\n",
    "for n in GUF.nodes:\n",
    "    var = (0,0)\n",
    "    if n == userId:\n",
    "        var = (n,\"#6EFAAC\") # ALERTA\n",
    "    elif n in predecessors or n in successors: #2DO NIVEL\n",
    "        var = (n,\"#4D82E3\")\n",
    "    else:\n",
    "        var = (n,\"#61C0FA\") #3ER NIVEL\n",
    "    list_color.append(var)\n",
    "dict_color = dict(list_color)\n",
    "nx.set_node_attributes(GUF, name='color', values=dict_color)"
   ]
  },
  {
   "cell_type": "code",
   "execution_count": 30,
   "metadata": {},
   "outputs": [],
   "source": [
    "scaler = MinMaxScaler(feature_range=(20,100))\n",
    "grouped = [\"UserId\"]\n",
    "var_grouped = \"FollowerUserId\"\n",
    "df_in = df_followers.groupby(grouped).agg({var_grouped: [(var_grouped,'count')]}).reset_index().copy()\n",
    "df_in.columns = df_in.columns.droplevel(0)\n",
    "df_in.columns = grouped + df_in.columns[1:].tolist()\n",
    "df_in[var_grouped] = df_in[var_grouped].round(2)\n",
    "#ESCALAMOS LA VARIABLE\n",
    "df_in_scaled = scaler.fit_transform(df_in[var_grouped].values.reshape(-1,1))\n",
    "df_in_scaled = pd.DataFrame(df_in_scaled,columns=[var_grouped])\n",
    "df_in[var_grouped+\"_SCALED\"] = df_in_scaled[var_grouped]\n",
    "df_in[var_grouped+\"_SCALED\"].fillna(10,inplace=True)"
   ]
  },
  {
   "cell_type": "code",
   "execution_count": 31,
   "metadata": {},
   "outputs": [
    {
     "data": {
      "text/html": [
       "<div>\n",
       "<style scoped>\n",
       "    .dataframe tbody tr th:only-of-type {\n",
       "        vertical-align: middle;\n",
       "    }\n",
       "\n",
       "    .dataframe tbody tr th {\n",
       "        vertical-align: top;\n",
       "    }\n",
       "\n",
       "    .dataframe thead th {\n",
       "        text-align: right;\n",
       "    }\n",
       "</style>\n",
       "<table border=\"1\" class=\"dataframe\">\n",
       "  <thead>\n",
       "    <tr style=\"text-align: right;\">\n",
       "      <th></th>\n",
       "      <th>UserId</th>\n",
       "      <th>FollowerUserId</th>\n",
       "      <th>FollowerUserId_SCALED</th>\n",
       "    </tr>\n",
       "  </thead>\n",
       "  <tbody>\n",
       "    <tr>\n",
       "      <th>0</th>\n",
       "      <td>10000014</td>\n",
       "      <td>2</td>\n",
       "      <td>20.004751</td>\n",
       "    </tr>\n",
       "    <tr>\n",
       "      <th>1</th>\n",
       "      <td>100003</td>\n",
       "      <td>4</td>\n",
       "      <td>20.014253</td>\n",
       "    </tr>\n",
       "    <tr>\n",
       "      <th>2</th>\n",
       "      <td>1000076</td>\n",
       "      <td>8</td>\n",
       "      <td>20.033256</td>\n",
       "    </tr>\n",
       "    <tr>\n",
       "      <th>3</th>\n",
       "      <td>1000101</td>\n",
       "      <td>2</td>\n",
       "      <td>20.004751</td>\n",
       "    </tr>\n",
       "    <tr>\n",
       "      <th>4</th>\n",
       "      <td>1000173</td>\n",
       "      <td>2</td>\n",
       "      <td>20.004751</td>\n",
       "    </tr>\n",
       "    <tr>\n",
       "      <th>...</th>\n",
       "      <td>...</td>\n",
       "      <td>...</td>\n",
       "      <td>...</td>\n",
       "    </tr>\n",
       "    <tr>\n",
       "      <th>52155</th>\n",
       "      <td>999864</td>\n",
       "      <td>1</td>\n",
       "      <td>20.000000</td>\n",
       "    </tr>\n",
       "    <tr>\n",
       "      <th>52156</th>\n",
       "      <td>999866</td>\n",
       "      <td>5</td>\n",
       "      <td>20.019004</td>\n",
       "    </tr>\n",
       "    <tr>\n",
       "      <th>52157</th>\n",
       "      <td>99989</td>\n",
       "      <td>57</td>\n",
       "      <td>20.266049</td>\n",
       "    </tr>\n",
       "    <tr>\n",
       "      <th>52158</th>\n",
       "      <td>9998926</td>\n",
       "      <td>1</td>\n",
       "      <td>20.000000</td>\n",
       "    </tr>\n",
       "    <tr>\n",
       "      <th>52159</th>\n",
       "      <td>999983</td>\n",
       "      <td>2</td>\n",
       "      <td>20.004751</td>\n",
       "    </tr>\n",
       "  </tbody>\n",
       "</table>\n",
       "<p>52160 rows × 3 columns</p>\n",
       "</div>"
      ],
      "text/plain": [
       "         UserId  FollowerUserId  FollowerUserId_SCALED\n",
       "0      10000014               2              20.004751\n",
       "1        100003               4              20.014253\n",
       "2       1000076               8              20.033256\n",
       "3       1000101               2              20.004751\n",
       "4       1000173               2              20.004751\n",
       "...         ...             ...                    ...\n",
       "52155    999864               1              20.000000\n",
       "52156    999866               5              20.019004\n",
       "52157     99989              57              20.266049\n",
       "52158   9998926               1              20.000000\n",
       "52159    999983               2              20.004751\n",
       "\n",
       "[52160 rows x 3 columns]"
      ]
     },
     "execution_count": 31,
     "metadata": {},
     "output_type": "execute_result"
    }
   ],
   "source": [
    "df_in"
   ]
  },
  {
   "cell_type": "code",
   "execution_count": 32,
   "metadata": {},
   "outputs": [],
   "source": [
    "#TAMANIO (A PARTIR DE LA CANTIDAD DE FOLLOWERS)\n",
    "dict_size = dict(df_in[[\"UserId\",\"FollowerUserId_SCALED\"]].values.tolist())\n",
    "nx.set_node_attributes(GUF, name='size', values=dict_size)"
   ]
  },
  {
   "cell_type": "code",
   "execution_count": 33,
   "metadata": {},
   "outputs": [
    {
     "name": "stdout",
     "output_type": "stream",
     "text": [
      "Name: \n",
      "Type: DiGraph\n",
      "Number of nodes: 45\n",
      "Number of edges: 208\n",
      "Average in degree:   4.6222\n",
      "Average out degree:   4.6222\n"
     ]
    }
   ],
   "source": [
    "SG = NetworkDraw.get_subgraph_from_with_neighbors(GUF,userId)\n",
    "print(nx.info(SG))"
   ]
  },
  {
   "cell_type": "code",
   "execution_count": 34,
   "metadata": {},
   "outputs": [],
   "source": [
    "NetworkDraw.draw_graph3(SG,notebook=False,directed=True,only_physics_buttons=True,height=\"100%\",width=\"100%\",output_filename=userId+'_2.html')"
   ]
  },
  {
   "cell_type": "code",
   "execution_count": null,
   "metadata": {},
   "outputs": [],
   "source": []
  }
 ],
 "metadata": {
  "kernelspec": {
   "display_name": "Python 3.6.5 ('.venv': venv)",
   "language": "python",
   "name": "python3"
  },
  "language_info": {
   "codemirror_mode": {
    "name": "ipython",
    "version": 3
   },
   "file_extension": ".py",
   "mimetype": "text/x-python",
   "name": "python",
   "nbconvert_exporter": "python",
   "pygments_lexer": "ipython3",
   "version": "3.6.5"
  },
  "orig_nbformat": 4,
  "vscode": {
   "interpreter": {
    "hash": "34b652421595a0c643e374c4ab7a0ee86f5cb1455b91e0738f83360473bef1bf"
   }
  }
 },
 "nbformat": 4,
 "nbformat_minor": 2
}
