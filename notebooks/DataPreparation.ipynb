{
 "cells": [
  {
   "cell_type": "markdown",
   "metadata": {},
   "source": [
    "# Library Imports"
   ]
  },
  {
   "cell_type": "code",
   "execution_count": 1,
   "metadata": {},
   "outputs": [],
   "source": [
    "import sys\n",
    "import os\n",
    "directory_path = os.path.abspath(os.path.join('..'))\n",
    "utils_path = os.path.abspath(os.path.join('../utils'))\n",
    "if directory_path not in sys.path:\n",
    "    sys.path.append(directory_path)\n",
    "    sys.path.append(utils_path)"
   ]
  },
  {
   "cell_type": "code",
   "execution_count": 2,
   "metadata": {},
   "outputs": [],
   "source": [
    "import pandas as pd\n",
    "import numpy as np\n",
    "import networkx as nx\n",
    "import seaborn as sns\n",
    "import matplotlib.pyplot as plt\n",
    "import warnings\n",
    "warnings.filterwarnings(\"ignore\")\n",
    "from utils.Validator import *\n",
    "from utils.Combinations import *\n",
    "pd.set_option('display.max_columns', None)  \n",
    "sns.set(rc={'figure.figsize':(11.7,8.27)})"
   ]
  },
  {
   "cell_type": "markdown",
   "metadata": {},
   "source": [
    "# Preparation Networks"
   ]
  },
  {
   "cell_type": "markdown",
   "metadata": {},
   "source": [
    "## Users Followers"
   ]
  },
  {
   "cell_type": "code",
   "execution_count": 24,
   "metadata": {},
   "outputs": [
    {
     "data": {
      "text/html": [
       "<div>\n",
       "<style scoped>\n",
       "    .dataframe tbody tr th:only-of-type {\n",
       "        vertical-align: middle;\n",
       "    }\n",
       "\n",
       "    .dataframe tbody tr th {\n",
       "        vertical-align: top;\n",
       "    }\n",
       "\n",
       "    .dataframe thead th {\n",
       "        text-align: right;\n",
       "    }\n",
       "</style>\n",
       "<table border=\"1\" class=\"dataframe\">\n",
       "  <thead>\n",
       "    <tr style=\"text-align: right;\">\n",
       "      <th></th>\n",
       "      <th>UserId</th>\n",
       "      <th>FollowerUserId</th>\n",
       "    </tr>\n",
       "  </thead>\n",
       "  <tbody>\n",
       "    <tr>\n",
       "      <th>0</th>\n",
       "      <td>368</td>\n",
       "      <td>993</td>\n",
       "    </tr>\n",
       "    <tr>\n",
       "      <th>1</th>\n",
       "      <td>368</td>\n",
       "      <td>1902</td>\n",
       "    </tr>\n",
       "    <tr>\n",
       "      <th>2</th>\n",
       "      <td>368</td>\n",
       "      <td>1950</td>\n",
       "    </tr>\n",
       "    <tr>\n",
       "      <th>3</th>\n",
       "      <td>368</td>\n",
       "      <td>3258</td>\n",
       "    </tr>\n",
       "    <tr>\n",
       "      <th>4</th>\n",
       "      <td>368</td>\n",
       "      <td>3429</td>\n",
       "    </tr>\n",
       "  </tbody>\n",
       "</table>\n",
       "</div>"
      ],
      "text/plain": [
       "  UserId FollowerUserId\n",
       "0    368            993\n",
       "1    368           1902\n",
       "2    368           1950\n",
       "3    368           3258\n",
       "4    368           3429"
      ]
     },
     "execution_count": 24,
     "metadata": {},
     "output_type": "execute_result"
    }
   ],
   "source": [
    "df_user_followers = pd.read_csv(r\"../data/interim/UserFollowers.csv\",dtype=str)\n",
    "df_user_followers.head()"
   ]
  },
  {
   "cell_type": "code",
   "execution_count": 27,
   "metadata": {},
   "outputs": [],
   "source": [
    "df_user_followers.to_csv(r\"../data/processed/DiGraph_Followers.csv\",index=False)"
   ]
  },
  {
   "cell_type": "markdown",
   "metadata": {},
   "source": [
    "## Users Teams"
   ]
  },
  {
   "cell_type": "code",
   "execution_count": 4,
   "metadata": {},
   "outputs": [
    {
     "data": {
      "text/html": [
       "<div>\n",
       "<style scoped>\n",
       "    .dataframe tbody tr th:only-of-type {\n",
       "        vertical-align: middle;\n",
       "    }\n",
       "\n",
       "    .dataframe tbody tr th {\n",
       "        vertical-align: top;\n",
       "    }\n",
       "\n",
       "    .dataframe thead th {\n",
       "        text-align: right;\n",
       "    }\n",
       "</style>\n",
       "<table border=\"1\" class=\"dataframe\">\n",
       "  <thead>\n",
       "    <tr style=\"text-align: right;\">\n",
       "      <th></th>\n",
       "      <th>TeamId</th>\n",
       "      <th>UserId</th>\n",
       "    </tr>\n",
       "  </thead>\n",
       "  <tbody>\n",
       "    <tr>\n",
       "      <th>0</th>\n",
       "      <td>518</td>\n",
       "      <td>635</td>\n",
       "    </tr>\n",
       "    <tr>\n",
       "      <th>1</th>\n",
       "      <td>526</td>\n",
       "      <td>839</td>\n",
       "    </tr>\n",
       "    <tr>\n",
       "      <th>2</th>\n",
       "      <td>527</td>\n",
       "      <td>816</td>\n",
       "    </tr>\n",
       "    <tr>\n",
       "      <th>3</th>\n",
       "      <td>528</td>\n",
       "      <td>778</td>\n",
       "    </tr>\n",
       "    <tr>\n",
       "      <th>4</th>\n",
       "      <td>529</td>\n",
       "      <td>747</td>\n",
       "    </tr>\n",
       "  </tbody>\n",
       "</table>\n",
       "</div>"
      ],
      "text/plain": [
       "  TeamId UserId\n",
       "0    518    635\n",
       "1    526    839\n",
       "2    527    816\n",
       "3    528    778\n",
       "4    529    747"
      ]
     },
     "execution_count": 4,
     "metadata": {},
     "output_type": "execute_result"
    }
   ],
   "source": [
    "df_team_memberships = pd.read_csv(r\"../data/interim/TeamMemberships.csv\",dtype=str)\n",
    "df_team_memberships.head()"
   ]
  },
  {
   "cell_type": "code",
   "execution_count": 5,
   "metadata": {},
   "outputs": [
    {
     "name": "stdout",
     "output_type": "stream",
     "text": [
      "(5478304, 2)\n",
      "(5478304, 2)\n"
     ]
    }
   ],
   "source": [
    "df_team_member_1 = df_team_memberships.copy()\n",
    "df_team_member_2 = df_team_memberships.copy()\n",
    "\n",
    "df_team_member_1.rename(columns={\"UserId\":\"UserId_1\"},inplace=True)\n",
    "df_team_member_2.rename(columns={\"UserId\":\"UserId_2\"},inplace=True)\n",
    "\n",
    "print(df_team_member_1.shape)\n",
    "print(df_team_member_2.shape)"
   ]
  },
  {
   "cell_type": "code",
   "execution_count": 6,
   "metadata": {},
   "outputs": [
    {
     "data": {
      "text/plain": [
       "(5982968, 3)"
      ]
     },
     "execution_count": 6,
     "metadata": {},
     "output_type": "execute_result"
    }
   ],
   "source": [
    "df_team_member_3 = df_team_member_1.merge(df_team_member_2, how='inner', on=['TeamId'])\n",
    "df_team_member_3.shape"
   ]
  },
  {
   "cell_type": "code",
   "execution_count": 7,
   "metadata": {},
   "outputs": [
    {
     "data": {
      "text/plain": [
       "(504664, 3)"
      ]
     },
     "execution_count": 7,
     "metadata": {},
     "output_type": "execute_result"
    }
   ],
   "source": [
    "df_team_member_3 = df_team_member_3[df_team_member_3[\"UserId_1\"]!=df_team_member_3[\"UserId_2\"]]\n",
    "df_team_member_3.shape"
   ]
  },
  {
   "cell_type": "code",
   "execution_count": 8,
   "metadata": {},
   "outputs": [
    {
     "data": {
      "text/plain": [
       "(252332, 3)"
      ]
     },
     "execution_count": 8,
     "metadata": {},
     "output_type": "execute_result"
    }
   ],
   "source": [
    "df_team_member_3 = df_team_member_3.groupby(df_team_member_3.apply(frozenset, axis=1), as_index=False).first()\n",
    "df_team_member_3.shape"
   ]
  },
  {
   "cell_type": "code",
   "execution_count": 9,
   "metadata": {},
   "outputs": [
    {
     "data": {
      "text/html": [
       "<div>\n",
       "<style scoped>\n",
       "    .dataframe tbody tr th:only-of-type {\n",
       "        vertical-align: middle;\n",
       "    }\n",
       "\n",
       "    .dataframe tbody tr th {\n",
       "        vertical-align: top;\n",
       "    }\n",
       "\n",
       "    .dataframe thead th {\n",
       "        text-align: right;\n",
       "    }\n",
       "</style>\n",
       "<table border=\"1\" class=\"dataframe\">\n",
       "  <thead>\n",
       "    <tr style=\"text-align: right;\">\n",
       "      <th></th>\n",
       "      <th>TeamId</th>\n",
       "      <th>UserId_1</th>\n",
       "      <th>UserId_2</th>\n",
       "    </tr>\n",
       "  </thead>\n",
       "  <tbody>\n",
       "    <tr>\n",
       "      <th>0</th>\n",
       "      <td>532</td>\n",
       "      <td>820</td>\n",
       "      <td>879</td>\n",
       "    </tr>\n",
       "    <tr>\n",
       "      <th>1</th>\n",
       "      <td>5687559</td>\n",
       "      <td>709892</td>\n",
       "      <td>5981595</td>\n",
       "    </tr>\n",
       "    <tr>\n",
       "      <th>2</th>\n",
       "      <td>5689041</td>\n",
       "      <td>4014930</td>\n",
       "      <td>3818471</td>\n",
       "    </tr>\n",
       "    <tr>\n",
       "      <th>3</th>\n",
       "      <td>5689449</td>\n",
       "      <td>6030807</td>\n",
       "      <td>5983865</td>\n",
       "    </tr>\n",
       "    <tr>\n",
       "      <th>4</th>\n",
       "      <td>5689449</td>\n",
       "      <td>6030807</td>\n",
       "      <td>5939582</td>\n",
       "    </tr>\n",
       "  </tbody>\n",
       "</table>\n",
       "</div>"
      ],
      "text/plain": [
       "    TeamId UserId_1 UserId_2\n",
       "0      532      820      879\n",
       "1  5687559   709892  5981595\n",
       "2  5689041  4014930  3818471\n",
       "3  5689449  6030807  5983865\n",
       "4  5689449  6030807  5939582"
      ]
     },
     "execution_count": 9,
     "metadata": {},
     "output_type": "execute_result"
    }
   ],
   "source": [
    "df_team_member_3.head()"
   ]
  },
  {
   "cell_type": "code",
   "execution_count": 10,
   "metadata": {},
   "outputs": [
    {
     "data": {
      "text/html": [
       "<div>\n",
       "<style scoped>\n",
       "    .dataframe tbody tr th:only-of-type {\n",
       "        vertical-align: middle;\n",
       "    }\n",
       "\n",
       "    .dataframe tbody tr th {\n",
       "        vertical-align: top;\n",
       "    }\n",
       "\n",
       "    .dataframe thead th {\n",
       "        text-align: right;\n",
       "    }\n",
       "</style>\n",
       "<table border=\"1\" class=\"dataframe\">\n",
       "  <thead>\n",
       "    <tr style=\"text-align: right;\">\n",
       "      <th></th>\n",
       "      <th>TeamId</th>\n",
       "      <th>UserId</th>\n",
       "    </tr>\n",
       "  </thead>\n",
       "  <tbody>\n",
       "    <tr>\n",
       "      <th>879956</th>\n",
       "      <td>999285</td>\n",
       "      <td>443070</td>\n",
       "    </tr>\n",
       "    <tr>\n",
       "      <th>879957</th>\n",
       "      <td>999285</td>\n",
       "      <td>823629</td>\n",
       "    </tr>\n",
       "    <tr>\n",
       "      <th>879958</th>\n",
       "      <td>999285</td>\n",
       "      <td>1382489</td>\n",
       "    </tr>\n",
       "  </tbody>\n",
       "</table>\n",
       "</div>"
      ],
      "text/plain": [
       "        TeamId   UserId\n",
       "879956  999285   443070\n",
       "879957  999285   823629\n",
       "879958  999285  1382489"
      ]
     },
     "execution_count": 10,
     "metadata": {},
     "output_type": "execute_result"
    }
   ],
   "source": [
    "df_team_memberships[df_team_memberships[\"TeamId\"]==\"999285\"]"
   ]
  },
  {
   "cell_type": "code",
   "execution_count": 11,
   "metadata": {},
   "outputs": [
    {
     "data": {
      "text/plain": [
       "TeamId\n",
       "1000101    3\n",
       "100044     5\n",
       "100062     4\n",
       "100088     4\n",
       "10009      3\n",
       "          ..\n",
       "99841      4\n",
       "998548     5\n",
       "999285     3\n",
       "99943      3\n",
       "99947      3\n",
       "Length: 35798, dtype: int64"
      ]
     },
     "execution_count": 11,
     "metadata": {},
     "output_type": "execute_result"
    }
   ],
   "source": [
    "#Equipos con mas de 2 integrantes\n",
    "df_team_memberships.groupby(\"TeamId\").size()[df_team_memberships.groupby(\"TeamId\").size()>2]"
   ]
  },
  {
   "cell_type": "code",
   "execution_count": 12,
   "metadata": {},
   "outputs": [
    {
     "data": {
      "text/html": [
       "<div>\n",
       "<style scoped>\n",
       "    .dataframe tbody tr th:only-of-type {\n",
       "        vertical-align: middle;\n",
       "    }\n",
       "\n",
       "    .dataframe tbody tr th {\n",
       "        vertical-align: top;\n",
       "    }\n",
       "\n",
       "    .dataframe thead th {\n",
       "        text-align: right;\n",
       "    }\n",
       "</style>\n",
       "<table border=\"1\" class=\"dataframe\">\n",
       "  <thead>\n",
       "    <tr style=\"text-align: right;\">\n",
       "      <th></th>\n",
       "      <th>TeamId</th>\n",
       "      <th>UserId_1</th>\n",
       "      <th>UserId_2</th>\n",
       "    </tr>\n",
       "  </thead>\n",
       "  <tbody>\n",
       "    <tr>\n",
       "      <th>142874</th>\n",
       "      <td>999285</td>\n",
       "      <td>443070</td>\n",
       "      <td>823629</td>\n",
       "    </tr>\n",
       "    <tr>\n",
       "      <th>142875</th>\n",
       "      <td>999285</td>\n",
       "      <td>443070</td>\n",
       "      <td>1382489</td>\n",
       "    </tr>\n",
       "    <tr>\n",
       "      <th>142876</th>\n",
       "      <td>999285</td>\n",
       "      <td>823629</td>\n",
       "      <td>1382489</td>\n",
       "    </tr>\n",
       "  </tbody>\n",
       "</table>\n",
       "</div>"
      ],
      "text/plain": [
       "        TeamId UserId_1 UserId_2\n",
       "142874  999285   443070   823629\n",
       "142875  999285   443070  1382489\n",
       "142876  999285   823629  1382489"
      ]
     },
     "execution_count": 12,
     "metadata": {},
     "output_type": "execute_result"
    }
   ],
   "source": [
    "#Validamos la estructura del grafo no dirigido\n",
    "df_team_member_3[df_team_member_3[\"TeamId\"]==\"999285\"]"
   ]
  },
  {
   "cell_type": "code",
   "execution_count": 13,
   "metadata": {},
   "outputs": [],
   "source": [
    "#MultiGraph\n",
    "df_team_member_3.to_csv(r\"../data/processed/MultiGraph_Teams.csv\",index=False)"
   ]
  },
  {
   "cell_type": "markdown",
   "metadata": {},
   "source": [
    "## User Comments"
   ]
  },
  {
   "cell_type": "code",
   "execution_count": 3,
   "metadata": {},
   "outputs": [
    {
     "data": {
      "text/html": [
       "<div>\n",
       "<style scoped>\n",
       "    .dataframe tbody tr th:only-of-type {\n",
       "        vertical-align: middle;\n",
       "    }\n",
       "\n",
       "    .dataframe tbody tr th {\n",
       "        vertical-align: top;\n",
       "    }\n",
       "\n",
       "    .dataframe thead th {\n",
       "        text-align: right;\n",
       "    }\n",
       "</style>\n",
       "<table border=\"1\" class=\"dataframe\">\n",
       "  <thead>\n",
       "    <tr style=\"text-align: right;\">\n",
       "      <th></th>\n",
       "      <th>ForumTopicId</th>\n",
       "      <th>UserId</th>\n",
       "      <th>Medal</th>\n",
       "    </tr>\n",
       "  </thead>\n",
       "  <tbody>\n",
       "    <tr>\n",
       "      <th>0</th>\n",
       "      <td>2</td>\n",
       "      <td>368</td>\n",
       "      <td>NaN</td>\n",
       "    </tr>\n",
       "    <tr>\n",
       "      <th>1</th>\n",
       "      <td>16</td>\n",
       "      <td>368</td>\n",
       "      <td>NaN</td>\n",
       "    </tr>\n",
       "    <tr>\n",
       "      <th>2</th>\n",
       "      <td>16</td>\n",
       "      <td>368</td>\n",
       "      <td>NaN</td>\n",
       "    </tr>\n",
       "    <tr>\n",
       "      <th>3</th>\n",
       "      <td>20</td>\n",
       "      <td>368</td>\n",
       "      <td>NaN</td>\n",
       "    </tr>\n",
       "    <tr>\n",
       "      <th>4</th>\n",
       "      <td>20</td>\n",
       "      <td>368</td>\n",
       "      <td>NaN</td>\n",
       "    </tr>\n",
       "  </tbody>\n",
       "</table>\n",
       "</div>"
      ],
      "text/plain": [
       "  ForumTopicId UserId Medal\n",
       "0            2    368   NaN\n",
       "1           16    368   NaN\n",
       "2           16    368   NaN\n",
       "3           20    368   NaN\n",
       "4           20    368   NaN"
      ]
     },
     "execution_count": 3,
     "metadata": {},
     "output_type": "execute_result"
    }
   ],
   "source": [
    "df_forum_messages = pd.read_csv(r\"../data/interim/ForumMessages.csv\",dtype=str)\n",
    "df_forum_messages.head()"
   ]
  },
  {
   "cell_type": "code",
   "execution_count": 4,
   "metadata": {},
   "outputs": [
    {
     "name": "stdout",
     "output_type": "stream",
     "text": [
      "(1308300, 3)\n"
     ]
    }
   ],
   "source": [
    "print(df_forum_messages.shape)"
   ]
  },
  {
   "cell_type": "code",
   "execution_count": 5,
   "metadata": {},
   "outputs": [
    {
     "name": "stdout",
     "output_type": "stream",
     "text": [
      "(866218, 2)\n"
     ]
    }
   ],
   "source": [
    "df_forum_messages = df_forum_messages[[\"ForumTopicId\",\"UserId\"]].drop_duplicates()\n",
    "print(df_forum_messages.shape)"
   ]
  },
  {
   "cell_type": "code",
   "execution_count": 6,
   "metadata": {},
   "outputs": [
    {
     "data": {
      "text/html": [
       "<div>\n",
       "<style scoped>\n",
       "    .dataframe tbody tr th:only-of-type {\n",
       "        vertical-align: middle;\n",
       "    }\n",
       "\n",
       "    .dataframe tbody tr th {\n",
       "        vertical-align: top;\n",
       "    }\n",
       "\n",
       "    .dataframe thead th {\n",
       "        text-align: right;\n",
       "    }\n",
       "</style>\n",
       "<table border=\"1\" class=\"dataframe\">\n",
       "  <thead>\n",
       "    <tr style=\"text-align: right;\">\n",
       "      <th></th>\n",
       "      <th>ForumTopicId</th>\n",
       "      <th>Comments</th>\n",
       "    </tr>\n",
       "  </thead>\n",
       "  <tbody>\n",
       "    <tr>\n",
       "      <th>0</th>\n",
       "      <td>1</td>\n",
       "      <td>9</td>\n",
       "    </tr>\n",
       "    <tr>\n",
       "      <th>1</th>\n",
       "      <td>10</td>\n",
       "      <td>2</td>\n",
       "    </tr>\n",
       "    <tr>\n",
       "      <th>2</th>\n",
       "      <td>100</td>\n",
       "      <td>4</td>\n",
       "    </tr>\n",
       "    <tr>\n",
       "      <th>3</th>\n",
       "      <td>10000</td>\n",
       "      <td>2</td>\n",
       "    </tr>\n",
       "    <tr>\n",
       "      <th>4</th>\n",
       "      <td>100001</td>\n",
       "      <td>1</td>\n",
       "    </tr>\n",
       "  </tbody>\n",
       "</table>\n",
       "</div>"
      ],
      "text/plain": [
       "  ForumTopicId  Comments\n",
       "0            1         9\n",
       "1           10         2\n",
       "2          100         4\n",
       "3        10000         2\n",
       "4       100001         1"
      ]
     },
     "execution_count": 6,
     "metadata": {},
     "output_type": "execute_result"
    }
   ],
   "source": [
    "df_forum_messages_size = df_forum_messages.groupby(\"ForumTopicId\").size().to_frame('Comments').reset_index()\n",
    "df_forum_messages_size.head()"
   ]
  },
  {
   "cell_type": "code",
   "execution_count": 7,
   "metadata": {},
   "outputs": [
    {
     "name": "stdout",
     "output_type": "stream",
     "text": [
      "(866218, 3)\n"
     ]
    }
   ],
   "source": [
    "df_forum_messages = df_forum_messages.merge(df_forum_messages_size, how='left', on=['ForumTopicId'])\n",
    "print(df_forum_messages.shape)"
   ]
  },
  {
   "cell_type": "code",
   "execution_count": 8,
   "metadata": {},
   "outputs": [
    {
     "name": "stdout",
     "output_type": "stream",
     "text": [
      "(783284, 3)\n"
     ]
    }
   ],
   "source": [
    "df_forum_messages = df_forum_messages[df_forum_messages[\"Comments\"]!=1]\n",
    "print(df_forum_messages.shape)"
   ]
  },
  {
   "cell_type": "code",
   "execution_count": 9,
   "metadata": {},
   "outputs": [
    {
     "data": {
      "text/html": [
       "<div>\n",
       "<style scoped>\n",
       "    .dataframe tbody tr th:only-of-type {\n",
       "        vertical-align: middle;\n",
       "    }\n",
       "\n",
       "    .dataframe tbody tr th {\n",
       "        vertical-align: top;\n",
       "    }\n",
       "\n",
       "    .dataframe thead th {\n",
       "        text-align: right;\n",
       "    }\n",
       "</style>\n",
       "<table border=\"1\" class=\"dataframe\">\n",
       "  <thead>\n",
       "    <tr style=\"text-align: right;\">\n",
       "      <th></th>\n",
       "      <th>Variable</th>\n",
       "      <th>n</th>\n",
       "      <th>Missing</th>\n",
       "      <th>%Missing</th>\n",
       "      <th>Negativo</th>\n",
       "      <th>%Negativo</th>\n",
       "      <th>Unico</th>\n",
       "      <th>Media</th>\n",
       "      <th>Min</th>\n",
       "      <th>Max</th>\n",
       "      <th>IQRMAX</th>\n",
       "      <th>3STD</th>\n",
       "      <th>P50</th>\n",
       "      <th>P75</th>\n",
       "      <th>P90</th>\n",
       "      <th>P95</th>\n",
       "      <th>P99</th>\n",
       "      <th>Outlier IQR</th>\n",
       "      <th>%Outlier IQR</th>\n",
       "      <th>Outlier 3SD</th>\n",
       "      <th>%Outlier 3SD</th>\n",
       "      <th>Outlier P90</th>\n",
       "      <th>%Outlier P90</th>\n",
       "      <th>Outlier P95</th>\n",
       "      <th>%Outlier P95</th>\n",
       "      <th>Outlier P99</th>\n",
       "      <th>%Outlier P99</th>\n",
       "    </tr>\n",
       "  </thead>\n",
       "  <tbody>\n",
       "    <tr>\n",
       "      <th>0</th>\n",
       "      <td>ForumTopicId_Int</td>\n",
       "      <td>783284</td>\n",
       "      <td>0</td>\n",
       "      <td>0.0</td>\n",
       "      <td>0</td>\n",
       "      <td>0.0</td>\n",
       "      <td>145572</td>\n",
       "      <td>162343.30</td>\n",
       "      <td>1</td>\n",
       "      <td>334147</td>\n",
       "      <td>487211.25</td>\n",
       "      <td>446307.96</td>\n",
       "      <td>159519.0</td>\n",
       "      <td>243400.5</td>\n",
       "      <td>297670.0</td>\n",
       "      <td>312809.0</td>\n",
       "      <td>329412.0</td>\n",
       "      <td>0</td>\n",
       "      <td>0.00</td>\n",
       "      <td>0</td>\n",
       "      <td>0.00</td>\n",
       "      <td>78328</td>\n",
       "      <td>10.00</td>\n",
       "      <td>39164</td>\n",
       "      <td>5.00</td>\n",
       "      <td>7813</td>\n",
       "      <td>1.0</td>\n",
       "    </tr>\n",
       "    <tr>\n",
       "      <th>0</th>\n",
       "      <td>Comments</td>\n",
       "      <td>783284</td>\n",
       "      <td>0</td>\n",
       "      <td>0.0</td>\n",
       "      <td>0</td>\n",
       "      <td>0.0</td>\n",
       "      <td>198</td>\n",
       "      <td>628.89</td>\n",
       "      <td>2</td>\n",
       "      <td>21282</td>\n",
       "      <td>43.00</td>\n",
       "      <td>11013.01</td>\n",
       "      <td>7.0</td>\n",
       "      <td>19.0</td>\n",
       "      <td>62.0</td>\n",
       "      <td>388.0</td>\n",
       "      <td>21282.0</td>\n",
       "      <td>99816</td>\n",
       "      <td>12.74</td>\n",
       "      <td>21282</td>\n",
       "      <td>2.72</td>\n",
       "      <td>77919</td>\n",
       "      <td>9.95</td>\n",
       "      <td>39121</td>\n",
       "      <td>4.99</td>\n",
       "      <td>0</td>\n",
       "      <td>0.0</td>\n",
       "    </tr>\n",
       "  </tbody>\n",
       "</table>\n",
       "</div>"
      ],
      "text/plain": [
       "           Variable       n  Missing  %Missing  Negativo  %Negativo   Unico  \\\n",
       "0  ForumTopicId_Int  783284        0       0.0         0        0.0  145572   \n",
       "0          Comments  783284        0       0.0         0        0.0     198   \n",
       "\n",
       "       Media  Min     Max     IQRMAX       3STD       P50       P75       P90  \\\n",
       "0  162343.30    1  334147  487211.25  446307.96  159519.0  243400.5  297670.0   \n",
       "0     628.89    2   21282      43.00   11013.01       7.0      19.0      62.0   \n",
       "\n",
       "        P95       P99  Outlier IQR  %Outlier IQR  Outlier 3SD  %Outlier 3SD  \\\n",
       "0  312809.0  329412.0            0          0.00            0          0.00   \n",
       "0     388.0   21282.0        99816         12.74        21282          2.72   \n",
       "\n",
       "   Outlier P90  %Outlier P90  Outlier P95  %Outlier P95  Outlier P99  \\\n",
       "0        78328         10.00        39164          5.00         7813   \n",
       "0        77919          9.95        39121          4.99            0   \n",
       "\n",
       "   %Outlier P99  \n",
       "0           1.0  \n",
       "0           0.0  "
      ]
     },
     "execution_count": 9,
     "metadata": {},
     "output_type": "execute_result"
    }
   ],
   "source": [
    "df_forum_messages[\"ForumTopicId_Int\"] = df_forum_messages[\"ForumTopicId\"].astype(int)\n",
    "Validator.validar_numerico(df_forum_messages,[\"ForumTopicId_Int\",\"Comments\"])"
   ]
  },
  {
   "cell_type": "code",
   "execution_count": 10,
   "metadata": {},
   "outputs": [
    {
     "data": {
      "text/html": [
       "<div>\n",
       "<style scoped>\n",
       "    .dataframe tbody tr th:only-of-type {\n",
       "        vertical-align: middle;\n",
       "    }\n",
       "\n",
       "    .dataframe tbody tr th {\n",
       "        vertical-align: top;\n",
       "    }\n",
       "\n",
       "    .dataframe thead th {\n",
       "        text-align: right;\n",
       "    }\n",
       "</style>\n",
       "<table border=\"1\" class=\"dataframe\">\n",
       "  <thead>\n",
       "    <tr style=\"text-align: right;\">\n",
       "      <th></th>\n",
       "      <th>ForumId</th>\n",
       "      <th>ParentForumId</th>\n",
       "      <th>Title</th>\n",
       "    </tr>\n",
       "  </thead>\n",
       "  <tbody>\n",
       "    <tr>\n",
       "      <th>0</th>\n",
       "      <td>1</td>\n",
       "      <td>8</td>\n",
       "      <td>Predict HIV Progression</td>\n",
       "    </tr>\n",
       "    <tr>\n",
       "      <th>1</th>\n",
       "      <td>2</td>\n",
       "      <td>8</td>\n",
       "      <td>Forecast Eurovision Voting</td>\n",
       "    </tr>\n",
       "    <tr>\n",
       "      <th>2</th>\n",
       "      <td>3</td>\n",
       "      <td>8</td>\n",
       "      <td>World Cup 2010 - Take on the Quants</td>\n",
       "    </tr>\n",
       "    <tr>\n",
       "      <th>3</th>\n",
       "      <td>4</td>\n",
       "      <td>8</td>\n",
       "      <td>INFORMS Data Mining Contest 2010</td>\n",
       "    </tr>\n",
       "    <tr>\n",
       "      <th>4</th>\n",
       "      <td>5</td>\n",
       "      <td>NaN</td>\n",
       "      <td>Active Competitions</td>\n",
       "    </tr>\n",
       "  </tbody>\n",
       "</table>\n",
       "</div>"
      ],
      "text/plain": [
       "  ForumId ParentForumId                                Title\n",
       "0       1             8              Predict HIV Progression\n",
       "1       2             8           Forecast Eurovision Voting\n",
       "2       3             8  World Cup 2010 - Take on the Quants\n",
       "3       4             8     INFORMS Data Mining Contest 2010\n",
       "4       5           NaN                  Active Competitions"
      ]
     },
     "execution_count": 10,
     "metadata": {},
     "output_type": "execute_result"
    }
   ],
   "source": [
    "df_forums = pd.read_csv(r\"../data/interim/Forums.csv\",dtype=str)\n",
    "df_forums.head()"
   ]
  },
  {
   "cell_type": "code",
   "execution_count": 11,
   "metadata": {},
   "outputs": [
    {
     "data": {
      "text/html": [
       "<div>\n",
       "<style scoped>\n",
       "    .dataframe tbody tr th:only-of-type {\n",
       "        vertical-align: middle;\n",
       "    }\n",
       "\n",
       "    .dataframe tbody tr th {\n",
       "        vertical-align: top;\n",
       "    }\n",
       "\n",
       "    .dataframe thead th {\n",
       "        text-align: right;\n",
       "    }\n",
       "</style>\n",
       "<table border=\"1\" class=\"dataframe\">\n",
       "  <thead>\n",
       "    <tr style=\"text-align: right;\">\n",
       "      <th></th>\n",
       "      <th>ForumTopicId</th>\n",
       "      <th>ForumId</th>\n",
       "      <th>Title</th>\n",
       "      <th>TotalViews</th>\n",
       "      <th>TotalMessages</th>\n",
       "      <th>Score</th>\n",
       "    </tr>\n",
       "  </thead>\n",
       "  <tbody>\n",
       "    <tr>\n",
       "      <th>0</th>\n",
       "      <td>1</td>\n",
       "      <td>1</td>\n",
       "      <td>A few techniques you might try:</td>\n",
       "      <td>9405.0</td>\n",
       "      <td>19.0</td>\n",
       "      <td>0.0</td>\n",
       "    </tr>\n",
       "    <tr>\n",
       "      <th>1</th>\n",
       "      <td>2</td>\n",
       "      <td>1</td>\n",
       "      <td>Question regarding algorithms used</td>\n",
       "      <td>2185.0</td>\n",
       "      <td>3.0</td>\n",
       "      <td>0.0</td>\n",
       "    </tr>\n",
       "    <tr>\n",
       "      <th>2</th>\n",
       "      <td>3</td>\n",
       "      <td>1</td>\n",
       "      <td>Question about data</td>\n",
       "      <td>2121.0</td>\n",
       "      <td>3.0</td>\n",
       "      <td>0.0</td>\n",
       "    </tr>\n",
       "    <tr>\n",
       "      <th>3</th>\n",
       "      <td>4</td>\n",
       "      <td>1</td>\n",
       "      <td>Biased sets</td>\n",
       "      <td>2780.0</td>\n",
       "      <td>4.0</td>\n",
       "      <td>1.0</td>\n",
       "    </tr>\n",
       "    <tr>\n",
       "      <th>4</th>\n",
       "      <td>5</td>\n",
       "      <td>1</td>\n",
       "      <td>Non-standard nucleotide codings</td>\n",
       "      <td>2045.0</td>\n",
       "      <td>2.0</td>\n",
       "      <td>0.0</td>\n",
       "    </tr>\n",
       "  </tbody>\n",
       "</table>\n",
       "</div>"
      ],
      "text/plain": [
       "  ForumTopicId ForumId                               Title TotalViews  \\\n",
       "0            1       1     A few techniques you might try:     9405.0   \n",
       "1            2       1  Question regarding algorithms used     2185.0   \n",
       "2            3       1                 Question about data     2121.0   \n",
       "3            4       1                         Biased sets     2780.0   \n",
       "4            5       1     Non-standard nucleotide codings     2045.0   \n",
       "\n",
       "  TotalMessages Score  \n",
       "0          19.0   0.0  \n",
       "1           3.0   0.0  \n",
       "2           3.0   0.0  \n",
       "3           4.0   1.0  \n",
       "4           2.0   0.0  "
      ]
     },
     "execution_count": 11,
     "metadata": {},
     "output_type": "execute_result"
    }
   ],
   "source": [
    "df_forum_topics = pd.read_csv(r\"../data/interim/ForumTopics.csv\",dtype=str)\n",
    "df_forum_topics.head()"
   ]
  },
  {
   "cell_type": "code",
   "execution_count": 12,
   "metadata": {},
   "outputs": [
    {
     "data": {
      "text/html": [
       "<div>\n",
       "<style scoped>\n",
       "    .dataframe tbody tr th:only-of-type {\n",
       "        vertical-align: middle;\n",
       "    }\n",
       "\n",
       "    .dataframe tbody tr th {\n",
       "        vertical-align: top;\n",
       "    }\n",
       "\n",
       "    .dataframe thead th {\n",
       "        text-align: right;\n",
       "    }\n",
       "</style>\n",
       "<table border=\"1\" class=\"dataframe\">\n",
       "  <thead>\n",
       "    <tr style=\"text-align: right;\">\n",
       "      <th></th>\n",
       "      <th>ForumTopicId</th>\n",
       "      <th>ForumId</th>\n",
       "      <th>ParentForumId</th>\n",
       "      <th>Title</th>\n",
       "    </tr>\n",
       "  </thead>\n",
       "  <tbody>\n",
       "    <tr>\n",
       "      <th>0</th>\n",
       "      <td>1</td>\n",
       "      <td>1</td>\n",
       "      <td>8</td>\n",
       "      <td>Predict HIV Progression</td>\n",
       "    </tr>\n",
       "    <tr>\n",
       "      <th>1</th>\n",
       "      <td>2</td>\n",
       "      <td>1</td>\n",
       "      <td>8</td>\n",
       "      <td>Predict HIV Progression</td>\n",
       "    </tr>\n",
       "    <tr>\n",
       "      <th>2</th>\n",
       "      <td>3</td>\n",
       "      <td>1</td>\n",
       "      <td>8</td>\n",
       "      <td>Predict HIV Progression</td>\n",
       "    </tr>\n",
       "    <tr>\n",
       "      <th>3</th>\n",
       "      <td>4</td>\n",
       "      <td>1</td>\n",
       "      <td>8</td>\n",
       "      <td>Predict HIV Progression</td>\n",
       "    </tr>\n",
       "    <tr>\n",
       "      <th>4</th>\n",
       "      <td>5</td>\n",
       "      <td>1</td>\n",
       "      <td>8</td>\n",
       "      <td>Predict HIV Progression</td>\n",
       "    </tr>\n",
       "  </tbody>\n",
       "</table>\n",
       "</div>"
      ],
      "text/plain": [
       "  ForumTopicId ForumId ParentForumId                    Title\n",
       "0            1       1             8  Predict HIV Progression\n",
       "1            2       1             8  Predict HIV Progression\n",
       "2            3       1             8  Predict HIV Progression\n",
       "3            4       1             8  Predict HIV Progression\n",
       "4            5       1             8  Predict HIV Progression"
      ]
     },
     "execution_count": 12,
     "metadata": {},
     "output_type": "execute_result"
    }
   ],
   "source": [
    "df_forums = df_forums[[\"ForumId\",\"ParentForumId\",\"Title\"]]\n",
    "df_forum_topics = df_forum_topics[[\"ForumTopicId\",\"ForumId\"]]\n",
    "df_forum_topics_merge = df_forum_topics.merge(df_forums,how=\"left\",on=[\"ForumId\"])\n",
    "df_forum_topics_merge.head()"
   ]
  },
  {
   "cell_type": "code",
   "execution_count": 13,
   "metadata": {},
   "outputs": [
    {
     "data": {
      "text/plain": [
       "9       65287\n",
       "8       64636\n",
       "1023    16330\n",
       "5        2524\n",
       "52        544\n",
       "6         456\n",
       "198       335\n",
       "91        214\n",
       "Name: ParentForumId, dtype: int64"
      ]
     },
     "execution_count": 13,
     "metadata": {},
     "output_type": "execute_result"
    }
   ],
   "source": [
    "df_forum_topics_merge[\"ParentForumId\"].value_counts()"
   ]
  },
  {
   "cell_type": "code",
   "execution_count": 14,
   "metadata": {},
   "outputs": [
    {
     "data": {
      "text/html": [
       "<div>\n",
       "<style scoped>\n",
       "    .dataframe tbody tr th:only-of-type {\n",
       "        vertical-align: middle;\n",
       "    }\n",
       "\n",
       "    .dataframe tbody tr th {\n",
       "        vertical-align: top;\n",
       "    }\n",
       "\n",
       "    .dataframe thead th {\n",
       "        text-align: right;\n",
       "    }\n",
       "</style>\n",
       "<table border=\"1\" class=\"dataframe\">\n",
       "  <thead>\n",
       "    <tr style=\"text-align: right;\">\n",
       "      <th></th>\n",
       "      <th>ForumTopicId</th>\n",
       "      <th>UserId</th>\n",
       "      <th>Comments</th>\n",
       "      <th>ForumTopicId_Int</th>\n",
       "    </tr>\n",
       "  </thead>\n",
       "  <tbody>\n",
       "    <tr>\n",
       "      <th>0</th>\n",
       "      <td>2</td>\n",
       "      <td>368</td>\n",
       "      <td>3</td>\n",
       "      <td>2</td>\n",
       "    </tr>\n",
       "    <tr>\n",
       "      <th>2</th>\n",
       "      <td>20</td>\n",
       "      <td>368</td>\n",
       "      <td>5</td>\n",
       "      <td>20</td>\n",
       "    </tr>\n",
       "    <tr>\n",
       "      <th>3</th>\n",
       "      <td>26</td>\n",
       "      <td>368</td>\n",
       "      <td>28</td>\n",
       "      <td>26</td>\n",
       "    </tr>\n",
       "    <tr>\n",
       "      <th>5</th>\n",
       "      <td>30</td>\n",
       "      <td>368</td>\n",
       "      <td>3</td>\n",
       "      <td>30</td>\n",
       "    </tr>\n",
       "    <tr>\n",
       "      <th>6</th>\n",
       "      <td>34</td>\n",
       "      <td>368</td>\n",
       "      <td>8</td>\n",
       "      <td>34</td>\n",
       "    </tr>\n",
       "  </tbody>\n",
       "</table>\n",
       "</div>"
      ],
      "text/plain": [
       "  ForumTopicId UserId  Comments  ForumTopicId_Int\n",
       "0            2    368         3                 2\n",
       "2           20    368         5                20\n",
       "3           26    368        28                26\n",
       "5           30    368         3                30\n",
       "6           34    368         8                34"
      ]
     },
     "execution_count": 14,
     "metadata": {},
     "output_type": "execute_result"
    }
   ],
   "source": [
    "df_forum_messages.head()"
   ]
  },
  {
   "cell_type": "code",
   "execution_count": 15,
   "metadata": {},
   "outputs": [
    {
     "data": {
      "text/html": [
       "<div>\n",
       "<style scoped>\n",
       "    .dataframe tbody tr th:only-of-type {\n",
       "        vertical-align: middle;\n",
       "    }\n",
       "\n",
       "    .dataframe tbody tr th {\n",
       "        vertical-align: top;\n",
       "    }\n",
       "\n",
       "    .dataframe thead th {\n",
       "        text-align: right;\n",
       "    }\n",
       "</style>\n",
       "<table border=\"1\" class=\"dataframe\">\n",
       "  <thead>\n",
       "    <tr style=\"text-align: right;\">\n",
       "      <th></th>\n",
       "      <th>ForumTopicId</th>\n",
       "      <th>UserId</th>\n",
       "      <th>Comments</th>\n",
       "      <th>ForumTopicId_Int</th>\n",
       "      <th>ForumId</th>\n",
       "      <th>ParentForumId</th>\n",
       "      <th>Title</th>\n",
       "    </tr>\n",
       "  </thead>\n",
       "  <tbody>\n",
       "    <tr>\n",
       "      <th>0</th>\n",
       "      <td>2</td>\n",
       "      <td>368</td>\n",
       "      <td>3</td>\n",
       "      <td>2</td>\n",
       "      <td>1</td>\n",
       "      <td>8</td>\n",
       "      <td>Predict HIV Progression</td>\n",
       "    </tr>\n",
       "    <tr>\n",
       "      <th>1</th>\n",
       "      <td>20</td>\n",
       "      <td>368</td>\n",
       "      <td>5</td>\n",
       "      <td>20</td>\n",
       "      <td>1</td>\n",
       "      <td>8</td>\n",
       "      <td>Predict HIV Progression</td>\n",
       "    </tr>\n",
       "    <tr>\n",
       "      <th>2</th>\n",
       "      <td>26</td>\n",
       "      <td>368</td>\n",
       "      <td>28</td>\n",
       "      <td>26</td>\n",
       "      <td>15</td>\n",
       "      <td>9</td>\n",
       "      <td>General</td>\n",
       "    </tr>\n",
       "    <tr>\n",
       "      <th>3</th>\n",
       "      <td>30</td>\n",
       "      <td>368</td>\n",
       "      <td>3</td>\n",
       "      <td>30</td>\n",
       "      <td>4</td>\n",
       "      <td>8</td>\n",
       "      <td>INFORMS Data Mining Contest 2010</td>\n",
       "    </tr>\n",
       "    <tr>\n",
       "      <th>4</th>\n",
       "      <td>34</td>\n",
       "      <td>368</td>\n",
       "      <td>8</td>\n",
       "      <td>34</td>\n",
       "      <td>4</td>\n",
       "      <td>8</td>\n",
       "      <td>INFORMS Data Mining Contest 2010</td>\n",
       "    </tr>\n",
       "  </tbody>\n",
       "</table>\n",
       "</div>"
      ],
      "text/plain": [
       "  ForumTopicId UserId  Comments  ForumTopicId_Int ForumId ParentForumId  \\\n",
       "0            2    368         3                 2       1             8   \n",
       "1           20    368         5                20       1             8   \n",
       "2           26    368        28                26      15             9   \n",
       "3           30    368         3                30       4             8   \n",
       "4           34    368         8                34       4             8   \n",
       "\n",
       "                              Title  \n",
       "0           Predict HIV Progression  \n",
       "1           Predict HIV Progression  \n",
       "2                           General  \n",
       "3  INFORMS Data Mining Contest 2010  \n",
       "4  INFORMS Data Mining Contest 2010  "
      ]
     },
     "execution_count": 15,
     "metadata": {},
     "output_type": "execute_result"
    }
   ],
   "source": [
    "df_forum_join = df_forum_messages.merge(df_forum_topics_merge,how=\"left\",on=[\"ForumTopicId\"])\n",
    "df_forum_join.head()"
   ]
  },
  {
   "cell_type": "code",
   "execution_count": 16,
   "metadata": {},
   "outputs": [
    {
     "data": {
      "text/plain": [
       "<AxesSubplot:xlabel='ParentForumId', ylabel='Comments'>"
      ]
     },
     "execution_count": 16,
     "metadata": {},
     "output_type": "execute_result"
    },
    {
     "data": {
      "image/png": "[encoded data removed]",
      "text/plain": [
       "<Figure size 842.4x595.44 with 1 Axes>"
      ]
     },
     "metadata": {},
     "output_type": "display_data"
    }
   ],
   "source": [
    "sns.boxplot(data=df_forum_join, x='ParentForumId', y='Comments')"
   ]
  },
  {
   "cell_type": "code",
   "execution_count": 19,
   "metadata": {},
   "outputs": [
    {
     "data": {
      "text/plain": [
       "111053    21282\n",
       "256646     3105\n",
       "60581      1862\n",
       "256489     1789\n",
       "196005     1556\n",
       "27191      1430\n",
       "196018     1299\n",
       "28961      1051\n",
       "89570       673\n",
       "36681       659\n",
       "60914       659\n",
       "161283      646\n",
       "28793       627\n",
       "36649       626\n",
       "24616       530\n",
       "19887       498\n",
       "161285      427\n",
       "44940       402\n",
       "161289      388\n",
       "42349       385\n",
       "128094      323\n",
       "48757       309\n",
       "102365      306\n",
       "293861      301\n",
       "44915       299\n",
       "256538      288\n",
       "40958       286\n",
       "36339       269\n",
       "196685      264\n",
       "Name: ForumTopicId, dtype: int64"
      ]
     },
     "execution_count": 19,
     "metadata": {},
     "output_type": "execute_result"
    }
   ],
   "source": [
    "df_forum_messages[df_forum_messages[\"Comments\"]>250][\"ForumTopicId\"]"
   ]
  },
  {
   "cell_type": "code",
   "execution_count": 20,
   "metadata": {},
   "outputs": [
    {
     "data": {
      "text/html": [
       "<div>\n",
       "<style scoped>\n",
       "    .dataframe tbody tr th:only-of-type {\n",
       "        vertical-align: middle;\n",
       "    }\n",
       "\n",
       "    .dataframe tbody tr th {\n",
       "        vertical-align: top;\n",
       "    }\n",
       "\n",
       "    .dataframe thead th {\n",
       "        text-align: right;\n",
       "    }\n",
       "</style>\n",
       "<table border=\"1\" class=\"dataframe\">\n",
       "  <thead>\n",
       "    <tr style=\"text-align: right;\">\n",
       "      <th></th>\n",
       "      <th>ForumTopicId</th>\n",
       "      <th>ForumId</th>\n",
       "      <th>Title</th>\n",
       "      <th>TotalViews</th>\n",
       "      <th>TotalMessages</th>\n",
       "      <th>Score</th>\n",
       "    </tr>\n",
       "  </thead>\n",
       "  <tbody>\n",
       "    <tr>\n",
       "      <th>0</th>\n",
       "      <td>1</td>\n",
       "      <td>1</td>\n",
       "      <td>A few techniques you might try:</td>\n",
       "      <td>9405.0</td>\n",
       "      <td>19.0</td>\n",
       "      <td>0.0</td>\n",
       "    </tr>\n",
       "    <tr>\n",
       "      <th>1</th>\n",
       "      <td>2</td>\n",
       "      <td>1</td>\n",
       "      <td>Question regarding algorithms used</td>\n",
       "      <td>2185.0</td>\n",
       "      <td>3.0</td>\n",
       "      <td>0.0</td>\n",
       "    </tr>\n",
       "    <tr>\n",
       "      <th>2</th>\n",
       "      <td>3</td>\n",
       "      <td>1</td>\n",
       "      <td>Question about data</td>\n",
       "      <td>2121.0</td>\n",
       "      <td>3.0</td>\n",
       "      <td>0.0</td>\n",
       "    </tr>\n",
       "    <tr>\n",
       "      <th>3</th>\n",
       "      <td>4</td>\n",
       "      <td>1</td>\n",
       "      <td>Biased sets</td>\n",
       "      <td>2780.0</td>\n",
       "      <td>4.0</td>\n",
       "      <td>1.0</td>\n",
       "    </tr>\n",
       "    <tr>\n",
       "      <th>4</th>\n",
       "      <td>5</td>\n",
       "      <td>1</td>\n",
       "      <td>Non-standard nucleotide codings</td>\n",
       "      <td>2045.0</td>\n",
       "      <td>2.0</td>\n",
       "      <td>0.0</td>\n",
       "    </tr>\n",
       "  </tbody>\n",
       "</table>\n",
       "</div>"
      ],
      "text/plain": [
       "  ForumTopicId ForumId                               Title TotalViews  \\\n",
       "0            1       1     A few techniques you might try:     9405.0   \n",
       "1            2       1  Question regarding algorithms used     2185.0   \n",
       "2            3       1                 Question about data     2121.0   \n",
       "3            4       1                         Biased sets     2780.0   \n",
       "4            5       1     Non-standard nucleotide codings     2045.0   \n",
       "\n",
       "  TotalMessages Score  \n",
       "0          19.0   0.0  \n",
       "1           3.0   0.0  \n",
       "2           3.0   0.0  \n",
       "3           4.0   1.0  \n",
       "4           2.0   0.0  "
      ]
     },
     "execution_count": 20,
     "metadata": {},
     "output_type": "execute_result"
    }
   ],
   "source": [
    "df_forum_topics = pd.read_csv(r\"../data/interim/ForumTopics.csv\",dtype=str)\n",
    "df_forum_topics.head()"
   ]
  },
  {
   "cell_type": "code",
   "execution_count": 24,
   "metadata": {},
   "outputs": [
    {
     "data": {
      "text/html": [
       "<div>\n",
       "<style scoped>\n",
       "    .dataframe tbody tr th:only-of-type {\n",
       "        vertical-align: middle;\n",
       "    }\n",
       "\n",
       "    .dataframe tbody tr th {\n",
       "        vertical-align: top;\n",
       "    }\n",
       "\n",
       "    .dataframe thead th {\n",
       "        text-align: right;\n",
       "    }\n",
       "</style>\n",
       "<table border=\"1\" class=\"dataframe\">\n",
       "  <thead>\n",
       "    <tr style=\"text-align: right;\">\n",
       "      <th></th>\n",
       "      <th>ForumTopicId</th>\n",
       "      <th>ForumId</th>\n",
       "      <th>Title</th>\n",
       "      <th>TotalViews</th>\n",
       "      <th>TotalMessages</th>\n",
       "      <th>Score</th>\n",
       "    </tr>\n",
       "  </thead>\n",
       "  <tbody>\n",
       "    <tr>\n",
       "      <th>121076</th>\n",
       "      <td>111053</td>\n",
       "      <td>16860</td>\n",
       "      <td>Titanic Tutorial</td>\n",
       "      <td>0.0</td>\n",
       "      <td>26084.0</td>\n",
       "      <td>7320.0</td>\n",
       "    </tr>\n",
       "  </tbody>\n",
       "</table>\n",
       "</div>"
      ],
      "text/plain": [
       "       ForumTopicId ForumId             Title TotalViews TotalMessages   Score\n",
       "121076       111053   16860  Titanic Tutorial        0.0       26084.0  7320.0"
      ]
     },
     "execution_count": 24,
     "metadata": {},
     "output_type": "execute_result"
    }
   ],
   "source": [
    "df_forum_topics[df_forum_topics[\"ForumTopicId\"]==\"111053\"]"
   ]
  },
  {
   "cell_type": "code",
   "execution_count": 23,
   "metadata": {},
   "outputs": [
    {
     "data": {
      "text/html": [
       "<div>\n",
       "<style scoped>\n",
       "    .dataframe tbody tr th:only-of-type {\n",
       "        vertical-align: middle;\n",
       "    }\n",
       "\n",
       "    .dataframe tbody tr th {\n",
       "        vertical-align: top;\n",
       "    }\n",
       "\n",
       "    .dataframe thead th {\n",
       "        text-align: right;\n",
       "    }\n",
       "</style>\n",
       "<table border=\"1\" class=\"dataframe\">\n",
       "  <thead>\n",
       "    <tr style=\"text-align: right;\">\n",
       "      <th></th>\n",
       "      <th>ForumId</th>\n",
       "      <th>ParentForumId</th>\n",
       "      <th>Title</th>\n",
       "    </tr>\n",
       "  </thead>\n",
       "  <tbody>\n",
       "    <tr>\n",
       "      <th>4711</th>\n",
       "      <td>16860</td>\n",
       "      <td>NaN</td>\n",
       "      <td>Notebooks</td>\n",
       "    </tr>\n",
       "  </tbody>\n",
       "</table>\n",
       "</div>"
      ],
      "text/plain": [
       "     ForumId ParentForumId      Title\n",
       "4711   16860           NaN  Notebooks"
      ]
     },
     "execution_count": 23,
     "metadata": {},
     "output_type": "execute_result"
    }
   ],
   "source": [
    "df_forums = pd.read_csv(r\"../data/interim/Forums.csv\",dtype=str)\n",
    "df_forums[df_forums[\"ForumId\"]==\"16860\"]"
   ]
  },
  {
   "cell_type": "code",
   "execution_count": 10,
   "metadata": {},
   "outputs": [],
   "source": [
    "df_forum_messages_1 = df_forum_messages[df_forum_messages[\"ForumTopicId_Int\"]<=100000]\n",
    "df_forum_messages_1.drop([\"ForumTopicId_Int\"],axis=1,inplace=True)\n",
    "df_forum_messages_2 = df_forum_messages[(df_forum_messages[\"ForumTopicId_Int\"]>100000) & (df_forum_messages[\"ForumTopicId_Int\"]<=150000)]\n",
    "df_forum_messages_2.drop([\"ForumTopicId_Int\"],axis=1,inplace=True)\n",
    "df_forum_messages_3 = df_forum_messages[(df_forum_messages[\"ForumTopicId_Int\"]>150000) & (df_forum_messages[\"ForumTopicId_Int\"]<=200000)]\n",
    "df_forum_messages_3.drop([\"ForumTopicId_Int\"],axis=1,inplace=True)\n",
    "df_forum_messages_4 = df_forum_messages[(df_forum_messages[\"ForumTopicId_Int\"]>200000) & (df_forum_messages[\"ForumTopicId_Int\"]<=250000)]\n",
    "df_forum_messages_4.drop([\"ForumTopicId_Int\"],axis=1,inplace=True)\n",
    "df_forum_messages_5 = df_forum_messages[(df_forum_messages[\"ForumTopicId_Int\"]>250000) & (df_forum_messages[\"ForumTopicId_Int\"]<=300000)]\n",
    "df_forum_messages_5.drop([\"ForumTopicId_Int\"],axis=1,inplace=True)\n",
    "df_forum_messages_6 = df_forum_messages[(df_forum_messages[\"ForumTopicId_Int\"]>300000)]\n",
    "df_forum_messages_6.drop([\"ForumTopicId_Int\"],axis=1,inplace=True)"
   ]
  },
  {
   "cell_type": "code",
   "execution_count": 11,
   "metadata": {},
   "outputs": [
    {
     "name": "stdout",
     "output_type": "stream",
     "text": [
      "(239505, 3)\n",
      "(132407, 3)\n",
      "(113367, 3)\n",
      "(118332, 3)\n",
      "(107824, 3)\n",
      "(71849, 3)\n"
     ]
    }
   ],
   "source": [
    "print(df_forum_messages_1.shape)\n",
    "print(df_forum_messages_2.shape)\n",
    "print(df_forum_messages_3.shape)\n",
    "print(df_forum_messages_4.shape)\n",
    "print(df_forum_messages_5.shape)\n",
    "print(df_forum_messages_6.shape)"
   ]
  },
  {
   "cell_type": "code",
   "execution_count": 12,
   "metadata": {},
   "outputs": [
    {
     "data": {
      "text/html": [
       "<div>\n",
       "<style scoped>\n",
       "    .dataframe tbody tr th:only-of-type {\n",
       "        vertical-align: middle;\n",
       "    }\n",
       "\n",
       "    .dataframe tbody tr th {\n",
       "        vertical-align: top;\n",
       "    }\n",
       "\n",
       "    .dataframe thead th {\n",
       "        text-align: right;\n",
       "    }\n",
       "</style>\n",
       "<table border=\"1\" class=\"dataframe\">\n",
       "  <thead>\n",
       "    <tr style=\"text-align: right;\">\n",
       "      <th></th>\n",
       "      <th>ForumTopicId</th>\n",
       "      <th>UserId</th>\n",
       "      <th>Comments</th>\n",
       "    </tr>\n",
       "  </thead>\n",
       "  <tbody>\n",
       "    <tr>\n",
       "      <th>264</th>\n",
       "      <td>101221</td>\n",
       "      <td>368</td>\n",
       "      <td>7</td>\n",
       "    </tr>\n",
       "    <tr>\n",
       "      <th>265</th>\n",
       "      <td>101327</td>\n",
       "      <td>368</td>\n",
       "      <td>5</td>\n",
       "    </tr>\n",
       "    <tr>\n",
       "      <th>266</th>\n",
       "      <td>102218</td>\n",
       "      <td>368</td>\n",
       "      <td>6</td>\n",
       "    </tr>\n",
       "    <tr>\n",
       "      <th>267</th>\n",
       "      <td>102149</td>\n",
       "      <td>368</td>\n",
       "      <td>3</td>\n",
       "    </tr>\n",
       "    <tr>\n",
       "      <th>268</th>\n",
       "      <td>102391</td>\n",
       "      <td>368</td>\n",
       "      <td>9</td>\n",
       "    </tr>\n",
       "  </tbody>\n",
       "</table>\n",
       "</div>"
      ],
      "text/plain": [
       "    ForumTopicId UserId  Comments\n",
       "264       101221    368         7\n",
       "265       101327    368         5\n",
       "266       102218    368         6\n",
       "267       102149    368         3\n",
       "268       102391    368         9"
      ]
     },
     "execution_count": 12,
     "metadata": {},
     "output_type": "execute_result"
    }
   ],
   "source": [
    "df_forum_messages_2.head()"
   ]
  },
  {
   "cell_type": "code",
   "execution_count": 13,
   "metadata": {},
   "outputs": [
    {
     "data": {
      "text/html": [
       "<div>\n",
       "<style scoped>\n",
       "    .dataframe tbody tr th:only-of-type {\n",
       "        vertical-align: middle;\n",
       "    }\n",
       "\n",
       "    .dataframe tbody tr th {\n",
       "        vertical-align: top;\n",
       "    }\n",
       "\n",
       "    .dataframe thead th {\n",
       "        text-align: right;\n",
       "    }\n",
       "</style>\n",
       "<table border=\"1\" class=\"dataframe\">\n",
       "  <thead>\n",
       "    <tr style=\"text-align: right;\">\n",
       "      <th></th>\n",
       "      <th>ForumTopicId</th>\n",
       "      <th>UserId</th>\n",
       "      <th>Comments</th>\n",
       "    </tr>\n",
       "  </thead>\n",
       "  <tbody>\n",
       "    <tr>\n",
       "      <th>264</th>\n",
       "      <td>101221</td>\n",
       "      <td>368</td>\n",
       "      <td>7</td>\n",
       "    </tr>\n",
       "    <tr>\n",
       "      <th>95513</th>\n",
       "      <td>101221</td>\n",
       "      <td>286036</td>\n",
       "      <td>7</td>\n",
       "    </tr>\n",
       "    <tr>\n",
       "      <th>192550</th>\n",
       "      <td>101221</td>\n",
       "      <td>808263</td>\n",
       "      <td>7</td>\n",
       "    </tr>\n",
       "    <tr>\n",
       "      <th>217003</th>\n",
       "      <td>101221</td>\n",
       "      <td>952137</td>\n",
       "      <td>7</td>\n",
       "    </tr>\n",
       "    <tr>\n",
       "      <th>286313</th>\n",
       "      <td>101221</td>\n",
       "      <td>1364892</td>\n",
       "      <td>7</td>\n",
       "    </tr>\n",
       "    <tr>\n",
       "      <th>398462</th>\n",
       "      <td>101221</td>\n",
       "      <td>2243477</td>\n",
       "      <td>7</td>\n",
       "    </tr>\n",
       "    <tr>\n",
       "      <th>408607</th>\n",
       "      <td>101221</td>\n",
       "      <td>2352583</td>\n",
       "      <td>7</td>\n",
       "    </tr>\n",
       "  </tbody>\n",
       "</table>\n",
       "</div>"
      ],
      "text/plain": [
       "       ForumTopicId   UserId  Comments\n",
       "264          101221      368         7\n",
       "95513        101221   286036         7\n",
       "192550       101221   808263         7\n",
       "217003       101221   952137         7\n",
       "286313       101221  1364892         7\n",
       "398462       101221  2243477         7\n",
       "408607       101221  2352583         7"
      ]
     },
     "execution_count": 13,
     "metadata": {},
     "output_type": "execute_result"
    }
   ],
   "source": [
    "df_forum_messages_2[df_forum_messages_2[\"ForumTopicId\"]==\"101221\"]"
   ]
  },
  {
   "cell_type": "code",
   "execution_count": 14,
   "metadata": {},
   "outputs": [
    {
     "data": {
      "text/html": [
       "<div>\n",
       "<style scoped>\n",
       "    .dataframe tbody tr th:only-of-type {\n",
       "        vertical-align: middle;\n",
       "    }\n",
       "\n",
       "    .dataframe tbody tr th {\n",
       "        vertical-align: top;\n",
       "    }\n",
       "\n",
       "    .dataframe thead th {\n",
       "        text-align: right;\n",
       "    }\n",
       "</style>\n",
       "<table border=\"1\" class=\"dataframe\">\n",
       "  <thead>\n",
       "    <tr style=\"text-align: right;\">\n",
       "      <th></th>\n",
       "      <th>ForumTopicId</th>\n",
       "      <th>UserId</th>\n",
       "      <th>Comments</th>\n",
       "    </tr>\n",
       "  </thead>\n",
       "  <tbody>\n",
       "    <tr>\n",
       "      <th>432057</th>\n",
       "      <td>111053</td>\n",
       "      <td>2646524</td>\n",
       "      <td>21282</td>\n",
       "    </tr>\n",
       "    <tr>\n",
       "      <th>653428</th>\n",
       "      <td>111053</td>\n",
       "      <td>4962799</td>\n",
       "      <td>21282</td>\n",
       "    </tr>\n",
       "    <tr>\n",
       "      <th>652667</th>\n",
       "      <td>111053</td>\n",
       "      <td>4958617</td>\n",
       "      <td>21282</td>\n",
       "    </tr>\n",
       "    <tr>\n",
       "      <th>652679</th>\n",
       "      <td>111053</td>\n",
       "      <td>4959493</td>\n",
       "      <td>21282</td>\n",
       "    </tr>\n",
       "    <tr>\n",
       "      <th>652680</th>\n",
       "      <td>111053</td>\n",
       "      <td>4959494</td>\n",
       "      <td>21282</td>\n",
       "    </tr>\n",
       "    <tr>\n",
       "      <th>...</th>\n",
       "      <td>...</td>\n",
       "      <td>...</td>\n",
       "      <td>...</td>\n",
       "    </tr>\n",
       "    <tr>\n",
       "      <th>142806</th>\n",
       "      <td>114397</td>\n",
       "      <td>520911</td>\n",
       "      <td>2</td>\n",
       "    </tr>\n",
       "    <tr>\n",
       "      <th>314878</th>\n",
       "      <td>147049</td>\n",
       "      <td>1577135</td>\n",
       "      <td>2</td>\n",
       "    </tr>\n",
       "    <tr>\n",
       "      <th>407664</th>\n",
       "      <td>126451</td>\n",
       "      <td>2344111</td>\n",
       "      <td>2</td>\n",
       "    </tr>\n",
       "    <tr>\n",
       "      <th>142996</th>\n",
       "      <td>117634</td>\n",
       "      <td>521550</td>\n",
       "      <td>2</td>\n",
       "    </tr>\n",
       "    <tr>\n",
       "      <th>473903</th>\n",
       "      <td>135229</td>\n",
       "      <td>3012786</td>\n",
       "      <td>2</td>\n",
       "    </tr>\n",
       "  </tbody>\n",
       "</table>\n",
       "<p>132407 rows × 3 columns</p>\n",
       "</div>"
      ],
      "text/plain": [
       "       ForumTopicId   UserId  Comments\n",
       "432057       111053  2646524     21282\n",
       "653428       111053  4962799     21282\n",
       "652667       111053  4958617     21282\n",
       "652679       111053  4959493     21282\n",
       "652680       111053  4959494     21282\n",
       "...             ...      ...       ...\n",
       "142806       114397   520911         2\n",
       "314878       147049  1577135         2\n",
       "407664       126451  2344111         2\n",
       "142996       117634   521550         2\n",
       "473903       135229  3012786         2\n",
       "\n",
       "[132407 rows x 3 columns]"
      ]
     },
     "execution_count": 14,
     "metadata": {},
     "output_type": "execute_result"
    }
   ],
   "source": [
    "df_forum_messages_2.sort_values(\"Comments\",ascending=False)"
   ]
  },
  {
   "cell_type": "code",
   "execution_count": 64,
   "metadata": {},
   "outputs": [],
   "source": [
    "df_aux = Combinations.create_combinations(df = df_forum_messages_2,group_by = \"ForumTopicId\",name_col_1 =\"UserId_1\",name_col_2 = \"UserId_2\")\n",
    "df_aux.head()\n"
   ]
  },
  {
   "cell_type": "code",
   "execution_count": null,
   "metadata": {},
   "outputs": [],
   "source": []
  }
 ],
 "metadata": {
  "kernelspec": {
   "display_name": "Python 3.6.5 ('.venv': venv)",
   "language": "python",
   "name": "python3"
  },
  "language_info": {
   "codemirror_mode": {
    "name": "ipython",
    "version": 3
   },
   "file_extension": ".py",
   "mimetype": "text/x-python",
   "name": "python",
   "nbconvert_exporter": "python",
   "pygments_lexer": "ipython3",
   "version": "3.6.5"
  },
  "orig_nbformat": 4,
  "vscode": {
   "interpreter": {
    "hash": "34b652421595a0c643e374c4ab7a0ee86f5cb1455b91e0738f83360473bef1bf"
   }
  }
 },
 "nbformat": 4,
 "nbformat_minor": 2
}
